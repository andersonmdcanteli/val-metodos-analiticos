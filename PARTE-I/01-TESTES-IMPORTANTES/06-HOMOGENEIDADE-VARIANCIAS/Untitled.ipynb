{
 "cells": [
  {
   "cell_type": "code",
   "execution_count": 1,
   "id": "d090f38a-9545-48aa-b5d9-0f8e73fa4ec5",
   "metadata": {},
   "outputs": [],
   "source": [
    "import numpy as np\n",
    "from scipy import stats\n",
    "import matplotlib.pyplot as plt\n",
    "import random\n",
    "from scipy.optimize import curve_fit\n",
    "plt.rcParams[\"font.family\"] = \"Arial\"\n",
    "plt.rcParams[\"font.size\"] = 11"
   ]
  },
  {
   "cell_type": "markdown",
   "id": "d51c7416-df6c-4c98-b88c-d1118fb1c1c7",
   "metadata": {},
   "source": [
    "Os alunos de um curso de pós graduação decidiram verificar qual se os diferentes grupos de pesquisa consumiam a mesma quantidade de café por mês. \n",
    "\n",
    "A quantidade de cafézinhos foi obtida através de comprovantes; ou seja, apenas cafés de um mesmo local.\n",
    "\n"
   ]
  },
  {
   "cell_type": "code",
   "execution_count": 38,
   "id": "701b8840-05e2-42c4-a919-a1ecb75334bb",
   "metadata": {},
   "outputs": [
    {
     "data": {
      "text/plain": [
       "array([131.68043661, 131.52404654, 132.22780184])"
      ]
     },
     "execution_count": 38,
     "metadata": {},
     "output_type": "execute_result"
    }
   ],
   "source": [
    "random.seed(42)\n",
    "random_value = random.random()\n",
    "\n",
    "random.seed(31416)\n",
    "random_value2 = random.random()\n",
    "\n",
    "rese_1 = np.array([84.99, 84.04, 84.38])/random_value\n",
    "\n",
    "rese_2 = np.array([85.15, 85.13, 84.88])/random_value\n",
    "\n",
    "rese_3 = np.array([84.72, 84.48, 85.16])/random_value\n",
    "\n",
    "rese_4 = np.array([84.20, 84.10, 84.55])/random_value\n",
    "rese_4"
   ]
  },
  {
   "cell_type": "code",
   "execution_count": 34,
   "id": "c53a9a4f-59b0-4a49-ab9e-3e4a1869ac30",
   "metadata": {},
   "outputs": [
    {
     "data": {
      "text/plain": [
       "LeveneResult(statistic=0.8446642426619849, pvalue=0.5069791802873922)"
      ]
     },
     "execution_count": 34,
     "metadata": {},
     "output_type": "execute_result"
    }
   ],
   "source": [
    "stats.levene(rese_1, rese_2, rese_3, rese_4)"
   ]
  },
  {
   "cell_type": "code",
   "execution_count": 39,
   "id": "84b59972-b45e-4ebb-8266-52fd846f661c",
   "metadata": {},
   "outputs": [
    {
     "data": {
      "text/plain": [
       "array([132.91591814, 131.4302125 , 131.96193873])"
      ]
     },
     "execution_count": 39,
     "metadata": {},
     "output_type": "execute_result"
    }
   ],
   "source": [
    "rese_1"
   ]
  },
  {
   "cell_type": "code",
   "execution_count": 40,
   "id": "92146f08-2b9f-43f4-8cc3-ff694ee69f1e",
   "metadata": {},
   "outputs": [
    {
     "data": {
      "text/plain": [
       "array([133.16614225, 133.13486423, 132.74388907])"
      ]
     },
     "execution_count": 40,
     "metadata": {},
     "output_type": "execute_result"
    }
   ],
   "source": [
    "rese_2"
   ]
  },
  {
   "cell_type": "code",
   "execution_count": 41,
   "id": "5c3b34b2-9939-43e9-b316-36639a9bae9c",
   "metadata": {},
   "outputs": [
    {
     "data": {
      "text/plain": [
       "array([132.49366496, 132.1183288 , 133.18178125])"
      ]
     },
     "execution_count": 41,
     "metadata": {},
     "output_type": "execute_result"
    }
   ],
   "source": [
    "rese_3"
   ]
  },
  {
   "cell_type": "code",
   "execution_count": 42,
   "id": "5623f684-4d4d-49d5-85fb-0085804e2e47",
   "metadata": {},
   "outputs": [
    {
     "data": {
      "text/plain": [
       "array([131.68043661, 131.52404654, 132.22780184])"
      ]
     },
     "execution_count": 42,
     "metadata": {},
     "output_type": "execute_result"
    }
   ],
   "source": [
    "rese_4"
   ]
  },
  {
   "cell_type": "code",
   "execution_count": null,
   "id": "37eb8537-23dc-4780-b4cf-55d048c0ecb4",
   "metadata": {},
   "outputs": [],
   "source": []
  }
 ],
 "metadata": {
  "kernelspec": {
   "display_name": "Python 3 (ipykernel)",
   "language": "python",
   "name": "python3"
  },
  "language_info": {
   "codemirror_mode": {
    "name": "ipython",
    "version": 3
   },
   "file_extension": ".py",
   "mimetype": "text/x-python",
   "name": "python",
   "nbconvert_exporter": "python",
   "pygments_lexer": "ipython3",
   "version": "3.10.6"
  }
 },
 "nbformat": 4,
 "nbformat_minor": 5
}
