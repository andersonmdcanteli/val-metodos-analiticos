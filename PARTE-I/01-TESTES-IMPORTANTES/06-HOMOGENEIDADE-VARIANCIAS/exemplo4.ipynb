{
 "cells": [
  {
   "cell_type": "code",
   "execution_count": 1,
   "id": "421ed973-8bba-4bbe-8b5f-cc4ae9e0ce78",
   "metadata": {},
   "outputs": [],
   "source": [
    "import numpy as np\n",
    "import matplotlib.pyplot as plt\n",
    "from scipy import stats\n",
    "import pandas as pd\n",
    "import sys\n",
    "sys.path.insert(0, 'C:/Users/ander/Repositorios/val-metodos-analiticos/funcs')\n",
    "import functions\n",
    "import random"
   ]
  },
  {
   "cell_type": "markdown",
   "id": "e311ec88-5aab-41d6-882a-9fd955a6e03e",
   "metadata": {},
   "source": [
    "https://www.sciencedirect.com/science/article/pii/S2405844022036209"
   ]
  },
  {
   "cell_type": "code",
   "execution_count": 50,
   "id": "fc3d4649-f396-4f02-9482-fffc2e578834",
   "metadata": {},
   "outputs": [],
   "source": [
    "np.random.seed(42)\n",
    "pesquisador_1 = np.random.normal(4.31, 0.025, 6)\n",
    "\n",
    "np.random.seed(2)\n",
    "pesquisador_2 = np.random.normal(4.32, 0.03, 6)\n",
    "\n",
    "np.random.seed(2)\n",
    "pesquisador_3 = np.random.normal(4.31, 0.019, 6)\n",
    "\n",
    "np.random.seed(5)\n",
    "pesquisador_4 = np.random.normal(4.31, 0.015, 6)\n",
    "\n",
    "np.random.seed(10)\n",
    "pesquisador_5 = np.random.normal(4.31, 0.2, 6)"
   ]
  },
  {
   "cell_type": "code",
   "execution_count": 51,
   "id": "56fcf7cb-9d33-4e86-8cd3-7537d9c7feea",
   "metadata": {},
   "outputs": [],
   "source": [
    "df = pd.DataFrame({\n",
    "    \"pesquisador_1\": pesquisador_1,\n",
    "    \"pesquisador_2\": pesquisador_2,\n",
    "    \"pesquisador_3\": pesquisador_3,\n",
    "    \"pesquisador_4\": pesquisador_4,\n",
    "    \"pesquisador_5\": pesquisador_5,    \n",
    "})\n",
    "\n",
    "alpha = 0.05"
   ]
  },
  {
   "cell_type": "code",
   "execution_count": 52,
   "id": "1ee3d1d4-95fa-4ab0-ae43-cfef31fd8bd4",
   "metadata": {},
   "outputs": [
    {
     "data": {
      "text/html": [
       "<div>\n",
       "<style scoped>\n",
       "    .dataframe tbody tr th:only-of-type {\n",
       "        vertical-align: middle;\n",
       "    }\n",
       "\n",
       "    .dataframe tbody tr th {\n",
       "        vertical-align: top;\n",
       "    }\n",
       "\n",
       "    .dataframe thead th {\n",
       "        text-align: right;\n",
       "    }\n",
       "</style>\n",
       "<table border=\"1\" class=\"dataframe\">\n",
       "  <thead>\n",
       "    <tr style=\"text-align: right;\">\n",
       "      <th></th>\n",
       "      <th>pesquisador_1</th>\n",
       "      <th>pesquisador_2</th>\n",
       "      <th>pesquisador_3</th>\n",
       "      <th>pesquisador_4</th>\n",
       "      <th>pesquisador_5</th>\n",
       "    </tr>\n",
       "  </thead>\n",
       "  <tbody>\n",
       "    <tr>\n",
       "      <th>0</th>\n",
       "      <td>4.322</td>\n",
       "      <td>4.307</td>\n",
       "      <td>4.302</td>\n",
       "      <td>4.317</td>\n",
       "      <td>4.576</td>\n",
       "    </tr>\n",
       "    <tr>\n",
       "      <th>1</th>\n",
       "      <td>4.307</td>\n",
       "      <td>4.318</td>\n",
       "      <td>4.309</td>\n",
       "      <td>4.305</td>\n",
       "      <td>4.453</td>\n",
       "    </tr>\n",
       "    <tr>\n",
       "      <th>2</th>\n",
       "      <td>4.326</td>\n",
       "      <td>4.256</td>\n",
       "      <td>4.269</td>\n",
       "      <td>4.346</td>\n",
       "      <td>4.001</td>\n",
       "    </tr>\n",
       "    <tr>\n",
       "      <th>3</th>\n",
       "      <td>4.348</td>\n",
       "      <td>4.369</td>\n",
       "      <td>4.341</td>\n",
       "      <td>4.306</td>\n",
       "      <td>4.308</td>\n",
       "    </tr>\n",
       "    <tr>\n",
       "      <th>4</th>\n",
       "      <td>4.304</td>\n",
       "      <td>4.266</td>\n",
       "      <td>4.276</td>\n",
       "      <td>4.312</td>\n",
       "      <td>4.434</td>\n",
       "    </tr>\n",
       "    <tr>\n",
       "      <th>5</th>\n",
       "      <td>4.304</td>\n",
       "      <td>4.295</td>\n",
       "      <td>4.294</td>\n",
       "      <td>4.334</td>\n",
       "      <td>4.166</td>\n",
       "    </tr>\n",
       "  </tbody>\n",
       "</table>\n",
       "</div>"
      ],
      "text/plain": [
       "   pesquisador_1  pesquisador_2  pesquisador_3  pesquisador_4  pesquisador_5\n",
       "0          4.322          4.307          4.302          4.317          4.576\n",
       "1          4.307          4.318          4.309          4.305          4.453\n",
       "2          4.326          4.256          4.269          4.346          4.001\n",
       "3          4.348          4.369          4.341          4.306          4.308\n",
       "4          4.304          4.266          4.276          4.312          4.434\n",
       "5          4.304          4.295          4.294          4.334          4.166"
      ]
     },
     "execution_count": 52,
     "metadata": {},
     "output_type": "execute_result"
    }
   ],
   "source": [
    "df = df.apply(round, args=(3,))\n",
    "df.head(10)"
   ]
  },
  {
   "cell_type": "code",
   "execution_count": 53,
   "id": "f98bc997-b56d-40ea-abc7-31bc82b98f10",
   "metadata": {},
   "outputs": [
    {
     "data": {
      "text/html": [
       "<div>\n",
       "<style scoped>\n",
       "    .dataframe tbody tr th:only-of-type {\n",
       "        vertical-align: middle;\n",
       "    }\n",
       "\n",
       "    .dataframe tbody tr th {\n",
       "        vertical-align: top;\n",
       "    }\n",
       "\n",
       "    .dataframe thead th {\n",
       "        text-align: right;\n",
       "    }\n",
       "</style>\n",
       "<table border=\"1\" class=\"dataframe\">\n",
       "  <thead>\n",
       "    <tr style=\"text-align: right;\">\n",
       "      <th></th>\n",
       "      <th>pesquisador_1</th>\n",
       "      <th>pesquisador_2</th>\n",
       "      <th>pesquisador_3</th>\n",
       "      <th>pesquisador_4</th>\n",
       "      <th>pesquisador_5</th>\n",
       "    </tr>\n",
       "  </thead>\n",
       "  <tbody>\n",
       "    <tr>\n",
       "      <th>count</th>\n",
       "      <td>6.000000</td>\n",
       "      <td>6.000000</td>\n",
       "      <td>6.00000</td>\n",
       "      <td>6.000000</td>\n",
       "      <td>6.000000</td>\n",
       "    </tr>\n",
       "    <tr>\n",
       "      <th>mean</th>\n",
       "      <td>4.318500</td>\n",
       "      <td>4.301833</td>\n",
       "      <td>4.29850</td>\n",
       "      <td>4.320000</td>\n",
       "      <td>4.323000</td>\n",
       "    </tr>\n",
       "    <tr>\n",
       "      <th>std</th>\n",
       "      <td>0.017271</td>\n",
       "      <td>0.040573</td>\n",
       "      <td>0.02579</td>\n",
       "      <td>0.016529</td>\n",
       "      <td>0.210612</td>\n",
       "    </tr>\n",
       "    <tr>\n",
       "      <th>min</th>\n",
       "      <td>4.304000</td>\n",
       "      <td>4.256000</td>\n",
       "      <td>4.26900</td>\n",
       "      <td>4.305000</td>\n",
       "      <td>4.001000</td>\n",
       "    </tr>\n",
       "    <tr>\n",
       "      <th>25%</th>\n",
       "      <td>4.304750</td>\n",
       "      <td>4.273250</td>\n",
       "      <td>4.28050</td>\n",
       "      <td>4.307500</td>\n",
       "      <td>4.201500</td>\n",
       "    </tr>\n",
       "    <tr>\n",
       "      <th>50%</th>\n",
       "      <td>4.314500</td>\n",
       "      <td>4.301000</td>\n",
       "      <td>4.29800</td>\n",
       "      <td>4.314500</td>\n",
       "      <td>4.371000</td>\n",
       "    </tr>\n",
       "    <tr>\n",
       "      <th>75%</th>\n",
       "      <td>4.325000</td>\n",
       "      <td>4.315250</td>\n",
       "      <td>4.30725</td>\n",
       "      <td>4.329750</td>\n",
       "      <td>4.448250</td>\n",
       "    </tr>\n",
       "    <tr>\n",
       "      <th>max</th>\n",
       "      <td>4.348000</td>\n",
       "      <td>4.369000</td>\n",
       "      <td>4.34100</td>\n",
       "      <td>4.346000</td>\n",
       "      <td>4.576000</td>\n",
       "    </tr>\n",
       "  </tbody>\n",
       "</table>\n",
       "</div>"
      ],
      "text/plain": [
       "       pesquisador_1  pesquisador_2  pesquisador_3  pesquisador_4  \\\n",
       "count       6.000000       6.000000        6.00000       6.000000   \n",
       "mean        4.318500       4.301833        4.29850       4.320000   \n",
       "std         0.017271       0.040573        0.02579       0.016529   \n",
       "min         4.304000       4.256000        4.26900       4.305000   \n",
       "25%         4.304750       4.273250        4.28050       4.307500   \n",
       "50%         4.314500       4.301000        4.29800       4.314500   \n",
       "75%         4.325000       4.315250        4.30725       4.329750   \n",
       "max         4.348000       4.369000        4.34100       4.346000   \n",
       "\n",
       "       pesquisador_5  \n",
       "count       6.000000  \n",
       "mean        4.323000  \n",
       "std         0.210612  \n",
       "min         4.001000  \n",
       "25%         4.201500  \n",
       "50%         4.371000  \n",
       "75%         4.448250  \n",
       "max         4.576000  "
      ]
     },
     "execution_count": 53,
     "metadata": {},
     "output_type": "execute_result"
    }
   ],
   "source": [
    "df.describe()"
   ]
  },
  {
   "cell_type": "code",
   "execution_count": 54,
   "id": "f11355d4-4f86-4657-a53f-7663215511dc",
   "metadata": {},
   "outputs": [
    {
     "data": {
      "image/png": "[encoded data removed]",
      "text/plain": [
       "<Figure size 800x500 with 1 Axes>"
      ]
     },
     "metadata": {},
     "output_type": "display_data"
    }
   ],
   "source": [
    "fig, ax = plt.subplots(figsize=(8,5))\n",
    "df.boxplot(grid=False, ax=ax)\n",
    "ax.set_ylabel(\"Acidez titulável ($g/L$)\")\n",
    "\n",
    "plt.show()"
   ]
  },
  {
   "cell_type": "code",
   "execution_count": 55,
   "id": "1acb4194-5e30-49d2-95ec-078d58d8d907",
   "metadata": {},
   "outputs": [
    {
     "data": {
      "text/plain": [
       "LeveneResult(statistic=8.248818308678718, pvalue=0.0002192556261824098)"
      ]
     },
     "execution_count": 55,
     "metadata": {},
     "output_type": "execute_result"
    }
   ],
   "source": [
    "levene = stats.levene(pesquisador_1, pesquisador_2, pesquisador_3, pesquisador_4, pesquisador_5)\n",
    "levene"
   ]
  },
  {
   "cell_type": "code",
   "execution_count": 56,
   "id": "f70938c5-1d83-4c83-bafc-daf49806c38f",
   "metadata": {},
   "outputs": [
    {
     "name": "stdout",
     "output_type": "stream",
     "text": [
      "Variâncias não homogêneas\n"
     ]
    }
   ],
   "source": [
    "if levene.pvalue < alpha:\n",
    "    print(\"Variâncias não homogêneas\")\n",
    "else:\n",
    "    print(\"Variâncias homogêneas\")"
   ]
  },
  {
   "cell_type": "code",
   "execution_count": 57,
   "id": "3d2dd227-7236-47c0-b159-2c65a21d0590",
   "metadata": {},
   "outputs": [
    {
     "data": {
      "image/png": "[encoded data removed]",
      "text/plain": [
       "<Figure size 600x300 with 1 Axes>"
      ]
     },
     "metadata": {},
     "output_type": "display_data"
    }
   ],
   "source": [
    "functions.make_f_distribution_plot(levene.statistic, levene.pvalue, gl_numerator=df.shape[1]-1, gl_denominator=df.shape[0]*df.shape[1] - df.shape[1], alpha=alpha)"
   ]
  },
  {
   "cell_type": "code",
   "execution_count": 60,
   "id": "7a129a58-768e-4e32-a3a7-72ba3a77c256",
   "metadata": {},
   "outputs": [
    {
     "data": {
      "text/plain": [
       "F_onewayResult(statistic=0.08087358612350729, pvalue=0.9875138923141102)"
      ]
     },
     "execution_count": 60,
     "metadata": {},
     "output_type": "execute_result"
    }
   ],
   "source": [
    "stats.f_oneway(pesquisador_1, pesquisador_2, pesquisador_3, pesquisador_4, pesquisador_5)"
   ]
  },
  {
   "cell_type": "code",
   "execution_count": 59,
   "id": "809ce936-7b46-4448-b102-2384c3a56110",
   "metadata": {},
   "outputs": [
    {
     "data": {
      "text/plain": [
       "4.322"
      ]
     },
     "execution_count": 59,
     "metadata": {},
     "output_type": "execute_result"
    }
   ],
   "source": [
    "df.pesquisador_1[0]"
   ]
  },
  {
   "cell_type": "code",
   "execution_count": null,
   "id": "1292dba4-6176-461f-9409-2e56597db9e8",
   "metadata": {},
   "outputs": [],
   "source": []
  }
 ],
 "metadata": {
  "kernelspec": {
   "display_name": "Python 3 (ipykernel)",
   "language": "python",
   "name": "python3"
  },
  "language_info": {
   "codemirror_mode": {
    "name": "ipython",
    "version": 3
   },
   "file_extension": ".py",
   "mimetype": "text/x-python",
   "name": "python",
   "nbconvert_exporter": "python",
   "pygments_lexer": "ipython3",
   "version": "3.10.6"
  }
 },
 "nbformat": 4,
 "nbformat_minor": 5
}
