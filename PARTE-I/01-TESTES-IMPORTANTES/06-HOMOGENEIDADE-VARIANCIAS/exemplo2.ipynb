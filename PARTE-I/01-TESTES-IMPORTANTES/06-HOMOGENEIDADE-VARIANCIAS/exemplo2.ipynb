{
 "cells": [
  {
   "cell_type": "code",
   "execution_count": 1,
   "id": "421ed973-8bba-4bbe-8b5f-cc4ae9e0ce78",
   "metadata": {},
   "outputs": [],
   "source": [
    "import numpy as np\n",
    "import matplotlib.pyplot as plt\n",
    "from scipy import stats\n",
    "import pandas as pd\n",
    "import sys\n",
    "sys.path.insert(0, 'C:/Users/ander/Repositorios/val-metodos-analiticos/funcs')\n",
    "import functions\n",
    "import random"
   ]
  },
  {
   "cell_type": "code",
   "execution_count": 2,
   "id": "56fcf7cb-9d33-4e86-8cd3-7537d9c7feea",
   "metadata": {},
   "outputs": [],
   "source": [
    "pesquisador_1 = np.array([132.91, 131.43, 131.96])\n",
    "pesquisador_1 = np.array([0.34, 0.12, 1.23, 0.70, 1.75, 0.12])\n",
    "pesquisador_2 = np.array([133.16, 133.13, 132.74])\n",
    "pesquisador_2 = np.array([.91, 2.94, 2.14, 2.36, 2.86, 4.55,])\n",
    "pesquisador_3 = np.array([133.18, 132.11, 132.49])\n",
    "pesquisador_3 = np.array([6.31, 8.37, 9.75, 6.09, 9.82, 7.24])\n",
    "pesquisador_4 = np.array([131.68, 131.52, 132.22])\n",
    "pesquisador_4 = np.array([17.15, 11.82, 10.95, 17.2, 14.35, 16.82])\n",
    "\n",
    "df = pd.DataFrame({\n",
    "    \"pesquisador_1\": pesquisador_1,\n",
    "    \"pesquisador_2\": pesquisador_2,\n",
    "    \"pesquisador_3\": pesquisador_3,\n",
    "    \"pesquisador_4\": pesquisador_4,    \n",
    "})\n",
    "\n",
    "alpha = 0.05"
   ]
  },
  {
   "cell_type": "code",
   "execution_count": 3,
   "id": "f98bc997-b56d-40ea-abc7-31bc82b98f10",
   "metadata": {},
   "outputs": [
    {
     "data": {
      "text/html": [
       "<div>\n",
       "<style scoped>\n",
       "    .dataframe tbody tr th:only-of-type {\n",
       "        vertical-align: middle;\n",
       "    }\n",
       "\n",
       "    .dataframe tbody tr th {\n",
       "        vertical-align: top;\n",
       "    }\n",
       "\n",
       "    .dataframe thead th {\n",
       "        text-align: right;\n",
       "    }\n",
       "</style>\n",
       "<table border=\"1\" class=\"dataframe\">\n",
       "  <thead>\n",
       "    <tr style=\"text-align: right;\">\n",
       "      <th></th>\n",
       "      <th>pesquisador_1</th>\n",
       "      <th>pesquisador_2</th>\n",
       "      <th>pesquisador_3</th>\n",
       "      <th>pesquisador_4</th>\n",
       "    </tr>\n",
       "  </thead>\n",
       "  <tbody>\n",
       "    <tr>\n",
       "      <th>count</th>\n",
       "      <td>6.00000</td>\n",
       "      <td>6.000000</td>\n",
       "      <td>6.00000</td>\n",
       "      <td>6.000000</td>\n",
       "    </tr>\n",
       "    <tr>\n",
       "      <th>mean</th>\n",
       "      <td>0.71000</td>\n",
       "      <td>2.626667</td>\n",
       "      <td>7.93000</td>\n",
       "      <td>14.715000</td>\n",
       "    </tr>\n",
       "    <tr>\n",
       "      <th>std</th>\n",
       "      <td>0.66109</td>\n",
       "      <td>1.192202</td>\n",
       "      <td>1.64707</td>\n",
       "      <td>2.800891</td>\n",
       "    </tr>\n",
       "    <tr>\n",
       "      <th>min</th>\n",
       "      <td>0.12000</td>\n",
       "      <td>0.910000</td>\n",
       "      <td>6.09000</td>\n",
       "      <td>10.950000</td>\n",
       "    </tr>\n",
       "    <tr>\n",
       "      <th>25%</th>\n",
       "      <td>0.17500</td>\n",
       "      <td>2.195000</td>\n",
       "      <td>6.54250</td>\n",
       "      <td>12.452500</td>\n",
       "    </tr>\n",
       "    <tr>\n",
       "      <th>50%</th>\n",
       "      <td>0.52000</td>\n",
       "      <td>2.610000</td>\n",
       "      <td>7.80500</td>\n",
       "      <td>15.585000</td>\n",
       "    </tr>\n",
       "    <tr>\n",
       "      <th>75%</th>\n",
       "      <td>1.09750</td>\n",
       "      <td>2.920000</td>\n",
       "      <td>9.40500</td>\n",
       "      <td>17.067500</td>\n",
       "    </tr>\n",
       "    <tr>\n",
       "      <th>max</th>\n",
       "      <td>1.75000</td>\n",
       "      <td>4.550000</td>\n",
       "      <td>9.82000</td>\n",
       "      <td>17.200000</td>\n",
       "    </tr>\n",
       "  </tbody>\n",
       "</table>\n",
       "</div>"
      ],
      "text/plain": [
       "       pesquisador_1  pesquisador_2  pesquisador_3  pesquisador_4\n",
       "count        6.00000       6.000000        6.00000       6.000000\n",
       "mean         0.71000       2.626667        7.93000      14.715000\n",
       "std          0.66109       1.192202        1.64707       2.800891\n",
       "min          0.12000       0.910000        6.09000      10.950000\n",
       "25%          0.17500       2.195000        6.54250      12.452500\n",
       "50%          0.52000       2.610000        7.80500      15.585000\n",
       "75%          1.09750       2.920000        9.40500      17.067500\n",
       "max          1.75000       4.550000        9.82000      17.200000"
      ]
     },
     "execution_count": 3,
     "metadata": {},
     "output_type": "execute_result"
    }
   ],
   "source": [
    "df.describe()"
   ]
  },
  {
   "cell_type": "code",
   "execution_count": 4,
   "id": "f11355d4-4f86-4657-a53f-7663215511dc",
   "metadata": {},
   "outputs": [
    {
     "data": {
      "image/png": "[encoded data removed]",
      "text/plain": [
       "<Figure size 800x500 with 1 Axes>"
      ]
     },
     "metadata": {},
     "output_type": "display_data"
    }
   ],
   "source": [
    "fig, ax = plt.subplots(figsize=(8,5))\n",
    "df.boxplot(grid=False, ax=ax)\n",
    "ax.set_ylabel(\"Concentração de cafeína em bebida energética ($mg/100mL$)\")\n",
    "\n",
    "plt.show()"
   ]
  },
  {
   "cell_type": "code",
   "execution_count": 5,
   "id": "1acb4194-5e30-49d2-95ec-078d58d8d907",
   "metadata": {},
   "outputs": [
    {
     "data": {
      "text/plain": [
       "LeveneResult(statistic=4.568440820038776, pvalue=0.013570558150099618)"
      ]
     },
     "execution_count": 5,
     "metadata": {},
     "output_type": "execute_result"
    }
   ],
   "source": [
    "levene = stats.levene(pesquisador_1, pesquisador_2, pesquisador_3, pesquisador_4)\n",
    "levene"
   ]
  },
  {
   "cell_type": "code",
   "execution_count": 6,
   "id": "dffe199f-82ce-45aa-a09f-1bf411a6b9e1",
   "metadata": {},
   "outputs": [
    {
     "data": {
      "text/plain": [
       "LeveneResult(statistic=4.568440820038776, pvalue=0.013570558150099618)"
      ]
     },
     "execution_count": 6,
     "metadata": {},
     "output_type": "execute_result"
    }
   ],
   "source": [
    "levene = stats.levene(pesquisador_1, pesquisador_2, pesquisador_3, pesquisador_4, center=\"median\")\n",
    "levene"
   ]
  },
  {
   "cell_type": "code",
   "execution_count": 7,
   "id": "f70938c5-1d83-4c83-bafc-daf49806c38f",
   "metadata": {},
   "outputs": [
    {
     "name": "stdout",
     "output_type": "stream",
     "text": [
      "Variâncias não homogêneas\n"
     ]
    }
   ],
   "source": [
    "if levene.pvalue < alpha:\n",
    "    print(\"Variâncias não homogêneas\")\n",
    "else:\n",
    "    print(\"Variâncias homogêneas\")"
   ]
  },
  {
   "cell_type": "code",
   "execution_count": 8,
   "id": "3d2dd227-7236-47c0-b159-2c65a21d0590",
   "metadata": {},
   "outputs": [
    {
     "data": {
      "image/png": "[encoded data removed]",
      "text/plain": [
       "<Figure size 600x300 with 1 Axes>"
      ]
     },
     "metadata": {},
     "output_type": "display_data"
    }
   ],
   "source": [
    "functions.make_f_distribution_plot(levene.statistic, levene.pvalue, gl_numerator=df.shape[1]-1, gl_denominator=df.shape[0]*df.shape[1] - df.shape[1], alpha=alpha)"
   ]
  },
  {
   "cell_type": "code",
   "execution_count": null,
   "id": "7a129a58-768e-4e32-a3a7-72ba3a77c256",
   "metadata": {},
   "outputs": [],
   "source": []
  },
  {
   "cell_type": "code",
   "execution_count": 9,
   "id": "809ce936-7b46-4448-b102-2384c3a56110",
   "metadata": {},
   "outputs": [
    {
     "data": {
      "text/plain": [
       "F_onewayResult(statistic=76.06687624920616, pvalue=4.1111804793212526e-11)"
      ]
     },
     "execution_count": 9,
     "metadata": {},
     "output_type": "execute_result"
    }
   ],
   "source": [
    "stats.f_oneway(pesquisador_1, pesquisador_2, pesquisador_3, pesquisador_4)"
   ]
  },
  {
   "cell_type": "code",
   "execution_count": 10,
   "id": "722388f5-3334-4be6-8e32-8de1ed1767ed",
   "metadata": {},
   "outputs": [
    {
     "name": "stdout",
     "output_type": "stream",
     "text": [
      "11.569679166666663\n",
      "20.0\n",
      "16.88348333333335\n"
     ]
    },
    {
     "data": {
      "text/plain": [
       "(4.568440820038776, 0.013570558150099618)"
      ]
     },
     "execution_count": 10,
     "metadata": {},
     "output_type": "execute_result"
    }
   ],
   "source": [
    "def levene(*samples, center='median', proportiontocut=0.05):\n",
    "\n",
    "    if center not in ['mean', 'median', 'trimmed']:\n",
    "        raise ValueError(\"center must be 'mean', 'median' or 'trimmed'.\")\n",
    "\n",
    "    k = len(samples)\n",
    "    if k < 2:\n",
    "        raise ValueError(\"Must enter at least two input sample vectors.\")\n",
    "    # check for 1d input\n",
    "    for j in range(k):\n",
    "        if np.asanyarray(samples[j]).ndim > 1:\n",
    "            raise ValueError('Samples must be one-dimensional.')\n",
    "\n",
    "    Ni = np.empty(k)\n",
    "    Yci = np.empty(k, 'd')\n",
    "\n",
    "    if center == 'median':\n",
    "        func = lambda x: np.median(x, axis=0)\n",
    "    elif center == 'mean':\n",
    "        func = lambda x: np.mean(x, axis=0)\n",
    "    else:  # center == 'trimmed'\n",
    "        samples = tuple(_stats_py.trimboth(np.sort(sample), proportiontocut)\n",
    "                        for sample in samples)\n",
    "        func = lambda x: np.mean(x, axis=0)\n",
    "\n",
    "    for j in range(k):\n",
    "        Ni[j] = len(samples[j])\n",
    "        Yci[j] = func(samples[j])\n",
    "    Ntot = np.sum(Ni, axis=0)\n",
    "    # print(Ntot) # gl totais\n",
    "\n",
    "    # compute Zij's\n",
    "    Zij = [None] * k\n",
    "    for i in range(k):\n",
    "        Zij[i] = abs(np.asarray(samples[i]) - Yci[i])\n",
    "        \n",
    "    # print(Zij) # arrays com os valores transformados\n",
    "\n",
    "    # compute Zbari\n",
    "    Zbari = np.empty(k, 'd')\n",
    "    \n",
    "    \n",
    "    Zbar = 0.0\n",
    "    for i in range(k):\n",
    "        Zbari[i] = np.mean(Zij[i], axis=0)\n",
    "        Zbar += Zbari[i] * Ni[i]\n",
    "    # print(Zbari) # media de cada grupo para anova\n",
    "    # print(Zbar)\n",
    "    Zbar /= Ntot\n",
    "    numer = (Ntot - k) * np.sum(Ni * (Zbari - Zbar)**2, axis=0) # this is SQtreatments * gl_erros\n",
    "    print(np.sum(Ni * (Zbari - Zbar)**2, axis=0))\n",
    "    print((Ntot - k))\n",
    "    # compute denom_variance\n",
    "    dvar = 0.0\n",
    "    for i in range(k):\n",
    "        dvar += np.sum((Zij[i] - Zbari[i])**2, axis=0)\n",
    "\n",
    "    denom = (k - 1.0) * dvar # this is SEqerros * gl_trat\n",
    "    print(dvar)\n",
    "\n",
    "    W = numer / denom\n",
    "    pval = stats.f.sf(W, k-1, Ntot-k)  # 1 - cdf\n",
    "    return (W, pval)\n",
    "\n",
    "levene(pesquisador_1, pesquisador_2, pesquisador_3, pesquisador_4)"
   ]
  },
  {
   "cell_type": "code",
   "execution_count": 11,
   "id": "c30f98e5-b6cb-4341-bda2-a602d1d26c8f",
   "metadata": {},
   "outputs": [
    {
     "data": {
      "text/plain": [
       "4.62"
      ]
     },
     "execution_count": 11,
     "metadata": {},
     "output_type": "execute_result"
    }
   ],
   "source": [
    "231/50"
   ]
  },
  {
   "cell_type": "code",
   "execution_count": null,
   "id": "7db6e9f6-5136-4b78-87f8-25dbd68471b8",
   "metadata": {},
   "outputs": [],
   "source": []
  }
 ],
 "metadata": {
  "kernelspec": {
   "display_name": "Python 3 (ipykernel)",
   "language": "python",
   "name": "python3"
  },
  "language_info": {
   "codemirror_mode": {
    "name": "ipython",
    "version": 3
   },
   "file_extension": ".py",
   "mimetype": "text/x-python",
   "name": "python",
   "nbconvert_exporter": "python",
   "pygments_lexer": "ipython3",
   "version": "3.10.6"
  }
 },
 "nbformat": 4,
 "nbformat_minor": 5
}
