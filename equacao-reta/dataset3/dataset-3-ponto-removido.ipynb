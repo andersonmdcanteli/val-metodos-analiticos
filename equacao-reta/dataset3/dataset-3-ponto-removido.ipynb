{
 "cells": [
  {
   "cell_type": "markdown",
   "id": "34256af3-24bc-4470-b7a4-2ce47abcbc8c",
   "metadata": {},
   "source": [
    "# Curva de calibração - Removida a amostra 4\n",
    "\n",
    "Este notebook aplica a regressão linear, utilizando a equação da reta, em um conjunto de dados de calibração analítica.\n",
    "\n",
    "Você obtém:\n",
    "\n",
    "- Gráfico de dispersão de sinal emitido *versus* concentração do analito\n",
    "- Regressão linear;\n",
    "    - Parâmetro $b_1$ (coeficiente linear);\n",
    "    - Parâmetro $b_0$ (coeficiente angular);\n",
    "    - Equação da reta:\n",
    "    - Valores preditos para o sinal ($\\widehat{y})$;\n",
    "    - Gráfico de regressão de sinal emitido *versus* concentração do analito, com a equação da reta;\n",
    "- Análise de variância (ANOVA);\n",
    "    - Somatórios quadráticos;\n",
    "    - Graus de liberdade;\n",
    "    - Média quadrática;\n",
    "    - Estatística do teste;\n",
    "    - Valor crítico do teste;\n",
    "    - p-valor;\n",
    "    - Conclusão do teste;\n",
    "    - Verificações;\n",
    "    - Tabela de ANOVA;\n",
    "    - Gráfico da distribuição F;\n",
    "- Coeficiente de determinação;\n",
    "    - Coeficiente de determinação ajustado;\n",
    "- Teste para falta de ajuste;\n",
    "    \n",
    "    \n",
    "    \n",
    "- Diagnóstico do modelo;\n",
    "    - Resíduos;\n",
    "    - Média dos resíduos igual a zero (teste t de Student pareado);\n",
    "        - Gráfico da distribuição t de Student;\n",
    "    - Média dos resíduos com distribuição Normal (teste de Shapiro-Wilk);\n",
    "    - Independência dos resíduos em relação à ordem de coleta;\n",
    "        - Gráfico dos resíduos *versus* ordem de coleta;\n",
    "    - Independência dos resíduos em relação ao ajustamento;\n",
    "        - Gráfico dos resíduos *versus* sinal predito; \n",
    "    - Outliers (Resíduos padronizados)\n",
    "        - Gráfico dos resíduos padronizados *versus* sinal predito; \n",
    "    - Correlação dos resíduos;\n",
    "        - Gráfico do sinal predito *versus* sinal real;\n",
    "- Intervalo de confiança dos parâmetros;    \n",
    "    - Parâmetro $b_1$ (coeficiente linear);\n",
    "        - Desvio padrão;\n",
    "        - Intervalo de confiança;\n",
    "        - Valor verdadeiro;\n",
    "        - Teste de hipótese;\n",
    "            - Gráfico da distribuição t de Student;\n",
    "    - Parâmetro $b_0$ (coeficiente angular);\n",
    "        - Desvio padrão;\n",
    "        - Intervalo de confiança;\n",
    "        - Valor verdadeiro;\n",
    "        - Teste de hipótese;\n",
    "            - Gráfico da distribuição t de Student;   \n",
    "- Intervalo de confiança do sinal predito;\n",
    "    - Valores médios;\n",
    "        - Desvio padrão;\n",
    "        - Intervalo de confiança;\n",
    "        - Gráfico de calibração com as bandas médias;\n",
    "    - Valores pontuais;\n",
    "        - Desvio padrão;\n",
    "        - Intervalo de confiança;\n",
    "        - Gráfico de calibração com as bandas médias;\n",
    "    - Gráfico da curva de calibração;\n",
    "- Predição de uma nova concentração;    \n",
    "    - Gráfico de predição\n"
   ]
  },
  {
   "cell_type": "markdown",
   "id": "7c1c118f-777d-4e28-8101-d55a86629038",
   "metadata": {},
   "source": [
    "## Importações"
   ]
  },
  {
   "cell_type": "code",
   "execution_count": 1,
   "id": "ed4202d8-d2bc-439f-b3ae-d7a7339d6330",
   "metadata": {},
   "outputs": [],
   "source": [
    "import numpy as np\n",
    "import matplotlib.pyplot as plt\n",
    "from scipy import stats\n",
    "import pandas as pd\n",
    "import seaborn as sns\n",
    "plt.rcParams[\"font.family\"] = \"Arial\"\n",
    "plt.rcParams[\"font.size\"] = 10"
   ]
  },
  {
   "cell_type": "markdown",
   "id": "1e23e9ef-5674-4cb8-bc3a-1ae5b2f1bb0d",
   "metadata": {},
   "source": [
    "## Entrada de dados"
   ]
  },
  {
   "cell_type": "code",
   "execution_count": 2,
   "id": "baee4e1d-01d4-4f0e-9b29-d8c6ac825204",
   "metadata": {},
   "outputs": [],
   "source": [
    "df = pd.DataFrame({\n",
    "    \"Concentração\": [1, 1, 1, 3, 3, 5, 5, 5, 7, 7, 7, 9, 9, 9],\n",
    "    \"Sinal\": [0.098, 0.087, 0.109, 0.135, 0.145, 0.249, 0.229, 0.209, 0.290, 0.285, 0.280, 0.350, 0.356, 0.362],\n",
    "    \"Ordem de coleta\": [1, 8, 11,2, 10, 7, 3, 6, 14, 4, 12, 13, 5, 9],    \n",
    "    \"Ensaio\": [\"Ensaio 1\", \"Ensaio 2\", \"Ensaio 3\", \"Ensaio 5\", \"Ensaio 6\", \"Ensaio 7\", \"Ensaio 8\", \"Ensaio 9\", \"Ensaio 10\", \n",
    "              \"Ensaio 11\", \"Ensaio 12\", \"Ensaio 13\", \"Ensaio 14\", \"Ensaio 15\"],    \n",
    "})\n",
    "dataset_name = \"Dataset 3\"\n",
    "alfa = 0.05"
   ]
  },
  {
   "cell_type": "code",
   "execution_count": 3,
   "id": "285aa713-eefd-40e9-beb8-2ccd6676e4fb",
   "metadata": {},
   "outputs": [],
   "source": [
    "nome_conc, nome_sinal, nome_ordem, nome_ensaio  = df.columns"
   ]
  },
  {
   "cell_type": "markdown",
   "id": "f83b1973-f587-4945-a69e-639a4a5cec9c",
   "metadata": {},
   "source": [
    "### Plotando o gráfico com os dados"
   ]
  },
  {
   "cell_type": "code",
   "execution_count": 4,
   "id": "a94599c9-1960-43af-aece-8a59ca5504cf",
   "metadata": {},
   "outputs": [
    {
     "data": {
      "image/png": "[encoded data removed]",
      "text/plain": [
       "<Figure size 600x400 with 1 Axes>"
      ]
     },
     "metadata": {},
     "output_type": "display_data"
    }
   ],
   "source": [
    "plt.figure(figsize=(6,4))\n",
    "plt.scatter(df[nome_conc], df[nome_sinal], label=dataset_name, edgecolors='k', facecolor='None')\n",
    "plt.xlabel(nome_conc)\n",
    "plt.ylabel(nome_sinal)\n",
    "plt.legend()\n",
    "plt.show()"
   ]
  },
  {
   "cell_type": "markdown",
   "id": "992c703a-ecad-4572-bdd4-7497bd2fa6f7",
   "metadata": {
    "tags": []
   },
   "source": [
    "## Regressão linear com SciPy"
   ]
  },
  {
   "cell_type": "code",
   "execution_count": 5,
   "id": "8e3e6cc9-0ca3-4d2e-8099-1c9eae23e8ef",
   "metadata": {},
   "outputs": [],
   "source": [
    "reg_linear = stats.linregress(df[nome_conc], df[nome_sinal])"
   ]
  },
  {
   "cell_type": "markdown",
   "id": "3be633b0-0b9c-482e-99ae-93f19f7d4898",
   "metadata": {},
   "source": [
    "### Coeficiente angular ( $b_{1}$ )\n",
    "\n",
    "$$b_{1} = \\frac{\\sum_{i=1}^{n}(x_{i} - \\overline{x})(y_{i} - \\overline{y})}{\\sum_{i=1}^{n}(x_{i} - \\overline{x})^{2}}$$\n",
    "\n",
    "onde:\n",
    "- $n$ é o número total de observações;\n",
    "- $y_{i}$ é o valor do sinal para a i-ésima observação;\n",
    "- $\\overline{y}$ é a média dos sinais;\n",
    "- $x_{i}$ é o valor da concentração para a i-ésima observação;\n",
    "- $\\overline{x}$ é a média das concentrações;\n",
    "\n",
    "> Tem unidade do sinal vezes o inverso da unidade da concentração"
   ]
  },
  {
   "cell_type": "code",
   "execution_count": 6,
   "id": "b66b16d0-e683-4d2b-833f-9918a798093f",
   "metadata": {},
   "outputs": [
    {
     "data": {
      "text/plain": [
       "0.032762962962962966"
      ]
     },
     "execution_count": 6,
     "metadata": {},
     "output_type": "execute_result"
    }
   ],
   "source": [
    "b1 = reg_linear[0]\n",
    "b1"
   ]
  },
  {
   "cell_type": "markdown",
   "id": "2f4cdcb4-7ea7-4045-8931-4fecf416490c",
   "metadata": {},
   "source": [
    "### Coeficiente linear ( $b_{0}$ )\n",
    "\n",
    "$$b_{0} = \\frac{\\sum_{i=1}^{n} (y_{i}) - b_{1} \\times \\sum_{i=1}^{n} (x_{i}) }{n}$$\n",
    "\n",
    "onde:\n",
    "- $n$ é o número total de observações;\n",
    "- $b_{1}$ é o coeficiente angular;\n",
    "- $y_{i}$ é o valor do sinal para a i-ésima observação;\n",
    "- $x_{i}$ é o valor da concentração para a i-ésima observação;\n",
    "\n",
    "> Tem unidade do sinal"
   ]
  },
  {
   "cell_type": "code",
   "execution_count": 7,
   "id": "df7ff1e7-1900-4fbd-9cb0-dd85c653cbfd",
   "metadata": {},
   "outputs": [
    {
     "data": {
      "text/plain": [
       "0.05893333333333334"
      ]
     },
     "execution_count": 7,
     "metadata": {},
     "output_type": "execute_result"
    }
   ],
   "source": [
    "b0 = reg_linear[1]\n",
    "b0"
   ]
  },
  {
   "cell_type": "markdown",
   "id": "6f67e5d5-5635-4af1-b05c-9d16d84010e0",
   "metadata": {},
   "source": [
    "### Equação da reta \n",
    "\n",
    "$$sinal = b_{0} + concentração \\times b_{1}$$\n",
    "\n",
    "onde:\n",
    "- $b_{0}$ é o coeficiente linear;\n",
    "- $b_{1}$ é o coeficiente angular;"
   ]
  },
  {
   "cell_type": "code",
   "execution_count": 8,
   "id": "f2e4aeab-f17b-411a-989f-3cc3453f46d0",
   "metadata": {},
   "outputs": [
    {
     "data": {
      "text/plain": [
       "'sinal = 0.05893333333333334 + concentração x 0.032762962962962966'"
      ]
     },
     "execution_count": 8,
     "metadata": {},
     "output_type": "execute_result"
    }
   ],
   "source": [
    "f\"sinal = {b0} + concentração x {b1}\""
   ]
  },
  {
   "cell_type": "markdown",
   "id": "c9c25f15-47c7-4b68-b2df-32d80ab57062",
   "metadata": {},
   "source": [
    "### Predição valores pontuais"
   ]
  },
  {
   "cell_type": "code",
   "execution_count": 9,
   "id": "70e41c9f-98f2-4bc9-ad85-b9a6f388ca13",
   "metadata": {},
   "outputs": [
    {
     "data": {
      "text/html": [
       "<div>\n",
       "<style scoped>\n",
       "    .dataframe tbody tr th:only-of-type {\n",
       "        vertical-align: middle;\n",
       "    }\n",
       "\n",
       "    .dataframe tbody tr th {\n",
       "        vertical-align: top;\n",
       "    }\n",
       "\n",
       "    .dataframe thead th {\n",
       "        text-align: right;\n",
       "    }\n",
       "</style>\n",
       "<table border=\"1\" class=\"dataframe\">\n",
       "  <thead>\n",
       "    <tr style=\"text-align: right;\">\n",
       "      <th></th>\n",
       "      <th>Concentração</th>\n",
       "      <th>Sinal</th>\n",
       "      <th>Ordem de coleta</th>\n",
       "      <th>Ensaio</th>\n",
       "      <th>ypred</th>\n",
       "    </tr>\n",
       "  </thead>\n",
       "  <tbody>\n",
       "    <tr>\n",
       "      <th>0</th>\n",
       "      <td>1</td>\n",
       "      <td>0.098</td>\n",
       "      <td>1</td>\n",
       "      <td>Ensaio 1</td>\n",
       "      <td>0.091696</td>\n",
       "    </tr>\n",
       "    <tr>\n",
       "      <th>1</th>\n",
       "      <td>1</td>\n",
       "      <td>0.087</td>\n",
       "      <td>8</td>\n",
       "      <td>Ensaio 2</td>\n",
       "      <td>0.091696</td>\n",
       "    </tr>\n",
       "    <tr>\n",
       "      <th>2</th>\n",
       "      <td>1</td>\n",
       "      <td>0.109</td>\n",
       "      <td>11</td>\n",
       "      <td>Ensaio 3</td>\n",
       "      <td>0.091696</td>\n",
       "    </tr>\n",
       "    <tr>\n",
       "      <th>3</th>\n",
       "      <td>3</td>\n",
       "      <td>0.135</td>\n",
       "      <td>2</td>\n",
       "      <td>Ensaio 5</td>\n",
       "      <td>0.157222</td>\n",
       "    </tr>\n",
       "    <tr>\n",
       "      <th>4</th>\n",
       "      <td>3</td>\n",
       "      <td>0.145</td>\n",
       "      <td>10</td>\n",
       "      <td>Ensaio 6</td>\n",
       "      <td>0.157222</td>\n",
       "    </tr>\n",
       "    <tr>\n",
       "      <th>5</th>\n",
       "      <td>5</td>\n",
       "      <td>0.249</td>\n",
       "      <td>7</td>\n",
       "      <td>Ensaio 7</td>\n",
       "      <td>0.222748</td>\n",
       "    </tr>\n",
       "    <tr>\n",
       "      <th>6</th>\n",
       "      <td>5</td>\n",
       "      <td>0.229</td>\n",
       "      <td>3</td>\n",
       "      <td>Ensaio 8</td>\n",
       "      <td>0.222748</td>\n",
       "    </tr>\n",
       "    <tr>\n",
       "      <th>7</th>\n",
       "      <td>5</td>\n",
       "      <td>0.209</td>\n",
       "      <td>6</td>\n",
       "      <td>Ensaio 9</td>\n",
       "      <td>0.222748</td>\n",
       "    </tr>\n",
       "    <tr>\n",
       "      <th>8</th>\n",
       "      <td>7</td>\n",
       "      <td>0.290</td>\n",
       "      <td>14</td>\n",
       "      <td>Ensaio 10</td>\n",
       "      <td>0.288274</td>\n",
       "    </tr>\n",
       "    <tr>\n",
       "      <th>9</th>\n",
       "      <td>7</td>\n",
       "      <td>0.285</td>\n",
       "      <td>4</td>\n",
       "      <td>Ensaio 11</td>\n",
       "      <td>0.288274</td>\n",
       "    </tr>\n",
       "    <tr>\n",
       "      <th>10</th>\n",
       "      <td>7</td>\n",
       "      <td>0.280</td>\n",
       "      <td>12</td>\n",
       "      <td>Ensaio 12</td>\n",
       "      <td>0.288274</td>\n",
       "    </tr>\n",
       "    <tr>\n",
       "      <th>11</th>\n",
       "      <td>9</td>\n",
       "      <td>0.350</td>\n",
       "      <td>13</td>\n",
       "      <td>Ensaio 13</td>\n",
       "      <td>0.353800</td>\n",
       "    </tr>\n",
       "    <tr>\n",
       "      <th>12</th>\n",
       "      <td>9</td>\n",
       "      <td>0.356</td>\n",
       "      <td>5</td>\n",
       "      <td>Ensaio 14</td>\n",
       "      <td>0.353800</td>\n",
       "    </tr>\n",
       "    <tr>\n",
       "      <th>13</th>\n",
       "      <td>9</td>\n",
       "      <td>0.362</td>\n",
       "      <td>9</td>\n",
       "      <td>Ensaio 15</td>\n",
       "      <td>0.353800</td>\n",
       "    </tr>\n",
       "  </tbody>\n",
       "</table>\n",
       "</div>"
      ],
      "text/plain": [
       "    Concentração  Sinal  Ordem de coleta     Ensaio     ypred\n",
       "0              1  0.098                1   Ensaio 1  0.091696\n",
       "1              1  0.087                8   Ensaio 2  0.091696\n",
       "2              1  0.109               11   Ensaio 3  0.091696\n",
       "3              3  0.135                2   Ensaio 5  0.157222\n",
       "4              3  0.145               10   Ensaio 6  0.157222\n",
       "5              5  0.249                7   Ensaio 7  0.222748\n",
       "6              5  0.229                3   Ensaio 8  0.222748\n",
       "7              5  0.209                6   Ensaio 9  0.222748\n",
       "8              7  0.290               14  Ensaio 10  0.288274\n",
       "9              7  0.285                4  Ensaio 11  0.288274\n",
       "10             7  0.280               12  Ensaio 12  0.288274\n",
       "11             9  0.350               13  Ensaio 13  0.353800\n",
       "12             9  0.356                5  Ensaio 14  0.353800\n",
       "13             9  0.362                9  Ensaio 15  0.353800"
      ]
     },
     "execution_count": 9,
     "metadata": {},
     "output_type": "execute_result"
    }
   ],
   "source": [
    "df[\"ypred\"] = b1*df[nome_conc] + b0\n",
    "df"
   ]
  },
  {
   "cell_type": "markdown",
   "id": "07f7656b-c273-468c-9d04-bfa876c3f67a",
   "metadata": {},
   "source": [
    "### Plotando o gráfico de regressão"
   ]
  },
  {
   "cell_type": "code",
   "execution_count": 10,
   "id": "082806d4-1e7c-46f7-8aa6-d03077da52f6",
   "metadata": {},
   "outputs": [
    {
     "data": {
      "image/png": "[encoded data removed]",
      "text/plain": [
       "<Figure size 600x400 with 1 Axes>"
      ]
     },
     "metadata": {},
     "output_type": "display_data"
    }
   ],
   "source": [
    "plt.figure(figsize=(6,4))\n",
    "plt.scatter(df[nome_conc], df[nome_sinal], label=dataset_name, edgecolors='k', facecolor='None')\n",
    "plt.plot(df[nome_conc], df['ypred'], label=\"Regressão\", c='k', ls='--')\n",
    "plt.xlabel(nome_conc)\n",
    "plt.ylabel(nome_sinal)\n",
    "plt.legend()\n",
    "plt.show()"
   ]
  },
  {
   "cell_type": "markdown",
   "id": "98cdf0f7-210f-4e66-8228-f6d2d1a327de",
   "metadata": {
    "tags": []
   },
   "source": [
    "## ANOVA"
   ]
  },
  {
   "cell_type": "code",
   "execution_count": 11,
   "id": "ccde8956-4935-47ce-8ad9-afa3ba41ddc0",
   "metadata": {},
   "outputs": [],
   "source": [
    "# ordenando os dados em relação a coluna concentração para organizar melhor os calculos\n",
    "df = df.sort_values(by=[nome_conc])"
   ]
  },
  {
   "cell_type": "markdown",
   "id": "b786e932-59d7-4097-9ffd-58834383c0fe",
   "metadata": {},
   "source": [
    "### Somatório dos quadrados TOTAIS ( $SQT$ )\n",
    "\n",
    "$$ SQT = \\sum_{i=1}^{n} (y_{i} - \\overline{y})^{2}$$\n",
    "\n",
    "onde:\n",
    "- $n$ é o número total de observações;\n",
    "- $y_{i}$ é o valor do sinal para a i-ésima observação;\n",
    "- $\\overline{y}$ é a média dos sinais;\n",
    "\n",
    "> Tem a unidade do sinal ao quadrado"
   ]
  },
  {
   "cell_type": "code",
   "execution_count": 12,
   "id": "f23f5b3a-4dac-47a7-98d6-955c6ec28146",
   "metadata": {},
   "outputs": [],
   "source": [
    "df['sqt'] = np.square(df[nome_sinal] - df[nome_sinal].mean())"
   ]
  },
  {
   "cell_type": "code",
   "execution_count": 13,
   "id": "863d9613-3b6e-4da5-ac6b-4cb9a32b6b7f",
   "metadata": {},
   "outputs": [
    {
     "data": {
      "text/plain": [
       "0.12629942857142853"
      ]
     },
     "execution_count": 13,
     "metadata": {},
     "output_type": "execute_result"
    }
   ],
   "source": [
    "SQT = df['sqt'].sum()\n",
    "SQT"
   ]
  },
  {
   "cell_type": "markdown",
   "id": "ded8f03f-aece-457c-b4c8-e93941bdb6c1",
   "metadata": {},
   "source": [
    "### Grau de liberdade dos quadrados totais ( $gl_{totais}$ )\n",
    "\n",
    "$$gl_{totais} = n - 1$$\n",
    "\n",
    "onde:\n",
    "- $n$ é o número total de observações;"
   ]
  },
  {
   "cell_type": "code",
   "execution_count": 14,
   "id": "2c02db7a-d1c7-478a-99ec-478c0df3fc1b",
   "metadata": {},
   "outputs": [
    {
     "data": {
      "text/plain": [
       "13"
      ]
     },
     "execution_count": 14,
     "metadata": {},
     "output_type": "execute_result"
    }
   ],
   "source": [
    "gl_total = df.shape[0] - 1\n",
    "gl_total"
   ]
  },
  {
   "cell_type": "markdown",
   "id": "1fdb8d60-33d0-4696-af25-055f8c46c0e1",
   "metadata": {},
   "source": [
    "### Média dos quadrados totais ( $MSQT$ )\n",
    "\n",
    "$$ MSQT = \\frac{SQT}{gl_{totais}}$$\n",
    "\n",
    "onde:\n",
    "- $SQT$ é o somatório quadrático da diferença entre cada sinal e a média dos sinais;\n",
    "- $gl_{totais}$ é o grau de liberdade associado aos $SQT$;\n",
    "\n",
    "> Tem a unidade do sinal ao quadrado"
   ]
  },
  {
   "cell_type": "code",
   "execution_count": 15,
   "id": "7a93b0c4-55f5-4683-ab2b-f7d362f6714c",
   "metadata": {},
   "outputs": [
    {
     "data": {
      "text/plain": [
       "0.009715340659340656"
      ]
     },
     "execution_count": 15,
     "metadata": {},
     "output_type": "execute_result"
    }
   ],
   "source": [
    "MSQT = SQT/gl_total\n",
    "MSQT"
   ]
  },
  {
   "cell_type": "markdown",
   "id": "2283f810-ade8-4e5a-bad8-77562ce1ff0d",
   "metadata": {},
   "source": [
    "### Somatório dos quadrados da REGRESSÃO ( $SQR$ )\n",
    "\n",
    "$$ SQR = \\sum_{i=1}^{n} (\\widehat{y_{i}} - \\overline{y})^{2}$$\n",
    "\n",
    "\n",
    "onde:\n",
    "- $n$ é o número total de observações;\n",
    "- $\\widehat{y_{i}}$ é o valor do sinal predito para a i-ésima observação;\n",
    "- $\\overline{y}$ é a média dos sinais;\n",
    "\n",
    "> Tem a unidade do sinal ao quadrado"
   ]
  },
  {
   "cell_type": "code",
   "execution_count": 16,
   "id": "f57f2287-d2e6-48db-aeda-bb1dd18d2d22",
   "metadata": {},
   "outputs": [],
   "source": [
    "df['sqr'] = np.square(df[\"ypred\"] - df[nome_sinal].mean())"
   ]
  },
  {
   "cell_type": "code",
   "execution_count": 17,
   "id": "e6ca2f7d-d7ab-43f2-b620-fb000fc5960b",
   "metadata": {},
   "outputs": [
    {
     "data": {
      "text/plain": [
       "0.12420907301587306"
      ]
     },
     "execution_count": 17,
     "metadata": {},
     "output_type": "execute_result"
    }
   ],
   "source": [
    "SQR = df['sqr'].sum()\n",
    "SQR"
   ]
  },
  {
   "cell_type": "markdown",
   "id": "1e1ef453-d6c5-4f17-b0fc-8fb9e1ef3ffb",
   "metadata": {},
   "source": [
    "### Grau de liberdade da regressão ( $gl_{regressão}$ )\n",
    "\n",
    "$$gl_{regressão} = 1 $$"
   ]
  },
  {
   "cell_type": "code",
   "execution_count": 18,
   "id": "0207ae97-24f3-452b-8adb-9c56f9f326f8",
   "metadata": {},
   "outputs": [
    {
     "data": {
      "text/plain": [
       "1"
      ]
     },
     "execution_count": 18,
     "metadata": {},
     "output_type": "execute_result"
    }
   ],
   "source": [
    "gl_reg = 1\n",
    "gl_reg"
   ]
  },
  {
   "cell_type": "markdown",
   "id": "60c0daa1-6edd-48fb-82c3-30afedb4e046",
   "metadata": {},
   "source": [
    "### Média da soma dos quadrados da regressão ( $MSQR$ )\n",
    "\n",
    "$$MSQR = \\frac{SQR}{gl_{regressão}}$$\n",
    "\n",
    "onde:\n",
    "- $SQR$ é o somatório quadrático da diferença entre cada sinal predito e a média dos sinais;\n",
    "- $gl_{regressão}$ é o grau de liberdade assiciado a regressão;"
   ]
  },
  {
   "cell_type": "code",
   "execution_count": 19,
   "id": "6cb54d1b-2c7b-411e-a011-202f45b768fd",
   "metadata": {},
   "outputs": [
    {
     "data": {
      "text/plain": [
       "0.12420907301587306"
      ]
     },
     "execution_count": 19,
     "metadata": {},
     "output_type": "execute_result"
    }
   ],
   "source": [
    "MSQR = SQR/gl_reg\n",
    "MSQR"
   ]
  },
  {
   "cell_type": "markdown",
   "id": "9752364d-bc24-48c8-bb0d-744feb1959c7",
   "metadata": {},
   "source": [
    "### Somatório dos quadrados dos ERROS ( $SQE$ )\n",
    "\n",
    "$$SQE = \\sum_{i=1}^{n} (\\widehat{y_{i}} - y_{i})^{2}$$\n",
    "\n",
    "onde:\n",
    "- $n$ é o número total de observações;\n",
    "- $\\widehat{y_{i}}$ é o valor do sinal predito para a i-ésima observação;\n",
    "- $y_{i}$ é o valor do sinal para a i-ésima observação;\n",
    "\n",
    "> Tem a unidade do sinal ao quadrado"
   ]
  },
  {
   "cell_type": "code",
   "execution_count": 20,
   "id": "ee7ed6f1-1934-449d-a726-56ca72092307",
   "metadata": {},
   "outputs": [],
   "source": [
    "df['sqe'] = np.square(df[\"ypred\"] - df[nome_sinal])"
   ]
  },
  {
   "cell_type": "code",
   "execution_count": 21,
   "id": "e3ae0a8c-6b9f-4613-b8b6-bc90f8664add",
   "metadata": {},
   "outputs": [
    {
     "data": {
      "text/plain": [
       "0.0020903555555555555"
      ]
     },
     "execution_count": 21,
     "metadata": {},
     "output_type": "execute_result"
    }
   ],
   "source": [
    "SQE = df['sqe'].sum()\n",
    "SQE"
   ]
  },
  {
   "cell_type": "markdown",
   "id": "0a4fbb99-9a6c-47ed-90f8-04d1d1c08a6a",
   "metadata": {},
   "source": [
    "### Grau de liberdade dos erros ( $gl_{erros}$ )\n",
    "\n",
    "$$gl_{erros} = n - 2$$\n",
    "\n",
    "onde:\n",
    "- $n$ é o número total de observações;"
   ]
  },
  {
   "cell_type": "code",
   "execution_count": 22,
   "id": "70dfacb6-242d-4edc-ad76-8c3cee8b4140",
   "metadata": {},
   "outputs": [
    {
     "data": {
      "text/plain": [
       "12"
      ]
     },
     "execution_count": 22,
     "metadata": {},
     "output_type": "execute_result"
    }
   ],
   "source": [
    "gl_erro = df.shape[0] - 2\n",
    "gl_erro"
   ]
  },
  {
   "cell_type": "markdown",
   "id": "1ca5db77-0448-44e0-85e7-fe9d02e884c5",
   "metadata": {},
   "source": [
    "### Média da soma dos quadrados dos erros ( $MSQE$ )\n",
    "\n",
    "$$MSQE = \\frac{SQE}{gl_{erros}}$$\n",
    "\n",
    "onde:\n",
    "- $SQE$ é o somatório quadrático da diferença entre cada sinal e respectivo sinal predito;\n",
    "- $gl_{erros}$ é o grau de liberdade assiciado aos erros;\n",
    "\n",
    "> Tem a unidade do sinal ao quadrado"
   ]
  },
  {
   "cell_type": "code",
   "execution_count": 23,
   "id": "3b10ac60-71ab-452f-b855-59abb38effa6",
   "metadata": {},
   "outputs": [
    {
     "data": {
      "text/plain": [
       "0.00017419629629629628"
      ]
     },
     "execution_count": 23,
     "metadata": {},
     "output_type": "execute_result"
    }
   ],
   "source": [
    "MSQE = SQE/gl_erro\n",
    "MSQE"
   ]
  },
  {
   "cell_type": "markdown",
   "id": "acef2034-c6b2-4193-b8fc-623abcafb960",
   "metadata": {},
   "source": [
    "### Estatística do teste ( $F_{calculado}$ )\n",
    "\n",
    "$$ F_{calculado} = \\frac{MSQR}{MSQE}$$\n",
    "\n",
    "onde:\n",
    "- $MSQR$ é a quantidade média de variância que o modelo consegue explicar;\n",
    "- $MSQE$ é a quantidade média de variância que o modelo não consegue explicar;\n",
    "\n"
   ]
  },
  {
   "cell_type": "code",
   "execution_count": 24,
   "id": "b066337b-5421-43a4-b51d-d73fdf75940f",
   "metadata": {},
   "outputs": [
    {
     "data": {
      "text/plain": [
       "713.0408375881982"
      ]
     },
     "execution_count": 24,
     "metadata": {},
     "output_type": "execute_result"
    }
   ],
   "source": [
    "Fcalc = MSQR/MSQE\n",
    "Fcalc"
   ]
  },
  {
   "cell_type": "markdown",
   "id": "6e2ea66c-efcb-49b4-9fee-7668004e0647",
   "metadata": {},
   "source": [
    "### Valor crítico ( $F_{critico}$ )\n",
    "\n",
    "$$F_{crítico} = F_{1-\\alpha, gl_{regressão}, gl{erros}}$$\n",
    "\n",
    "onde:\n",
    "- $\\alpha$ é o nível de significância adotado;\n",
    "- $gl_{regressão}$ é o grau de liberdade associado a regressão;\n",
    "- $gl_{erros}$ é o grau de liberdade associado aos erros;\n",
    "\n",
    "> Utiliza-se a distribuição F unilateral"
   ]
  },
  {
   "cell_type": "code",
   "execution_count": 25,
   "id": "c1ac15f7-8990-4e12-ac34-68fdc5aa647a",
   "metadata": {},
   "outputs": [
    {
     "data": {
      "text/plain": [
       "4.747225346722511"
      ]
     },
     "execution_count": 25,
     "metadata": {},
     "output_type": "execute_result"
    }
   ],
   "source": [
    "Ftab = stats.f.ppf(1-alfa, gl_reg, gl_erro)\n",
    "Ftab"
   ]
  },
  {
   "cell_type": "markdown",
   "id": "953c2926-12d0-452f-af67-d82e87e56454",
   "metadata": {},
   "source": [
    "### p-valor ( $p-valor$ ) "
   ]
  },
  {
   "cell_type": "code",
   "execution_count": 26,
   "id": "2b881d96-10b4-4f8f-9bd6-ba11b5c99910",
   "metadata": {},
   "outputs": [
    {
     "data": {
      "text/plain": [
       "4.670153153085721e-12"
      ]
     },
     "execution_count": 26,
     "metadata": {},
     "output_type": "execute_result"
    }
   ],
   "source": [
    "p_valor = 1- stats.f.cdf(Fcalc, gl_reg, gl_erro)\n",
    "p_valor"
   ]
  },
  {
   "cell_type": "markdown",
   "id": "4f5370e3-d5ed-4179-b6f5-7f39bd8ad474",
   "metadata": {},
   "source": [
    "### Conclusão do teste\n",
    "\n",
    "Hipóteses do teste:\n",
    "\n",
    "$$H_{0}: \\beta_{1} = 0$$\n",
    "\n",
    "$$H_{1}: \\beta_{1} \\neq 0$$\n",
    "\n",
    "#### Utilizando o p-valor\n",
    "\n",
    "- Se $p-valor \\geq \\alpha$, falha em rejeitar a hipótese nula com o nível de singificância adotado $\\alpha$ nível de singnificância (a regressão ***não é significativa***);\n",
    "- Se $p-valor < \\alpha$, rejeita a hipótese nula com o nível de singificância adotado $\\alpha$ nível de singnificância (a regressão ***é significativa***);\n",
    "\n",
    "\n",
    "#### Utilizando o valor crítico\n",
    "\n",
    "- Se $F_{crítico} \\geq F_{calculado}$, falha em rejeitar a hipótese nula com o nível de singificância adotado $\\alpha$ nível de singnificância (a regressão ***não é significativa***);\n",
    "- Se $F_{crítico} < F_{calculado}$, rejeita a hipótese nula com o nível de singificância adotado $\\alpha$ nível de singnificância (a regressão ***é significativa***);"
   ]
  },
  {
   "cell_type": "code",
   "execution_count": 27,
   "id": "2ee623bd-ca40-40b4-8467-844dd10ae960",
   "metadata": {},
   "outputs": [
    {
     "data": {
      "text/plain": [
       "'A regressão é significativa? Sim'"
      ]
     },
     "execution_count": 27,
     "metadata": {},
     "output_type": "execute_result"
    }
   ],
   "source": [
    "if p_valor < alfa:\n",
    "    anova_significativo = \"Sim\"\n",
    "else:\n",
    "    anova_significativo = \"Não\"\n",
    "    \n",
    "f\"A regressão é significativa? {anova_significativo}\""
   ]
  },
  {
   "cell_type": "markdown",
   "id": "6864dbf1-dcd0-430e-81df-7ddb2f2cb721",
   "metadata": {},
   "source": [
    "### Verificações\n",
    "\n",
    "#### Somatório dos quadrados\n",
    "\n",
    "$$ SQT = SQR + SQE$$"
   ]
  },
  {
   "cell_type": "code",
   "execution_count": 28,
   "id": "b12bb19d-8656-4e64-b7d1-012b1d9a4921",
   "metadata": {},
   "outputs": [
    {
     "data": {
      "text/plain": [
       "False"
      ]
     },
     "execution_count": 28,
     "metadata": {},
     "output_type": "execute_result"
    }
   ],
   "source": [
    "SQT == SQR + SQE"
   ]
  },
  {
   "cell_type": "markdown",
   "id": "ec4e32dd-ddee-47ea-bbc9-dc9f53fa7e94",
   "metadata": {},
   "source": [
    "#### Graus de liberdade\n",
    "\n",
    "$$ gl_{total} = gl_{regressão} + gl_{erros}$$"
   ]
  },
  {
   "cell_type": "code",
   "execution_count": 29,
   "id": "9c13fca9-b071-474f-b9db-8f23e026bf01",
   "metadata": {},
   "outputs": [
    {
     "data": {
      "text/plain": [
       "True"
      ]
     },
     "execution_count": 29,
     "metadata": {},
     "output_type": "execute_result"
    }
   ],
   "source": [
    "gl_total == gl_reg + gl_erro"
   ]
  },
  {
   "cell_type": "markdown",
   "id": "8fb1ce30-ce0f-4dc5-8fba-a7128d580320",
   "metadata": {},
   "source": [
    "### Tabela de ANOVA"
   ]
  },
  {
   "cell_type": "code",
   "execution_count": 30,
   "id": "c8139b47-42ac-4db9-ad7c-af0c1e48d16f",
   "metadata": {},
   "outputs": [
    {
     "data": {
      "text/html": [
       "<div>\n",
       "<style scoped>\n",
       "    .dataframe tbody tr th:only-of-type {\n",
       "        vertical-align: middle;\n",
       "    }\n",
       "\n",
       "    .dataframe tbody tr th {\n",
       "        vertical-align: top;\n",
       "    }\n",
       "\n",
       "    .dataframe thead th {\n",
       "        text-align: right;\n",
       "    }\n",
       "</style>\n",
       "<table border=\"1\" class=\"dataframe\">\n",
       "  <thead>\n",
       "    <tr style=\"text-align: right;\">\n",
       "      <th></th>\n",
       "      <th>Fonte de Variação</th>\n",
       "      <th>Somatório</th>\n",
       "      <th>gl</th>\n",
       "      <th>Médias</th>\n",
       "      <th>F calculado</th>\n",
       "      <th>F tabelado</th>\n",
       "      <th>p-valor</th>\n",
       "      <th>Singnificativo?</th>\n",
       "    </tr>\n",
       "  </thead>\n",
       "  <tbody>\n",
       "    <tr>\n",
       "      <th>0</th>\n",
       "      <td>Regressão</td>\n",
       "      <td>0.124209</td>\n",
       "      <td>1</td>\n",
       "      <td>0.124209</td>\n",
       "      <td>713.040838</td>\n",
       "      <td>4.747225</td>\n",
       "      <td>0.0</td>\n",
       "      <td>Sim</td>\n",
       "    </tr>\n",
       "    <tr>\n",
       "      <th>1</th>\n",
       "      <td>Resíduos</td>\n",
       "      <td>0.002090</td>\n",
       "      <td>12</td>\n",
       "      <td>0.000174</td>\n",
       "      <td></td>\n",
       "      <td></td>\n",
       "      <td></td>\n",
       "      <td></td>\n",
       "    </tr>\n",
       "    <tr>\n",
       "      <th>2</th>\n",
       "      <td>Total</td>\n",
       "      <td>0.126299</td>\n",
       "      <td>13</td>\n",
       "      <td>0.009715</td>\n",
       "      <td></td>\n",
       "      <td></td>\n",
       "      <td></td>\n",
       "      <td></td>\n",
       "    </tr>\n",
       "  </tbody>\n",
       "</table>\n",
       "</div>"
      ],
      "text/plain": [
       "  Fonte de Variação  Somatório  gl    Médias F calculado F tabelado p-valor  \\\n",
       "0         Regressão   0.124209   1  0.124209  713.040838   4.747225     0.0   \n",
       "1          Resíduos   0.002090  12  0.000174                                  \n",
       "2             Total   0.126299  13  0.009715                                  \n",
       "\n",
       "  Singnificativo?  \n",
       "0             Sim  \n",
       "1                  \n",
       "2                  "
      ]
     },
     "execution_count": 30,
     "metadata": {},
     "output_type": "execute_result"
    }
   ],
   "source": [
    "df_anova = pd.DataFrame({\n",
    "    \"Fonte de Variação\": [\"Regressão\", \"Resíduos\", \"Total\"],\n",
    "    \"Somatório\": [SQR, SQE, SQT],\n",
    "    \"gl\": [gl_reg, gl_erro, gl_total],\n",
    "    \"Médias\": [MSQR, MSQE, MSQT],\n",
    "    \"F calculado\": [Fcalc, \"\", \"\"],\n",
    "    \"F tabelado\": [Ftab, \"\", \"\"],\n",
    "    \"p-valor\": [p_valor, \"\", \"\"],\n",
    "    \"Singnificativo?\": [anova_significativo, \"\", \"\"]\n",
    "})\n",
    "df_anova"
   ]
  },
  {
   "cell_type": "markdown",
   "id": "f4467fb0-8ddc-484e-824c-64b6161c4054",
   "metadata": {},
   "source": [
    "### Gráfico da distribuição F"
   ]
  },
  {
   "cell_type": "code",
   "execution_count": 31,
   "id": "f2c5131a-84bc-4a04-bb20-faba95ce1de5",
   "metadata": {},
   "outputs": [
    {
     "data": {
      "image/png": "[encoded data removed]",
      "text/plain": [
       "<Figure size 600x300 with 1 Axes>"
      ]
     },
     "metadata": {},
     "output_type": "display_data"
    }
   ],
   "source": [
    "# Verificando qual é o maior valor para adaptar o intervalo do eixo x\n",
    "if Fcalc > Ftab:\n",
    "    x_max = Fcalc*1.05\n",
    "else:\n",
    "    x_max = Ftab*1.05 + 5\n",
    "    \n",
    "# obtendo valores de x para o gráfico\n",
    "x = np.linspace(0, int(x_max), 1000)\n",
    "  \n",
    "# criando uma instância para a distribuição F com grau de liberdade do teste\n",
    "f1 = stats.f(gl_reg, gl_erro, 0)\n",
    "\n",
    "# plotando o gráfico\n",
    "# criando o canvas\n",
    "plt.figure(figsize=(6, 3))\n",
    "# adicionando a linha com valores teórios\n",
    "legend = '$gl_{1}$ = ' + str(gl_reg) + ' $gl_{2}$ = ' + str(gl_erro)\n",
    "plt.plot(x, f1.pdf(x), label = legend, color = 'black')\n",
    "\n",
    "# adicionando a linha com o valor crítico\n",
    "legend = '$F_{crítico} = $' + str(round(Ftab, 2))\n",
    "plt.axvline(Ftab, 0, 1, label=legend, color='blue')\n",
    "\n",
    "# adicionando o ponto com o valor da estatística do teste\n",
    "legend = '$F_{calc} = $' + str(round(Fcalc, 2))\n",
    "plt.scatter(Fcalc, 0, color='red', label=legend)\n",
    "\n",
    "# preenchendo a área do p-valor\n",
    "x = np.linspace(Fcalc, int(x_max), 1000)\n",
    "plt.fill_between(x, f1.pdf(x), label = '$probabilidade$', color = 'salmon')\n",
    "\n",
    "# ajustando o gráfico\n",
    "plt.xlim(-.1, x_max + 0.1)\n",
    "plt.ylim(bottom=0.0)\n",
    "plt.xlabel('F')\n",
    "plt.ylabel('Densidade')\n",
    "plt.legend()\n",
    "plt.show()"
   ]
  },
  {
   "cell_type": "markdown",
   "id": "bc491d5b-2d54-48b7-8d4c-1586abf6b261",
   "metadata": {
    "tags": []
   },
   "source": [
    "## Coeficiente de determinação ( $R^{2}$ )\n",
    "\n",
    "$$R^{2} = \\frac{SQR}{SQT}$$\n",
    "\n",
    "onde:\n",
    "- $SQR$ é o somatório quadrático da diferença entre cada sinal predito e a média dos sinais;\n",
    "- $SQT$ é o somatório quadrático da diferença entre cada sinal e a média dos sinais;\n",
    "\n",
    "\n",
    "$$R^{2} = \\frac{\\sum_{i=1}^{n} (\\widehat{y_{i}} - \\overline{y})^{2}}{\\sum_{i=1}^{n} (y_{i} - \\overline{y})^{2}}$$\n",
    "\n",
    "onde:\n",
    "- $n$ é o número total de observações;\n",
    "- $\\widehat{y_{i}}$ é o valor do sinal predito para a i-ésima observação;\n",
    "- $\\overline{y}$ é a média dos sinais;\n",
    "- $y_{i}$ é o valor do sinal para a i-ésima observação;\n"
   ]
  },
  {
   "cell_type": "code",
   "execution_count": 32,
   "id": "8c126658-ab73-4eae-8497-11c0e56843ad",
   "metadata": {},
   "outputs": [
    {
     "data": {
      "text/plain": [
       "0.9834492081302388"
      ]
     },
     "execution_count": 32,
     "metadata": {},
     "output_type": "execute_result"
    }
   ],
   "source": [
    "R2 = SQR/SQT\n",
    "R2"
   ]
  },
  {
   "cell_type": "markdown",
   "id": "918a8e0f-7166-4060-afe5-6b2ba4977729",
   "metadata": {},
   "source": [
    "### Coeficiente de determinação ajustado ( $R_{ajustado}^{2}$ )\n",
    "\n",
    "$$R_{ajustado}^{2} = 1 - \\frac{MSQE}{MSQT}$$\n",
    "\n",
    "onde:\n",
    "- $MSQE$ é a quantidade média de variância que o modelo não consegue explicar;\n",
    "- $MSQT$ é a média de toda a variância;"
   ]
  },
  {
   "cell_type": "code",
   "execution_count": 33,
   "id": "09086181-66d9-473b-81d6-e3a3f9e3c6eb",
   "metadata": {},
   "outputs": [
    {
     "data": {
      "text/plain": [
       "0.9820699754744248"
      ]
     },
     "execution_count": 33,
     "metadata": {},
     "output_type": "execute_result"
    }
   ],
   "source": [
    "R2ajustado = 1 - MSQE/MSQT\n",
    "R2ajustado"
   ]
  },
  {
   "cell_type": "markdown",
   "id": "72f96b18-7cb5-4d04-b97c-43e0be194185",
   "metadata": {},
   "source": [
    "## Teste para a falta de ajuste "
   ]
  },
  {
   "cell_type": "markdown",
   "id": "0de306f0-6345-4658-84c6-1d4d565827dd",
   "metadata": {},
   "source": [
    "### Somatório dos quadrados para o erro puro ( $SQE_{erro \\; puro}$ )\n",
    "\n",
    "$$SQE_{erro \\; puro} = \\sum_{i=1}^{a} \\sum_{j=1}^{n_{i}}\\left(y_{ij} - \\overline{y_i} \\right)^{2}$$\n",
    "\n",
    "onde:\n",
    "- $a$ é o número de grupos;\n",
    "- $n_{i}$ é o número de amostras do i-ésimo grupo;\n",
    "- $y_{ij}$ é a j-ésima observação do i-ésimo grupo;\n",
    "- $\\overline{y_i}$ é a média do i-ésimo grupo;\n",
    "\n",
    "> Tem unidade do sinal ao quadrado"
   ]
  },
  {
   "cell_type": "code",
   "execution_count": 34,
   "id": "f7dd698d-473f-44ca-9f37-23d3e1a5d424",
   "metadata": {},
   "outputs": [],
   "source": [
    "df['yi_medio'] = df.groupby([nome_conc])[nome_sinal].transform(\"mean\")"
   ]
  },
  {
   "cell_type": "code",
   "execution_count": 35,
   "id": "b3beeac0-d200-40f5-899c-718d86537c9f",
   "metadata": {},
   "outputs": [],
   "source": [
    "df[\"sqe_erro_puro\"] = np.square(df[nome_sinal] - df['yi_medio'])"
   ]
  },
  {
   "cell_type": "code",
   "execution_count": 36,
   "id": "79493d5f-c0c7-4650-8636-caa307a4b414",
   "metadata": {},
   "outputs": [
    {
     "data": {
      "text/plain": [
       "0.0012139999999999998"
      ]
     },
     "execution_count": 36,
     "metadata": {},
     "output_type": "execute_result"
    }
   ],
   "source": [
    "SQE_erro_puro = df[\"sqe_erro_puro\"].sum()\n",
    "SQE_erro_puro"
   ]
  },
  {
   "cell_type": "markdown",
   "id": "9570c652-bf80-46ba-aacf-938ce9acc51d",
   "metadata": {},
   "source": [
    "### Grau de liberdade do erro puro ( $gl_{erro \\; puro}$ )\n",
    "\n",
    "$$gl_{erro \\; puro} = n - a$$\n",
    "\n",
    "onde:\n",
    "- $n$ é o número total de observações;\n",
    "- $a$ é o número de grupos;"
   ]
  },
  {
   "cell_type": "code",
   "execution_count": 37,
   "id": "7f7e8f43-142a-47e5-93e6-119cdf16367d",
   "metadata": {},
   "outputs": [
    {
     "data": {
      "text/plain": [
       "9"
      ]
     },
     "execution_count": 37,
     "metadata": {},
     "output_type": "execute_result"
    }
   ],
   "source": [
    "gl_erro_puro = df.shape[0] -  df[nome_conc].unique().size\n",
    "gl_erro_puro"
   ]
  },
  {
   "cell_type": "markdown",
   "id": "42f3a7d0-5722-47f9-ba77-17f9338820d0",
   "metadata": {},
   "source": [
    "### Média dos quadrados do erro puro ( $MSQE_{erro \\; puro}$ )\n",
    "\n",
    "$$MSQE_{erro \\; puro} = \\frac{SQE_{erro \\; puro}}{gl_{erro \\; puro}}$$\n",
    "\n",
    "onde:\n",
    "- $gl_{erro \\; puro}$ é o grau de liberdade associado ao erro puro;\n",
    "- $SQE_{erro \\; puro}$ é o somatório quadrátido do erro puro.\n",
    "\n",
    "> Tem unidade do sinal ao quadrado"
   ]
  },
  {
   "cell_type": "code",
   "execution_count": 38,
   "id": "37ca5e8f-94f8-4122-b107-a589a8049640",
   "metadata": {},
   "outputs": [
    {
     "data": {
      "text/plain": [
       "0.00013488888888888887"
      ]
     },
     "execution_count": 38,
     "metadata": {},
     "output_type": "execute_result"
    }
   ],
   "source": [
    "MSQE_erro_puro = SQE_erro_puro/gl_erro_puro\n",
    "MSQE_erro_puro"
   ]
  },
  {
   "cell_type": "markdown",
   "id": "d459581f-4935-4753-b409-988ee656f35d",
   "metadata": {},
   "source": [
    "### Somatório dos quadrados para a falta de ajuste ( $SQE_{falta \\; ajuste}$ )\n",
    "\n",
    "$$SQE_{falta \\; ajuste} = \\sum_{i=1}^{a} \\sum_{j=1}^{n_{i}} \\left( \\widehat{y_{ij}}  - \\overline{y_i} \\right)^{2}$$\n",
    "\n",
    "onde:\n",
    "- $a$ é o número de grupos;\n",
    "- $n_{i}$ é o número de amostras do i-ésimo grupo;\n",
    "- $\\widehat{y_{ij}}$ é a j-ésima observação predita do i-ésimo grupo;\n",
    "- $\\overline{y_i}$ é a média do i-ésimo grupo;\n",
    "\n",
    "> Tem unidade do sinal ao quadrado"
   ]
  },
  {
   "cell_type": "code",
   "execution_count": 39,
   "id": "f7b074bc-7cca-4ade-a3b2-9c7ee1f6adcd",
   "metadata": {},
   "outputs": [],
   "source": [
    "df[\"sqe_falta_ajuste\"] = np.square(df['ypred'] - df['yi_medio'])"
   ]
  },
  {
   "cell_type": "code",
   "execution_count": 40,
   "id": "889020f6-f63d-4820-a0d7-bb3b724b82d0",
   "metadata": {},
   "outputs": [
    {
     "data": {
      "text/plain": [
       "0.0008763555555555557"
      ]
     },
     "execution_count": 40,
     "metadata": {},
     "output_type": "execute_result"
    }
   ],
   "source": [
    "SQE_falta_ajuste = df[\"sqe_falta_ajuste\"].sum()\n",
    "SQE_falta_ajuste"
   ]
  },
  {
   "cell_type": "markdown",
   "id": "f7a6501c-d59f-4deb-ae4f-4e9923454b91",
   "metadata": {},
   "source": [
    "### Grau de liberdade da falta de ajuste ( $gl_{falta \\; ajuste}$ )\n",
    "\n",
    "$$gl_{falta \\; ajuste} = a - 2$$\n",
    "\n",
    "onde:\n",
    "- $a$ é o número de grupos;"
   ]
  },
  {
   "cell_type": "code",
   "execution_count": 41,
   "id": "aef6cda2-cbac-4eb0-8d39-e250665c8db9",
   "metadata": {},
   "outputs": [
    {
     "data": {
      "text/plain": [
       "3"
      ]
     },
     "execution_count": 41,
     "metadata": {},
     "output_type": "execute_result"
    }
   ],
   "source": [
    "gl_falta_ajuste = df[nome_conc].unique().size - 2\n",
    "gl_falta_ajuste"
   ]
  },
  {
   "cell_type": "markdown",
   "id": "d97a566e-98d6-4901-b181-40ba9426a7b5",
   "metadata": {},
   "source": [
    "### Média dos quadrados da falta de ajuste ( $MSQE_{falta \\; ajuste}$ )\n",
    "\n",
    "$$MSQE_{falta \\; ajuste} = \\frac{SQE_{falta \\; ajuste}}{gl_{falta \\; ajuste}}$$\n",
    "\n",
    "onde:\n",
    "- $gl_{falta \\; ajuste}$ é o grau de liberdade associado a falta de ajuste;\n",
    "- $SQE_{falta \\; ajuste}$ é o somatório quadrátido da falta de ajuste.\n",
    "\n",
    "> Tem unidade do sinal ao quadrado"
   ]
  },
  {
   "cell_type": "code",
   "execution_count": 42,
   "id": "dc65ab6c-670d-405a-91da-fb9a2667a382",
   "metadata": {},
   "outputs": [
    {
     "data": {
      "text/plain": [
       "0.00029211851851851855"
      ]
     },
     "execution_count": 42,
     "metadata": {},
     "output_type": "execute_result"
    }
   ],
   "source": [
    "MSQE_falta_ajuste = SQE_falta_ajuste/gl_falta_ajuste\n",
    "MSQE_falta_ajuste"
   ]
  },
  {
   "cell_type": "markdown",
   "id": "f7d34dd8-94bb-4277-9c1d-4e0b8178aa48",
   "metadata": {},
   "source": [
    "### Estatística do teste ( $F_{falta \\; ajuste}$ )\n",
    "\n",
    "$$ F_{falta \\; ajuste} = \\frac{MSQE_{falta \\; ajuste}}{MSQE_{erro \\; puro}}$$\n",
    "\n",
    "onde:\n",
    "- $MSQE_{falta \\; ajuste}$ é a quantidade média de variância que o modelo não consegue prever;\n",
    "- $MSQE_{erro \\; puro}$ é a quantidade média de variância causada pelos erros aleatórios;\n"
   ]
  },
  {
   "cell_type": "code",
   "execution_count": 43,
   "id": "3c31833a-5b0d-4713-86aa-ce0e893f3280",
   "metadata": {},
   "outputs": [
    {
     "data": {
      "text/plain": [
       "2.16562328390994"
      ]
     },
     "execution_count": 43,
     "metadata": {},
     "output_type": "execute_result"
    }
   ],
   "source": [
    "Fcalc_falta_ajuste = MSQE_falta_ajuste/MSQE_erro_puro\n",
    "Fcalc_falta_ajuste"
   ]
  },
  {
   "cell_type": "markdown",
   "id": "66423796-6e42-4733-bec7-aaff399288b3",
   "metadata": {},
   "source": [
    "### Valor crítico ( $F_{critico}$ )\n",
    "\n",
    "$$F_{crítico} = F_{1-\\alpha, \\; gl_{falta \\; ajuste}, \\; gl_{erro \\; puro}}$$\n",
    "\n",
    "onde:\n",
    "- $\\alpha$ é o nível de significância adotado;\n",
    "- $gl_{erro \\; puro}$ é o grau de liberdade associado a falta de ajuste;\n",
    "- $gl_{falta \\; ajuste}$ é o grau de liberdade associado ao erro puro;\n",
    "\n",
    "> Utiliza-se a distribuição F unilateral"
   ]
  },
  {
   "cell_type": "code",
   "execution_count": 44,
   "id": "ea163719-6919-418d-8214-42bdc91723c5",
   "metadata": {},
   "outputs": [
    {
     "data": {
      "text/plain": [
       "3.8625483576247643"
      ]
     },
     "execution_count": 44,
     "metadata": {},
     "output_type": "execute_result"
    }
   ],
   "source": [
    "Ftab_falta_ajuste = stats.f.ppf(1-alfa, gl_falta_ajuste, gl_erro_puro)\n",
    "Ftab_falta_ajuste"
   ]
  },
  {
   "cell_type": "markdown",
   "id": "9416dc0c-8192-4c06-b7a1-dcef138b5c81",
   "metadata": {},
   "source": [
    "### p-valor ( $p-valor$ ) "
   ]
  },
  {
   "cell_type": "code",
   "execution_count": 45,
   "id": "3f6f3fac-b23d-4300-b9c7-7dc36c6852a9",
   "metadata": {},
   "outputs": [
    {
     "data": {
      "text/plain": [
       "0.16194225392347494"
      ]
     },
     "execution_count": 45,
     "metadata": {},
     "output_type": "execute_result"
    }
   ],
   "source": [
    "p_valor_falta_ajuste = 1 - stats.f.cdf(Fcalc_falta_ajuste, gl_falta_ajuste, gl_erro_puro)\n",
    "p_valor_falta_ajuste"
   ]
  },
  {
   "cell_type": "markdown",
   "id": "4fa304a0-2fc7-475f-8242-71378ebc092f",
   "metadata": {},
   "source": [
    "### Conclusão do teste\n",
    "\n",
    "Hipóteses do teste:\n",
    "\n",
    "$$H_{0}: A \\; fonte \\; de \\; erros \\; é \\; devida \\; aos \\; erros \\; aleatórios$$\n",
    "\n",
    "$$H_{1}: A \\; fonte \\; de \\; erros \\; não \\; é \\; devida \\; aos \\; erros \\; aleatórios$$\n",
    "\n",
    "#### Utilizando o p-valor\n",
    "\n",
    "- Se $p-valor \\geq \\alpha$, falha em rejeitar a hipótese nula com o nível de singificância adotado $\\alpha$ nível de singnificância (o erro da falta de ajuste é ***igual ao erro puro***);\n",
    "- Se $p-valor < \\alpha$, rejeita a hipótese nula com o nível de singificância adotado $\\alpha$ nível de singnificância (o erro da falta de ajuste é ***diferente do erro puro***);\n",
    "\n",
    "\n",
    "#### Utilizando o valor crítico\n",
    "\n",
    "- Se $F_{crítico} \\geq F_{calculado}$, falha em rejeitar a hipótese nula com o nível de singificância adotado $\\alpha$ nível de singnificância (o erro da falta de ajuste é ***igual ao erro puro***);\n",
    "- Se $F_{crítico} < F_{calculado}$, rejeita a hipótese nula com o nível de singificância adotado $\\alpha$ nível de singnificância (o erro da falta de ajuste é ***diferente do erro puro***);"
   ]
  },
  {
   "cell_type": "code",
   "execution_count": 46,
   "id": "6efd4107-e660-4c59-b576-d89527f717cb",
   "metadata": {},
   "outputs": [
    {
     "data": {
      "text/plain": [
       "'A falta de ajuste é significativa? Não'"
      ]
     },
     "execution_count": 46,
     "metadata": {},
     "output_type": "execute_result"
    }
   ],
   "source": [
    "if p_valor_falta_ajuste < alfa:\n",
    "    falta_ajuste_significativo = \"Sim\"\n",
    "else:\n",
    "    falta_ajuste_significativo = \"Não\"\n",
    "f\"A falta de ajuste é significativa? {falta_ajuste_significativo}\""
   ]
  },
  {
   "cell_type": "markdown",
   "id": "0a8cea3b-2dfe-47c5-b7f2-65f066982c62",
   "metadata": {},
   "source": [
    "### Verificações"
   ]
  },
  {
   "cell_type": "markdown",
   "id": "f116960a-43fb-41b5-8697-b68096a9ab7b",
   "metadata": {},
   "source": [
    "#### Somatório dos quadrados\n",
    "\n",
    "$$ SQE = SQE_{falta \\; ajuste} + SQE_{erro \\; puro}$$"
   ]
  },
  {
   "cell_type": "code",
   "execution_count": 47,
   "id": "a053f778-356a-4b07-868d-2b6ade2fa82d",
   "metadata": {},
   "outputs": [
    {
     "data": {
      "text/plain": [
       "True"
      ]
     },
     "execution_count": 47,
     "metadata": {},
     "output_type": "execute_result"
    }
   ],
   "source": [
    "np.isclose(SQE, SQE_falta_ajuste + SQE_erro_puro)"
   ]
  },
  {
   "cell_type": "markdown",
   "id": "1cb060a3-6507-4bbf-8173-e13bb1b05039",
   "metadata": {},
   "source": [
    "#### Grau de liberdade\n",
    "\n",
    "$$gl_{erro} = gl_{falta \\; ajuste} + gl_{erro \\; puro}$$"
   ]
  },
  {
   "cell_type": "code",
   "execution_count": 48,
   "id": "e330f1a3-9d16-4909-81a3-0feaa7279759",
   "metadata": {},
   "outputs": [
    {
     "data": {
      "text/plain": [
       "True"
      ]
     },
     "execution_count": 48,
     "metadata": {},
     "output_type": "execute_result"
    }
   ],
   "source": [
    "gl_erro == gl_falta_ajuste + gl_erro_puro"
   ]
  },
  {
   "cell_type": "code",
   "execution_count": 49,
   "id": "d4718ad0-83f5-4213-a55c-188255008d96",
   "metadata": {},
   "outputs": [
    {
     "data": {
      "text/html": [
       "<div>\n",
       "<style scoped>\n",
       "    .dataframe tbody tr th:only-of-type {\n",
       "        vertical-align: middle;\n",
       "    }\n",
       "\n",
       "    .dataframe tbody tr th {\n",
       "        vertical-align: top;\n",
       "    }\n",
       "\n",
       "    .dataframe thead th {\n",
       "        text-align: right;\n",
       "    }\n",
       "</style>\n",
       "<table border=\"1\" class=\"dataframe\">\n",
       "  <thead>\n",
       "    <tr style=\"text-align: right;\">\n",
       "      <th></th>\n",
       "      <th>Fonte de Variação</th>\n",
       "      <th>Somatório</th>\n",
       "      <th>gl</th>\n",
       "      <th>Médias</th>\n",
       "      <th>F calculado</th>\n",
       "      <th>F tabelado</th>\n",
       "      <th>p-valor</th>\n",
       "      <th>Singnificativo?</th>\n",
       "    </tr>\n",
       "  </thead>\n",
       "  <tbody>\n",
       "    <tr>\n",
       "      <th>0</th>\n",
       "      <td>Regressão</td>\n",
       "      <td>0.124209</td>\n",
       "      <td>1</td>\n",
       "      <td>0.124209</td>\n",
       "      <td>713.040838</td>\n",
       "      <td>4.747225</td>\n",
       "      <td>0.0</td>\n",
       "      <td>Sim</td>\n",
       "    </tr>\n",
       "    <tr>\n",
       "      <th>1</th>\n",
       "      <td>Resíduos</td>\n",
       "      <td>0.002090</td>\n",
       "      <td>12</td>\n",
       "      <td>0.000174</td>\n",
       "      <td></td>\n",
       "      <td></td>\n",
       "      <td></td>\n",
       "      <td></td>\n",
       "    </tr>\n",
       "    <tr>\n",
       "      <th>2</th>\n",
       "      <td>Falta de Ajuste</td>\n",
       "      <td>0.000876</td>\n",
       "      <td>3</td>\n",
       "      <td>0.000292</td>\n",
       "      <td>2.165623</td>\n",
       "      <td>3.862548</td>\n",
       "      <td>0.161942</td>\n",
       "      <td>Não</td>\n",
       "    </tr>\n",
       "    <tr>\n",
       "      <th>3</th>\n",
       "      <td>Erro Puro</td>\n",
       "      <td>0.001214</td>\n",
       "      <td>9</td>\n",
       "      <td>0.000135</td>\n",
       "      <td></td>\n",
       "      <td></td>\n",
       "      <td></td>\n",
       "      <td></td>\n",
       "    </tr>\n",
       "    <tr>\n",
       "      <th>4</th>\n",
       "      <td>Total</td>\n",
       "      <td>0.126299</td>\n",
       "      <td>13</td>\n",
       "      <td>0.009715</td>\n",
       "      <td></td>\n",
       "      <td></td>\n",
       "      <td></td>\n",
       "      <td></td>\n",
       "    </tr>\n",
       "  </tbody>\n",
       "</table>\n",
       "</div>"
      ],
      "text/plain": [
       "  Fonte de Variação  Somatório  gl    Médias F calculado F tabelado   p-valor  \\\n",
       "0         Regressão   0.124209   1  0.124209  713.040838   4.747225       0.0   \n",
       "1          Resíduos   0.002090  12  0.000174                                    \n",
       "2   Falta de Ajuste   0.000876   3  0.000292    2.165623   3.862548  0.161942   \n",
       "3         Erro Puro   0.001214   9  0.000135                                    \n",
       "4             Total   0.126299  13  0.009715                                    \n",
       "\n",
       "  Singnificativo?  \n",
       "0             Sim  \n",
       "1                  \n",
       "2             Não  \n",
       "3                  \n",
       "4                  "
      ]
     },
     "execution_count": 49,
     "metadata": {},
     "output_type": "execute_result"
    }
   ],
   "source": [
    "df_anova = pd.DataFrame({\n",
    "    \"Fonte de Variação\": [\"Regressão\", \"Resíduos\", \"Falta de Ajuste\", \"Erro Puro\", \"Total\"],\n",
    "    \"Somatório\": [SQR, SQE, SQE_falta_ajuste, SQE_erro_puro, SQT],\n",
    "    \"gl\": [gl_reg, gl_erro, gl_falta_ajuste, gl_erro_puro,  gl_total],\n",
    "    \"Médias\": [MSQR, MSQE, MSQE_falta_ajuste, MSQE_erro_puro, MSQT],\n",
    "    \"F calculado\": [Fcalc, \"\", Fcalc_falta_ajuste, \"\", \"\"],\n",
    "    \"F tabelado\": [Ftab, \"\", Ftab_falta_ajuste, \"\", \"\"],\n",
    "    \"p-valor\": [p_valor, \"\", p_valor_falta_ajuste, \"\", \"\"],\n",
    "    \"Singnificativo?\": [anova_significativo, \"\", falta_ajuste_significativo, \"\", \"\"]\n",
    "})\n",
    "df_anova"
   ]
  },
  {
   "cell_type": "markdown",
   "id": "260eacab-ffa6-41b0-89c7-9450e60b33e0",
   "metadata": {},
   "source": [
    "### Gráfico da distribuição F"
   ]
  },
  {
   "cell_type": "code",
   "execution_count": 50,
   "id": "68ecbb79-be26-4ed6-a04d-7c89d6c8f57e",
   "metadata": {},
   "outputs": [
    {
     "data": {
      "image/png": "[encoded data removed]",
      "text/plain": [
       "<Figure size 600x300 with 1 Axes>"
      ]
     },
     "metadata": {},
     "output_type": "display_data"
    }
   ],
   "source": [
    "# Verificando qual é o maior valor para adaptar o intervalo do eixo x\n",
    "if Fcalc_falta_ajuste > Ftab_falta_ajuste:\n",
    "    x_max = Fcalc_falta_ajuste*1.05 + 5\n",
    "else:\n",
    "    x_max = Ftab_falta_ajuste*1.05 + 5\n",
    "    \n",
    "# obtendo valores de x para o gráfico\n",
    "x = np.linspace(0, int(x_max), 1000)\n",
    "  \n",
    "# criando uma instância para a distribuição F com grau de liberdade do teste\n",
    "f1 = stats.f(gl_falta_ajuste, gl_erro_puro, 0)\n",
    "\n",
    "# plotando o gráfico\n",
    "# criando o canvas\n",
    "plt.figure(figsize=(6, 3))\n",
    "# adicionando a linha com valores teórios\n",
    "legend = '$gl_{1}$ = ' + str(gl_falta_ajuste) + ' $gl_{2}$ = ' + str(gl_erro_puro)\n",
    "plt.plot(x, f1.pdf(x), label = legend, color = 'black')\n",
    "\n",
    "# adicionando a linha com o valor crítico\n",
    "legend = '$F_{crítico} = $' + str(round(Ftab_falta_ajuste, 2))\n",
    "plt.axvline(Ftab, 0, 1, label=legend, color='blue')\n",
    "\n",
    "# adicionando o ponto com o valor da estatística do teste\n",
    "legend = '$F_{calc} = $' + str(round(Fcalc_falta_ajuste, 2))\n",
    "plt.scatter(Fcalc, 0, color='red', label=legend)\n",
    "\n",
    "# preenchendo a área do p-valor\n",
    "x = np.linspace(Fcalc_falta_ajuste, int(x_max), 1000)\n",
    "plt.fill_between(x, f1.pdf(x), label = '$probabilidade$', color = 'salmon')\n",
    "\n",
    "# ajustando o gráfico\n",
    "plt.xlim(-.1, x_max + 0.1)\n",
    "plt.ylim(bottom=0.0)\n",
    "plt.xlabel('F')\n",
    "plt.ylabel('Densidade')\n",
    "plt.legend()\n",
    "plt.show()"
   ]
  },
  {
   "cell_type": "markdown",
   "id": "1ea3beac-4928-4a7f-a891-45d083fe34f8",
   "metadata": {},
   "source": [
    "## Diagnóstico do modelo"
   ]
  },
  {
   "cell_type": "markdown",
   "id": "e4622009-0608-4c5d-9bb1-be936f6ba901",
   "metadata": {},
   "source": [
    "### Resíduos ( $resíduos$ )\n",
    "\n",
    "$$ resíduos = y_{i} - \\widehat{y_{i}}$$\n",
    "\n",
    "onde:\n",
    "- $\\widehat{y_{i}}$ é o valor do sinal predito para a i-ésima observação;\n",
    "- $\\overline{y}$ é a média dos sinais;\n"
   ]
  },
  {
   "cell_type": "code",
   "execution_count": 51,
   "id": "7caa1d2b-19c4-4ad5-a708-fb497b633d86",
   "metadata": {},
   "outputs": [],
   "source": [
    "df['Resíduos'] = df[nome_sinal] - df['ypred']"
   ]
  },
  {
   "cell_type": "markdown",
   "id": "42cc7c76-8dbb-48d9-9b0d-dfa7c34b5925",
   "metadata": {},
   "source": [
    "### Média dos resíduos igual a zero (teste t de Student pareado)\n",
    "\n",
    "$$t_{calc} = \\frac{(\\overline{resíduos} - \\mu_{0}) \\times \\sqrt{n}}{s_{resíduos}}$$\n",
    "\n",
    "\n",
    "onde:\n",
    "- $n$ é o número total de observações;\n",
    "- $\\overline{resíduos}$ é a média dos resíduos;\n",
    "- $\\mu_{0}$ é o valor esperado para os resíduos, ( e.g., $\\mu_{0}=0$ );\n",
    "- $s_{resíduos}$ é o desvio padrão dos resíduos ( $\\sqrt{MSQE}$ );\n",
    "\n",
    "#### Conclusão do teste\n",
    "\n",
    "Hipóteses do teste:\n",
    "\n",
    "$$H_{0}: \\overline{resíduos} = \\mu_{0} = 0$$\n",
    "\n",
    "$$H_{1}: \\overline{resíduos} \\neq \\mu_{0} \\neq 0$$\n",
    "\n",
    "\n",
    "##### Utilizando o p-valor\n",
    "\n",
    "- Se $p-valor \\geq \\alpha$, falha em rejeitar a hipótese nula com o nível de singificância adotado $\\alpha$ nível de singnificância (a média dos resíduos é ***diferente de zero***);\n",
    "- Se $p-valor < \\alpha$, rejeita a hipótese nula com o nível de singificância adotado $\\alpha$ nível de singnificância (a regressão média dos resíduos é ***igual a zero***);\n",
    "\n",
    "\n",
    "##### Utilizando o valor crítico\n",
    "\n",
    "- Se $t_{crítico} \\geq t_{calculado}$, falha em rejeitar a hipótese nula com o nível de singificância adotado $\\alpha$ nível de singnificância (a média dos resíduos é ***diferente de zero***);\n",
    "- Se $t_{crítico} < t_{calculado}$, rejeita a hipótese nula com o nível de singificância adotado $\\alpha$ nível de singnificância (a regressão média dos resíduos é ***igual a zero***);\n",
    "\n",
    "O valor crítico do teste é obtido da distribuição t de Student bilateral com $gl_{erros}$."
   ]
  },
  {
   "cell_type": "code",
   "execution_count": 97,
   "id": "fd8fb19b-7b4a-42c3-b33b-57fc1651b9a4",
   "metadata": {},
   "outputs": [
    {
     "data": {
      "text/plain": [
       "0     0.091696\n",
       "1     0.091696\n",
       "2     0.091696\n",
       "3     0.157222\n",
       "4     0.157222\n",
       "5     0.222748\n",
       "6     0.222748\n",
       "7     0.222748\n",
       "8     0.288274\n",
       "9     0.288274\n",
       "10    0.288274\n",
       "11    0.353800\n",
       "12    0.353800\n",
       "13    0.353800\n",
       "Name: ypred, dtype: float64"
      ]
     },
     "execution_count": 97,
     "metadata": {},
     "output_type": "execute_result"
    }
   ],
   "source": [
    "df['ypred']"
   ]
  },
  {
   "cell_type": "code",
   "execution_count": 52,
   "id": "9a0e9bba-c370-4dd3-995c-6452453ec293",
   "metadata": {},
   "outputs": [
    {
     "name": "stdout",
     "output_type": "stream",
     "text": [
      "Os resídos tem média = -3.6677010634938206e-17 e desvio padrão = 0.013198344452858331\n"
     ]
    }
   ],
   "source": [
    "print(f\"Os resídos tem média = {df['Resíduos'].mean()} e desvio padrão = {np.sqrt(MSQE)}\")"
   ]
  },
  {
   "cell_type": "code",
   "execution_count": 53,
   "id": "3251a915-ccf3-427f-a7ad-c8eac2d21938",
   "metadata": {},
   "outputs": [
    {
     "data": {
      "text/plain": [
       "-1.0397728916468974e-14"
      ]
     },
     "execution_count": 53,
     "metadata": {},
     "output_type": "execute_result"
    }
   ],
   "source": [
    "paired_t_test_mean = df['Resíduos'].mean()/(np.sqrt(MSQE)/np.sqrt(df.shape[0]))\n",
    "paired_t_test_mean"
   ]
  },
  {
   "cell_type": "code",
   "execution_count": 54,
   "id": "925ce3e9-c899-4bc0-8455-50e44c75ab17",
   "metadata": {},
   "outputs": [
    {
     "data": {
      "text/plain": [
       "0.9999999999999918"
      ]
     },
     "execution_count": 54,
     "metadata": {},
     "output_type": "execute_result"
    }
   ],
   "source": [
    "paired_t_test_mean_p = (1 - stats.t.cdf(np.abs(paired_t_test_mean), gl_erro))*2\n",
    "paired_t_test_mean_p"
   ]
  },
  {
   "cell_type": "code",
   "execution_count": 55,
   "id": "cf378040-39df-4aa8-8e0e-8c17e4828a03",
   "metadata": {},
   "outputs": [
    {
     "name": "stdout",
     "output_type": "stream",
     "text": [
      "A média dos resíduos é igual a 0 (p-valor = 1.0)\n"
     ]
    }
   ],
   "source": [
    "if paired_t_test_mean_p < alfa:\n",
    "    print(f\"A média dos resíduos é diferente de 0 (p-valor = {round(paired_t_test_mean_p, 2)})\")\n",
    "else:\n",
    "    print(f\"A média dos resíduos é igual a 0 (p-valor = {round(paired_t_test_mean_p, 2)})\")"
   ]
  },
  {
   "cell_type": "code",
   "execution_count": 56,
   "id": "c51b8d7e-6785-4068-b862-45a98a903d80",
   "metadata": {},
   "outputs": [
    {
     "data": {
      "text/plain": [
       "-1.0397728916468974e-14"
      ]
     },
     "execution_count": 56,
     "metadata": {},
     "output_type": "execute_result"
    }
   ],
   "source": [
    "paired_t_test_mean"
   ]
  },
  {
   "cell_type": "code",
   "execution_count": 57,
   "id": "e4b171d8-4abb-4450-b789-a1551124eb9b",
   "metadata": {},
   "outputs": [
    {
     "data": {
      "text/plain": [
       "2.1788128296634177"
      ]
     },
     "execution_count": 57,
     "metadata": {},
     "output_type": "execute_result"
    }
   ],
   "source": [
    "t_critico = stats.t.ppf(1-alfa/2, gl_erro)\n",
    "t_critico"
   ]
  },
  {
   "cell_type": "markdown",
   "id": "6941c754-83b4-4ef1-bd14-3d39820397f2",
   "metadata": {},
   "source": [
    "#### Gráfico da distribuição t de Student para a média dos resíduos"
   ]
  },
  {
   "cell_type": "code",
   "execution_count": 58,
   "id": "9f48ae5a-1506-487b-9f5e-e7530be1e075",
   "metadata": {},
   "outputs": [
    {
     "data": {
      "image/png": "[encoded data removed]",
      "text/plain": [
       "<Figure size 800x400 with 1 Axes>"
      ]
     },
     "metadata": {},
     "output_type": "display_data"
    }
   ],
   "source": [
    "# setando os limites do gráfico\n",
    "x_min = -5\n",
    "x_max = 5\n",
    "\n",
    "# criando o canvas\n",
    "fig, ax1 = plt.subplots(figsize=(8,4))\n",
    "\n",
    "# criando valores para a distribuição t de Student com gl_erros\n",
    "x = np.linspace(x_min, x_max, 1000)\n",
    "y = stats.t.pdf(x, gl_erro)\n",
    "label = \"Dist. t-Student ($gl=$\" + str(gl_erro) + \")\"\n",
    "ax1.plot(x, y, c=\"k\", label=label)\n",
    "\n",
    "# adicionando linhas com o valor crítico do teste\n",
    "label= '$t_{crítico} = |$' + str(round(t_critico, 3)) + '$|$'\n",
    "ax1.axvline(stats.t.ppf(1-alfa/2, gl_erro), 0, 1, label=label, color='blue', ls='--')\n",
    "ax1.axvline(stats.t.ppf(alfa/2, gl_erro), 0, 1, color='blue', ls='--')\n",
    "\n",
    "# adicionando o valor da estatística do teste\n",
    "label = \"$t_{calc} = $\" + str(round(paired_t_test_mean, 3))\n",
    "ax1.vlines(paired_t_test_mean, 0, stats.t.pdf(paired_t_test_mean, gl_erro, loc=0, scale=1), label=label, color='red')\n",
    "\n",
    "# preenchendo o lado esquero\n",
    "x = np.linspace(x_min, -1*abs(paired_t_test_mean), 1000)\n",
    "ax1.fill_between(x, stats.t.pdf(x, gl_erro), label = '$probabilidade$', color = 'salmon')\n",
    "\n",
    "# preenchendo o lado direito\n",
    "x = np.linspace(abs(paired_t_test_mean), x_max, 1000)\n",
    "ax1.fill_between(x,stats.t.pdf(x, gl_erro, loc=0, scale=1), color = 'salmon')\n",
    "\n",
    "plt.xlim(x_min - .1, x_max + .1)\n",
    "plt.ylim(bottom=0.0)\n",
    "plt.legend(bbox_to_anchor=(1.35,1))\n",
    "plt.show()"
   ]
  },
  {
   "cell_type": "markdown",
   "id": "81ec4a08-809c-4ac7-9a5b-95325c9a6298",
   "metadata": {},
   "source": [
    "\n"
   ]
  },
  {
   "cell_type": "markdown",
   "id": "3dd6b742-3c97-4cf3-acb9-1adabfd23b4e",
   "metadata": {},
   "source": [
    "### Resíduos apresentam distribuição Normal ( Shapiro-Wilk )\n",
    "\n",
    "\n",
    "#### Conclusão do teste\n",
    "\n",
    "Hipóteses do teste:\n",
    "\n",
    "$$H_{0}: Os \\; resíduos \\; apresentam \\; distribuição \\; Normal$$\n",
    "\n",
    "$$H_{1}: Os \\; resíduos \\; não \\; apresentam \\; distribuição \\; Normal$$\n",
    "\n",
    "\n",
    "##### Utilizando o p-valor\n",
    "\n",
    "- Se $p-valor \\geq \\alpha$, falha em rejeitar a hipótese nula com o nível de singificância adotado $\\alpha$ nível de singnificância (os resíduos ***não apresentam distribuição Normal***);\n",
    "- Se $p-valor < \\alpha$, rejeita a hipótese nula com o nível de singificância adotado $\\alpha$ nível de singnificância (os resíduos ***apresentam distribuição Normal***);\n"
   ]
  },
  {
   "cell_type": "code",
   "execution_count": 59,
   "id": "fd3bb84e-2000-4855-9012-44f50254be60",
   "metadata": {},
   "outputs": [],
   "source": [
    "norm_test_stats, norm_test_p_value = stats.shapiro(df['Resíduos'])"
   ]
  },
  {
   "cell_type": "code",
   "execution_count": 60,
   "id": "5e7ee8ff-4024-41b3-8eb2-af0cfd27f87d",
   "metadata": {},
   "outputs": [
    {
     "name": "stdout",
     "output_type": "stream",
     "text": [
      "Os resíduos apresentam distribuição Normal (p_valor = 0.987)\n"
     ]
    }
   ],
   "source": [
    "if norm_test_p_value < alfa:\n",
    "    print(f\"Os resíduos não apresentam distribuição Normal (p_valor = {round(norm_test_p_value, 3)})\")\n",
    "else:\n",
    "    print(f\"Os resíduos apresentam distribuição Normal (p_valor = {round(norm_test_p_value, 3)})\")"
   ]
  },
  {
   "cell_type": "markdown",
   "id": "48a9816c-f71e-4e05-b1dd-d96f2e05c413",
   "metadata": {},
   "source": [
    "### Independência dos resíduos em relação à ordem de coleta\n",
    "\n",
    "\n",
    "#### Gráfico dos resíduos *versus* ordem de coleta"
   ]
  },
  {
   "cell_type": "code",
   "execution_count": 61,
   "id": "47dfb40f-a3a5-4ce7-9a05-4dc598f2755b",
   "metadata": {},
   "outputs": [
    {
     "data": {
      "image/png": "[encoded data removed]",
      "text/plain": [
       "<Figure size 600x400 with 1 Axes>"
      ]
     },
     "metadata": {},
     "output_type": "display_data"
    }
   ],
   "source": [
    "# criando uma cópia do df frame com os resíduos e a ordem de coleta apenas\n",
    "df_aux = df[[nome_ordem, \"Resíduos\",]].copy()\n",
    "colunas = df_aux.columns\n",
    "# ordenando os dados em relação a ordem de coleta\n",
    "df_aux = df_aux.sort_values(by=[colunas[0]])\n",
    "# obtendo maior resíduo (absoluto) para utilizar como y_min\n",
    "y_min = np.max([np.abs(df_aux[colunas[1]].min()), np.abs(df_aux[colunas[1]].max())])\n",
    "\n",
    "# criando o canvas\n",
    "plt.figure(figsize=(6,4))\n",
    "# adicionando os resíduos\n",
    "plt.scatter(df_aux[colunas[0]], df_aux[colunas[1]], edgecolors='k', facecolor='None', label=\"Resíduos\")\n",
    "plt.plot(df_aux[colunas[0]], df_aux[colunas[1]], c='k')\n",
    "plt.xlabel(nome_ordem)\n",
    "plt.ylabel(\"Resíduos\")\n",
    "plt.axhline(y=0, color=\"black\", linestyle=\"--\")\n",
    "plt.ylim(bottom= -1.1*y_min, top = 1.1*y_min )    \n",
    "plt.xticks(df_aux[colunas[0]])\n",
    "plt.show()"
   ]
  },
  {
   "cell_type": "markdown",
   "id": "efaa1278-51ea-46d8-9dd8-258bef8b21d8",
   "metadata": {},
   "source": [
    "### Independência dos resíduos em relação ao ajustamento\n",
    "\n",
    "#### Gráfico dos resíduos *versus* sinal predito"
   ]
  },
  {
   "cell_type": "code",
   "execution_count": 62,
   "id": "06b2063c-c161-4d8e-b476-fd8a31536a4e",
   "metadata": {},
   "outputs": [
    {
     "data": {
      "image/png": "[encoded data removed]",
      "text/plain": [
       "<Figure size 600x400 with 1 Axes>"
      ]
     },
     "metadata": {},
     "output_type": "display_data"
    }
   ],
   "source": [
    "# criando uma cópia do df frame com os resíduos e o sinal predito\n",
    "df_aux = df[[\"ypred\", \"Resíduos\",]].copy()\n",
    "colunas = df_aux.columns\n",
    "# obtendo maior resíduo (absoluto) para utilizar como y_min\n",
    "y_min = np.max([np.abs(df_aux[colunas[1]].min()), np.abs(df_aux[colunas[1]].max())])\n",
    "\n",
    "plt.figure(figsize=(6,4))\n",
    "plt.scatter(df_aux[colunas[0]], df_aux[colunas[1]], edgecolors='k', facecolor='None')\n",
    "plt.xlabel(\"Sinal predito\")\n",
    "plt.ylabel(\"Resíduos\")\n",
    "plt.axhline(y=0, color=\"black\", linestyle=\"--\")\n",
    "plt.ylim(bottom= -1.1*y_min, top = 1.1*y_min )    \n",
    "\n",
    "plt.show()"
   ]
  },
  {
   "cell_type": "markdown",
   "id": "1a83485c-7eb8-48fa-a94b-172708adcafb",
   "metadata": {},
   "source": [
    "### Outliers (Resíduos padronizados)\n",
    "\n",
    "$$resíduo \\; padronizado_{i} = \\frac{resíduo_{i}}{\\sqrt{MSQE}}$$\n",
    "\n",
    "onde:\n",
    "- $resíduo_{i}$ é o resíduo da i-ésima observação;\n",
    "- $MSQE$ é a quantidade média de variância que o modelo não consegue explicar;\n",
    "\n",
    "\n",
    "#### Conclusão\n",
    "\n",
    "> Se $|resíduo \\; padronizado_{i}| > 3 $, a i-ésima observação é um possível outlier"
   ]
  },
  {
   "cell_type": "code",
   "execution_count": 63,
   "id": "f1539c74-8aa2-4acc-a31e-d7bff110b9f7",
   "metadata": {},
   "outputs": [
    {
     "name": "stdout",
     "output_type": "stream",
     "text": [
      "Nenhum resíduo padronizado é maior do que 3\n"
     ]
    }
   ],
   "source": [
    "df['Resíduos Padronizados'] = df[\"Resíduos\"]/np.sqrt(MSQE)\n",
    "colunas = [nome_ensaio, nome_conc, nome_sinal, 'ypred', 'Resíduos Padronizados']\n",
    "limite_padronizado = 3\n",
    "df_aux_padronizado = df[df['Resíduos Padronizados'].abs() > limite_padronizado][colunas].copy()\n",
    "if df_aux_padronizado.shape[0] > 0:\n",
    "    print(df_aux_padronizado)\n",
    "else:\n",
    "    print(f\"Nenhum resíduo padronizado é maior do que {limite_padronizado}\")\n",
    "\n"
   ]
  },
  {
   "cell_type": "markdown",
   "id": "1d6e2809-b22c-4ae8-b33c-4f1884e9a946",
   "metadata": {},
   "source": [
    "#### Gráfico dos resíduos padronizados *versus* sinal predito"
   ]
  },
  {
   "cell_type": "code",
   "execution_count": 64,
   "id": "c087a99d-770f-4c51-a15a-2f03de2042f9",
   "metadata": {},
   "outputs": [
    {
     "data": {
      "image/png": "[encoded data removed]",
      "text/plain": [
       "<Figure size 800x600 with 1 Axes>"
      ]
     },
     "metadata": {},
     "output_type": "display_data"
    }
   ],
   "source": [
    "# criando uma cópia do df frame com os resíduos e o sinal predito\n",
    "df_aux = df[[\"ypred\", \"Resíduos Padronizados\",]].copy()\n",
    "colunas = df_aux.columns\n",
    "# obtendo maior resíduo (absoluto) para utilizar como y_min\n",
    "y_min = np.max([np.abs(df_aux[colunas[1]].min()), np.abs(df_aux[colunas[1]].max())])\n",
    "if y_min < limite_padronizado:\n",
    "    y_min = limite_padronizado\n",
    "\n",
    "    \n",
    "# criando o canvas\n",
    "plt.figure(figsize=(8,6))\n",
    "# adicionando os resíduos\n",
    "plt.scatter(df_aux[colunas[0]], df_aux[colunas[1]], edgecolors='k', facecolor='None', label=\"Resíduos padronizados\")\n",
    "\n",
    "# adicionado possíveis outliers, apenas se eles existirem\n",
    "if df_aux_padronizado.shape[0] > 0:\n",
    "    plt.scatter(df_aux_padronizado[colunas[0]], df_aux_padronizado[colunas[1]], \n",
    "                edgecolors='none', facecolor='r',  label=\"Possíveis outliers\")\n",
    "\n",
    "    \n",
    "    plt.legend()\n",
    "\n",
    "df_aux_padronizado\n",
    "plt.xlabel(\"Sinal predito\")\n",
    "plt.ylabel(\"Resíduos Padronizados\")\n",
    "plt.axhline(y=0, color=\"gray\", linestyle=\"--\")\n",
    "plt.axhline(y=limite_padronizado, color=\"k\", linestyle=\"--\")\n",
    "plt.axhline(y=-1*limite_padronizado, color=\"k\", linestyle=\"--\")\n",
    "\n",
    "plt.ylim(bottom= -1.1*y_min, top = 1.1*y_min )  \n",
    "plt.show()"
   ]
  },
  {
   "cell_type": "markdown",
   "id": "0ee0b737-410b-4604-8d42-d513689cb43a",
   "metadata": {},
   "source": [
    "### Correlação dos resíduos ( $r_{pearson}$ )\n",
    "\n",
    "\n",
    "\n",
    "$$r_{pearson} = \\frac{\\sum_{i=1}^n (y_i - \\overline{y}) (\\widehat{y_{i}} - \\overline{\\widehat{y}})}{\\sqrt{\\sum_{i=1}^n ((y_i - \\overline{y})^2 \\sum_{i=1}^n ((\\widehat{y_{i}} - \\overline{\\widehat{y}})^2}}$$\n",
    "\n",
    "onde\n",
    "- $n$ é o número total de observações;\n",
    "- $y_i$ é a i-ésima observação do sinal;\n",
    "- $\\overline{y}$ é a média do sinal;\n",
    "- $\\widehat{y_{i}}$ é a i-ésima observação do sinal predito;\n",
    "- $\\overline{\\widehat{y}}$ é a média do sinal predito;\n"
   ]
  },
  {
   "cell_type": "code",
   "execution_count": 65,
   "id": "cb140a36-dc0e-486a-96d1-98668ab49ae4",
   "metadata": {},
   "outputs": [],
   "source": [
    "residual_r_pearson, _ = stats.pearsonr(df[nome_sinal], df['ypred'])"
   ]
  },
  {
   "cell_type": "code",
   "execution_count": 66,
   "id": "89b9d79b-2fb9-4c82-9651-b6e991b4feb9",
   "metadata": {},
   "outputs": [
    {
     "name": "stdout",
     "output_type": "stream",
     "text": [
      "A correlação entre o sinal experimental e o sinal predito é forte (r_pearson = 0.99)\n"
     ]
    }
   ],
   "source": [
    "if residual_r_pearson > 0.90:\n",
    "    print(f\"A correlação entre o sinal experimental e o sinal predito é forte (r_pearson = {round(residual_r_pearson, 2)})\")\n",
    "else:\n",
    "    print(f\"A correlação entre o sinal experimentais e o sinal predito NÃO é forte (r_pearson = {round(residual_r_pearson, 2)})\")"
   ]
  },
  {
   "cell_type": "markdown",
   "id": "54c769a2-7485-47e9-be1e-df9fdef5abf4",
   "metadata": {},
   "source": [
    "#### Gráfico do sinal predito *versus* sinal real"
   ]
  },
  {
   "cell_type": "code",
   "execution_count": 67,
   "id": "f387c2af-f765-4ef1-8790-1fbf4b8e7b43",
   "metadata": {},
   "outputs": [
    {
     "data": {
      "image/png": "[encoded data removed]",
      "text/plain": [
       "<Figure size 640x480 with 1 Axes>"
      ]
     },
     "metadata": {},
     "output_type": "display_data"
    }
   ],
   "source": [
    "# obtendo o limite inferior para o eixo x\n",
    "if df[nome_sinal].min() > df['ypred'].min():\n",
    "    x_min = df['ypred'].min()\n",
    "else:\n",
    "    x_min = df[nome_sinal].min()\n",
    "\n",
    "# obtendo o limite inferior para o eixo y    \n",
    "if df[nome_sinal].max() > df['ypred'].max():\n",
    "    x_max = df[nome_sinal].max()\n",
    "else:\n",
    "    x_max = df['ypred'].max()  \n",
    "    \n",
    "x_max = x_max + 0.2*x_min\n",
    "x_min = x_min - 0.2*x_min\n",
    "\n",
    "# criando o canvas\n",
    "plt.figure()\n",
    "# adicionando os resíduos\n",
    "text = \"$r_{pearson}$\" + f\" = {round(residual_r_pearson, 2)}\"\n",
    "plt.scatter(df[nome_sinal], df['ypred'], edgecolors='k', facecolor='None', label=text)\n",
    "# adicionando reta com slope = 1\n",
    "plt.axline(xy1=(df[nome_sinal].mean(), df[nome_sinal].mean()), slope=1, color=\"black\", linestyle=\"--\", label=\"reta com slope=1\")\n",
    "plt.xlim(x_min, x_max)\n",
    "plt.ylim(x_min, x_max)\n",
    "plt.xlabel(\"Sinal observado\")\n",
    "plt.ylabel(\"Sinal predito\")\n",
    "plt.legend(loc=4)\n",
    "plt.axis('equal')\n",
    "plt.show()"
   ]
  },
  {
   "cell_type": "markdown",
   "id": "892dbd16-0887-4ca9-ac97-cd18e4c8ed1e",
   "metadata": {},
   "source": [
    "## Intervalo de confiança dos parâmetros"
   ]
  },
  {
   "cell_type": "markdown",
   "id": "462d4406-064e-4f9f-9eaf-0e45282e728f",
   "metadata": {},
   "source": [
    "### Coeficiente angular ( $b_{1}$ )\n",
    "\n",
    "\n",
    "#### Desvio padrão\n",
    "\n",
    "$$s_{b_{1}} = \\sqrt{\\frac{MSQE}{S_{xx}}}$$\n",
    "\n",
    "onde:\n",
    "- $MSQE$ é a quantidade média de variância que o modelo não consegue explicar;\n",
    "- $S_{xx}$ é o somatório do erro quadrático da concentração, que é estimado por:\n",
    "\n",
    "$$S_{xx} = \\sum_{i=1}^{n} (x_{i} - \\overline{x})^2$$\n",
    "\n",
    "onde:\n",
    "- $n$ é o número total de observações;\n",
    "- $x_i$ é a i-ésima observação da concentração;\n",
    "- $\\overline{x}$ é a média da concentração;\n",
    "\n",
    "> O $S_{xx}$ tem unidade da concentração ao quadrado\n",
    "\n",
    "> O $s_{b_{1}}$ tem unidade do sinal divido pelo sinal da concentração"
   ]
  },
  {
   "cell_type": "code",
   "execution_count": 68,
   "id": "25e4564e-b26d-46c5-b792-e654cc6e1fcb",
   "metadata": {},
   "outputs": [
    {
     "data": {
      "text/plain": [
       "115.71428571428572"
      ]
     },
     "execution_count": 68,
     "metadata": {},
     "output_type": "execute_result"
    }
   ],
   "source": [
    "df['sxx'] = np.square(df[nome_conc] - df[nome_conc].mean())\n",
    "Sxx = np.sum(df['sxx'])\n",
    "Sxx"
   ]
  },
  {
   "cell_type": "code",
   "execution_count": 69,
   "id": "9b06af6d-f439-4da6-82a1-59f5d95891cf",
   "metadata": {},
   "outputs": [
    {
     "data": {
      "text/plain": [
       "0.0012269474689038133"
      ]
     },
     "execution_count": 69,
     "metadata": {},
     "output_type": "execute_result"
    }
   ],
   "source": [
    "b1_std = np.sqrt(MSQE/Sxx)\n",
    "b1_std"
   ]
  },
  {
   "cell_type": "markdown",
   "id": "fb3abb7b-9e10-4690-b45d-19323c0ef358",
   "metadata": {},
   "source": [
    "#### Intervalo de confiança ( $IC_{b_{1}}$ )\n",
    "\n",
    "$$ IC_{b_{1}} = t_{gl_{erros}, 1-\\alpha/2} \\times s_{b_{1}}$$\n",
    "\n",
    "onde:\n",
    "- $t_{gl_{erros}, 1-\\alpha/2}$ é o valor crítico da distribuição t de Student bilateral;\n",
    "- $s_{b_{1}}$ é o desvio padrão do coeficiente angular\n",
    "\n",
    "> Tem unidade do sinal divido pelo sinal da concentração"
   ]
  },
  {
   "cell_type": "code",
   "execution_count": 70,
   "id": "8932d74a-6d5b-451d-a359-7b3465dd0a41",
   "metadata": {},
   "outputs": [
    {
     "data": {
      "text/plain": [
       "0.0026732888865706856"
      ]
     },
     "execution_count": 70,
     "metadata": {},
     "output_type": "execute_result"
    }
   ],
   "source": [
    "ic_b1 = t_critico*b1_std\n",
    "ic_b1"
   ]
  },
  {
   "cell_type": "markdown",
   "id": "b5ebf091-38c2-480b-a1ab-c952973d966f",
   "metadata": {},
   "source": [
    "#### Valor verdadeiro\n",
    "\n",
    "O valor verdadeiro de $b_{1}$ esta dentro do intervalo:\n",
    "\n",
    "$$b_{1} - IC_{b_{1}} \\leq b_{1} \\leq b_{1} + IC_{b_{1}}$$\n"
   ]
  },
  {
   "cell_type": "code",
   "execution_count": 71,
   "id": "315555d3-d2ca-44c9-bc04-4cf2fc15c63c",
   "metadata": {},
   "outputs": [
    {
     "data": {
      "text/plain": [
       "'0.0301 ≤ b1 ≤  0.0354'"
      ]
     },
     "execution_count": 71,
     "metadata": {},
     "output_type": "execute_result"
    }
   ],
   "source": [
    "f\"{round(b1 - ic_b1, 4)} ≤ b1 ≤  {round(b1 + ic_b1, 4)}\" "
   ]
  },
  {
   "cell_type": "markdown",
   "id": "2c972f05-94e3-4382-8ed0-50f23a8f9e3b",
   "metadata": {},
   "source": [
    "#### Teste de hipótese\n",
    "\n",
    "A estatística do teste é:\n",
    "\n",
    "$$t_{b_{1}} = \\frac{b_{1}}{s_{b_{1}}}$$\n",
    "\n",
    "onde:\n",
    "- $b_{1}$ é o coeficiente angular;\n",
    "- $s_{b_{1}}$ é o desvio padrão do coeficiente angular;\n",
    "\n",
    "\n",
    "Hipótese:\n",
    "\n",
    "$$H_{0}: \\beta_{1} = 0$$\n",
    "$$H_{1}: \\beta_{1} \\neq 0$$\n",
    "\n",
    "\n",
    "##### Conclusão Utilizando o p-valor\n",
    "\n",
    "- Se $p-valor \\geq \\alpha$, falha em rejeitar a hipótese nula com o nível de singificância adotado $\\alpha$ nível de singnificância (o coeficiente angular é ***diferente de zero***);\n",
    "- Se $p-valor < \\alpha$, rejeita a hipótese nula com o nível de singificância adotado $\\alpha$ nível de singnificância (o coeficiente angular é ***igual a zero***);\n",
    "\n",
    "\n",
    "##### Utilizando o valor crítico\n",
    "\n",
    "- Se $t_{crítico} \\geq t_{b_{1}}$, falha em rejeitar a hipótese nula com o nível de singificância adotado $\\alpha$ nível de singnificância (o coeficiente angular é ***diferente de zero***);\n",
    "- Se $t_{crítico} < t_{b_{1}}$, rejeita a hipótese nula com o nível de singificância adotado $\\alpha$ nível de singnificância (o coeficiente angular é ***igual a zero***);\n",
    "\n",
    "O valor crítico do teste é obtido da distribuição t de Student bilateral com $gl_{erros}$."
   ]
  },
  {
   "cell_type": "code",
   "execution_count": 72,
   "id": "83b6956f-ff9e-4610-8109-d1795ffa8db7",
   "metadata": {},
   "outputs": [
    {
     "data": {
      "text/plain": [
       "26.70282452453669"
      ]
     },
     "execution_count": 72,
     "metadata": {},
     "output_type": "execute_result"
    }
   ],
   "source": [
    "t_b1 = b1/b1_std\n",
    "t_b1"
   ]
  },
  {
   "cell_type": "code",
   "execution_count": 73,
   "id": "c215c7cd-8e92-474e-8d4c-cfcd450fcb1c",
   "metadata": {},
   "outputs": [
    {
     "data": {
      "text/plain": [
       "4.6700421307832585e-12"
      ]
     },
     "execution_count": 73,
     "metadata": {},
     "output_type": "execute_result"
    }
   ],
   "source": [
    "p_valor_b1 = (1 - stats.t.cdf(t_b1, gl_erro))*2\n",
    "p_valor_b1"
   ]
  },
  {
   "cell_type": "code",
   "execution_count": 74,
   "id": "f5a68fd3-0752-48f1-b610-4128b691bcb4",
   "metadata": {},
   "outputs": [
    {
     "name": "stdout",
     "output_type": "stream",
     "text": [
      "O coeficiente angular (0.033) é diferente de zero (p-valor = 0.0)\n"
     ]
    }
   ],
   "source": [
    "if p_valor_b1 < alfa:\n",
    "    b1_significante = \"Sim\"\n",
    "    print(f\"O coeficiente angular ({round(b1, 3)}) é diferente de zero (p-valor = {round(p_valor_b1, 3)})\")\n",
    "else:\n",
    "    b1_significante = \"Não\"\n",
    "    print(f\"O coeficiente angular ({round(b1, 3)}) é igual a zero (p-valor = {round(p_valor_b1, 3)})\")\n"
   ]
  },
  {
   "cell_type": "markdown",
   "id": "e37d7621-d941-4a1f-a3a9-e9da8b720244",
   "metadata": {},
   "source": [
    "##### Gráfico da distribuição t de Student para o $b_{1}$"
   ]
  },
  {
   "cell_type": "code",
   "execution_count": 75,
   "id": "300f8606-4c94-450a-91b1-c3de9f4aac63",
   "metadata": {},
   "outputs": [
    {
     "data": {
      "image/png": "[encoded data removed]",
      "text/plain": [
       "<Figure size 800x400 with 1 Axes>"
      ]
     },
     "metadata": {},
     "output_type": "display_data"
    }
   ],
   "source": [
    "# obtendo intervalo de x para plotar o gráfico\n",
    "if t_critico > np.abs(t_b1):\n",
    "    x_aux = 5\n",
    "else:\n",
    "    x_aux = np.abs(t_b1) + 0.2*np.abs(t_b1)\n",
    "\n",
    "\n",
    "# criando o canvas\n",
    "fig, ax1 = plt.subplots(figsize=(8,4))\n",
    "\n",
    "# adicionando a distribuição t de Student\n",
    "x = np.linspace(-1*x_aux, x_aux, 1000)\n",
    "y = stats.t.pdf(x, gl_erro, loc=0, scale=1)\n",
    "label = \"Dist. t-Student ($gl$=\" + str(gl_erro) + \")\"\n",
    "ax1.plot(x, y, c=\"k\", label=label)\n",
    "\n",
    "label = '$t_{crítico} = $' + str(round(t_critico, 3))\n",
    "ax1.axvline(t_critico, 0, 1, label=label, color='blue', ls='--')\n",
    "ax1.axvline(-t_critico, 0, 1, color='blue', ls='--')\n",
    "\n",
    "label = '$t_{calc} = $' + str(round(t_b1, 2))\n",
    "ax1.scatter(t_b1, 0, color='red', label=label)\n",
    "\n",
    "x = np.linspace(-1*x_aux, -1*np.abs(t_b1), 1000)\n",
    "ax1.fill_between(x,stats.t.pdf(x, gl_erro, loc=0, scale=1), label = '$probabilidade$', color = 'salmon')\n",
    "\n",
    "x = np.linspace(np.abs(t_b1), x_aux, 1000)\n",
    "ax1.fill_between(x,stats.t.pdf(x, gl_erro, loc=0, scale=1), color = 'salmon')\n",
    "\n",
    "plt.xlim(-1*x_aux - 0.1, x_aux + 0.1)\n",
    "plt.ylim(bottom=0.0)\n",
    "plt.legend(bbox_to_anchor=(1.35,1))\n",
    "plt.show()"
   ]
  },
  {
   "cell_type": "markdown",
   "id": "a0715c34-dae2-490f-85ff-145bffa0bea1",
   "metadata": {},
   "source": [
    "### Coeficiente linear ( $b_{0}$ )\n",
    "\n",
    "\n",
    "#### Desvio padrão\n",
    "\n",
    "$$s_{b_{0}} = \\sqrt{MSQE \\left( \\frac{1}{n} + \\frac{\\overline{x}^{2}}{S_{xx}} \\right)}$$\n",
    "\n",
    "onde:\n",
    "- $MSQE$ é a quantidade média de variância que o modelo não consegue explicar;\n",
    "- $S_{xx}$ é o somatório do erro quadrático da concentração\n",
    "- $n$ é o número total de observações;\n",
    "- $\\overline{x}$ é a média da concentração;\n",
    "\n",
    "\n",
    "\n",
    "> O $s_{b_{0}}$ tem unidade do sinal"
   ]
  },
  {
   "cell_type": "code",
   "execution_count": 76,
   "id": "ddb2062d-7f38-44c4-b188-84957e63807c",
   "metadata": {},
   "outputs": [
    {
     "data": {
      "text/plain": [
       "0.007229030978553688"
      ]
     },
     "execution_count": 76,
     "metadata": {},
     "output_type": "execute_result"
    }
   ],
   "source": [
    "b0_std = np.sqrt(MSQE*(1/df.shape[0] + df[nome_conc].mean()**2/Sxx))\n",
    "b0_std"
   ]
  },
  {
   "cell_type": "markdown",
   "id": "b4d2ad30-2ad3-4d7d-8b82-58645eaff91f",
   "metadata": {},
   "source": [
    "#### Intervalo de confiança ( $IC_{b_{0}}$ )\n",
    "\n",
    "$$ IC_{b_{0}} = t_{gl_{erros}, 1-\\alpha/2} \\times s_{b_{0}}$$\n",
    "\n",
    "onde:\n",
    "- $t_{gl_{erros}, 1-\\alpha/2}$ é o valor crítico da distribuição t de Student bilateral;\n",
    "- $s_{b_{0}}$ é o desvio padrão do coeficiente angular\n",
    "\n",
    "> Tem unidade do sinal"
   ]
  },
  {
   "cell_type": "code",
   "execution_count": 77,
   "id": "933b0237-8465-482f-8087-b395855f7512",
   "metadata": {},
   "outputs": [
    {
     "data": {
      "text/plain": [
       "0.015750705442107066"
      ]
     },
     "execution_count": 77,
     "metadata": {},
     "output_type": "execute_result"
    }
   ],
   "source": [
    "ic_b0 = b0_std*t_critico\n",
    "ic_b0"
   ]
  },
  {
   "cell_type": "markdown",
   "id": "7898af20-fea0-4d43-81e6-5200aaf1fc5b",
   "metadata": {},
   "source": [
    "#### Valor verdadeiro\n",
    "\n",
    "O valor verdadeiro de $b_{0}$ esta dentro do intervalo:\n",
    "\n",
    "$$b_{0} - IC_{b_{0}} \\leq b_{0} \\leq b_{0} + IC_{b_{0}}$$"
   ]
  },
  {
   "cell_type": "code",
   "execution_count": 78,
   "id": "f11c5e57-fb69-4b97-a22c-3f3c155e494d",
   "metadata": {},
   "outputs": [
    {
     "data": {
      "text/plain": [
       "'0.0432 ≤ b0 ≤  0.0747'"
      ]
     },
     "execution_count": 78,
     "metadata": {},
     "output_type": "execute_result"
    }
   ],
   "source": [
    "f\"{round(b0 - ic_b0, 4)} ≤ b0 ≤  {round(b0 + ic_b0, 4)}\" "
   ]
  },
  {
   "cell_type": "markdown",
   "id": "795675af-d0cd-4638-a7b4-6dd2ad2974c0",
   "metadata": {},
   "source": [
    "#### Teste de hipótese\n",
    "\n",
    "A estatística do teste é:\n",
    "\n",
    "$$t_{b_{0}} = \\frac{b_{0}}{s_{b_{0}}}$$\n",
    "\n",
    "onde:\n",
    "- $b_{0}$ é o coeficiente linear;\n",
    "- $s_{b_{0}}$ é o desvio padrão do coeficiente linear;\n",
    "\n",
    "\n",
    "Hipótese:\n",
    "\n",
    "$$H_{0}: \\beta_{0} = 0$$\n",
    "$$H_{1}: \\beta_{0} \\neq 0$$\n",
    "\n",
    "\n",
    "##### Conclusão Utilizando o p-valor\n",
    "\n",
    "- Se $p-valor \\geq \\alpha$, falha em rejeitar a hipótese nula com o nível de singificância adotado $\\alpha$ nível de singnificância (o coeficiente linear é ***diferente de zero***);\n",
    "- Se $p-valor < \\alpha$, rejeita a hipótese nula com o nível de singificância adotado $\\alpha$ nível de singnificância (o coeficiente linear é ***igual a zero***);\n",
    "\n",
    "\n",
    "##### Utilizando o valor crítico\n",
    "\n",
    "- Se $t_{crítico} \\geq t_{b_{1}}$, falha em rejeitar a hipótese nula com o nível de singificância adotado $\\alpha$ nível de singnificância (o coeficiente linear é ***diferente de zero***);\n",
    "- Se $t_{crítico} < t_{b_{1}}$, rejeita a hipótese nula com o nível de singificância adotado $\\alpha$ nível de singnificância (o coeficiente linear é ***igual a zero***);\n",
    "\n",
    "O valor crítico do teste é obtido da distribuição t de Student bilateral com $gl_{erros}$."
   ]
  },
  {
   "cell_type": "code",
   "execution_count": 79,
   "id": "19e26427-7022-4d0e-a2c7-3d72ec4fb22d",
   "metadata": {},
   "outputs": [
    {
     "data": {
      "text/plain": [
       "8.152314398454013"
      ]
     },
     "execution_count": 79,
     "metadata": {},
     "output_type": "execute_result"
    }
   ],
   "source": [
    "t_b0 = b0/b0_std\n",
    "t_b0"
   ]
  },
  {
   "cell_type": "code",
   "execution_count": 80,
   "id": "f5430e91-7aa2-44df-85ee-aa2fe1109206",
   "metadata": {},
   "outputs": [
    {
     "data": {
      "text/plain": [
       "3.0980708007888325e-06"
      ]
     },
     "execution_count": 80,
     "metadata": {},
     "output_type": "execute_result"
    }
   ],
   "source": [
    "p_valor_b0 = (1 - stats.t.cdf(t_b0, gl_erro))*2\n",
    "p_valor_b0"
   ]
  },
  {
   "cell_type": "code",
   "execution_count": 81,
   "id": "20d3cfae-1fa8-4075-9661-b99d3f14a6ff",
   "metadata": {},
   "outputs": [
    {
     "name": "stdout",
     "output_type": "stream",
     "text": [
      "O coeficiente linear (0.059) é diferente de zero (p-valor = 0.0)\n"
     ]
    }
   ],
   "source": [
    "if p_valor_b0 < alfa:\n",
    "    b0_significante = \"Sim\"\n",
    "    print(f\"O coeficiente linear ({round(b0, 3)}) é diferente de zero (p-valor = {round(p_valor_b0, 3)})\")\n",
    "else:\n",
    "    b0_significante = \"Não\"\n",
    "    print(f\"O coeficiente linear ({round(b0, 3)}) é igual a zero (p-valor = {round(p_valor_b1, 0)})\")\n"
   ]
  },
  {
   "cell_type": "markdown",
   "id": "81f7240e-e5ee-436e-ad88-081b6e84a466",
   "metadata": {},
   "source": [
    "##### Gráfico da distribuição t de Student para o $b_{0}$"
   ]
  },
  {
   "cell_type": "code",
   "execution_count": 82,
   "id": "56287f86-77f9-48f2-8753-be7228f2e1b6",
   "metadata": {},
   "outputs": [
    {
     "data": {
      "image/png": "[encoded data removed]",
      "text/plain": [
       "<Figure size 800x400 with 1 Axes>"
      ]
     },
     "metadata": {},
     "output_type": "display_data"
    }
   ],
   "source": [
    "# obtendo intervalo de x para plotar o gráfico\n",
    "if t_critico > np.abs(t_b0):\n",
    "    x_aux = 5\n",
    "else:\n",
    "    x_aux = np.abs(t_b0) + 0.2*np.abs(t_b0)\n",
    "\n",
    "\n",
    "# criando o canvas\n",
    "fig, ax1 = plt.subplots(figsize=(8,4))\n",
    "\n",
    "# adicionando a distribuição t de Student\n",
    "x = np.linspace(-1*x_aux, x_aux, 1000)\n",
    "y = stats.t.pdf(x, gl_erro, loc=0, scale=1)\n",
    "label = \"Dist. t-Student ($gl$=\" + str(gl_erro) + \")\"\n",
    "ax1.plot(x, y, c=\"k\", label=label)\n",
    "\n",
    "label = '$t_{crítico} = $' + str(round(t_critico, 3))\n",
    "ax1.axvline(t_critico, 0, 1, label=label, color='blue', ls='--')\n",
    "ax1.axvline(-t_critico, 0, 1, color='blue', ls='--')\n",
    "\n",
    "label = '$t_{calc} = $' + str(round(t_b0, 2))\n",
    "ax1.scatter(t_b0, 0, color='red', label=label)\n",
    "\n",
    "x = np.linspace(-1*x_aux, -1*np.abs(t_b0), 1000)\n",
    "ax1.fill_between(x,stats.t.pdf(x, gl_erro, loc=0, scale=1), label = '$probabilidade$', color = 'salmon')\n",
    "\n",
    "x = np.linspace(np.abs(t_b0), x_aux, 1000)\n",
    "ax1.fill_between(x,stats.t.pdf(x, gl_erro, loc=0, scale=1), color = 'salmon')\n",
    "\n",
    "plt.xlim(-1*x_aux - 0.1, x_aux + 0.1)\n",
    "plt.ylim(bottom=0.0)\n",
    "plt.legend(bbox_to_anchor=(1.35,1))\n",
    "plt.show()"
   ]
  },
  {
   "cell_type": "markdown",
   "id": "a894d083-f714-49ee-8107-0a90bd3310db",
   "metadata": {},
   "source": [
    "## Intervalo de confiança do sinal predito\n",
    "\n",
    "### Valores médios\n",
    "\n",
    "Valores preditos pelo modelo podem ser obtidos através da relação:\n",
    "\n",
    "$$\\widehat{y_{interesse}} = b_{0} + b_{1} \\times x_{interesse}$$\n",
    "\n",
    "onde:\n",
    "- $\\widehat{y_{imteresse}}$ é o sinal predito;\n",
    "- $b_{0}$ é o coeficiente linear;\n",
    "- $b_{1}$ é o coeficiente angular;\n",
    "- $x_{interesse}$ é uma concentração utilizada para confeccionar o modelo;\n",
    "\n",
    "\n",
    "#### Desvio padrão\n",
    "\n",
    "$$s_{x_{interesse}} = \\sqrt{MSQE \\left(\\frac{1}{n} + \\frac{\\left( x_{interesse} - \\overline{x} \\right)^{2} }{S_{xx}} \\right) }$$\n",
    "\n",
    "onde:\n",
    "- $MSQE$ é a quantidade média de variância que o modelo não consegue explicar;\n",
    "- $S_{xx}$ é o somatório do erro quadrático da concentração\n",
    "- $n$ é o número total de observações;\n",
    "- $\\overline{x}$ é a média da concentração;\n",
    "- $x_{interesse}$ é uma concentração utilizada para confeccionar o modelo;\n",
    "\n",
    "#### Intervalo de confiança\n",
    "\n",
    "$$IC \\left( \\widehat{y_{interesse}} \\right) = t_{gl_{erros}, \\; 1-\\alpha/2} \\times s_{x_{interesse}} $$\n",
    "\n",
    "onde:\n",
    "- $s_{x_{interesse}}$ é o desvio padrão de $\\widehat{y_{interesse}}$;\n",
    "- $t_{gl_{erros}, \\; 1-\\alpha/2}$ é o valor crítico da distribuição t de Student bilateral;"
   ]
  },
  {
   "cell_type": "code",
   "execution_count": 83,
   "id": "ff347a82-2076-4160-938a-58d616a84319",
   "metadata": {},
   "outputs": [],
   "source": [
    "# criando um novo dataframe com apenas informações relevantes para a predição\n",
    "df_pred = df[[nome_conc, nome_sinal, 'ypred']].copy()"
   ]
  },
  {
   "cell_type": "code",
   "execution_count": 84,
   "id": "99b525f2-a1be-4dc4-b5ea-89ba158397fa",
   "metadata": {},
   "outputs": [
    {
     "data": {
      "text/html": [
       "<div>\n",
       "<style scoped>\n",
       "    .dataframe tbody tr th:only-of-type {\n",
       "        vertical-align: middle;\n",
       "    }\n",
       "\n",
       "    .dataframe tbody tr th {\n",
       "        vertical-align: top;\n",
       "    }\n",
       "\n",
       "    .dataframe thead th {\n",
       "        text-align: right;\n",
       "    }\n",
       "</style>\n",
       "<table border=\"1\" class=\"dataframe\">\n",
       "  <thead>\n",
       "    <tr style=\"text-align: right;\">\n",
       "      <th></th>\n",
       "      <th>Concentração</th>\n",
       "      <th>Sinal</th>\n",
       "      <th>ypred</th>\n",
       "      <th>Médios IC</th>\n",
       "      <th>Médios L. Inferior</th>\n",
       "      <th>Médios L. Superior</th>\n",
       "    </tr>\n",
       "  </thead>\n",
       "  <tbody>\n",
       "    <tr>\n",
       "      <th>0</th>\n",
       "      <td>1</td>\n",
       "      <td>0.098</td>\n",
       "      <td>0.091696</td>\n",
       "      <td>0.013481</td>\n",
       "      <td>0.078216</td>\n",
       "      <td>0.105177</td>\n",
       "    </tr>\n",
       "    <tr>\n",
       "      <th>1</th>\n",
       "      <td>1</td>\n",
       "      <td>0.087</td>\n",
       "      <td>0.091696</td>\n",
       "      <td>0.013481</td>\n",
       "      <td>0.078216</td>\n",
       "      <td>0.105177</td>\n",
       "    </tr>\n",
       "    <tr>\n",
       "      <th>2</th>\n",
       "      <td>1</td>\n",
       "      <td>0.109</td>\n",
       "      <td>0.091696</td>\n",
       "      <td>0.013481</td>\n",
       "      <td>0.078216</td>\n",
       "      <td>0.105177</td>\n",
       "    </tr>\n",
       "    <tr>\n",
       "      <th>3</th>\n",
       "      <td>3</td>\n",
       "      <td>0.135</td>\n",
       "      <td>0.157222</td>\n",
       "      <td>0.009586</td>\n",
       "      <td>0.147637</td>\n",
       "      <td>0.166808</td>\n",
       "    </tr>\n",
       "    <tr>\n",
       "      <th>4</th>\n",
       "      <td>3</td>\n",
       "      <td>0.145</td>\n",
       "      <td>0.157222</td>\n",
       "      <td>0.009586</td>\n",
       "      <td>0.147637</td>\n",
       "      <td>0.166808</td>\n",
       "    </tr>\n",
       "    <tr>\n",
       "      <th>5</th>\n",
       "      <td>5</td>\n",
       "      <td>0.249</td>\n",
       "      <td>0.222748</td>\n",
       "      <td>0.007695</td>\n",
       "      <td>0.215053</td>\n",
       "      <td>0.230443</td>\n",
       "    </tr>\n",
       "    <tr>\n",
       "      <th>6</th>\n",
       "      <td>5</td>\n",
       "      <td>0.229</td>\n",
       "      <td>0.222748</td>\n",
       "      <td>0.007695</td>\n",
       "      <td>0.215053</td>\n",
       "      <td>0.230443</td>\n",
       "    </tr>\n",
       "    <tr>\n",
       "      <th>7</th>\n",
       "      <td>5</td>\n",
       "      <td>0.209</td>\n",
       "      <td>0.222748</td>\n",
       "      <td>0.007695</td>\n",
       "      <td>0.215053</td>\n",
       "      <td>0.230443</td>\n",
       "    </tr>\n",
       "    <tr>\n",
       "      <th>8</th>\n",
       "      <td>7</td>\n",
       "      <td>0.290</td>\n",
       "      <td>0.288274</td>\n",
       "      <td>0.009150</td>\n",
       "      <td>0.279124</td>\n",
       "      <td>0.297424</td>\n",
       "    </tr>\n",
       "    <tr>\n",
       "      <th>9</th>\n",
       "      <td>7</td>\n",
       "      <td>0.285</td>\n",
       "      <td>0.288274</td>\n",
       "      <td>0.009150</td>\n",
       "      <td>0.279124</td>\n",
       "      <td>0.297424</td>\n",
       "    </tr>\n",
       "    <tr>\n",
       "      <th>10</th>\n",
       "      <td>7</td>\n",
       "      <td>0.280</td>\n",
       "      <td>0.288274</td>\n",
       "      <td>0.009150</td>\n",
       "      <td>0.279124</td>\n",
       "      <td>0.297424</td>\n",
       "    </tr>\n",
       "    <tr>\n",
       "      <th>11</th>\n",
       "      <td>9</td>\n",
       "      <td>0.350</td>\n",
       "      <td>0.353800</td>\n",
       "      <td>0.012860</td>\n",
       "      <td>0.340940</td>\n",
       "      <td>0.366660</td>\n",
       "    </tr>\n",
       "    <tr>\n",
       "      <th>12</th>\n",
       "      <td>9</td>\n",
       "      <td>0.356</td>\n",
       "      <td>0.353800</td>\n",
       "      <td>0.012860</td>\n",
       "      <td>0.340940</td>\n",
       "      <td>0.366660</td>\n",
       "    </tr>\n",
       "    <tr>\n",
       "      <th>13</th>\n",
       "      <td>9</td>\n",
       "      <td>0.362</td>\n",
       "      <td>0.353800</td>\n",
       "      <td>0.012860</td>\n",
       "      <td>0.340940</td>\n",
       "      <td>0.366660</td>\n",
       "    </tr>\n",
       "  </tbody>\n",
       "</table>\n",
       "</div>"
      ],
      "text/plain": [
       "    Concentração  Sinal     ypred  Médios IC  Médios L. Inferior  \\\n",
       "0              1  0.098  0.091696   0.013481            0.078216   \n",
       "1              1  0.087  0.091696   0.013481            0.078216   \n",
       "2              1  0.109  0.091696   0.013481            0.078216   \n",
       "3              3  0.135  0.157222   0.009586            0.147637   \n",
       "4              3  0.145  0.157222   0.009586            0.147637   \n",
       "5              5  0.249  0.222748   0.007695            0.215053   \n",
       "6              5  0.229  0.222748   0.007695            0.215053   \n",
       "7              5  0.209  0.222748   0.007695            0.215053   \n",
       "8              7  0.290  0.288274   0.009150            0.279124   \n",
       "9              7  0.285  0.288274   0.009150            0.279124   \n",
       "10             7  0.280  0.288274   0.009150            0.279124   \n",
       "11             9  0.350  0.353800   0.012860            0.340940   \n",
       "12             9  0.356  0.353800   0.012860            0.340940   \n",
       "13             9  0.362  0.353800   0.012860            0.340940   \n",
       "\n",
       "    Médios L. Superior  \n",
       "0             0.105177  \n",
       "1             0.105177  \n",
       "2             0.105177  \n",
       "3             0.166808  \n",
       "4             0.166808  \n",
       "5             0.230443  \n",
       "6             0.230443  \n",
       "7             0.230443  \n",
       "8             0.297424  \n",
       "9             0.297424  \n",
       "10            0.297424  \n",
       "11            0.366660  \n",
       "12            0.366660  \n",
       "13            0.366660  "
      ]
     },
     "execution_count": 84,
     "metadata": {},
     "output_type": "execute_result"
    }
   ],
   "source": [
    "df_pred[\"Médios IC\"] = t_critico*np.sqrt(MSQE*(1/df.shape[0] + np.square(df_pred[nome_conc] - df[nome_conc].mean())/Sxx))\n",
    "df_pred[\"Médios L. Inferior\"] = df_pred['ypred'] -  df_pred[\"Médios IC\"]\n",
    "df_pred[\"Médios L. Superior\"] = df_pred['ypred'] +  df_pred[\"Médios IC\"]\n",
    "df_pred"
   ]
  },
  {
   "cell_type": "markdown",
   "id": "577da631-c73c-4b7b-90a3-7df1b9fc969f",
   "metadata": {},
   "source": [
    "#### Gráfico de calibração com as bandas médias"
   ]
  },
  {
   "cell_type": "code",
   "execution_count": null,
   "id": "722ffadb-8916-494c-a1df-2601dd1dac67",
   "metadata": {},
   "outputs": [],
   "source": []
  },
  {
   "cell_type": "code",
   "execution_count": 85,
   "id": "6ad62724-b07e-40d0-bd3b-170cc6991fe9",
   "metadata": {},
   "outputs": [
    {
     "data": {
      "image/png": "[encoded data removed]",
      "text/plain": [
       "<Figure size 600x400 with 1 Axes>"
      ]
     },
     "metadata": {},
     "output_type": "display_data"
    }
   ],
   "source": [
    "# criando o canvas\n",
    "plt.figure(figsize=(6,4))\n",
    "# adicionando os valores experimentais (do df original)\n",
    "plt.scatter(df[nome_conc], df[nome_sinal], label=dataset_name, edgecolors='k', facecolor='None')\n",
    "# adicionando a linha de regressão (df pred)\n",
    "plt.plot(df_pred[nome_conc], df_pred['ypred'], label=\"Regressão\", c='k', ls='--')\n",
    "# adicionando banda média inferior\n",
    "plt.plot(df_pred[nome_conc], df_pred['Médios L. Inferior'], c='r', ls='--', label=\"Bandas Médias\")\n",
    "# adicionando banda média superior\n",
    "plt.plot(df_pred[nome_conc], df_pred['Médios L. Superior'], c='r', ls='--')\n",
    "plt.xlabel(nome_conc)\n",
    "plt.ylabel(nome_sinal)\n",
    "plt.legend()\n",
    "plt.show()"
   ]
  },
  {
   "cell_type": "markdown",
   "id": "0156e3b9-5c20-45b9-85be-b404009bef21",
   "metadata": {},
   "source": [
    "### Valores pontuais\n",
    "\n",
    "Valores preditos pelo modelo podem ser obtidos através da relação:\n",
    "\n",
    "$$\\widehat{y_{interesse}} = b_{0} + b_{1} \\times x_{interesse}$$\n",
    "\n",
    "onde:\n",
    "- $\\widehat{y_{imteresse}}$ é o sinal predito;\n",
    "- $b_{0}$ é o coeficiente linear;\n",
    "- $b_{1}$ é o coeficiente angular;\n",
    "- $x_{interesse}$ é uma concentração qualquer, dentro do intervalo de concentração utilizado para confeccionar o modelo;\n",
    "\n",
    "\n",
    "#### Desvio padrão\n",
    "\n",
    "$$s_{x_{interesse}} = \\sqrt{MSQE \\left(\\frac{1}{m} + \\frac{1}{n} + \\frac{\\left( x_{interesse} - \\overline{x} \\right)^{2} }{S_{xx}} \\right) }$$\n",
    "\n",
    "onde:\n",
    "- $MSQE$ é a quantidade média de variância que o modelo não consegue explicar;\n",
    "- $S_{xx}$ é o somatório do erro quadrático da concentração\n",
    "- $n$ é o número total de observações;\n",
    "- $m$ é o número de repetições obtidos para $x_{interesse}$;\n",
    "- $\\overline{x}$ é a média da concentração;\n",
    "- $x_{interesse}$ é uma concentração qualquer, dentro do intervalo de concentração utilizado para confeccionar o modelo;\n",
    "\n",
    "#### Intervalo de confiança\n",
    "\n",
    "$$IC \\left( \\widehat{y_{interesse}} \\right) = t_{gl_{erros}, \\; 1-\\alpha/2} \\times s_{x_{interesse}} $$\n",
    "\n",
    "onde:\n",
    "- $s_{x_{interesse}}$ é o desvio padrão de $\\widehat{y_{interesse}}$;\n",
    "- $t_{gl_{erros}, \\; 1-\\alpha/2}$ é o valor crítico da distribuição t de Student bilateral;"
   ]
  },
  {
   "cell_type": "code",
   "execution_count": 86,
   "id": "085330bc-8cc2-4fed-8d6d-0c1bcce5a763",
   "metadata": {},
   "outputs": [
    {
     "data": {
      "text/html": [
       "<div>\n",
       "<style scoped>\n",
       "    .dataframe tbody tr th:only-of-type {\n",
       "        vertical-align: middle;\n",
       "    }\n",
       "\n",
       "    .dataframe tbody tr th {\n",
       "        vertical-align: top;\n",
       "    }\n",
       "\n",
       "    .dataframe thead th {\n",
       "        text-align: right;\n",
       "    }\n",
       "</style>\n",
       "<table border=\"1\" class=\"dataframe\">\n",
       "  <thead>\n",
       "    <tr style=\"text-align: right;\">\n",
       "      <th></th>\n",
       "      <th>Concentração</th>\n",
       "      <th>Sinal</th>\n",
       "      <th>ypred</th>\n",
       "      <th>Médios IC</th>\n",
       "      <th>Médios L. Inferior</th>\n",
       "      <th>Médios L. Superior</th>\n",
       "      <th>Individuais IC</th>\n",
       "      <th>Individuais L. Inferior</th>\n",
       "      <th>Individuais L. Superior</th>\n",
       "    </tr>\n",
       "  </thead>\n",
       "  <tbody>\n",
       "    <tr>\n",
       "      <th>0</th>\n",
       "      <td>1</td>\n",
       "      <td>0.098</td>\n",
       "      <td>0.091696</td>\n",
       "      <td>0.013481</td>\n",
       "      <td>0.078216</td>\n",
       "      <td>0.105177</td>\n",
       "      <td>0.031760</td>\n",
       "      <td>0.059937</td>\n",
       "      <td>0.123456</td>\n",
       "    </tr>\n",
       "    <tr>\n",
       "      <th>1</th>\n",
       "      <td>1</td>\n",
       "      <td>0.087</td>\n",
       "      <td>0.091696</td>\n",
       "      <td>0.013481</td>\n",
       "      <td>0.078216</td>\n",
       "      <td>0.105177</td>\n",
       "      <td>0.031760</td>\n",
       "      <td>0.059937</td>\n",
       "      <td>0.123456</td>\n",
       "    </tr>\n",
       "    <tr>\n",
       "      <th>2</th>\n",
       "      <td>1</td>\n",
       "      <td>0.109</td>\n",
       "      <td>0.091696</td>\n",
       "      <td>0.013481</td>\n",
       "      <td>0.078216</td>\n",
       "      <td>0.105177</td>\n",
       "      <td>0.031760</td>\n",
       "      <td>0.059937</td>\n",
       "      <td>0.123456</td>\n",
       "    </tr>\n",
       "    <tr>\n",
       "      <th>3</th>\n",
       "      <td>3</td>\n",
       "      <td>0.135</td>\n",
       "      <td>0.157222</td>\n",
       "      <td>0.009586</td>\n",
       "      <td>0.147637</td>\n",
       "      <td>0.166808</td>\n",
       "      <td>0.030312</td>\n",
       "      <td>0.126910</td>\n",
       "      <td>0.187534</td>\n",
       "    </tr>\n",
       "    <tr>\n",
       "      <th>4</th>\n",
       "      <td>3</td>\n",
       "      <td>0.145</td>\n",
       "      <td>0.157222</td>\n",
       "      <td>0.009586</td>\n",
       "      <td>0.147637</td>\n",
       "      <td>0.166808</td>\n",
       "      <td>0.030312</td>\n",
       "      <td>0.126910</td>\n",
       "      <td>0.187534</td>\n",
       "    </tr>\n",
       "    <tr>\n",
       "      <th>5</th>\n",
       "      <td>5</td>\n",
       "      <td>0.249</td>\n",
       "      <td>0.222748</td>\n",
       "      <td>0.007695</td>\n",
       "      <td>0.215053</td>\n",
       "      <td>0.230443</td>\n",
       "      <td>0.029768</td>\n",
       "      <td>0.192980</td>\n",
       "      <td>0.252517</td>\n",
       "    </tr>\n",
       "    <tr>\n",
       "      <th>6</th>\n",
       "      <td>5</td>\n",
       "      <td>0.229</td>\n",
       "      <td>0.222748</td>\n",
       "      <td>0.007695</td>\n",
       "      <td>0.215053</td>\n",
       "      <td>0.230443</td>\n",
       "      <td>0.029768</td>\n",
       "      <td>0.192980</td>\n",
       "      <td>0.252517</td>\n",
       "    </tr>\n",
       "    <tr>\n",
       "      <th>7</th>\n",
       "      <td>5</td>\n",
       "      <td>0.209</td>\n",
       "      <td>0.222748</td>\n",
       "      <td>0.007695</td>\n",
       "      <td>0.215053</td>\n",
       "      <td>0.230443</td>\n",
       "      <td>0.029768</td>\n",
       "      <td>0.192980</td>\n",
       "      <td>0.252517</td>\n",
       "    </tr>\n",
       "    <tr>\n",
       "      <th>8</th>\n",
       "      <td>7</td>\n",
       "      <td>0.290</td>\n",
       "      <td>0.288274</td>\n",
       "      <td>0.009150</td>\n",
       "      <td>0.279124</td>\n",
       "      <td>0.297424</td>\n",
       "      <td>0.030177</td>\n",
       "      <td>0.258097</td>\n",
       "      <td>0.318451</td>\n",
       "    </tr>\n",
       "    <tr>\n",
       "      <th>9</th>\n",
       "      <td>7</td>\n",
       "      <td>0.285</td>\n",
       "      <td>0.288274</td>\n",
       "      <td>0.009150</td>\n",
       "      <td>0.279124</td>\n",
       "      <td>0.297424</td>\n",
       "      <td>0.030177</td>\n",
       "      <td>0.258097</td>\n",
       "      <td>0.318451</td>\n",
       "    </tr>\n",
       "    <tr>\n",
       "      <th>10</th>\n",
       "      <td>7</td>\n",
       "      <td>0.280</td>\n",
       "      <td>0.288274</td>\n",
       "      <td>0.009150</td>\n",
       "      <td>0.279124</td>\n",
       "      <td>0.297424</td>\n",
       "      <td>0.030177</td>\n",
       "      <td>0.258097</td>\n",
       "      <td>0.318451</td>\n",
       "    </tr>\n",
       "    <tr>\n",
       "      <th>11</th>\n",
       "      <td>9</td>\n",
       "      <td>0.350</td>\n",
       "      <td>0.353800</td>\n",
       "      <td>0.012860</td>\n",
       "      <td>0.340940</td>\n",
       "      <td>0.366660</td>\n",
       "      <td>0.031501</td>\n",
       "      <td>0.322299</td>\n",
       "      <td>0.385301</td>\n",
       "    </tr>\n",
       "    <tr>\n",
       "      <th>12</th>\n",
       "      <td>9</td>\n",
       "      <td>0.356</td>\n",
       "      <td>0.353800</td>\n",
       "      <td>0.012860</td>\n",
       "      <td>0.340940</td>\n",
       "      <td>0.366660</td>\n",
       "      <td>0.031501</td>\n",
       "      <td>0.322299</td>\n",
       "      <td>0.385301</td>\n",
       "    </tr>\n",
       "    <tr>\n",
       "      <th>13</th>\n",
       "      <td>9</td>\n",
       "      <td>0.362</td>\n",
       "      <td>0.353800</td>\n",
       "      <td>0.012860</td>\n",
       "      <td>0.340940</td>\n",
       "      <td>0.366660</td>\n",
       "      <td>0.031501</td>\n",
       "      <td>0.322299</td>\n",
       "      <td>0.385301</td>\n",
       "    </tr>\n",
       "  </tbody>\n",
       "</table>\n",
       "</div>"
      ],
      "text/plain": [
       "    Concentração  Sinal     ypred  Médios IC  Médios L. Inferior  \\\n",
       "0              1  0.098  0.091696   0.013481            0.078216   \n",
       "1              1  0.087  0.091696   0.013481            0.078216   \n",
       "2              1  0.109  0.091696   0.013481            0.078216   \n",
       "3              3  0.135  0.157222   0.009586            0.147637   \n",
       "4              3  0.145  0.157222   0.009586            0.147637   \n",
       "5              5  0.249  0.222748   0.007695            0.215053   \n",
       "6              5  0.229  0.222748   0.007695            0.215053   \n",
       "7              5  0.209  0.222748   0.007695            0.215053   \n",
       "8              7  0.290  0.288274   0.009150            0.279124   \n",
       "9              7  0.285  0.288274   0.009150            0.279124   \n",
       "10             7  0.280  0.288274   0.009150            0.279124   \n",
       "11             9  0.350  0.353800   0.012860            0.340940   \n",
       "12             9  0.356  0.353800   0.012860            0.340940   \n",
       "13             9  0.362  0.353800   0.012860            0.340940   \n",
       "\n",
       "    Médios L. Superior  Individuais IC  Individuais L. Inferior  \\\n",
       "0             0.105177        0.031760                 0.059937   \n",
       "1             0.105177        0.031760                 0.059937   \n",
       "2             0.105177        0.031760                 0.059937   \n",
       "3             0.166808        0.030312                 0.126910   \n",
       "4             0.166808        0.030312                 0.126910   \n",
       "5             0.230443        0.029768                 0.192980   \n",
       "6             0.230443        0.029768                 0.192980   \n",
       "7             0.230443        0.029768                 0.192980   \n",
       "8             0.297424        0.030177                 0.258097   \n",
       "9             0.297424        0.030177                 0.258097   \n",
       "10            0.297424        0.030177                 0.258097   \n",
       "11            0.366660        0.031501                 0.322299   \n",
       "12            0.366660        0.031501                 0.322299   \n",
       "13            0.366660        0.031501                 0.322299   \n",
       "\n",
       "    Individuais L. Superior  \n",
       "0                  0.123456  \n",
       "1                  0.123456  \n",
       "2                  0.123456  \n",
       "3                  0.187534  \n",
       "4                  0.187534  \n",
       "5                  0.252517  \n",
       "6                  0.252517  \n",
       "7                  0.252517  \n",
       "8                  0.318451  \n",
       "9                  0.318451  \n",
       "10                 0.318451  \n",
       "11                 0.385301  \n",
       "12                 0.385301  \n",
       "13                 0.385301  "
      ]
     },
     "execution_count": 86,
     "metadata": {},
     "output_type": "execute_result"
    }
   ],
   "source": [
    "df_pred[\"Individuais IC\"] = t_critico*np.sqrt(MSQE*(1 + 1/df.shape[0] + np.square(df_pred[nome_conc] - df[nome_conc].mean())/Sxx))\n",
    "df_pred[\"Individuais L. Inferior\"] = df_pred['ypred'] -  df_pred[\"Individuais IC\"]\n",
    "df_pred[\"Individuais L. Superior\"] = df_pred['ypred'] +  df_pred[\"Individuais IC\"]\n",
    "df_pred"
   ]
  },
  {
   "cell_type": "markdown",
   "id": "66e76edd-5908-41d8-b0cc-361a9952806f",
   "metadata": {},
   "source": [
    "#### Gráfico de calibração com as bandas pontuais"
   ]
  },
  {
   "cell_type": "code",
   "execution_count": 87,
   "id": "f57b5c29-b4ed-4e3d-b3f1-b74a5cda2716",
   "metadata": {},
   "outputs": [
    {
     "data": {
      "image/png": "[encoded data removed]",
      "text/plain": [
       "<Figure size 600x400 with 1 Axes>"
      ]
     },
     "metadata": {},
     "output_type": "display_data"
    }
   ],
   "source": [
    "# criando o canvas\n",
    "plt.figure(figsize=(6,4))\n",
    "# adicionando os valores experimentais (do df original)\n",
    "plt.scatter(df[nome_conc], df[nome_sinal], label=dataset_name, edgecolors='k', facecolor='None')\n",
    "# adicionando a linha de regressão (df pred)\n",
    "plt.plot(df_pred[nome_conc], df_pred['ypred'], label=\"Regressão\", c='k', ls='--')\n",
    "# adicionando banda de predição inferior\n",
    "plt.plot(df_pred[nome_conc], df_pred['Individuais L. Inferior'], c='r', ls='--', label=\"Banda de Predição\")\n",
    "# adicionando banda de predição superior\n",
    "plt.plot(df_pred[nome_conc], df_pred['Individuais L. Superior'], c='r', ls='--')\n",
    "plt.xlabel(nome_conc)\n",
    "plt.ylabel(nome_sinal)\n",
    "plt.legend()\n",
    "plt.show()"
   ]
  },
  {
   "cell_type": "markdown",
   "id": "365c9308-f8f4-411b-8f14-645fb3ad6fb3",
   "metadata": {},
   "source": [
    "### Gráfico da curva de calibração"
   ]
  },
  {
   "cell_type": "code",
   "execution_count": 92,
   "id": "c45a23e6-eaf2-4c08-adb0-c791857007c8",
   "metadata": {},
   "outputs": [
    {
     "data": {
      "image/png": "[encoded data removed]",
      "text/plain": [
       "<Figure size 600x400 with 1 Axes>"
      ]
     },
     "metadata": {},
     "output_type": "display_data"
    }
   ],
   "source": [
    "# criando o canvas\n",
    "plt.figure(figsize=(6,4))\n",
    "# adicionando os valores experimentais (do df original)\n",
    "plt.scatter(df[nome_conc], df[nome_sinal], label=\"Dataset 3 - reduzido\", edgecolors='k', facecolor='None')\n",
    "# adicionando a linha de regressão (df pred)\n",
    "plt.plot(df_pred[nome_conc], df_pred['ypred'], label=\"Regressão\", c='k', ls='--')\n",
    "# adicionando banda média inferior\n",
    "plt.plot(df_pred[nome_conc], df_pred['Médios L. Inferior'], c='gray', ls='--', label=\"Médias\")\n",
    "# adicionando banda média superior\n",
    "plt.plot(df_pred[nome_conc], df_pred['Médios L. Superior'], c='gray', ls='--')\n",
    "# adicionando banda predição inferior\n",
    "plt.plot(df_pred[nome_conc], df_pred['Individuais L. Inferior'], c='r', ls='--', label=\"Predição\")\n",
    "# adicionando banda predição superior\n",
    "plt.plot(df_pred[nome_conc], df_pred['Individuais L. Superior'], c='r', ls='--')\n",
    "plt.xlabel(nome_conc)\n",
    "plt.ylabel(nome_sinal)\n",
    "plt.legend()\n",
    "plt.show()"
   ]
  },
  {
   "cell_type": "code",
   "execution_count": null,
   "id": "e8f82960-5213-4781-a532-a70c000256bf",
   "metadata": {},
   "outputs": [],
   "source": []
  },
  {
   "cell_type": "markdown",
   "id": "b674d38d-4d95-4e6c-8528-f509fa3adf2d",
   "metadata": {},
   "source": [
    "## Predição de uma nova concentração\n",
    "\n",
    "Invertendo a equação:\n",
    "\n",
    "$$concentração = \\frac{sinal_{interesse} - b_{0}}{b_{1}} \\pm t_{gl_{erros}, \\; 1-\\alpha/2} \\times s_{c}$$\n",
    "\n",
    "onde:\n",
    "- $b_{0}$ é o coeficiente linear;\n",
    "- $b_{1}$ é o coeficiente angular;\n",
    "- $t_{gl_{erros}, \\; 1-\\alpha/2}$ é o valor crítico da distribuição t de Student bilateral;\n",
    "- $s_{c}$ é o desvio padrão da concentração, que é estimado da seguinte forma:\n",
    "- $sinal_{interesse}$ é o sinal para predizar a concentração;\n",
    "\n",
    "$$s_{c} = \\frac{\\sqrt{MSQE}}{|b_{1}|} \\sqrt{\\frac{1}{m} + \\frac{1}{n} + \\frac{\\left( sinal_{interesse} - \\overline{sinal} \\right)^{2}}{b_{1}^{2}S_{xx}} }$$\n",
    "\n",
    "onde:\n",
    "- $MSQE$ é a quantidade média de variância que o modelo não consegue explicar;\n",
    "- $S_{xx}$ é o somatório do erro quadrático da concentração do modelo;\n",
    "- $n$ é o número total de observações utilizada para obter os parâmetros do modelo;\n",
    "- $m$ é o número de repetições obtidos para $sinal_{interesse}$;\n",
    "- $\\overline{sinal}$ é a média dos sinais utilizado para obter os parâmetros do modelo;\n",
    "- $sinal_{interesse}$ é o sinal para predizar a concentração;\n",
    "- $b_{1}$ é o coeficiente angular;"
   ]
  },
  {
   "cell_type": "code",
   "execution_count": 89,
   "id": "213c2da8-f5cc-466a-8862-9b2f174a4eac",
   "metadata": {},
   "outputs": [
    {
     "data": {
      "text/html": [
       "<div>\n",
       "<style scoped>\n",
       "    .dataframe tbody tr th:only-of-type {\n",
       "        vertical-align: middle;\n",
       "    }\n",
       "\n",
       "    .dataframe tbody tr th {\n",
       "        vertical-align: top;\n",
       "    }\n",
       "\n",
       "    .dataframe thead th {\n",
       "        text-align: right;\n",
       "    }\n",
       "</style>\n",
       "<table border=\"1\" class=\"dataframe\">\n",
       "  <thead>\n",
       "    <tr style=\"text-align: right;\">\n",
       "      <th></th>\n",
       "      <th>Concentração</th>\n",
       "      <th>Sinal</th>\n",
       "      <th>yi_medio</th>\n",
       "    </tr>\n",
       "  </thead>\n",
       "  <tbody>\n",
       "    <tr>\n",
       "      <th>0</th>\n",
       "      <td>1</td>\n",
       "      <td>0.098</td>\n",
       "      <td>0.098</td>\n",
       "    </tr>\n",
       "    <tr>\n",
       "      <th>1</th>\n",
       "      <td>1</td>\n",
       "      <td>0.087</td>\n",
       "      <td>0.098</td>\n",
       "    </tr>\n",
       "    <tr>\n",
       "      <th>2</th>\n",
       "      <td>1</td>\n",
       "      <td>0.109</td>\n",
       "      <td>0.098</td>\n",
       "    </tr>\n",
       "    <tr>\n",
       "      <th>3</th>\n",
       "      <td>3</td>\n",
       "      <td>0.135</td>\n",
       "      <td>0.140</td>\n",
       "    </tr>\n",
       "    <tr>\n",
       "      <th>4</th>\n",
       "      <td>3</td>\n",
       "      <td>0.145</td>\n",
       "      <td>0.140</td>\n",
       "    </tr>\n",
       "    <tr>\n",
       "      <th>5</th>\n",
       "      <td>5</td>\n",
       "      <td>0.249</td>\n",
       "      <td>0.229</td>\n",
       "    </tr>\n",
       "    <tr>\n",
       "      <th>6</th>\n",
       "      <td>5</td>\n",
       "      <td>0.229</td>\n",
       "      <td>0.229</td>\n",
       "    </tr>\n",
       "    <tr>\n",
       "      <th>7</th>\n",
       "      <td>5</td>\n",
       "      <td>0.209</td>\n",
       "      <td>0.229</td>\n",
       "    </tr>\n",
       "    <tr>\n",
       "      <th>8</th>\n",
       "      <td>7</td>\n",
       "      <td>0.290</td>\n",
       "      <td>0.285</td>\n",
       "    </tr>\n",
       "    <tr>\n",
       "      <th>9</th>\n",
       "      <td>7</td>\n",
       "      <td>0.285</td>\n",
       "      <td>0.285</td>\n",
       "    </tr>\n",
       "    <tr>\n",
       "      <th>10</th>\n",
       "      <td>7</td>\n",
       "      <td>0.280</td>\n",
       "      <td>0.285</td>\n",
       "    </tr>\n",
       "    <tr>\n",
       "      <th>11</th>\n",
       "      <td>9</td>\n",
       "      <td>0.350</td>\n",
       "      <td>0.356</td>\n",
       "    </tr>\n",
       "    <tr>\n",
       "      <th>12</th>\n",
       "      <td>9</td>\n",
       "      <td>0.356</td>\n",
       "      <td>0.356</td>\n",
       "    </tr>\n",
       "    <tr>\n",
       "      <th>13</th>\n",
       "      <td>9</td>\n",
       "      <td>0.362</td>\n",
       "      <td>0.356</td>\n",
       "    </tr>\n",
       "  </tbody>\n",
       "</table>\n",
       "</div>"
      ],
      "text/plain": [
       "    Concentração  Sinal  yi_medio\n",
       "0              1  0.098     0.098\n",
       "1              1  0.087     0.098\n",
       "2              1  0.109     0.098\n",
       "3              3  0.135     0.140\n",
       "4              3  0.145     0.140\n",
       "5              5  0.249     0.229\n",
       "6              5  0.229     0.229\n",
       "7              5  0.209     0.229\n",
       "8              7  0.290     0.285\n",
       "9              7  0.285     0.285\n",
       "10             7  0.280     0.285\n",
       "11             9  0.350     0.356\n",
       "12             9  0.356     0.356\n",
       "13             9  0.362     0.356"
      ]
     },
     "execution_count": 89,
     "metadata": {},
     "output_type": "execute_result"
    }
   ],
   "source": [
    "df_pred_inv = df[[nome_conc, nome_sinal, 'yi_medio']].copy()\n",
    "df_pred_inv"
   ]
  },
  {
   "cell_type": "code",
   "execution_count": null,
   "id": "57c81937-0117-45f3-96b2-099f164961ba",
   "metadata": {},
   "outputs": [],
   "source": []
  },
  {
   "cell_type": "code",
   "execution_count": 90,
   "id": "97e4cb46-d8a4-426a-a0dd-1eae8f2b1918",
   "metadata": {},
   "outputs": [
    {
     "data": {
      "text/html": [
       "<div>\n",
       "<style scoped>\n",
       "    .dataframe tbody tr th:only-of-type {\n",
       "        vertical-align: middle;\n",
       "    }\n",
       "\n",
       "    .dataframe tbody tr th {\n",
       "        vertical-align: top;\n",
       "    }\n",
       "\n",
       "    .dataframe thead th {\n",
       "        text-align: right;\n",
       "    }\n",
       "</style>\n",
       "<table border=\"1\" class=\"dataframe\">\n",
       "  <thead>\n",
       "    <tr style=\"text-align: right;\">\n",
       "      <th></th>\n",
       "      <th>Concentração</th>\n",
       "      <th>Sinal</th>\n",
       "      <th>ypred</th>\n",
       "      <th>s_predicao</th>\n",
       "      <th>ic_predicao</th>\n",
       "      <th>ic_predicao inferior</th>\n",
       "      <th>ic_predicao superior</th>\n",
       "    </tr>\n",
       "  </thead>\n",
       "  <tbody>\n",
       "    <tr>\n",
       "      <th>1</th>\n",
       "      <td>1</td>\n",
       "      <td>0.087</td>\n",
       "      <td>0.856658</td>\n",
       "      <td>0.446810</td>\n",
       "      <td>0.973516</td>\n",
       "      <td>-0.116858</td>\n",
       "      <td>1.830174</td>\n",
       "    </tr>\n",
       "    <tr>\n",
       "      <th>0</th>\n",
       "      <td>1</td>\n",
       "      <td>0.098</td>\n",
       "      <td>1.192403</td>\n",
       "      <td>0.442449</td>\n",
       "      <td>0.964014</td>\n",
       "      <td>0.228390</td>\n",
       "      <td>2.156417</td>\n",
       "    </tr>\n",
       "    <tr>\n",
       "      <th>2</th>\n",
       "      <td>1</td>\n",
       "      <td>0.109</td>\n",
       "      <td>1.528148</td>\n",
       "      <td>0.438405</td>\n",
       "      <td>0.955202</td>\n",
       "      <td>0.572946</td>\n",
       "      <td>2.483351</td>\n",
       "    </tr>\n",
       "    <tr>\n",
       "      <th>3</th>\n",
       "      <td>3</td>\n",
       "      <td>0.135</td>\n",
       "      <td>2.321727</td>\n",
       "      <td>0.430158</td>\n",
       "      <td>0.937235</td>\n",
       "      <td>1.384493</td>\n",
       "      <td>3.258962</td>\n",
       "    </tr>\n",
       "    <tr>\n",
       "      <th>4</th>\n",
       "      <td>3</td>\n",
       "      <td>0.145</td>\n",
       "      <td>2.626950</td>\n",
       "      <td>0.427495</td>\n",
       "      <td>0.931431</td>\n",
       "      <td>1.695519</td>\n",
       "      <td>3.558381</td>\n",
       "    </tr>\n",
       "    <tr>\n",
       "      <th>7</th>\n",
       "      <td>5</td>\n",
       "      <td>0.209</td>\n",
       "      <td>4.580375</td>\n",
       "      <td>0.417514</td>\n",
       "      <td>0.909685</td>\n",
       "      <td>3.670690</td>\n",
       "      <td>5.490061</td>\n",
       "    </tr>\n",
       "    <tr>\n",
       "      <th>6</th>\n",
       "      <td>5</td>\n",
       "      <td>0.229</td>\n",
       "      <td>5.190821</td>\n",
       "      <td>0.416986</td>\n",
       "      <td>0.908535</td>\n",
       "      <td>4.282285</td>\n",
       "      <td>6.099356</td>\n",
       "    </tr>\n",
       "    <tr>\n",
       "      <th>5</th>\n",
       "      <td>5</td>\n",
       "      <td>0.249</td>\n",
       "      <td>5.801266</td>\n",
       "      <td>0.417711</td>\n",
       "      <td>0.910114</td>\n",
       "      <td>4.891152</td>\n",
       "      <td>6.711380</td>\n",
       "    </tr>\n",
       "    <tr>\n",
       "      <th>10</th>\n",
       "      <td>7</td>\n",
       "      <td>0.280</td>\n",
       "      <td>6.747456</td>\n",
       "      <td>0.421290</td>\n",
       "      <td>0.917912</td>\n",
       "      <td>5.829544</td>\n",
       "      <td>7.665369</td>\n",
       "    </tr>\n",
       "    <tr>\n",
       "      <th>9</th>\n",
       "      <td>7</td>\n",
       "      <td>0.285</td>\n",
       "      <td>6.900068</td>\n",
       "      <td>0.422143</td>\n",
       "      <td>0.919771</td>\n",
       "      <td>5.980297</td>\n",
       "      <td>7.819839</td>\n",
       "    </tr>\n",
       "    <tr>\n",
       "      <th>8</th>\n",
       "      <td>7</td>\n",
       "      <td>0.290</td>\n",
       "      <td>7.052679</td>\n",
       "      <td>0.423072</td>\n",
       "      <td>0.921794</td>\n",
       "      <td>6.130885</td>\n",
       "      <td>7.974473</td>\n",
       "    </tr>\n",
       "    <tr>\n",
       "      <th>11</th>\n",
       "      <td>9</td>\n",
       "      <td>0.350</td>\n",
       "      <td>8.884015</td>\n",
       "      <td>0.439890</td>\n",
       "      <td>0.958439</td>\n",
       "      <td>7.925577</td>\n",
       "      <td>9.842454</td>\n",
       "    </tr>\n",
       "    <tr>\n",
       "      <th>12</th>\n",
       "      <td>9</td>\n",
       "      <td>0.356</td>\n",
       "      <td>9.067149</td>\n",
       "      <td>0.442122</td>\n",
       "      <td>0.963302</td>\n",
       "      <td>8.103847</td>\n",
       "      <td>10.030451</td>\n",
       "    </tr>\n",
       "    <tr>\n",
       "      <th>13</th>\n",
       "      <td>9</td>\n",
       "      <td>0.362</td>\n",
       "      <td>9.250283</td>\n",
       "      <td>0.444449</td>\n",
       "      <td>0.968371</td>\n",
       "      <td>8.281911</td>\n",
       "      <td>10.218654</td>\n",
       "    </tr>\n",
       "  </tbody>\n",
       "</table>\n",
       "</div>"
      ],
      "text/plain": [
       "    Concentração  Sinal     ypred  s_predicao  ic_predicao  \\\n",
       "1              1  0.087  0.856658    0.446810     0.973516   \n",
       "0              1  0.098  1.192403    0.442449     0.964014   \n",
       "2              1  0.109  1.528148    0.438405     0.955202   \n",
       "3              3  0.135  2.321727    0.430158     0.937235   \n",
       "4              3  0.145  2.626950    0.427495     0.931431   \n",
       "7              5  0.209  4.580375    0.417514     0.909685   \n",
       "6              5  0.229  5.190821    0.416986     0.908535   \n",
       "5              5  0.249  5.801266    0.417711     0.910114   \n",
       "10             7  0.280  6.747456    0.421290     0.917912   \n",
       "9              7  0.285  6.900068    0.422143     0.919771   \n",
       "8              7  0.290  7.052679    0.423072     0.921794   \n",
       "11             9  0.350  8.884015    0.439890     0.958439   \n",
       "12             9  0.356  9.067149    0.442122     0.963302   \n",
       "13             9  0.362  9.250283    0.444449     0.968371   \n",
       "\n",
       "    ic_predicao inferior  ic_predicao superior  \n",
       "1              -0.116858              1.830174  \n",
       "0               0.228390              2.156417  \n",
       "2               0.572946              2.483351  \n",
       "3               1.384493              3.258962  \n",
       "4               1.695519              3.558381  \n",
       "7               3.670690              5.490061  \n",
       "6               4.282285              6.099356  \n",
       "5               4.891152              6.711380  \n",
       "10              5.829544              7.665369  \n",
       "9               5.980297              7.819839  \n",
       "8               6.130885              7.974473  \n",
       "11              7.925577              9.842454  \n",
       "12              8.103847             10.030451  \n",
       "13              8.281911             10.218654  "
      ]
     },
     "execution_count": 90,
     "metadata": {},
     "output_type": "execute_result"
    }
   ],
   "source": [
    "df_pred_inv = df[[nome_conc, nome_sinal]].copy()\n",
    "df_pred_inv['ypred'] = (df_pred_inv[nome_sinal] - b0)/b1\n",
    "df_pred_inv['s_predicao'] = (np.sqrt(MSQE)/np.abs(b1))*np.sqrt(1 + 1/df_pred_inv.shape[0] + np.square(df_pred_inv[nome_sinal] - df_pred_inv[nome_sinal].mean())/(np.square(b1)*Sxx))\n",
    "df_pred_inv['ic_predicao'] = df_pred_inv['s_predicao']*t_critico\n",
    "df_pred_inv['ic_predicao inferior'] = df_pred_inv['ypred'] - df_pred_inv['ic_predicao']\n",
    "df_pred_inv['ic_predicao superior'] = df_pred_inv['ypred'] + df_pred_inv['ic_predicao']\n",
    "df_pred_inv = df_pred_inv.sort_values(by=['ypred']) # para evitar sobreposição no gráfico\n",
    "df_pred_inv"
   ]
  },
  {
   "cell_type": "markdown",
   "id": "3de0a78d-d1c9-49b7-85c7-d085c327ebf9",
   "metadata": {},
   "source": [
    "### Gráfico de predição"
   ]
  },
  {
   "cell_type": "code",
   "execution_count": 91,
   "id": "11645e14-55ce-44bb-a7f1-0bdaa066d043",
   "metadata": {},
   "outputs": [
    {
     "data": {
      "image/png": "[encoded data removed]",
      "text/plain": [
       "<Figure size 600x400 with 1 Axes>"
      ]
     },
     "metadata": {},
     "output_type": "display_data"
    }
   ],
   "source": [
    "# criando o canvas\n",
    "plt.figure(figsize=(6,4))\n",
    "# adicionando os dados experimentais\n",
    "plt.scatter(df[nome_sinal], df[nome_conc], label=\"Dados experimentais\", edgecolors='k', facecolor='None')\n",
    "\n",
    "# adicionando a linha de regressão\n",
    "plt.plot(df_pred_inv[nome_sinal], df_pred_inv['ypred'], label=\"Regressão\", c='k', ls='--')\n",
    "\n",
    "# adicionando a banda de predição\n",
    "plt.plot(df_pred_inv[nome_sinal], df_pred_inv['ic_predicao inferior'], label='Predição', c='r', ls='--')\n",
    "plt.plot(df_pred_inv[nome_sinal], df_pred_inv['ic_predicao superior'], c='r', ls='--')\n",
    "\n",
    "plt.legend()\n",
    "plt.xlabel(nome_sinal)\n",
    "plt.ylabel(nome_conc)\n",
    "plt.show()"
   ]
  },
  {
   "cell_type": "code",
   "execution_count": null,
   "id": "86fcd333-b736-4ed3-b548-22b0b19bd45f",
   "metadata": {},
   "outputs": [],
   "source": []
  }
 ],
 "metadata": {
  "kernelspec": {
   "display_name": "Python 3 (ipykernel)",
   "language": "python",
   "name": "python3"
  },
  "language_info": {
   "codemirror_mode": {
    "name": "ipython",
    "version": 3
   },
   "file_extension": ".py",
   "mimetype": "text/x-python",
   "name": "python",
   "nbconvert_exporter": "python",
   "pygments_lexer": "ipython3",
   "version": "3.10.6"
  }
 },
 "nbformat": 4,
 "nbformat_minor": 5
}
