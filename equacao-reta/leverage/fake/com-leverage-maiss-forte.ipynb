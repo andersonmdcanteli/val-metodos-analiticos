{
 "cells": [
  {
   "cell_type": "markdown",
   "id": "34256af3-24bc-4470-b7a4-2ce47abcbc8c",
   "metadata": {},
   "source": [
    "# Curva de calibração - Dados sem repetição\n",
    "\n",
    "Este notebook aplica a regressão linear, utilizando a equação da reta, em um conjunto de dados de calibração analítica.\n",
    "\n",
    "Você obtém:\n",
    "\n",
    "- Gráfico de dispersão de sinal emitido *versus* concentração do analito\n",
    "- Regressão linear;\n",
    "    - Parâmetro $b_1$ (coeficiente linear);\n",
    "    - Parâmetro $b_0$ (coeficiente angular);\n",
    "    - Equação da reta:\n",
    "    - Valores preditos para o sinal ($\\widehat{y})$;\n",
    "    - Gráfico de regressão de sinal emitido *versus* concentração do analito, com a equação da reta;\n",
    "- Análise de variância (ANOVA);\n",
    "    - Somatórios quadráticos;\n",
    "    - Graus de liberdade;\n",
    "    - Média quadrática;\n",
    "    - Estatística do teste;\n",
    "    - Valor crítico do teste;\n",
    "    - p-valor;\n",
    "    - Conclusão do teste;\n",
    "    - Verificações;\n",
    "    - Tabela de ANOVA;\n",
    "    - Gráfico da distribuição F;\n",
    "- Coeficiente de determinação;\n",
    "    - Coeficiente de determinação ajustado;\n",
    "- Diagnóstico do modelo;\n",
    "    - Resíduos;\n",
    "    - Média dos resíduos igual a zero (teste t de Student pareado);\n",
    "        - Gráfico da distribuição t de Student;\n",
    "    - Média dos resíduos com distribuição Normal (teste de Shapiro-Wilk);\n",
    "    - Independência dos resíduos em relação à ordem de coleta;\n",
    "        - Gráfico dos resíduos *versus* ordem de coleta;\n",
    "    - Independência dos resíduos em relação ao ajustamento;\n",
    "        - Gráfico dos resíduos *versus* sinal predito; \n",
    "    - Outliers (Resíduos padronizados)\n",
    "        - Gráfico dos resíduos padronizados *versus* sinal predito; \n",
    "    - Correlação dos resíduos;\n",
    "        - Gráfico do sinal predito *versus* sinal real;\n",
    "- Intervalo de confiança dos parâmetros;    \n",
    "    - Parâmetro $b_1$ (coeficiente linear);\n",
    "        - Desvio padrão;\n",
    "        - Intervalo de confiança;\n",
    "        - Valor verdadeiro;\n",
    "        - Teste de hipótese;\n",
    "            - Gráfico da distribuição t de Student;\n",
    "    - Parâmetro $b_0$ (coeficiente angular);\n",
    "        - Desvio padrão;\n",
    "        - Intervalo de confiança;\n",
    "        - Valor verdadeiro;\n",
    "        - Teste de hipótese;\n",
    "            - Gráfico da distribuição t de Student;   \n",
    "- Intervalo de confiança do sinal predito;\n",
    "    - Valores médios;\n",
    "        - Desvio padrão;\n",
    "        - Intervalo de confiança;\n",
    "        - Gráfico de calibração com as bandas médias;\n",
    "    - Valores pontuais;\n",
    "        - Desvio padrão;\n",
    "        - Intervalo de confiança;\n",
    "        - Gráfico de calibração com as bandas médias;\n",
    "    - Gráfico da curva de calibração;\n",
    "- Predição de uma nova concentração;    \n",
    "    - Gráfico de predição\n"
   ]
  },
  {
   "cell_type": "markdown",
   "id": "7c1c118f-777d-4e28-8101-d55a86629038",
   "metadata": {},
   "source": [
    "## Importações"
   ]
  },
  {
   "cell_type": "code",
   "execution_count": 1,
   "id": "ed4202d8-d2bc-439f-b3ae-d7a7339d6330",
   "metadata": {},
   "outputs": [],
   "source": [
    "import sys\n",
    "sys.path.insert(0, 'C:/Users/ander/Repositorios/val-metodos-analiticos/funcs')\n",
    "import functions\n",
    "\n",
    "import numpy as np\n",
    "import matplotlib.pyplot as plt\n",
    "from scipy import stats\n",
    "import pandas as pd\n",
    "import seaborn as sns\n",
    "plt.rcParams[\"font.family\"] = \"Arial\"\n",
    "plt.rcParams[\"font.size\"] = 10"
   ]
  },
  {
   "cell_type": "markdown",
   "id": "1e23e9ef-5674-4cb8-bc3a-1ae5b2f1bb0d",
   "metadata": {},
   "source": [
    "## Entrada de dados"
   ]
  },
  {
   "cell_type": "code",
   "execution_count": 2,
   "id": "baee4e1d-01d4-4f0e-9b29-d8c6ac825204",
   "metadata": {},
   "outputs": [],
   "source": [
    "df = pd.DataFrame({\n",
    "    \"Concentração\": [2,  4,  6,  8, 10, 12, 14, 16, 18, 20, 50],\n",
    "    \"Sinal\": [0.5930569 , 1.20311496, 1.96428803, 2.54086097, 3.07107921,\n",
    "       3.48138394, 4.04573493, 4.90491728, 5.58803802, 5.87367696, 14.71],\n",
    "    \"Ordem de coleta\": [1, 2, 3, 4, 5, 6, 7, 8, 9, 10, 11],    \n",
    "    \"Ensaio\": [\"Ensaio 1\", \"Ensaio 2\", \"Ensaio 3\", \"Ensaio 4\", \"Ensaio 5\", \"Ensaio 6\", \"Ensaio 7\",\n",
    "               \"Ensaio 8\", \"Ensaio 9\", \"Ensaio 10\", \"Ensaio 11\"\n",
    "    ],    \n",
    "})\n",
    "dataset_name = \"Outlier\"\n",
    "alfa = 0.05"
   ]
  },
  {
   "cell_type": "code",
   "execution_count": 3,
   "id": "285aa713-eefd-40e9-beb8-2ccd6676e4fb",
   "metadata": {},
   "outputs": [],
   "source": [
    "nome_conc, nome_sinal, nome_ordem, nome_ensaio  = df.columns"
   ]
  },
  {
   "cell_type": "code",
   "execution_count": 4,
   "id": "32a25387-aef0-4537-b3f8-666b2428a4de",
   "metadata": {},
   "outputs": [],
   "source": [
    "# ordenando os dados em relação a coluna concentração para organizar melhor os calculos\n",
    "df = df.sort_values(by=[nome_conc])"
   ]
  },
  {
   "cell_type": "markdown",
   "id": "f83b1973-f587-4945-a69e-639a4a5cec9c",
   "metadata": {
    "tags": []
   },
   "source": [
    "### Plotando o gráfico com os dados"
   ]
  },
  {
   "cell_type": "code",
   "execution_count": 5,
   "id": "a94599c9-1960-43af-aece-8a59ca5504cf",
   "metadata": {},
   "outputs": [
    {
     "data": {
      "image/png": "[encoded data removed]",
      "text/plain": [
       "<Figure size 600x400 with 1 Axes>"
      ]
     },
     "metadata": {},
     "output_type": "display_data"
    }
   ],
   "source": [
    "plt.figure(figsize=(6,4))\n",
    "plt.scatter(df[nome_conc], df[nome_sinal], label=dataset_name, edgecolors='k', facecolor='None')\n",
    "plt.xlabel(nome_conc)\n",
    "plt.ylabel(nome_sinal)\n",
    "plt.legend()\n",
    "plt.show()"
   ]
  },
  {
   "cell_type": "markdown",
   "id": "6f787592-1909-4b9f-980c-8579a9c738ec",
   "metadata": {},
   "source": [
    "## Leverage\n",
    "\n",
    "$$ h_{ii} = \\frac{1}{n} + \\frac{\\left(x_{i} - \\overline{x} \\right)^{2}}{\\sum_{i=1}^{n} \\left(x_{i} - \\overline{x} \\right)^{2}}$$\n",
    "\n",
    "onde:\n",
    "- $n$ é o número total de amostras;\n",
    "- $x_{i}$ é a i-ésima observação da amostra;\n",
    "- $\\overline{x}$ é a média da amostra;\n",
    "\n",
    "$$critico = \\frac{fator\\times n_{p}}{n}$$\n",
    "\n",
    "onde:\n",
    "- $n$ é o número total de amostras;\n",
    "- $n_{p}$ é o número de parâmetros estimados pelo modelo, incluíndo o intercepto (e.g. $n_{p}=2$;\n",
    "- $fator$ é o fator de penalização ($2$ (moderado) ou  $3$ (extremo));"
   ]
  },
  {
   "cell_type": "code",
   "execution_count": 6,
   "id": "8956214e-70d7-4d51-a3d1-c38b930e19f0",
   "metadata": {},
   "outputs": [],
   "source": [
    "df[\"Alavancagem\"] = functions.leverage(df[nome_conc])"
   ]
  },
  {
   "cell_type": "code",
   "execution_count": 7,
   "id": "579c0179-66c4-46c8-be8c-21d95779e9e4",
   "metadata": {},
   "outputs": [
    {
     "name": "stdout",
     "output_type": "stream",
     "text": [
      "A alavancagem (0.825) do ensaio \"Ensaio 11\" esta acima do limite esperado (0.5454545454545454)\n"
     ]
    }
   ],
   "source": [
    "functions.check_leverage(df[\"Alavancagem\"], df[\"Ensaio\"], critical=3, n_param=2)"
   ]
  },
  {
   "cell_type": "code",
   "execution_count": 8,
   "id": "5cb48d8d-792b-4374-b786-e1f637468663",
   "metadata": {},
   "outputs": [
    {
     "data": {
      "image/png": "[encoded data removed]",
      "text/plain": [
       "<Figure size 600x300 with 1 Axes>"
      ]
     },
     "metadata": {},
     "output_type": "display_data"
    }
   ],
   "source": [
    "functions.make_leverage_plot(df[nome_conc], df[\"Alavancagem\"])"
   ]
  },
  {
   "cell_type": "markdown",
   "id": "992c703a-ecad-4572-bdd4-7497bd2fa6f7",
   "metadata": {
    "tags": []
   },
   "source": [
    "## Regressão linear com SciPy"
   ]
  },
  {
   "cell_type": "code",
   "execution_count": 9,
   "id": "8e3e6cc9-0ca3-4d2e-8099-1c9eae23e8ef",
   "metadata": {},
   "outputs": [],
   "source": [
    "reg_linear = stats.linregress(df[nome_conc], df[nome_sinal])"
   ]
  },
  {
   "cell_type": "markdown",
   "id": "3be633b0-0b9c-482e-99ae-93f19f7d4898",
   "metadata": {},
   "source": [
    "### Coeficiente angular ( $b_{1}$ )\n",
    "\n",
    "$$b_{1} = \\frac{\\sum_{i=1}^{n}(x_{i} - \\overline{x})(y_{i} - \\overline{y})}{\\sum_{i=1}^{n}(x_{i} - \\overline{x})^{2}}$$\n",
    "\n",
    "onde:\n",
    "- $n$ é o número total de observações;\n",
    "- $y_{i}$ é o valor do sinal para a i-ésima observação;\n",
    "- $\\overline{y}$ é a média dos sinais;\n",
    "- $x_{i}$ é o valor da concentração para a i-ésima observação;\n",
    "- $\\overline{x}$ é a média das concentrações;\n",
    "\n",
    "> Tem unidade do sinal vezes o inverso da unidade da concentração"
   ]
  },
  {
   "cell_type": "code",
   "execution_count": 10,
   "id": "b66b16d0-e683-4d2b-833f-9918a798093f",
   "metadata": {},
   "outputs": [
    {
     "data": {
      "text/plain": [
       "0.29277332092462843"
      ]
     },
     "execution_count": 10,
     "metadata": {},
     "output_type": "execute_result"
    }
   ],
   "source": [
    "b1 = reg_linear[0]\n",
    "b1"
   ]
  },
  {
   "cell_type": "markdown",
   "id": "2f4cdcb4-7ea7-4045-8931-4fecf416490c",
   "metadata": {},
   "source": [
    "### Coeficiente linear ( $b_{0}$ )\n",
    "\n",
    "$$b_{0} = \\frac{\\sum_{i=1}^{n} (y_{i}) - b_{1} \\times \\sum_{i=1}^{n} (x_{i}) }{n}$$\n",
    "\n",
    "onde:\n",
    "- $n$ é o número total de observações;\n",
    "- $b_{1}$ é o coeficiente angular;\n",
    "- $y_{i}$ é o valor do sinal para a i-ésima observação;\n",
    "- $x_{i}$ é o valor da concentração para a i-ésima observação;\n",
    "\n",
    "> Tem unidade do sinal"
   ]
  },
  {
   "cell_type": "code",
   "execution_count": 11,
   "id": "df7ff1e7-1900-4fbd-9cb0-dd85c653cbfd",
   "metadata": {},
   "outputs": [
    {
     "data": {
      "text/plain": [
       "0.10294725927813175"
      ]
     },
     "execution_count": 11,
     "metadata": {},
     "output_type": "execute_result"
    }
   ],
   "source": [
    "b0 = reg_linear[1]\n",
    "b0"
   ]
  },
  {
   "cell_type": "markdown",
   "id": "6f67e5d5-5635-4af1-b05c-9d16d84010e0",
   "metadata": {},
   "source": [
    "### Equação da reta \n",
    "\n",
    "$$sinal = b_{0} + concentração \\times b_{1}$$\n",
    "\n",
    "onde:\n",
    "- $b_{0}$ é o coeficiente linear;\n",
    "- $b_{1}$ é o coeficiente angular;"
   ]
  },
  {
   "cell_type": "code",
   "execution_count": 12,
   "id": "f2e4aeab-f17b-411a-989f-3cc3453f46d0",
   "metadata": {},
   "outputs": [
    {
     "data": {
      "text/plain": [
       "'sinal = 0.10294725927813175 + concentração x 0.29277332092462843'"
      ]
     },
     "execution_count": 12,
     "metadata": {},
     "output_type": "execute_result"
    }
   ],
   "source": [
    "f\"sinal = {b0} + concentração x {b1}\""
   ]
  },
  {
   "cell_type": "markdown",
   "id": "c9c25f15-47c7-4b68-b2df-32d80ab57062",
   "metadata": {},
   "source": [
    "### Predição valores pontuais"
   ]
  },
  {
   "cell_type": "code",
   "execution_count": 13,
   "id": "70e41c9f-98f2-4bc9-ad85-b9a6f388ca13",
   "metadata": {},
   "outputs": [
    {
     "data": {
      "text/html": [
       "<div>\n",
       "<style scoped>\n",
       "    .dataframe tbody tr th:only-of-type {\n",
       "        vertical-align: middle;\n",
       "    }\n",
       "\n",
       "    .dataframe tbody tr th {\n",
       "        vertical-align: top;\n",
       "    }\n",
       "\n",
       "    .dataframe thead th {\n",
       "        text-align: right;\n",
       "    }\n",
       "</style>\n",
       "<table border=\"1\" class=\"dataframe\">\n",
       "  <thead>\n",
       "    <tr style=\"text-align: right;\">\n",
       "      <th></th>\n",
       "      <th>Concentração</th>\n",
       "      <th>Sinal</th>\n",
       "      <th>Ordem de coleta</th>\n",
       "      <th>Ensaio</th>\n",
       "      <th>Alavancagem</th>\n",
       "      <th>ypred</th>\n",
       "    </tr>\n",
       "  </thead>\n",
       "  <tbody>\n",
       "    <tr>\n",
       "      <th>0</th>\n",
       "      <td>2</td>\n",
       "      <td>0.593057</td>\n",
       "      <td>1</td>\n",
       "      <td>Ensaio 1</td>\n",
       "      <td>0.182803</td>\n",
       "      <td>0.688494</td>\n",
       "    </tr>\n",
       "    <tr>\n",
       "      <th>1</th>\n",
       "      <td>4</td>\n",
       "      <td>1.203115</td>\n",
       "      <td>2</td>\n",
       "      <td>Ensaio 2</td>\n",
       "      <td>0.155839</td>\n",
       "      <td>1.274041</td>\n",
       "    </tr>\n",
       "    <tr>\n",
       "      <th>2</th>\n",
       "      <td>6</td>\n",
       "      <td>1.964288</td>\n",
       "      <td>3</td>\n",
       "      <td>Ensaio 3</td>\n",
       "      <td>0.133546</td>\n",
       "      <td>1.859587</td>\n",
       "    </tr>\n",
       "    <tr>\n",
       "      <th>3</th>\n",
       "      <td>8</td>\n",
       "      <td>2.540861</td>\n",
       "      <td>4</td>\n",
       "      <td>Ensaio 4</td>\n",
       "      <td>0.115924</td>\n",
       "      <td>2.445134</td>\n",
       "    </tr>\n",
       "    <tr>\n",
       "      <th>4</th>\n",
       "      <td>10</td>\n",
       "      <td>3.071079</td>\n",
       "      <td>5</td>\n",
       "      <td>Ensaio 5</td>\n",
       "      <td>0.102972</td>\n",
       "      <td>3.030680</td>\n",
       "    </tr>\n",
       "    <tr>\n",
       "      <th>5</th>\n",
       "      <td>12</td>\n",
       "      <td>3.481384</td>\n",
       "      <td>6</td>\n",
       "      <td>Ensaio 6</td>\n",
       "      <td>0.094692</td>\n",
       "      <td>3.616227</td>\n",
       "    </tr>\n",
       "    <tr>\n",
       "      <th>6</th>\n",
       "      <td>14</td>\n",
       "      <td>4.045735</td>\n",
       "      <td>7</td>\n",
       "      <td>Ensaio 7</td>\n",
       "      <td>0.091083</td>\n",
       "      <td>4.201774</td>\n",
       "    </tr>\n",
       "    <tr>\n",
       "      <th>7</th>\n",
       "      <td>16</td>\n",
       "      <td>4.904917</td>\n",
       "      <td>8</td>\n",
       "      <td>Ensaio 8</td>\n",
       "      <td>0.092144</td>\n",
       "      <td>4.787320</td>\n",
       "    </tr>\n",
       "    <tr>\n",
       "      <th>8</th>\n",
       "      <td>18</td>\n",
       "      <td>5.588038</td>\n",
       "      <td>9</td>\n",
       "      <td>Ensaio 9</td>\n",
       "      <td>0.097877</td>\n",
       "      <td>5.372867</td>\n",
       "    </tr>\n",
       "    <tr>\n",
       "      <th>9</th>\n",
       "      <td>20</td>\n",
       "      <td>5.873677</td>\n",
       "      <td>10</td>\n",
       "      <td>Ensaio 10</td>\n",
       "      <td>0.108280</td>\n",
       "      <td>5.958414</td>\n",
       "    </tr>\n",
       "    <tr>\n",
       "      <th>10</th>\n",
       "      <td>50</td>\n",
       "      <td>14.710000</td>\n",
       "      <td>11</td>\n",
       "      <td>Ensaio 11</td>\n",
       "      <td>0.824841</td>\n",
       "      <td>14.741613</td>\n",
       "    </tr>\n",
       "  </tbody>\n",
       "</table>\n",
       "</div>"
      ],
      "text/plain": [
       "    Concentração      Sinal  Ordem de coleta     Ensaio  Alavancagem  \\\n",
       "0              2   0.593057                1   Ensaio 1     0.182803   \n",
       "1              4   1.203115                2   Ensaio 2     0.155839   \n",
       "2              6   1.964288                3   Ensaio 3     0.133546   \n",
       "3              8   2.540861                4   Ensaio 4     0.115924   \n",
       "4             10   3.071079                5   Ensaio 5     0.102972   \n",
       "5             12   3.481384                6   Ensaio 6     0.094692   \n",
       "6             14   4.045735                7   Ensaio 7     0.091083   \n",
       "7             16   4.904917                8   Ensaio 8     0.092144   \n",
       "8             18   5.588038                9   Ensaio 9     0.097877   \n",
       "9             20   5.873677               10  Ensaio 10     0.108280   \n",
       "10            50  14.710000               11  Ensaio 11     0.824841   \n",
       "\n",
       "        ypred  \n",
       "0    0.688494  \n",
       "1    1.274041  \n",
       "2    1.859587  \n",
       "3    2.445134  \n",
       "4    3.030680  \n",
       "5    3.616227  \n",
       "6    4.201774  \n",
       "7    4.787320  \n",
       "8    5.372867  \n",
       "9    5.958414  \n",
       "10  14.741613  "
      ]
     },
     "execution_count": 13,
     "metadata": {},
     "output_type": "execute_result"
    }
   ],
   "source": [
    "df[\"ypred\"] = b1*df[nome_conc] + b0\n",
    "df"
   ]
  },
  {
   "cell_type": "markdown",
   "id": "07f7656b-c273-468c-9d04-bfa876c3f67a",
   "metadata": {},
   "source": [
    "### Plotando o gráfico de regressão"
   ]
  },
  {
   "cell_type": "code",
   "execution_count": 14,
   "id": "082806d4-1e7c-46f7-8aa6-d03077da52f6",
   "metadata": {},
   "outputs": [
    {
     "data": {
      "image/png": "[encoded data removed]",
      "text/plain": [
       "<Figure size 600x400 with 1 Axes>"
      ]
     },
     "metadata": {},
     "output_type": "display_data"
    }
   ],
   "source": [
    "plt.figure(figsize=(6,4))\n",
    "plt.scatter(df[nome_conc], df[nome_sinal], label=dataset_name, edgecolors='k', facecolor='None')\n",
    "plt.plot(df[nome_conc], df['ypred'], label=\"Regressão\", c='k', ls='--')\n",
    "plt.xlabel(nome_conc)\n",
    "plt.ylabel(nome_sinal)\n",
    "plt.legend()\n",
    "plt.show()"
   ]
  },
  {
   "cell_type": "markdown",
   "id": "98cdf0f7-210f-4e66-8228-f6d2d1a327de",
   "metadata": {
    "tags": []
   },
   "source": [
    "## ANOVA"
   ]
  },
  {
   "cell_type": "markdown",
   "id": "b786e932-59d7-4097-9ffd-58834383c0fe",
   "metadata": {},
   "source": [
    "### Somatório dos quadrados TOTAIS ( $SQT$ )\n",
    "\n",
    "$$ SQT = \\sum_{i=1}^{n} (y_{i} - \\overline{y})^{2}$$\n",
    "\n",
    "onde:\n",
    "- $n$ é o número total de observações;\n",
    "- $y_{i}$ é o valor do sinal para a i-ésima observação;\n",
    "- $\\overline{y}$ é a média dos sinais;\n",
    "\n",
    "> Tem a unidade do sinal ao quadrado"
   ]
  },
  {
   "cell_type": "code",
   "execution_count": 15,
   "id": "f23f5b3a-4dac-47a7-98d6-955c6ec28146",
   "metadata": {},
   "outputs": [],
   "source": [
    "df['sqt'] = np.square(df[nome_sinal] - df[nome_sinal].mean())"
   ]
  },
  {
   "cell_type": "code",
   "execution_count": 16,
   "id": "863d9613-3b6e-4da5-ac6b-4cb9a32b6b7f",
   "metadata": {},
   "outputs": [
    {
     "data": {
      "text/plain": [
       "146.95523809127315"
      ]
     },
     "execution_count": 16,
     "metadata": {},
     "output_type": "execute_result"
    }
   ],
   "source": [
    "SQT = df['sqt'].sum()\n",
    "SQT"
   ]
  },
  {
   "cell_type": "markdown",
   "id": "ded8f03f-aece-457c-b4c8-e93941bdb6c1",
   "metadata": {},
   "source": [
    "### Grau de liberdade dos quadrados totais ( $gl_{totais}$ )\n",
    "\n",
    "$$gl_{totais} = n - 1$$\n",
    "\n",
    "onde:\n",
    "- $n$ é o número total de observações;"
   ]
  },
  {
   "cell_type": "code",
   "execution_count": 17,
   "id": "2c02db7a-d1c7-478a-99ec-478c0df3fc1b",
   "metadata": {},
   "outputs": [
    {
     "data": {
      "text/plain": [
       "10"
      ]
     },
     "execution_count": 17,
     "metadata": {},
     "output_type": "execute_result"
    }
   ],
   "source": [
    "gl_total = df.shape[0] - 1\n",
    "gl_total"
   ]
  },
  {
   "cell_type": "markdown",
   "id": "1fdb8d60-33d0-4696-af25-055f8c46c0e1",
   "metadata": {},
   "source": [
    "### Média dos quadrados totais ( $MSQT$ )\n",
    "\n",
    "$$ MSQT = \\frac{SQT}{gl_{totais}}$$\n",
    "\n",
    "onde:\n",
    "- $SQT$ é o somatório quadrático da diferença entre cada sinal e a média dos sinais;\n",
    "- $gl_{totais}$ é o grau de liberdade associado aos $SQT$;\n",
    "\n",
    "> Tem a unidade do sinal ao quadrado"
   ]
  },
  {
   "cell_type": "code",
   "execution_count": 18,
   "id": "7a93b0c4-55f5-4683-ab2b-f7d362f6714c",
   "metadata": {},
   "outputs": [
    {
     "data": {
      "text/plain": [
       "14.695523809127314"
      ]
     },
     "execution_count": 18,
     "metadata": {},
     "output_type": "execute_result"
    }
   ],
   "source": [
    "MSQT = SQT/gl_total\n",
    "MSQT"
   ]
  },
  {
   "cell_type": "markdown",
   "id": "2283f810-ade8-4e5a-bad8-77562ce1ff0d",
   "metadata": {},
   "source": [
    "### Somatório dos quadrados da REGRESSÃO ( $SQR$ )\n",
    "\n",
    "$$ SQR = \\sum_{i=1}^{n} (\\widehat{y_{i}} - \\overline{y})^{2}$$\n",
    "\n",
    "\n",
    "onde:\n",
    "- $n$ é o número total de observações;\n",
    "- $\\widehat{y_{i}}$ é o valor do sinal predito para a i-ésima observação;\n",
    "- $\\overline{y}$ é a média dos sinais;\n",
    "\n",
    "> Tem a unidade do sinal ao quadrado"
   ]
  },
  {
   "cell_type": "code",
   "execution_count": 19,
   "id": "f57f2287-d2e6-48db-aeda-bb1dd18d2d22",
   "metadata": {},
   "outputs": [],
   "source": [
    "df['sqr'] = np.square(df[\"ypred\"] - df[nome_sinal].mean())"
   ]
  },
  {
   "cell_type": "code",
   "execution_count": 20,
   "id": "e6ca2f7d-d7ab-43f2-b620-fb000fc5960b",
   "metadata": {},
   "outputs": [
    {
     "data": {
      "text/plain": [
       "146.808503333476"
      ]
     },
     "execution_count": 20,
     "metadata": {},
     "output_type": "execute_result"
    }
   ],
   "source": [
    "SQR = df['sqr'].sum()\n",
    "SQR"
   ]
  },
  {
   "cell_type": "markdown",
   "id": "1e1ef453-d6c5-4f17-b0fc-8fb9e1ef3ffb",
   "metadata": {},
   "source": [
    "### Grau de liberdade da regressão ( $gl_{regressão}$ )\n",
    "\n",
    "$$gl_{regressão} = 1 $$"
   ]
  },
  {
   "cell_type": "code",
   "execution_count": 21,
   "id": "0207ae97-24f3-452b-8adb-9c56f9f326f8",
   "metadata": {},
   "outputs": [
    {
     "data": {
      "text/plain": [
       "1"
      ]
     },
     "execution_count": 21,
     "metadata": {},
     "output_type": "execute_result"
    }
   ],
   "source": [
    "gl_reg = 1\n",
    "gl_reg"
   ]
  },
  {
   "cell_type": "markdown",
   "id": "60c0daa1-6edd-48fb-82c3-30afedb4e046",
   "metadata": {},
   "source": [
    "### Média da soma dos quadrados da regressão ( $MSQR$ )\n",
    "\n",
    "$$MSQR = \\frac{SQR}{gl_{regressão}}$$\n",
    "\n",
    "onde:\n",
    "- $SQR$ é o somatório quadrático da diferença entre cada sinal predito e a média dos sinais;\n",
    "- $gl_{regressão}$ é o grau de liberdade assiciado a regressão;"
   ]
  },
  {
   "cell_type": "code",
   "execution_count": 22,
   "id": "6cb54d1b-2c7b-411e-a011-202f45b768fd",
   "metadata": {},
   "outputs": [
    {
     "data": {
      "text/plain": [
       "146.808503333476"
      ]
     },
     "execution_count": 22,
     "metadata": {},
     "output_type": "execute_result"
    }
   ],
   "source": [
    "MSQR = SQR/gl_reg\n",
    "MSQR"
   ]
  },
  {
   "cell_type": "markdown",
   "id": "9752364d-bc24-48c8-bb0d-744feb1959c7",
   "metadata": {},
   "source": [
    "### Somatório dos quadrados dos ERROS ( $SQE$ )\n",
    "\n",
    "$$SQE = \\sum_{i=1}^{n} (\\widehat{y_{i}} - y_{i})^{2}$$\n",
    "\n",
    "onde:\n",
    "- $n$ é o número total de observações;\n",
    "- $\\widehat{y_{i}}$ é o valor do sinal predito para a i-ésima observação;\n",
    "- $y_{i}$ é o valor do sinal para a i-ésima observação;\n",
    "\n",
    "> Tem a unidade do sinal ao quadrado"
   ]
  },
  {
   "cell_type": "code",
   "execution_count": 23,
   "id": "ee7ed6f1-1934-449d-a726-56ca72092307",
   "metadata": {},
   "outputs": [],
   "source": [
    "df['sqe'] = np.square(df[\"ypred\"] - df[nome_sinal])"
   ]
  },
  {
   "cell_type": "code",
   "execution_count": 24,
   "id": "e3ae0a8c-6b9f-4613-b8b6-bc90f8664add",
   "metadata": {},
   "outputs": [
    {
     "data": {
      "text/plain": [
       "0.14673475779706968"
      ]
     },
     "execution_count": 24,
     "metadata": {},
     "output_type": "execute_result"
    }
   ],
   "source": [
    "SQE = df['sqe'].sum()\n",
    "SQE"
   ]
  },
  {
   "cell_type": "markdown",
   "id": "0a4fbb99-9a6c-47ed-90f8-04d1d1c08a6a",
   "metadata": {},
   "source": [
    "### Grau de liberdade dos erros ( $gl_{erros}$ )\n",
    "\n",
    "$$gl_{erros} = n - 2$$\n",
    "\n",
    "onde:\n",
    "- $n$ é o número total de observações;"
   ]
  },
  {
   "cell_type": "code",
   "execution_count": 25,
   "id": "70dfacb6-242d-4edc-ad76-8c3cee8b4140",
   "metadata": {},
   "outputs": [
    {
     "data": {
      "text/plain": [
       "9"
      ]
     },
     "execution_count": 25,
     "metadata": {},
     "output_type": "execute_result"
    }
   ],
   "source": [
    "gl_erro = df.shape[0] - 2\n",
    "gl_erro"
   ]
  },
  {
   "cell_type": "markdown",
   "id": "1ca5db77-0448-44e0-85e7-fe9d02e884c5",
   "metadata": {},
   "source": [
    "### Média da soma dos quadrados dos erros ( $MSQE$ )\n",
    "\n",
    "$$MSQE = \\frac{SQE}{gl_{erros}}$$\n",
    "\n",
    "onde:\n",
    "- $SQE$ é o somatório quadrático da diferença entre cada sinal e respectivo sinal predito;\n",
    "- $gl_{erros}$ é o grau de liberdade assiciado aos erros;\n",
    "\n",
    "> Tem a unidade do sinal ao quadrado"
   ]
  },
  {
   "cell_type": "code",
   "execution_count": 26,
   "id": "3b10ac60-71ab-452f-b855-59abb38effa6",
   "metadata": {},
   "outputs": [
    {
     "data": {
      "text/plain": [
       "0.016303861977452188"
      ]
     },
     "execution_count": 26,
     "metadata": {},
     "output_type": "execute_result"
    }
   ],
   "source": [
    "MSQE = SQE/gl_erro\n",
    "MSQE"
   ]
  },
  {
   "cell_type": "markdown",
   "id": "acef2034-c6b2-4193-b8fc-623abcafb960",
   "metadata": {},
   "source": [
    "### Estatística do teste ( $F_{calculado}$ )\n",
    "\n",
    "$$ F_{calculado} = \\frac{MSQR}{MSQE}$$\n",
    "\n",
    "onde:\n",
    "- $MSQR$ é a quantidade média de variância que o modelo consegue explicar;\n",
    "- $MSQE$ é a quantidade média de variância que o modelo não consegue explicar;\n",
    "\n"
   ]
  },
  {
   "cell_type": "code",
   "execution_count": 27,
   "id": "b066337b-5421-43a4-b51d-d73fdf75940f",
   "metadata": {},
   "outputs": [
    {
     "data": {
      "text/plain": [
       "9004.52319435164"
      ]
     },
     "execution_count": 27,
     "metadata": {},
     "output_type": "execute_result"
    }
   ],
   "source": [
    "Fcalc = MSQR/MSQE\n",
    "Fcalc"
   ]
  },
  {
   "cell_type": "markdown",
   "id": "6e2ea66c-efcb-49b4-9fee-7668004e0647",
   "metadata": {},
   "source": [
    "### Valor crítico ( $F_{critico}$ )\n",
    "\n",
    "$$F_{crítico} = F_{1-\\alpha, gl_{regressão}, gl{erros}}$$\n",
    "\n",
    "onde:\n",
    "- $\\alpha$ é o nível de significância adotado;\n",
    "- $gl_{regressão}$ é o grau de liberdade assiciado a regressão;\n",
    "- $gl_{erros}$ é o grau de liberdade assiciado aos erros;\n",
    "\n",
    "> Utiliza-se a distribuição F unilateral"
   ]
  },
  {
   "cell_type": "code",
   "execution_count": 28,
   "id": "c1ac15f7-8990-4e12-ac34-68fdc5aa647a",
   "metadata": {},
   "outputs": [
    {
     "data": {
      "text/plain": [
       "5.117355029199227"
      ]
     },
     "execution_count": 28,
     "metadata": {},
     "output_type": "execute_result"
    }
   ],
   "source": [
    "Ftab = stats.f.ppf(1-alfa, gl_reg, gl_erro)\n",
    "Ftab"
   ]
  },
  {
   "cell_type": "markdown",
   "id": "953c2926-12d0-452f-af67-d82e87e56454",
   "metadata": {},
   "source": [
    "### p-valor ( $p-valor$ ) "
   ]
  },
  {
   "cell_type": "code",
   "execution_count": 29,
   "id": "2b881d96-10b4-4f8f-9bd6-ba11b5c99910",
   "metadata": {},
   "outputs": [
    {
     "data": {
      "text/plain": [
       "8.104628079763643e-15"
      ]
     },
     "execution_count": 29,
     "metadata": {},
     "output_type": "execute_result"
    }
   ],
   "source": [
    "p_valor = 1- stats.f.cdf(Fcalc, gl_reg, gl_erro)\n",
    "p_valor"
   ]
  },
  {
   "cell_type": "markdown",
   "id": "4f5370e3-d5ed-4179-b6f5-7f39bd8ad474",
   "metadata": {},
   "source": [
    "### Conclusão do teste\n",
    "\n",
    "Hipóteses do teste:\n",
    "\n",
    "$$H_{0}: \\beta_{1} = 0$$\n",
    "\n",
    "$$H_{1}: \\beta_{1} \\neq 0$$\n",
    "\n",
    "#### Utilizando o p-valor\n",
    "\n",
    "- Se $p-valor \\geq \\alpha$, falha em rejeitar a hipótese nula com o nível de singificância adotado $\\alpha$ nível de singnificância (a regressão ***não é significativa***);\n",
    "- Se $p-valor < \\alpha$, rejeita a hipótese nula com o nível de singificância adotado $\\alpha$ nível de singnificância (a regressão ***é significativa***);\n",
    "\n",
    "\n",
    "#### Utilizando o valor crítico\n",
    "\n",
    "- Se $F_{crítico} \\geq F_{calculado}$, falha em rejeitar a hipótese nula com o nível de singificância adotado $\\alpha$ nível de singnificância (a regressão ***não é significativa***);\n",
    "- Se $F_{crítico} < F_{calculado}$, rejeita a hipótese nula com o nível de singificância adotado $\\alpha$ nível de singnificância (a regressão ***é significativa***);"
   ]
  },
  {
   "cell_type": "code",
   "execution_count": 30,
   "id": "2ee623bd-ca40-40b4-8467-844dd10ae960",
   "metadata": {},
   "outputs": [
    {
     "data": {
      "text/plain": [
       "'A regressão é significativa? Sim'"
      ]
     },
     "execution_count": 30,
     "metadata": {},
     "output_type": "execute_result"
    }
   ],
   "source": [
    "if p_valor < alfa:\n",
    "    anova_significativo = \"Sim\"\n",
    "else:\n",
    "    anova_significativo = \"Não\"\n",
    "    \n",
    "f\"A regressão é significativa? {anova_significativo}\""
   ]
  },
  {
   "cell_type": "markdown",
   "id": "6864dbf1-dcd0-430e-81df-7ddb2f2cb721",
   "metadata": {},
   "source": [
    "### Verificações\n",
    "\n",
    "#### Somatório dos quadrados\n",
    "\n",
    "$$ SQT = SQR + SQE$$"
   ]
  },
  {
   "cell_type": "code",
   "execution_count": 31,
   "id": "b12bb19d-8656-4e64-b7d1-012b1d9a4921",
   "metadata": {},
   "outputs": [
    {
     "data": {
      "text/plain": [
       "False"
      ]
     },
     "execution_count": 31,
     "metadata": {},
     "output_type": "execute_result"
    }
   ],
   "source": [
    "SQT == SQR + SQE"
   ]
  },
  {
   "cell_type": "markdown",
   "id": "ec4e32dd-ddee-47ea-bbc9-dc9f53fa7e94",
   "metadata": {},
   "source": [
    "#### Graus de liberdade\n",
    "\n",
    "$$ gl_{total} = gl_{regressão} + gl_{erros}$$"
   ]
  },
  {
   "cell_type": "code",
   "execution_count": 32,
   "id": "9c13fca9-b071-474f-b9db-8f23e026bf01",
   "metadata": {},
   "outputs": [
    {
     "data": {
      "text/plain": [
       "True"
      ]
     },
     "execution_count": 32,
     "metadata": {},
     "output_type": "execute_result"
    }
   ],
   "source": [
    "gl_total == gl_reg + gl_erro"
   ]
  },
  {
   "cell_type": "markdown",
   "id": "8fb1ce30-ce0f-4dc5-8fba-a7128d580320",
   "metadata": {},
   "source": [
    "### Tabela de ANOVA"
   ]
  },
  {
   "cell_type": "code",
   "execution_count": 33,
   "id": "c8139b47-42ac-4db9-ad7c-af0c1e48d16f",
   "metadata": {},
   "outputs": [
    {
     "data": {
      "text/html": [
       "<div>\n",
       "<style scoped>\n",
       "    .dataframe tbody tr th:only-of-type {\n",
       "        vertical-align: middle;\n",
       "    }\n",
       "\n",
       "    .dataframe tbody tr th {\n",
       "        vertical-align: top;\n",
       "    }\n",
       "\n",
       "    .dataframe thead th {\n",
       "        text-align: right;\n",
       "    }\n",
       "</style>\n",
       "<table border=\"1\" class=\"dataframe\">\n",
       "  <thead>\n",
       "    <tr style=\"text-align: right;\">\n",
       "      <th></th>\n",
       "      <th>Fonte de Variação</th>\n",
       "      <th>Somatório</th>\n",
       "      <th>gl</th>\n",
       "      <th>Médias</th>\n",
       "      <th>F calculado</th>\n",
       "      <th>F tabelado</th>\n",
       "      <th>p-valor</th>\n",
       "      <th>Singnificativo?</th>\n",
       "    </tr>\n",
       "  </thead>\n",
       "  <tbody>\n",
       "    <tr>\n",
       "      <th>0</th>\n",
       "      <td>Regressão</td>\n",
       "      <td>146.808503</td>\n",
       "      <td>1</td>\n",
       "      <td>146.808503</td>\n",
       "      <td>9004.523194</td>\n",
       "      <td>5.117355</td>\n",
       "      <td>0.0</td>\n",
       "      <td>Sim</td>\n",
       "    </tr>\n",
       "    <tr>\n",
       "      <th>1</th>\n",
       "      <td>Resíduos</td>\n",
       "      <td>0.146735</td>\n",
       "      <td>9</td>\n",
       "      <td>0.016304</td>\n",
       "      <td></td>\n",
       "      <td></td>\n",
       "      <td></td>\n",
       "      <td></td>\n",
       "    </tr>\n",
       "    <tr>\n",
       "      <th>2</th>\n",
       "      <td>Total</td>\n",
       "      <td>146.955238</td>\n",
       "      <td>10</td>\n",
       "      <td>14.695524</td>\n",
       "      <td></td>\n",
       "      <td></td>\n",
       "      <td></td>\n",
       "      <td></td>\n",
       "    </tr>\n",
       "  </tbody>\n",
       "</table>\n",
       "</div>"
      ],
      "text/plain": [
       "  Fonte de Variação   Somatório  gl      Médias  F calculado F tabelado  \\\n",
       "0         Regressão  146.808503   1  146.808503  9004.523194   5.117355   \n",
       "1          Resíduos    0.146735   9    0.016304                           \n",
       "2             Total  146.955238  10   14.695524                           \n",
       "\n",
       "  p-valor Singnificativo?  \n",
       "0     0.0             Sim  \n",
       "1                          \n",
       "2                          "
      ]
     },
     "execution_count": 33,
     "metadata": {},
     "output_type": "execute_result"
    }
   ],
   "source": [
    "df_anova = pd.DataFrame({\n",
    "    \"Fonte de Variação\": [\"Regressão\", \"Resíduos\", \"Total\"],\n",
    "    \"Somatório\": [SQR, SQE, SQT],\n",
    "    \"gl\": [gl_reg, gl_erro, gl_total],\n",
    "    \"Médias\": [MSQR, MSQE, MSQT],\n",
    "    \"F calculado\": [Fcalc, \"\", \"\"],\n",
    "    \"F tabelado\": [Ftab, \"\", \"\"],\n",
    "    \"p-valor\": [p_valor, \"\", \"\"],\n",
    "    \"Singnificativo?\": [anova_significativo, \"\", \"\"]\n",
    "})\n",
    "df_anova"
   ]
  },
  {
   "cell_type": "markdown",
   "id": "f4467fb0-8ddc-484e-824c-64b6161c4054",
   "metadata": {},
   "source": [
    "### Gráfico da distribuição F"
   ]
  },
  {
   "cell_type": "code",
   "execution_count": 34,
   "id": "3cb33bc2-826a-438a-a2ff-f770d8c1f735",
   "metadata": {},
   "outputs": [
    {
     "data": {
      "image/png": "[encoded data removed]",
      "text/plain": [
       "<Figure size 600x300 with 1 Axes>"
      ]
     },
     "metadata": {},
     "output_type": "display_data"
    }
   ],
   "source": [
    "functions.make_f_distribution_plot(Fcalc, gl_reg, gl_erro, alpha=alfa)"
   ]
  },
  {
   "cell_type": "markdown",
   "id": "bc491d5b-2d54-48b7-8d4c-1586abf6b261",
   "metadata": {
    "tags": []
   },
   "source": [
    "## Coeficiente de determinação ( $R^{2}$ )\n",
    "\n",
    "$$R^{2} = \\frac{SQR}{SQT}$$\n",
    "\n",
    "onde:\n",
    "- $SQR$ é o somatório quadrático da diferença entre cada sinal predito e a média dos sinais;\n",
    "- $SQT$ é o somatório quadrático da diferença entre cada sinal e a média dos sinais;\n",
    "\n",
    "\n",
    "$$R^{2} = \\frac{\\sum_{i=1}^{n} (\\widehat{y_{i}} - \\overline{y})^{2}}{\\sum_{i=1}^{n} (y_{i} - \\overline{y})^{2}}$$\n",
    "\n",
    "onde:\n",
    "- $n$ é o número total de observações;\n",
    "- $\\widehat{y_{i}}$ é o valor do sinal predito para a i-ésima observação;\n",
    "- $\\overline{y}$ é a média dos sinais;\n",
    "- $y_{i}$ é o valor do sinal para a i-ésima observação;\n"
   ]
  },
  {
   "cell_type": "code",
   "execution_count": 35,
   "id": "8c126658-ab73-4eae-8497-11c0e56843ad",
   "metadata": {},
   "outputs": [
    {
     "data": {
      "text/plain": [
       "0.999001500322799"
      ]
     },
     "execution_count": 35,
     "metadata": {},
     "output_type": "execute_result"
    }
   ],
   "source": [
    "R2 = SQR/SQT\n",
    "R2"
   ]
  },
  {
   "cell_type": "markdown",
   "id": "918a8e0f-7166-4060-afe5-6b2ba4977729",
   "metadata": {},
   "source": [
    "### Coeficiente de determinação ajustado ( $R_{ajustado}^{2}$ )\n",
    "\n",
    "$$R_{ajustado}^{2} = 1 - \\frac{MSQE}{MSQT}$$\n",
    "\n",
    "onde:\n",
    "- $MSQE$ é a quantidade média de variância que o modelo não consegue explicar;\n",
    "- $MSQT$ é a média de toda a variância;"
   ]
  },
  {
   "cell_type": "code",
   "execution_count": 36,
   "id": "5f14a2bd-769e-4570-b29e-eeab43853ce7",
   "metadata": {},
   "outputs": [
    {
     "data": {
      "text/plain": [
       "0.9988905559142216"
      ]
     },
     "execution_count": 36,
     "metadata": {},
     "output_type": "execute_result"
    }
   ],
   "source": [
    "R2ajustado = 1 - MSQE/MSQT\n",
    "R2ajustado"
   ]
  },
  {
   "cell_type": "markdown",
   "id": "1ea3beac-4928-4a7f-a891-45d083fe34f8",
   "metadata": {},
   "source": [
    "## Diagnóstico do modelo"
   ]
  },
  {
   "cell_type": "markdown",
   "id": "e4622009-0608-4c5d-9bb1-be936f6ba901",
   "metadata": {},
   "source": [
    "### Resíduos ( $resíduos$ )\n",
    "\n",
    "$$ resíduos = y_{i} - \\widehat{y_{i}}$$\n",
    "\n",
    "onde:\n",
    "- $\\widehat{y_{i}}$ é o valor do sinal predito para a i-ésima observação;\n",
    "- $\\overline{y}$ é a média dos sinais;\n"
   ]
  },
  {
   "cell_type": "code",
   "execution_count": 37,
   "id": "7caa1d2b-19c4-4ad5-a708-fb497b633d86",
   "metadata": {},
   "outputs": [],
   "source": [
    "df['Resíduos'] = df[nome_sinal] - df['ypred']"
   ]
  },
  {
   "cell_type": "markdown",
   "id": "42cc7c76-8dbb-48d9-9b0d-dfa7c34b5925",
   "metadata": {},
   "source": [
    "### Média dos resíduos igual a zero (teste t de Student pareado)\n",
    "\n",
    "$$t_{calc} = \\frac{(\\overline{resíduos} - \\mu_{0}) \\times \\sqrt{n}}{s_{resíduos}}$$\n",
    "\n",
    "\n",
    "onde:\n",
    "- $n$ é o número total de observações;\n",
    "- $\\overline{resíduos}$ é a média dos resíduos;\n",
    "- $\\mu_{0}$ é o valor esperado para os resíduos, ( e.g., $\\mu_{0}=0$ );\n",
    "- $s_{resíduos}$ é o desvio padrão dos resíduos ( $\\sqrt{MSQE}$ );\n",
    "\n",
    "#### Conclusão do teste\n",
    "\n",
    "Hipóteses do teste:\n",
    "\n",
    "$$H_{0}: \\overline{resíduos} = \\mu_{0} = 0$$\n",
    "\n",
    "$$H_{1}: \\overline{resíduos} \\neq \\mu_{0} \\neq 0$$\n",
    "\n",
    "\n",
    "##### Utilizando o p-valor\n",
    "\n",
    "- Se $p-valor \\geq \\alpha$, falha em rejeitar a hipótese nula com o nível de singificância adotado $\\alpha$ nível de singnificância (a média dos resíduos é ***diferente de zero***);\n",
    "- Se $p-valor < \\alpha$, rejeita a hipótese nula com o nível de singificância adotado $\\alpha$ nível de singnificância (a regressão média dos resíduos é ***igual a zero***);\n",
    "\n",
    "\n",
    "##### Utilizando o valor crítico\n",
    "\n",
    "- Se $t_{crítico} \\geq t_{calculado}$, falha em rejeitar a hipótese nula com o nível de singificância adotado $\\alpha$ nível de singnificância (a média dos resíduos é ***diferente de zero***);\n",
    "- Se $t_{crítico} < t_{calculado}$, rejeita a hipótese nula com o nível de singificância adotado $\\alpha$ nível de singnificância (a regressão média dos resíduos é ***igual a zero***);\n",
    "\n",
    "O valor crítico do teste é obtido da distribuição t de Student bilateral com $gl_{erros}$."
   ]
  },
  {
   "cell_type": "code",
   "execution_count": 38,
   "id": "6ca246c1-f1c9-4a99-89ab-ef022367b89a",
   "metadata": {},
   "outputs": [
    {
     "name": "stdout",
     "output_type": "stream",
     "text": [
      "Os resídos tem média = 3.431598439750484e-16 e desvio padrão = 0.12768657712325202\n"
     ]
    }
   ],
   "source": [
    "print(f\"Os resídos tem média = {df['Resíduos'].mean()} e desvio padrão = {np.sqrt(MSQE)}\")"
   ]
  },
  {
   "cell_type": "code",
   "execution_count": 39,
   "id": "d1796453-38e3-4e0a-b300-4d9c008e8f16",
   "metadata": {},
   "outputs": [
    {
     "data": {
      "text/plain": [
       "8.913485436167121e-15"
      ]
     },
     "execution_count": 39,
     "metadata": {},
     "output_type": "execute_result"
    }
   ],
   "source": [
    "paired_t_test_mean = df['Resíduos'].mean()/(np.sqrt(MSQE)/np.sqrt(df.shape[0]))\n",
    "paired_t_test_mean"
   ]
  },
  {
   "cell_type": "code",
   "execution_count": 40,
   "id": "5ab806b1-dfee-4763-898b-e9f019a784f0",
   "metadata": {},
   "outputs": [
    {
     "data": {
      "text/plain": [
       "0.9999999999999931"
      ]
     },
     "execution_count": 40,
     "metadata": {},
     "output_type": "execute_result"
    }
   ],
   "source": [
    "paired_t_test_mean_p = (1 - stats.t.cdf(np.abs(paired_t_test_mean), gl_erro))*2\n",
    "paired_t_test_mean_p"
   ]
  },
  {
   "cell_type": "code",
   "execution_count": 41,
   "id": "cf378040-39df-4aa8-8e0e-8c17e4828a03",
   "metadata": {},
   "outputs": [
    {
     "name": "stdout",
     "output_type": "stream",
     "text": [
      "A média dos resíduos é igual a 0 (p-valor = 1.0)\n"
     ]
    }
   ],
   "source": [
    "if paired_t_test_mean_p < alfa:\n",
    "    print(f\"A média dos resíduos é diferente de 0 (p-valor = {round(paired_t_test_mean_p, 2)})\")\n",
    "else:\n",
    "    print(f\"A média dos resíduos é igual a 0 (p-valor = {round(paired_t_test_mean_p, 2)})\")"
   ]
  },
  {
   "cell_type": "code",
   "execution_count": 42,
   "id": "e4b171d8-4abb-4450-b789-a1551124eb9b",
   "metadata": {},
   "outputs": [
    {
     "data": {
      "text/plain": [
       "2.2621571627409915"
      ]
     },
     "execution_count": 42,
     "metadata": {},
     "output_type": "execute_result"
    }
   ],
   "source": [
    "t_critico = stats.t.ppf(1-alfa/2, gl_erro)\n",
    "t_critico"
   ]
  },
  {
   "cell_type": "markdown",
   "id": "6941c754-83b4-4ef1-bd14-3d39820397f2",
   "metadata": {},
   "source": [
    "#### Gráfico da distribuição t de Student para a média dos resíduos"
   ]
  },
  {
   "cell_type": "code",
   "execution_count": 43,
   "id": "6383b9d6-dbdc-4aa7-848a-34f23364fd93",
   "metadata": {},
   "outputs": [
    {
     "data": {
      "image/png": "[encoded data removed]",
      "text/plain": [
       "<Figure size 800x400 with 1 Axes>"
      ]
     },
     "metadata": {},
     "output_type": "display_data"
    }
   ],
   "source": [
    "functions.make_t_distribution_plot(t_calc=paired_t_test_mean, gl=gl_erro, alpha=alfa)"
   ]
  },
  {
   "cell_type": "markdown",
   "id": "81ec4a08-809c-4ac7-9a5b-95325c9a6298",
   "metadata": {},
   "source": [
    "\n"
   ]
  },
  {
   "cell_type": "markdown",
   "id": "3dd6b742-3c97-4cf3-acb9-1adabfd23b4e",
   "metadata": {},
   "source": [
    "### Resíduos apresentam distribuição Normal ( Shapiro-Wilk )\n",
    "\n",
    "\n",
    "#### Conclusão do teste\n",
    "\n",
    "Hipóteses do teste:\n",
    "\n",
    "$$H_{0}: Os \\; resíduos \\; apresentam \\; distribuição \\; Normal$$\n",
    "\n",
    "$$H_{1}: Os \\; resíduos \\; não \\; apresentam \\; distribuição \\; Normal$$\n",
    "\n",
    "\n",
    "##### Utilizando o p-valor\n",
    "\n",
    "- Se $p-valor \\geq \\alpha$, falha em rejeitar a hipótese nula com o nível de singificância adotado $\\alpha$ nível de singnificância (os resíduos ***não apresentam distribuição Normal***);\n",
    "- Se $p-valor < \\alpha$, rejeita a hipótese nula com o nível de singificância adotado $\\alpha$ nível de singnificância (os resíduos ***apresentam distribuição Normal***);\n"
   ]
  },
  {
   "cell_type": "code",
   "execution_count": 44,
   "id": "fd3bb84e-2000-4855-9012-44f50254be60",
   "metadata": {},
   "outputs": [],
   "source": [
    "norm_test_stats, norm_test_p_value = stats.shapiro(df['Resíduos'])"
   ]
  },
  {
   "cell_type": "code",
   "execution_count": 45,
   "id": "5e7ee8ff-4024-41b3-8eb2-af0cfd27f87d",
   "metadata": {},
   "outputs": [
    {
     "name": "stdout",
     "output_type": "stream",
     "text": [
      "Os resíduos apresentam distribuição Normal (p_valor = 0.465)\n"
     ]
    }
   ],
   "source": [
    "if norm_test_p_value < alfa:\n",
    "    print(f\"Os resíduos não apresentam distribuição Normal (p_valor = {round(norm_test_p_value, 3)})\")\n",
    "else:\n",
    "    print(f\"Os resíduos apresentam distribuição Normal (p_valor = {round(norm_test_p_value, 3)})\")"
   ]
  },
  {
   "cell_type": "markdown",
   "id": "48a9816c-f71e-4e05-b1dd-d96f2e05c413",
   "metadata": {},
   "source": [
    "### Independência dos resíduos em relação à ordem de coleta\n",
    "\n",
    "\n",
    "#### Gráfico dos resíduos *versus* ordem de coleta"
   ]
  },
  {
   "cell_type": "code",
   "execution_count": 46,
   "id": "a6cee989-f9a9-4641-a4ad-b0854df0036c",
   "metadata": {},
   "outputs": [
    {
     "data": {
      "image/png": "[encoded data removed]",
      "text/plain": [
       "<Figure size 600x400 with 1 Axes>"
      ]
     },
     "metadata": {},
     "output_type": "display_data"
    }
   ],
   "source": [
    "functions.make_residuals_plot_acquisition_order(df[\"Resíduos\"], aquisition_order=df[\"Ordem de coleta\"])"
   ]
  },
  {
   "cell_type": "markdown",
   "id": "efaa1278-51ea-46d8-9dd8-258bef8b21d8",
   "metadata": {},
   "source": [
    "### Independência dos resíduos em relação ao ajustamento\n",
    "\n",
    "#### Gráfico dos resíduos *versus* sinal predito"
   ]
  },
  {
   "cell_type": "code",
   "execution_count": 47,
   "id": "928d9202-72bf-47b4-9c8c-1cb85dc04205",
   "metadata": {},
   "outputs": [
    {
     "data": {
      "image/png": "[encoded data removed]",
      "text/plain": [
       "<Figure size 600x400 with 1 Axes>"
      ]
     },
     "metadata": {},
     "output_type": "display_data"
    }
   ],
   "source": [
    "functions.make_independent_residuals_plot(residuals=df[\"Resíduos\"], predicted=df[\"ypred\"])"
   ]
  },
  {
   "cell_type": "markdown",
   "id": "1a83485c-7eb8-48fa-a94b-172708adcafb",
   "metadata": {},
   "source": [
    "### Outliers (Resíduos padronizados)\n",
    "\n",
    "$$resíduo \\; padronizado_{i} = \\frac{resíduo_{i}}{\\sqrt{MSQE}}$$\n",
    "\n",
    "onde:\n",
    "- $resíduo_{i}$ é o resíduo da i-ésima observação;\n",
    "- $MSQE$ é a quantidade média de variância que o modelo não consegue explicar;\n",
    "\n",
    "\n",
    "#### Conclusão\n",
    "\n",
    "> Se $|resíduo \\; padronizado_{i}| > 3$, a i-ésima observação é um possível outlier"
   ]
  },
  {
   "cell_type": "code",
   "execution_count": 48,
   "id": "f1539c74-8aa2-4acc-a31e-d7bff110b9f7",
   "metadata": {},
   "outputs": [],
   "source": [
    "df['Resíduos Padronizados'] = functions.standardized_residuals(df['Resíduos'], MSQE)"
   ]
  },
  {
   "cell_type": "code",
   "execution_count": 49,
   "id": "4fcfecef-f826-4426-928e-5323b6cfcd8a",
   "metadata": {},
   "outputs": [
    {
     "name": "stdout",
     "output_type": "stream",
     "text": [
      "Nenhum resíduo padronizado é maior do que 2.\n"
     ]
    }
   ],
   "source": [
    "functions.check_standardized_residuals(df['Resíduos Padronizados'], df[\"Ensaio\"], limite=2)"
   ]
  },
  {
   "cell_type": "code",
   "execution_count": 50,
   "id": "a0ae7c06-2a46-49b3-8720-46312c31da24",
   "metadata": {},
   "outputs": [
    {
     "name": "stdout",
     "output_type": "stream",
     "text": [
      "Nenhum resíduo padronizado é maior do que 3.\n"
     ]
    }
   ],
   "source": [
    "functions.check_standardized_residuals(df['Resíduos Padronizados'], df[\"Ensaio\"], limite=3)"
   ]
  },
  {
   "cell_type": "markdown",
   "id": "1d6e2809-b22c-4ae8-b33c-4f1884e9a946",
   "metadata": {},
   "source": [
    "#### Gráfico dos resíduos padronizados *versus* sinal predito"
   ]
  },
  {
   "cell_type": "code",
   "execution_count": 51,
   "id": "5e5e4c24-8036-48fa-8583-b67e52a47421",
   "metadata": {},
   "outputs": [
    {
     "data": {
      "image/png": "[encoded data removed]",
      "text/plain": [
       "<Figure size 600x300 with 1 Axes>"
      ]
     },
     "metadata": {},
     "output_type": "display_data"
    }
   ],
   "source": [
    "functions.make_standardized_residuals(df[\"Resíduos Padronizados\"], df[\"ypred\"])"
   ]
  },
  {
   "cell_type": "markdown",
   "id": "8655b943-d409-48f4-8895-044c3b3b52e6",
   "metadata": {},
   "source": [
    "#### Resíduos studentizados\n",
    "\n",
    "\n",
    "$$resíduo \\; student_{i} = \\frac{resíduo_{i}}{\\sqrt{MSQE \\times \\left(1 - h_{ii} \\right)}}$$\n",
    "\n",
    "onde:\n",
    "- $resíduo_{i}$ é o resíduo da i-ésima observação;\n",
    "- $MSQE$ é a quantidade média de variância que o modelo não consegue explicar;\n",
    "- $h_{ii}$ é a alavancagem da i-ésima observação;\n",
    "\n",
    "\n",
    "#### Conclusão\n",
    "\n",
    "> Se $|resíduo \\; student_{i}| > 3 $, a i-ésima observação é um possível outlier extremo\n",
    "\n",
    "> Se $|resíduo \\; student_{i}| > 2 $, a i-ésima observação é um possível outlier moderado"
   ]
  },
  {
   "cell_type": "code",
   "execution_count": 52,
   "id": "dd068c3a-2503-4860-861c-e474a714a81b",
   "metadata": {},
   "outputs": [],
   "source": [
    "df['Resíduos Studentizados'] = functions.studentized_residuals(df[\"Resíduos\"], MSQE, df[\"Alavancagem\"])"
   ]
  },
  {
   "cell_type": "code",
   "execution_count": 53,
   "id": "bc05f86a-7922-4ff9-8279-6aa9e6f7e9f6",
   "metadata": {},
   "outputs": [
    {
     "name": "stdout",
     "output_type": "stream",
     "text": [
      "Nenhum resíduo studentizado é maior do que 2.\n"
     ]
    }
   ],
   "source": [
    "functions.check_studentized_residuals(df['Resíduos Studentizados'], df['Ensaio'])     "
   ]
  },
  {
   "cell_type": "code",
   "execution_count": 54,
   "id": "8dd225dc-7ed7-4275-9116-7b99b137adb4",
   "metadata": {},
   "outputs": [
    {
     "name": "stdout",
     "output_type": "stream",
     "text": [
      "Nenhum resíduo studentizado é maior do que 3.\n"
     ]
    }
   ],
   "source": [
    "functions.check_studentized_residuals(df['Resíduos Studentizados'], df['Ensaio'], limite=3)     "
   ]
  },
  {
   "cell_type": "code",
   "execution_count": 55,
   "id": "017c59f4-750e-432a-96ea-1b36ce78b1bc",
   "metadata": {},
   "outputs": [
    {
     "data": {
      "image/png": "[encoded data removed]",
      "text/plain": [
       "<Figure size 600x300 with 1 Axes>"
      ]
     },
     "metadata": {},
     "output_type": "display_data"
    }
   ],
   "source": [
    "functions.make_studentized_residuals_plot(df['Resíduos Studentizados'], df['ypred'])"
   ]
  },
  {
   "cell_type": "markdown",
   "id": "bbbcbf22-d9f6-4ac0-99db-412857a71a2e",
   "metadata": {},
   "source": [
    "#### Resíduos studentizados excluído (ou studentizados externamente)\n",
    "\n",
    "$$t_{i} = \\frac{resíduo_{i}}{\\sqrt{MSQE_{i} \\times \\left(1- h_{ii} \\right)}}$$\n",
    "\n",
    "onde:\n",
    "- $resíduo_{i}$ é o resíduo da i-ésima observação;\n",
    "- $h_{ii}$ é a alavancagem da i-ésima observação;\n",
    "- $MSQE_{i}$ é a média da soma dos quadrados dos erros obtida *excluindo* a i-ésima observação;\n",
    "\n",
    "\n",
    "$$t_{i} = res \\; student_{i} \\left( \\frac{n - n_{p} - 1}{n - n_{p} - res \\; student_{i}^{2}} \\right)^{2}$$\n",
    "\n",
    "onde:\n",
    "- $res \\; student_{i}$ é o resíduo studentizado da i-ésima observação;\n",
    "- $n$ é o número total de observações;\n",
    "- $n_{p}$ é o número de parâmetros do modelo, incluindo o intercepto ( e.g. $n_{p}=2$ );\n"
   ]
  },
  {
   "cell_type": "code",
   "execution_count": 56,
   "id": "0d6d092c-46ed-4d62-b198-7d7599670d35",
   "metadata": {},
   "outputs": [],
   "source": [
    "df[\"Resíduos studentizados deletados\"] = functions.deleted_t_residuals(df[\"Resíduos\"], df[\"Alavancagem\"], MSQE)"
   ]
  },
  {
   "cell_type": "code",
   "execution_count": 57,
   "id": "a48ef133-99d3-4540-8c9b-c8353469aa80",
   "metadata": {},
   "outputs": [
    {
     "name": "stdout",
     "output_type": "stream",
     "text": [
      "Nenhum resíduo studentizado é maior do que 2.3060041350333704.\n"
     ]
    },
    {
     "data": {
      "text/plain": [
       "(2.3060041350333704,\n",
       " [0.44085916754568477,\n",
       "  0.5766401005501138,\n",
       "  0.41024612000730176,\n",
       "  0.45796245693757043,\n",
       "  0.7594151195270544,\n",
       "  0.2926685358802603,\n",
       "  0.218097248475001,\n",
       "  0.3639166173935666,\n",
       "  0.07173713461859377,\n",
       "  0.5147713169609607,\n",
       "  0.585030110973888])"
      ]
     },
     "execution_count": 57,
     "metadata": {},
     "output_type": "execute_result"
    }
   ],
   "source": [
    "functions.check_deleted_t_residuals(df[\"Resíduos studentizados deletados\"], df[\"Ensaio\"])"
   ]
  },
  {
   "cell_type": "code",
   "execution_count": 58,
   "id": "dde421f0-d719-4bde-97f2-db61c378a887",
   "metadata": {},
   "outputs": [
    {
     "data": {
      "image/png": "[encoded data removed]",
      "text/plain": [
       "<Figure size 600x300 with 1 Axes>"
      ]
     },
     "metadata": {},
     "output_type": "display_data"
    }
   ],
   "source": [
    "functions.make_deleted_t_residuals(df[\"Resíduos studentizados deletados\"], df[\"ypred\"], n_param=2, alpha_mild=0.05, alpha_extreme=0.01)"
   ]
  },
  {
   "cell_type": "code",
   "execution_count": 59,
   "id": "2acab2e4-5b68-41e3-be2e-e0ae7ddb32d0",
   "metadata": {},
   "outputs": [],
   "source": [
    "df[\"Cook\"] = functions.cook_distance(df[\"Resíduos Studentizados\"], df[\"Alavancagem\"])"
   ]
  },
  {
   "cell_type": "code",
   "execution_count": 60,
   "id": "e9d4a701-2ab2-4aaf-a75c-a40e3ee08737",
   "metadata": {},
   "outputs": [
    {
     "name": "stdout",
     "output_type": "stream",
     "text": [
      "Nenhuma amostra foi considerada influente (1).\n"
     ]
    }
   ],
   "source": [
    "functions.check_cooks_distance(df[\"Cook\"], df[\"Ensaio\"], influential=1)"
   ]
  },
  {
   "cell_type": "code",
   "execution_count": 61,
   "id": "904024e4-c28f-47f3-8d9c-ea452a111f29",
   "metadata": {},
   "outputs": [
    {
     "data": {
      "image/png": "[encoded data removed]",
      "text/plain": [
       "<Figure size 800x400 with 1 Axes>"
      ]
     },
     "metadata": {},
     "output_type": "display_data"
    }
   ],
   "source": [
    "functions.make_cook_distance_plot(df[\"Cook\"], df[\"Ensaio\"], influential_mild=0.5, influential_extreme=1.0)"
   ]
  },
  {
   "cell_type": "code",
   "execution_count": 62,
   "id": "7a2049ed-99e8-4383-87f2-38eb3ae3b6fc",
   "metadata": {},
   "outputs": [
    {
     "data": {
      "image/png": "[encoded data removed]",
      "text/plain": [
       "<Figure size 800x600 with 1 Axes>"
      ]
     },
     "metadata": {},
     "output_type": "display_data"
    }
   ],
   "source": [
    "functions.make_slopes_versus_intercepts_plot(df[nome_conc], df[nome_sinal], df[\"Ensaio\"])"
   ]
  },
  {
   "cell_type": "code",
   "execution_count": 63,
   "id": "2c6d0764-216f-491b-a8db-44f25940423f",
   "metadata": {},
   "outputs": [
    {
     "name": "stdout",
     "output_type": "stream",
     "text": [
      "0.016303861977452188\n",
      "1712.7272727272727\n",
      "O coeficiente angular (0.293) é diferente de zero (p-valor = 0.0)\n",
      "O coeficiente linear (0.103) é igual a zero (p-valor = 0.0)\n"
     ]
    },
    {
     "data": {
      "text/html": [
       "<div>\n",
       "<style scoped>\n",
       "    .dataframe tbody tr th:only-of-type {\n",
       "        vertical-align: middle;\n",
       "    }\n",
       "\n",
       "    .dataframe tbody tr th {\n",
       "        vertical-align: top;\n",
       "    }\n",
       "\n",
       "    .dataframe thead th {\n",
       "        text-align: right;\n",
       "    }\n",
       "</style>\n",
       "<table border=\"1\" class=\"dataframe\">\n",
       "  <thead>\n",
       "    <tr style=\"text-align: right;\">\n",
       "      <th></th>\n",
       "      <th>Parâmetros</th>\n",
       "      <th>Valor</th>\n",
       "      <th>Desvio padrão</th>\n",
       "      <th>Intervalo confiança (95.0%)</th>\n",
       "      <th>Estatística</th>\n",
       "      <th>t-crítico</th>\n",
       "      <th>p-valor</th>\n",
       "      <th>Significativo?</th>\n",
       "    </tr>\n",
       "  </thead>\n",
       "  <tbody>\n",
       "    <tr>\n",
       "      <th>0</th>\n",
       "      <td>Coeficiente angular</td>\n",
       "      <td>0.292773</td>\n",
       "      <td>0.003085</td>\n",
       "      <td>0.006979</td>\n",
       "      <td>94.892166</td>\n",
       "      <td>2.262157</td>\n",
       "      <td>7.993606e-15</td>\n",
       "      <td>Sim</td>\n",
       "    </tr>\n",
       "    <tr>\n",
       "      <th>1</th>\n",
       "      <td>Intercepto</td>\n",
       "      <td>0.102947</td>\n",
       "      <td>0.059128</td>\n",
       "      <td>0.133758</td>\n",
       "      <td>1.741082</td>\n",
       "      <td>2.262157</td>\n",
       "      <td>1.156543e-01</td>\n",
       "      <td>Não</td>\n",
       "    </tr>\n",
       "  </tbody>\n",
       "</table>\n",
       "</div>"
      ],
      "text/plain": [
       "            Parâmetros     Valor  Desvio padrão  Intervalo confiança (95.0%)  \\\n",
       "0  Coeficiente angular  0.292773       0.003085                     0.006979   \n",
       "1           Intercepto  0.102947       0.059128                     0.133758   \n",
       "\n",
       "   Estatística  t-crítico       p-valor Significativo?  \n",
       "0    94.892166   2.262157  7.993606e-15            Sim  \n",
       "1     1.741082   2.262157  1.156543e-01            Não  "
      ]
     },
     "execution_count": 63,
     "metadata": {},
     "output_type": "execute_result"
    }
   ],
   "source": [
    "df_data = df[[nome_conc, nome_sinal]].copy()\n",
    "df_parameters = functions.fit(df_data, alpha=alfa)\n",
    "\n",
    "\n",
    "df_parameters"
   ]
  },
  {
   "cell_type": "code",
   "execution_count": null,
   "id": "5b136097-5795-4731-bc09-8a97bf045c1e",
   "metadata": {},
   "outputs": [],
   "source": []
  },
  {
   "cell_type": "code",
   "execution_count": null,
   "id": "4b2783a3-7447-4056-8b0b-195933b8cba0",
   "metadata": {},
   "outputs": [],
   "source": []
  },
  {
   "cell_type": "markdown",
   "id": "0ee0b737-410b-4604-8d42-d513689cb43a",
   "metadata": {
    "tags": []
   },
   "source": [
    "### Correlação dos resíduos ( $r_{pearson}$ )\n",
    "\n",
    "\n",
    "\n",
    "$$r_{pearson} = \\frac{\\sum_{i=1}^n (y_i - \\overline{y}) (\\widehat{y_{i}} - \\overline{\\widehat{y}})}{\\sqrt{\\sum_{i=1}^n ((y_i - \\overline{y})^2 \\sum_{i=1}^n ((\\widehat{y_{i}} - \\overline{\\widehat{y}})^2}}$$\n",
    "\n",
    "onde\n",
    "- $n$ é o número total de observações;\n",
    "- $y_i$ é a i-ésima observação do sinal;\n",
    "- $\\overline{y}$ é a média do sinal;\n",
    "- $\\widehat{y_{i}}$ é a i-ésima observação do sinal predito;\n",
    "- $\\overline{\\widehat{y}}$ é a média do sinal predito;\n"
   ]
  },
  {
   "cell_type": "code",
   "execution_count": 64,
   "id": "cb140a36-dc0e-486a-96d1-98668ab49ae4",
   "metadata": {},
   "outputs": [],
   "source": [
    "residual_r_pearson, _ = stats.pearsonr(df[nome_sinal], df['ypred'])"
   ]
  },
  {
   "cell_type": "code",
   "execution_count": 65,
   "id": "89b9d79b-2fb9-4c82-9651-b6e991b4feb9",
   "metadata": {},
   "outputs": [
    {
     "name": "stdout",
     "output_type": "stream",
     "text": [
      "A correlação entre o sinal experimental e o sinal predito é forte (r_pearson = 1.0)\n"
     ]
    }
   ],
   "source": [
    "if residual_r_pearson > 0.90:\n",
    "    print(f\"A correlação entre o sinal experimental e o sinal predito é forte (r_pearson = {round(residual_r_pearson, 2)})\")\n",
    "else:\n",
    "    print(f\"A correlação entre o sinal experimentais e o sinal predito NÃO é forte (r_pearson = {round(residual_r_pearson, 2)})\")"
   ]
  },
  {
   "cell_type": "markdown",
   "id": "54c769a2-7485-47e9-be1e-df9fdef5abf4",
   "metadata": {},
   "source": [
    "#### Gráfico do sinal predito *versus* sinal real"
   ]
  },
  {
   "cell_type": "code",
   "execution_count": 66,
   "id": "f387c2af-f765-4ef1-8790-1fbf4b8e7b43",
   "metadata": {},
   "outputs": [
    {
     "data": {
      "image/png": "[encoded data removed]",
      "text/plain": [
       "<Figure size 640x480 with 1 Axes>"
      ]
     },
     "metadata": {},
     "output_type": "display_data"
    }
   ],
   "source": [
    "# obtendo o limite inferior para o eixo x\n",
    "if df[nome_sinal].min() > df['ypred'].min():\n",
    "    x_min = df['ypred'].min()\n",
    "else:\n",
    "    x_min = df[nome_sinal].min()\n",
    "\n",
    "# obtendo o limite inferior para o eixo y    \n",
    "if df[nome_sinal].max() > df['ypred'].max():\n",
    "    x_max = df[nome_sinal].max()\n",
    "else:\n",
    "    x_max = df['ypred'].max()  \n",
    "    \n",
    "x_max = x_max + 0.2*x_min\n",
    "x_min = x_min - 0.2*x_min\n",
    "\n",
    "# criando o canvas\n",
    "plt.figure()\n",
    "# adicionando os resíduos\n",
    "text = \"$r_{pearson}$\" + f\" = {round(residual_r_pearson, 2)}\"\n",
    "plt.scatter(df[nome_sinal], df['ypred'], edgecolors='k', facecolor='None', label=text)\n",
    "# adicionando reta com slope = 1\n",
    "plt.axline(xy1=(df[nome_sinal].mean(), df[nome_sinal].mean()), slope=1, color=\"black\", linestyle=\"--\", label=\"reta com slope=1\")\n",
    "plt.xlim(x_min, x_max)\n",
    "plt.ylim(x_min, x_max)\n",
    "plt.xlabel(\"Sinal observado\")\n",
    "plt.ylabel(\"Sinal predito\")\n",
    "plt.legend(loc=4)\n",
    "plt.axis('equal')\n",
    "plt.show()"
   ]
  },
  {
   "cell_type": "markdown",
   "id": "892dbd16-0887-4ca9-ac97-cd18e4c8ed1e",
   "metadata": {},
   "source": [
    "## Intervalo de confiança dos parâmetros"
   ]
  },
  {
   "cell_type": "markdown",
   "id": "462d4406-064e-4f9f-9eaf-0e45282e728f",
   "metadata": {},
   "source": [
    "### Coeficiente angular ( $b_{1}$ )\n",
    "\n",
    "\n",
    "#### Desvio padrão\n",
    "\n",
    "$$s_{b_{1}} = \\sqrt{\\frac{MSQE}{S_{xx}}}$$\n",
    "\n",
    "onde:\n",
    "- $MSQE$ é a quantidade média de variância que o modelo não consegue explicar;\n",
    "- $S_{xx}$ é o somatório do erro quadrático da concentração, que é estimado por:\n",
    "\n",
    "$$S_{xx} = \\sum_{i=1}^{n} (x_{i} - \\overline{x})^2$$\n",
    "\n",
    "onde:\n",
    "- $n$ é o número total de observações;\n",
    "- $x_i$ é a i-ésima observação da concentração;\n",
    "- $\\overline{x}$ é a média da concentração;\n",
    "\n",
    "> O $S_{xx}$ tem unidade da concentração ao quadrado\n",
    "\n",
    "> O $s_{b_{1}}$ tem unidade do sinal divido pelo sinal da concentração"
   ]
  },
  {
   "cell_type": "code",
   "execution_count": 67,
   "id": "25e4564e-b26d-46c5-b792-e654cc6e1fcb",
   "metadata": {},
   "outputs": [
    {
     "data": {
      "text/plain": [
       "1712.7272727272727"
      ]
     },
     "execution_count": 67,
     "metadata": {},
     "output_type": "execute_result"
    }
   ],
   "source": [
    "df['sxx'] = np.square(df[nome_conc] - df[nome_conc].mean())\n",
    "Sxx = np.sum(df['sxx'])\n",
    "Sxx"
   ]
  },
  {
   "cell_type": "code",
   "execution_count": 68,
   "id": "9b06af6d-f439-4da6-82a1-59f5d95891cf",
   "metadata": {},
   "outputs": [
    {
     "data": {
      "text/plain": [
       "0.0030853265642499764"
      ]
     },
     "execution_count": 68,
     "metadata": {},
     "output_type": "execute_result"
    }
   ],
   "source": [
    "\n",
    "b1_std = np.sqrt(MSQE/Sxx)\n",
    "b1_std"
   ]
  },
  {
   "cell_type": "markdown",
   "id": "fb3abb7b-9e10-4690-b45d-19323c0ef358",
   "metadata": {},
   "source": [
    "#### Intervalo de confiança ( $IC_{b_{1}}$ )\n",
    "\n",
    "$$ IC_{b_{1}} = t_{gl_{erros}, 1-\\alpha/2} \\times s_{b_{1}}$$\n",
    "\n",
    "onde:\n",
    "- $t_{gl_{erros}, 1-\\alpha/2}$ é o valor crítico da distribuição t de Student bilateral;\n",
    "- $s_{b_{1}}$ é o desvio padrão do coeficiente angular\n",
    "\n",
    "> Tem unidade do sinal divido pelo sinal da concentração"
   ]
  },
  {
   "cell_type": "code",
   "execution_count": 69,
   "id": "8932d74a-6d5b-451d-a359-7b3465dd0a41",
   "metadata": {},
   "outputs": [
    {
     "data": {
      "text/plain": [
       "0.006979493586713138"
      ]
     },
     "execution_count": 69,
     "metadata": {},
     "output_type": "execute_result"
    }
   ],
   "source": [
    "ic_b1 = t_critico*b1_std\n",
    "ic_b1"
   ]
  },
  {
   "cell_type": "markdown",
   "id": "b5ebf091-38c2-480b-a1ab-c952973d966f",
   "metadata": {},
   "source": [
    "#### Valor verdadeiro\n",
    "\n",
    "O valor verdadeiro de $b_{1}$ esta dentro do intervalo:\n",
    "\n",
    "$$b_{1} - IC_{b_{1}} \\leq b_{1} \\leq b_{1} + IC_{b_{1}}$$\n"
   ]
  },
  {
   "cell_type": "code",
   "execution_count": 70,
   "id": "315555d3-d2ca-44c9-bc04-4cf2fc15c63c",
   "metadata": {},
   "outputs": [
    {
     "data": {
      "text/plain": [
       "'0.2858 ≤ b1 ≤  0.2998'"
      ]
     },
     "execution_count": 70,
     "metadata": {},
     "output_type": "execute_result"
    }
   ],
   "source": [
    "f\"{round(b1 - ic_b1, 4)} ≤ b1 ≤  {round(b1 + ic_b1, 4)}\" "
   ]
  },
  {
   "cell_type": "markdown",
   "id": "2c972f05-94e3-4382-8ed0-50f23a8f9e3b",
   "metadata": {},
   "source": [
    "#### Teste de hipótese\n",
    "\n",
    "A estatística do teste é:\n",
    "\n",
    "$$t_{b_{1}} = \\frac{b_{1}}{s_{b_{1}}}$$\n",
    "\n",
    "onde:\n",
    "- $b_{1}$ é o coeficiente angular;\n",
    "- $s_{b_{1}}$ é o desvio padrão do coeficiente angular;\n",
    "\n",
    "\n",
    "Hipótese:\n",
    "\n",
    "$$H_{0}: \\beta_{1} = 0$$\n",
    "$$H_{1}: \\beta_{1} \\neq 0$$\n",
    "\n",
    "\n",
    "##### Conclusão Utilizando o p-valor\n",
    "\n",
    "- Se $p-valor \\geq \\alpha$, falha em rejeitar a hipótese nula com o nível de singificância adotado $\\alpha$ nível de singnificância (o coeficiente angular é ***diferente de zero***);\n",
    "- Se $p-valor < \\alpha$, rejeita a hipótese nula com o nível de singificância adotado $\\alpha$ nível de singnificância (o coeficiente angular é ***igual a zero***);\n",
    "\n",
    "\n",
    "##### Utilizando o valor crítico\n",
    "\n",
    "- Se $t_{crítico} \\geq t_{b_{1}}$, falha em rejeitar a hipótese nula com o nível de singificância adotado $\\alpha$ nível de singnificância (o coeficiente angular é ***diferente de zero***);\n",
    "- Se $t_{crítico} < t_{b_{1}}$, rejeita a hipótese nula com o nível de singificância adotado $\\alpha$ nível de singnificância (o coeficiente angular é ***igual a zero***);\n",
    "\n",
    "O valor crítico do teste é obtido da distribuição t de Student bilateral com $gl_{erros}$."
   ]
  },
  {
   "cell_type": "code",
   "execution_count": 71,
   "id": "83b6956f-ff9e-4610-8109-d1795ffa8db7",
   "metadata": {},
   "outputs": [
    {
     "data": {
      "text/plain": [
       "94.8921661379465"
      ]
     },
     "execution_count": 71,
     "metadata": {},
     "output_type": "execute_result"
    }
   ],
   "source": [
    "t_b1 = b1/b1_std\n",
    "t_b1"
   ]
  },
  {
   "cell_type": "code",
   "execution_count": 72,
   "id": "c215c7cd-8e92-474e-8d4c-cfcd450fcb1c",
   "metadata": {},
   "outputs": [
    {
     "data": {
      "text/plain": [
       "7.993605777301127e-15"
      ]
     },
     "execution_count": 72,
     "metadata": {},
     "output_type": "execute_result"
    }
   ],
   "source": [
    "p_valor_b1 = (1 - stats.t.cdf(t_b1, gl_erro))*2\n",
    "p_valor_b1"
   ]
  },
  {
   "cell_type": "code",
   "execution_count": 73,
   "id": "f5a68fd3-0752-48f1-b610-4128b691bcb4",
   "metadata": {},
   "outputs": [
    {
     "name": "stdout",
     "output_type": "stream",
     "text": [
      "O coeficiente angular (0.293) é diferente de zero (p-valor = 0.0)\n"
     ]
    }
   ],
   "source": [
    "if p_valor_b1 < alfa:\n",
    "    b1_significante = \"Sim\"\n",
    "    print(f\"O coeficiente angular ({round(b1, 3)}) é diferente de zero (p-valor = {round(p_valor_b1, 3)})\")\n",
    "else:\n",
    "    b1_significante = \"Não\"\n",
    "    print(f\"O coeficiente angular ({round(b1, 3)}) é igual a zero (p-valor = {round(p_valor_b1, 3)})\")\n"
   ]
  },
  {
   "cell_type": "markdown",
   "id": "e37d7621-d941-4a1f-a3a9-e9da8b720244",
   "metadata": {},
   "source": [
    "##### Gráfico da distribuição t de Student para o $b_{1}$"
   ]
  },
  {
   "cell_type": "code",
   "execution_count": 74,
   "id": "300f8606-4c94-450a-91b1-c3de9f4aac63",
   "metadata": {},
   "outputs": [
    {
     "data": {
      "image/png": "[encoded data removed]",
      "text/plain": [
       "<Figure size 800x400 with 1 Axes>"
      ]
     },
     "metadata": {},
     "output_type": "display_data"
    }
   ],
   "source": [
    "# obtendo intervalo de x para plotar o gráfico\n",
    "if t_critico > np.abs(t_b1):\n",
    "    x_aux = 5\n",
    "else:\n",
    "    x_aux = np.abs(t_b1) + 0.2*np.abs(t_b1)\n",
    "\n",
    "\n",
    "# criando o canvas\n",
    "fig, ax1 = plt.subplots(figsize=(8,4))\n",
    "\n",
    "# adicionando a distribuição t de Student\n",
    "x = np.linspace(-1*x_aux, x_aux, 1000)\n",
    "y = stats.t.pdf(x, gl_erro, loc=0, scale=1)\n",
    "label = \"Dist. t-Student ($gl$=\" + str(gl_erro) + \")\"\n",
    "ax1.plot(x, y, c=\"k\", label=label)\n",
    "\n",
    "label = '$t_{crítico} = $' + str(round(t_critico, 3))\n",
    "ax1.axvline(t_critico, 0, 1, label=label, color='blue', ls='--')\n",
    "ax1.axvline(-t_critico, 0, 1, color='blue', ls='--')\n",
    "\n",
    "label = '$t_{calc} = $' + str(round(t_b1, 2))\n",
    "ax1.scatter(t_b1, 0, color='red', label=label)\n",
    "\n",
    "x = np.linspace(-1*x_aux, -1*np.abs(t_b1), 1000)\n",
    "ax1.fill_between(x,stats.t.pdf(x, gl_erro, loc=0, scale=1), label = '$probabilidade$', color = 'salmon')\n",
    "\n",
    "x = np.linspace(np.abs(t_b1), x_aux, 1000)\n",
    "ax1.fill_between(x,stats.t.pdf(x, gl_erro, loc=0, scale=1), color = 'salmon')\n",
    "\n",
    "plt.xlim(-1*x_aux - 0.1, x_aux + 0.1)\n",
    "plt.ylim(bottom=0.0)\n",
    "plt.legend(bbox_to_anchor=(1.35,1))\n",
    "plt.show()"
   ]
  },
  {
   "cell_type": "markdown",
   "id": "a0715c34-dae2-490f-85ff-145bffa0bea1",
   "metadata": {},
   "source": [
    "### Coeficiente linear ( $b_{0}$ )\n",
    "\n",
    "\n",
    "#### Desvio padrão\n",
    "\n",
    "$$s_{b_{0}} = \\sqrt{MSQE \\left( \\frac{1}{n} + \\frac{\\overline{x}^{2}}{S_{xx}} \\right)}$$\n",
    "\n",
    "onde:\n",
    "- $MSQE$ é a quantidade média de variância que o modelo não consegue explicar;\n",
    "- $S_{xx}$ é o somatório do erro quadrático da concentração\n",
    "- $n$ é o número total de observações;\n",
    "- $\\overline{x}$ é a média da concentração;\n",
    "\n",
    "\n",
    "\n",
    "> O $s_{b_{0}}$ tem unidade do sinal"
   ]
  },
  {
   "cell_type": "code",
   "execution_count": 75,
   "id": "ddb2062d-7f38-44c4-b188-84957e63807c",
   "metadata": {},
   "outputs": [
    {
     "data": {
      "text/plain": [
       "0.05912831165631457"
      ]
     },
     "execution_count": 75,
     "metadata": {},
     "output_type": "execute_result"
    }
   ],
   "source": [
    "b0_std = np.sqrt(MSQE*(1/df.shape[0] + df[nome_conc].mean()**2/Sxx))\n",
    "b0_std"
   ]
  },
  {
   "cell_type": "markdown",
   "id": "b4d2ad30-2ad3-4d7d-8b82-58645eaff91f",
   "metadata": {},
   "source": [
    "#### Intervalo de confiança ( $IC_{b_{0}}$ )\n",
    "\n",
    "$$ IC_{b_{0}} = t_{gl_{erros}, 1-\\alpha/2} \\times s_{b_{0}}$$\n",
    "\n",
    "onde:\n",
    "- $t_{gl_{erros}, 1-\\alpha/2}$ é o valor crítico da distribuição t de Student bilateral;\n",
    "- $s_{b_{0}}$ é o desvio padrão do coeficiente angular\n",
    "\n",
    "> Tem unidade do sinal"
   ]
  },
  {
   "cell_type": "code",
   "execution_count": 76,
   "id": "933b0237-8465-482f-8087-b395855f7512",
   "metadata": {},
   "outputs": [
    {
     "data": {
      "text/plain": [
       "0.13375753373411367"
      ]
     },
     "execution_count": 76,
     "metadata": {},
     "output_type": "execute_result"
    }
   ],
   "source": [
    "ic_b0 = b0_std*t_critico\n",
    "ic_b0"
   ]
  },
  {
   "cell_type": "markdown",
   "id": "7898af20-fea0-4d43-81e6-5200aaf1fc5b",
   "metadata": {},
   "source": [
    "#### Valor verdadeiro\n",
    "\n",
    "O valor verdadeiro de $b_{0}$ esta dentro do intervalo:\n",
    "\n",
    "$$b_{0} - IC_{b_{0}} \\leq b_{0} \\leq b_{0} + IC_{b_{0}}$$"
   ]
  },
  {
   "cell_type": "code",
   "execution_count": 77,
   "id": "f11c5e57-fb69-4b97-a22c-3f3c155e494d",
   "metadata": {},
   "outputs": [
    {
     "data": {
      "text/plain": [
       "'-0.0308 ≤ b0 ≤  0.2367'"
      ]
     },
     "execution_count": 77,
     "metadata": {},
     "output_type": "execute_result"
    }
   ],
   "source": [
    "f\"{round(b0 - ic_b0, 4)} ≤ b0 ≤  {round(b0 + ic_b0, 4)}\" "
   ]
  },
  {
   "cell_type": "markdown",
   "id": "795675af-d0cd-4638-a7b4-6dd2ad2974c0",
   "metadata": {},
   "source": [
    "#### Teste de hipótese\n",
    "\n",
    "A estatística do teste é:\n",
    "\n",
    "$$t_{b_{0}} = \\frac{b_{0}}{s_{b_{0}}}$$\n",
    "\n",
    "onde:\n",
    "- $b_{0}$ é o coeficiente linear;\n",
    "- $s_{b_{0}}$ é o desvio padrão do coeficiente linear;\n",
    "\n",
    "\n",
    "Hipótese:\n",
    "\n",
    "$$H_{0}: \\beta_{0} = 0$$\n",
    "$$H_{1}: \\beta_{0} \\neq 0$$\n",
    "\n",
    "\n",
    "##### Conclusão Utilizando o p-valor\n",
    "\n",
    "- Se $p-valor \\geq \\alpha$, falha em rejeitar a hipótese nula com o nível de singificância adotado $\\alpha$ nível de singnificância (o coeficiente linear é ***diferente de zero***);\n",
    "- Se $p-valor < \\alpha$, rejeita a hipótese nula com o nível de singificância adotado $\\alpha$ nível de singnificância (o coeficiente linear é ***igual a zero***);\n",
    "\n",
    "\n",
    "##### Utilizando o valor crítico\n",
    "\n",
    "- Se $t_{crítico} \\geq t_{b_{1}}$, falha em rejeitar a hipótese nula com o nível de singificância adotado $\\alpha$ nível de singnificância (o coeficiente linear é ***diferente de zero***);\n",
    "- Se $t_{crítico} < t_{b_{1}}$, rejeita a hipótese nula com o nível de singificância adotado $\\alpha$ nível de singnificância (o coeficiente linear é ***igual a zero***);\n",
    "\n",
    "O valor crítico do teste é obtido da distribuição t de Student bilateral com $gl_{erros}$."
   ]
  },
  {
   "cell_type": "code",
   "execution_count": 78,
   "id": "19e26427-7022-4d0e-a2c7-3d72ec4fb22d",
   "metadata": {},
   "outputs": [
    {
     "data": {
      "text/plain": [
       "1.7410823410030103"
      ]
     },
     "execution_count": 78,
     "metadata": {},
     "output_type": "execute_result"
    }
   ],
   "source": [
    "t_b0 = b0/b0_std\n",
    "t_b0"
   ]
  },
  {
   "cell_type": "code",
   "execution_count": 79,
   "id": "f5430e91-7aa2-44df-85ee-aa2fe1109206",
   "metadata": {},
   "outputs": [
    {
     "data": {
      "text/plain": [
       "0.11565431421244599"
      ]
     },
     "execution_count": 79,
     "metadata": {},
     "output_type": "execute_result"
    }
   ],
   "source": [
    "p_valor_b0 = (1 - stats.t.cdf(t_b0, gl_erro))*2\n",
    "p_valor_b0"
   ]
  },
  {
   "cell_type": "code",
   "execution_count": 80,
   "id": "20d3cfae-1fa8-4075-9661-b99d3f14a6ff",
   "metadata": {},
   "outputs": [
    {
     "name": "stdout",
     "output_type": "stream",
     "text": [
      "O coeficiente linear (0.103) é igual a zero (p-valor = 0.0)\n"
     ]
    }
   ],
   "source": [
    "if p_valor_b0 < alfa:\n",
    "    b0_significante = \"Sim\"\n",
    "    print(f\"O coeficiente linear ({round(b0, 3)}) é diferente de zero (p-valor = {round(p_valor_b0, 3)})\")\n",
    "else:\n",
    "    b0_significante = \"Não\"\n",
    "    print(f\"O coeficiente linear ({round(b0, 3)}) é igual a zero (p-valor = {round(p_valor_b1, 0)})\")\n"
   ]
  },
  {
   "cell_type": "markdown",
   "id": "81f7240e-e5ee-436e-ad88-081b6e84a466",
   "metadata": {},
   "source": [
    "##### Gráfico da distribuição t de Student para o $b_{0}$"
   ]
  },
  {
   "cell_type": "code",
   "execution_count": 81,
   "id": "56287f86-77f9-48f2-8753-be7228f2e1b6",
   "metadata": {},
   "outputs": [
    {
     "data": {
      "image/png": "[encoded data removed]",
      "text/plain": [
       "<Figure size 800x400 with 1 Axes>"
      ]
     },
     "metadata": {},
     "output_type": "display_data"
    }
   ],
   "source": [
    "# obtendo intervalo de x para plotar o gráfico\n",
    "if t_critico > np.abs(t_b0):\n",
    "    x_aux = 5\n",
    "else:\n",
    "    x_aux = np.abs(t_b0) + 0.2*np.abs(t_b0)\n",
    "\n",
    "\n",
    "# criando o canvas\n",
    "fig, ax1 = plt.subplots(figsize=(8,4))\n",
    "\n",
    "# adicionando a distribuição t de Student\n",
    "x = np.linspace(-1*x_aux, x_aux, 1000)\n",
    "y = stats.t.pdf(x, gl_erro, loc=0, scale=1)\n",
    "label = \"Dist. t-Student ($gl$=\" + str(gl_erro) + \")\"\n",
    "ax1.plot(x, y, c=\"k\", label=label)\n",
    "\n",
    "label = '$t_{crítico} = $' + str(round(t_critico, 3))\n",
    "ax1.axvline(t_critico, 0, 1, label=label, color='blue', ls='--')\n",
    "ax1.axvline(-t_critico, 0, 1, color='blue', ls='--')\n",
    "\n",
    "label = '$t_{calc} = $' + str(round(t_b0, 2))\n",
    "ax1.scatter(t_b0, 0, color='red', label=label)\n",
    "\n",
    "x = np.linspace(-1*x_aux, -1*np.abs(t_b0), 1000)\n",
    "ax1.fill_between(x,stats.t.pdf(x, gl_erro, loc=0, scale=1), label = '$probabilidade$', color = 'salmon')\n",
    "\n",
    "x = np.linspace(np.abs(t_b0), x_aux, 1000)\n",
    "ax1.fill_between(x,stats.t.pdf(x, gl_erro, loc=0, scale=1), color = 'salmon')\n",
    "\n",
    "plt.xlim(-1*x_aux - 0.1, x_aux + 0.1)\n",
    "plt.ylim(bottom=0.0)\n",
    "plt.legend(bbox_to_anchor=(1.35,1))\n",
    "plt.show()"
   ]
  },
  {
   "cell_type": "markdown",
   "id": "a894d083-f714-49ee-8107-0a90bd3310db",
   "metadata": {},
   "source": [
    "## Intervalo de confiança do sinal predito\n",
    "\n",
    "### Valores médios\n",
    "\n",
    "Valores preditos pelo modelo podem ser obtidos através da relação:\n",
    "\n",
    "$$\\widehat{y_{interesse}} = b_{0} + b_{1} \\times x_{interesse}$$\n",
    "\n",
    "onde:\n",
    "- $\\widehat{y_{imteresse}}$ é o sinal predito;\n",
    "- $b_{0}$ é o coeficiente linear;\n",
    "- $b_{1}$ é o coeficiente angular;\n",
    "- $x_{interesse}$ é uma concentração utilizada para confeccionar o modelo;\n",
    "\n",
    "\n",
    "#### Desvio padrão\n",
    "\n",
    "$$s_{x_{interesse}} = \\sqrt{MSQE \\left(\\frac{1}{n} + \\frac{\\left( x_{interesse} - \\overline{x} \\right)^{2} }{S_{xx}} \\right) }$$\n",
    "\n",
    "onde:\n",
    "- $MSQE$ é a quantidade média de variância que o modelo não consegue explicar;\n",
    "- $S_{xx}$ é o somatório do erro quadrático da concentração\n",
    "- $n$ é o número total de observações;\n",
    "- $\\overline{x}$ é a média da concentração;\n",
    "- $x_{interesse}$ é uma concentração utilizada para confeccionar o modelo;\n",
    "\n",
    "#### Intervalo de confiança\n",
    "\n",
    "$$IC \\left( \\widehat{y_{interesse}} \\right) = t_{gl_{erros}, \\; 1-\\alpha/2} \\times s_{x_{interesse}} $$\n",
    "\n",
    "onde:\n",
    "- $s_{x_{interesse}}$ é o desvio padrão de $\\widehat{y_{interesse}}$;\n",
    "- $t_{gl_{erros}, \\; 1-\\alpha/2}$ é o valor crítico da distribuição t de Student bilateral;"
   ]
  },
  {
   "cell_type": "code",
   "execution_count": 82,
   "id": "ff347a82-2076-4160-938a-58d616a84319",
   "metadata": {},
   "outputs": [],
   "source": [
    "# criando um novo dataframe com apenas informações relevantes para a predição\n",
    "df_pred = df[[nome_conc, nome_sinal, 'ypred']].copy()"
   ]
  },
  {
   "cell_type": "code",
   "execution_count": 83,
   "id": "99b525f2-a1be-4dc4-b5ea-89ba158397fa",
   "metadata": {},
   "outputs": [
    {
     "data": {
      "text/html": [
       "<div>\n",
       "<style scoped>\n",
       "    .dataframe tbody tr th:only-of-type {\n",
       "        vertical-align: middle;\n",
       "    }\n",
       "\n",
       "    .dataframe tbody tr th {\n",
       "        vertical-align: top;\n",
       "    }\n",
       "\n",
       "    .dataframe thead th {\n",
       "        text-align: right;\n",
       "    }\n",
       "</style>\n",
       "<table border=\"1\" class=\"dataframe\">\n",
       "  <thead>\n",
       "    <tr style=\"text-align: right;\">\n",
       "      <th></th>\n",
       "      <th>Concentração</th>\n",
       "      <th>Sinal</th>\n",
       "      <th>ypred</th>\n",
       "      <th>Médios IC</th>\n",
       "      <th>Médios L. Inferior</th>\n",
       "      <th>Médios L. Superior</th>\n",
       "    </tr>\n",
       "  </thead>\n",
       "  <tbody>\n",
       "    <tr>\n",
       "      <th>0</th>\n",
       "      <td>2</td>\n",
       "      <td>0.593057</td>\n",
       "      <td>0.688494</td>\n",
       "      <td>0.123498</td>\n",
       "      <td>0.564996</td>\n",
       "      <td>0.811992</td>\n",
       "    </tr>\n",
       "    <tr>\n",
       "      <th>1</th>\n",
       "      <td>4</td>\n",
       "      <td>1.203115</td>\n",
       "      <td>1.274041</td>\n",
       "      <td>0.114026</td>\n",
       "      <td>1.160014</td>\n",
       "      <td>1.388067</td>\n",
       "    </tr>\n",
       "    <tr>\n",
       "      <th>2</th>\n",
       "      <td>6</td>\n",
       "      <td>1.964288</td>\n",
       "      <td>1.859587</td>\n",
       "      <td>0.105556</td>\n",
       "      <td>1.754031</td>\n",
       "      <td>1.965143</td>\n",
       "    </tr>\n",
       "    <tr>\n",
       "      <th>3</th>\n",
       "      <td>8</td>\n",
       "      <td>2.540861</td>\n",
       "      <td>2.445134</td>\n",
       "      <td>0.098345</td>\n",
       "      <td>2.346788</td>\n",
       "      <td>2.543479</td>\n",
       "    </tr>\n",
       "    <tr>\n",
       "      <th>4</th>\n",
       "      <td>10</td>\n",
       "      <td>3.071079</td>\n",
       "      <td>3.030680</td>\n",
       "      <td>0.092689</td>\n",
       "      <td>2.937991</td>\n",
       "      <td>3.123370</td>\n",
       "    </tr>\n",
       "    <tr>\n",
       "      <th>5</th>\n",
       "      <td>12</td>\n",
       "      <td>3.481384</td>\n",
       "      <td>3.616227</td>\n",
       "      <td>0.088884</td>\n",
       "      <td>3.527343</td>\n",
       "      <td>3.705111</td>\n",
       "    </tr>\n",
       "    <tr>\n",
       "      <th>6</th>\n",
       "      <td>14</td>\n",
       "      <td>4.045735</td>\n",
       "      <td>4.201774</td>\n",
       "      <td>0.087174</td>\n",
       "      <td>4.114600</td>\n",
       "      <td>4.288948</td>\n",
       "    </tr>\n",
       "    <tr>\n",
       "      <th>7</th>\n",
       "      <td>16</td>\n",
       "      <td>4.904917</td>\n",
       "      <td>4.787320</td>\n",
       "      <td>0.087680</td>\n",
       "      <td>4.699640</td>\n",
       "      <td>4.875001</td>\n",
       "    </tr>\n",
       "    <tr>\n",
       "      <th>8</th>\n",
       "      <td>18</td>\n",
       "      <td>5.588038</td>\n",
       "      <td>5.372867</td>\n",
       "      <td>0.090367</td>\n",
       "      <td>5.282500</td>\n",
       "      <td>5.463234</td>\n",
       "    </tr>\n",
       "    <tr>\n",
       "      <th>9</th>\n",
       "      <td>20</td>\n",
       "      <td>5.873677</td>\n",
       "      <td>5.958414</td>\n",
       "      <td>0.095048</td>\n",
       "      <td>5.863366</td>\n",
       "      <td>6.053462</td>\n",
       "    </tr>\n",
       "    <tr>\n",
       "      <th>10</th>\n",
       "      <td>50</td>\n",
       "      <td>14.710000</td>\n",
       "      <td>14.741613</td>\n",
       "      <td>0.262333</td>\n",
       "      <td>14.479280</td>\n",
       "      <td>15.003946</td>\n",
       "    </tr>\n",
       "  </tbody>\n",
       "</table>\n",
       "</div>"
      ],
      "text/plain": [
       "    Concentração      Sinal      ypred  Médios IC  Médios L. Inferior  \\\n",
       "0              2   0.593057   0.688494   0.123498            0.564996   \n",
       "1              4   1.203115   1.274041   0.114026            1.160014   \n",
       "2              6   1.964288   1.859587   0.105556            1.754031   \n",
       "3              8   2.540861   2.445134   0.098345            2.346788   \n",
       "4             10   3.071079   3.030680   0.092689            2.937991   \n",
       "5             12   3.481384   3.616227   0.088884            3.527343   \n",
       "6             14   4.045735   4.201774   0.087174            4.114600   \n",
       "7             16   4.904917   4.787320   0.087680            4.699640   \n",
       "8             18   5.588038   5.372867   0.090367            5.282500   \n",
       "9             20   5.873677   5.958414   0.095048            5.863366   \n",
       "10            50  14.710000  14.741613   0.262333           14.479280   \n",
       "\n",
       "    Médios L. Superior  \n",
       "0             0.811992  \n",
       "1             1.388067  \n",
       "2             1.965143  \n",
       "3             2.543479  \n",
       "4             3.123370  \n",
       "5             3.705111  \n",
       "6             4.288948  \n",
       "7             4.875001  \n",
       "8             5.463234  \n",
       "9             6.053462  \n",
       "10           15.003946  "
      ]
     },
     "execution_count": 83,
     "metadata": {},
     "output_type": "execute_result"
    }
   ],
   "source": [
    "df_pred[\"Médios IC\"] = t_critico*np.sqrt(MSQE*(1/df.shape[0] + np.square(df_pred[nome_conc] - df[nome_conc].mean())/Sxx))\n",
    "df_pred[\"Médios L. Inferior\"] = df_pred['ypred'] -  df_pred[\"Médios IC\"]\n",
    "df_pred[\"Médios L. Superior\"] = df_pred['ypred'] +  df_pred[\"Médios IC\"]\n",
    "df_pred"
   ]
  },
  {
   "cell_type": "markdown",
   "id": "577da631-c73c-4b7b-90a3-7df1b9fc969f",
   "metadata": {},
   "source": [
    "#### Gráfico de calibração com as bandas médias"
   ]
  },
  {
   "cell_type": "code",
   "execution_count": 84,
   "id": "6ad62724-b07e-40d0-bd3b-170cc6991fe9",
   "metadata": {},
   "outputs": [
    {
     "data": {
      "image/png": "[encoded data removed]",
      "text/plain": [
       "<Figure size 600x400 with 1 Axes>"
      ]
     },
     "metadata": {},
     "output_type": "display_data"
    }
   ],
   "source": [
    "# criando o canvas\n",
    "plt.figure(figsize=(6,4))\n",
    "# adicionando os valores experimentais (do df original)\n",
    "plt.scatter(df[nome_conc], df[nome_sinal], label=dataset_name, edgecolors='k', facecolor='None')\n",
    "# adicionando a linha de regressão (df pred)\n",
    "plt.plot(df_pred[nome_conc], df_pred['ypred'], label=\"Regressão\", c='k', ls='--')\n",
    "# adicionando banda média inferior\n",
    "plt.plot(df_pred[nome_conc], df_pred['Médios L. Inferior'], c='r', ls='--', label=\"Bandas Médias\")\n",
    "# adicionando banda média superior\n",
    "plt.plot(df_pred[nome_conc], df_pred['Médios L. Superior'], c='r', ls='--')\n",
    "plt.xlabel(nome_conc)\n",
    "plt.ylabel(nome_sinal)\n",
    "plt.legend()\n",
    "plt.show()"
   ]
  },
  {
   "cell_type": "markdown",
   "id": "0156e3b9-5c20-45b9-85be-b404009bef21",
   "metadata": {},
   "source": [
    "### Valores pontuais\n",
    "\n",
    "Valores preditos pelo modelo podem ser obtidos através da relação:\n",
    "\n",
    "$$\\widehat{y_{interesse}} = b_{0} + b_{1} \\times x_{interesse}$$\n",
    "\n",
    "onde:\n",
    "- $\\widehat{y_{imteresse}}$ é o sinal predito;\n",
    "- $b_{0}$ é o coeficiente linear;\n",
    "- $b_{1}$ é o coeficiente angular;\n",
    "- $x_{interesse}$ é uma concentração qualquer, dentro do intervalo de concentração utilizado para confeccionar o modelo;\n",
    "\n",
    "\n",
    "#### Desvio padrão\n",
    "\n",
    "$$s_{x_{interesse}} = \\sqrt{MSQE \\left(\\frac{1}{m} + \\frac{1}{n} + \\frac{\\left( x_{interesse} - \\overline{x} \\right)^{2} }{S_{xx}} \\right) }$$\n",
    "\n",
    "onde:\n",
    "- $MSQE$ é a quantidade média de variância que o modelo não consegue explicar;\n",
    "- $S_{xx}$ é o somatório do erro quadrático da concentração\n",
    "- $n$ é o número total de observações;\n",
    "- $m$ é o número de repetições obtidos para $x_{interesse}$;\n",
    "- $\\overline{x}$ é a média da concentração;\n",
    "- $x_{interesse}$ é uma concentração qualquer, dentro do intervalo de concentração utilizado para confeccionar o modelo;\n",
    "\n",
    "#### Intervalo de confiança\n",
    "\n",
    "$$IC \\left( \\widehat{y_{interesse}} \\right) = t_{gl_{erros}, \\; 1-\\alpha/2} \\times s_{x_{interesse}} $$\n",
    "\n",
    "onde:\n",
    "- $s_{x_{interesse}}$ é o desvio padrão de $\\widehat{y_{interesse}}$;\n",
    "- $t_{gl_{erros}, \\; 1-\\alpha/2}$ é o valor crítico da distribuição t de Student bilateral;"
   ]
  },
  {
   "cell_type": "code",
   "execution_count": 85,
   "id": "085330bc-8cc2-4fed-8d6d-0c1bcce5a763",
   "metadata": {},
   "outputs": [
    {
     "data": {
      "text/html": [
       "<div>\n",
       "<style scoped>\n",
       "    .dataframe tbody tr th:only-of-type {\n",
       "        vertical-align: middle;\n",
       "    }\n",
       "\n",
       "    .dataframe tbody tr th {\n",
       "        vertical-align: top;\n",
       "    }\n",
       "\n",
       "    .dataframe thead th {\n",
       "        text-align: right;\n",
       "    }\n",
       "</style>\n",
       "<table border=\"1\" class=\"dataframe\">\n",
       "  <thead>\n",
       "    <tr style=\"text-align: right;\">\n",
       "      <th></th>\n",
       "      <th>Concentração</th>\n",
       "      <th>Sinal</th>\n",
       "      <th>ypred</th>\n",
       "      <th>Médios IC</th>\n",
       "      <th>Médios L. Inferior</th>\n",
       "      <th>Médios L. Superior</th>\n",
       "      <th>Individuais IC</th>\n",
       "      <th>Individuais L. Inferior</th>\n",
       "      <th>Individuais L. Superior</th>\n",
       "    </tr>\n",
       "  </thead>\n",
       "  <tbody>\n",
       "    <tr>\n",
       "      <th>0</th>\n",
       "      <td>2</td>\n",
       "      <td>0.593057</td>\n",
       "      <td>0.688494</td>\n",
       "      <td>0.123498</td>\n",
       "      <td>0.564996</td>\n",
       "      <td>0.811992</td>\n",
       "      <td>0.314141</td>\n",
       "      <td>0.374353</td>\n",
       "      <td>1.002635</td>\n",
       "    </tr>\n",
       "    <tr>\n",
       "      <th>1</th>\n",
       "      <td>4</td>\n",
       "      <td>1.203115</td>\n",
       "      <td>1.274041</td>\n",
       "      <td>0.114026</td>\n",
       "      <td>1.160014</td>\n",
       "      <td>1.388067</td>\n",
       "      <td>0.310539</td>\n",
       "      <td>0.963501</td>\n",
       "      <td>1.584580</td>\n",
       "    </tr>\n",
       "    <tr>\n",
       "      <th>2</th>\n",
       "      <td>6</td>\n",
       "      <td>1.964288</td>\n",
       "      <td>1.859587</td>\n",
       "      <td>0.105556</td>\n",
       "      <td>1.754031</td>\n",
       "      <td>1.965143</td>\n",
       "      <td>0.307530</td>\n",
       "      <td>1.552057</td>\n",
       "      <td>2.167117</td>\n",
       "    </tr>\n",
       "    <tr>\n",
       "      <th>3</th>\n",
       "      <td>8</td>\n",
       "      <td>2.540861</td>\n",
       "      <td>2.445134</td>\n",
       "      <td>0.098345</td>\n",
       "      <td>2.346788</td>\n",
       "      <td>2.543479</td>\n",
       "      <td>0.305130</td>\n",
       "      <td>2.140004</td>\n",
       "      <td>2.750264</td>\n",
       "    </tr>\n",
       "    <tr>\n",
       "      <th>4</th>\n",
       "      <td>10</td>\n",
       "      <td>3.071079</td>\n",
       "      <td>3.030680</td>\n",
       "      <td>0.092689</td>\n",
       "      <td>2.937991</td>\n",
       "      <td>3.123370</td>\n",
       "      <td>0.303354</td>\n",
       "      <td>2.727326</td>\n",
       "      <td>3.334035</td>\n",
       "    </tr>\n",
       "    <tr>\n",
       "      <th>5</th>\n",
       "      <td>12</td>\n",
       "      <td>3.481384</td>\n",
       "      <td>3.616227</td>\n",
       "      <td>0.088884</td>\n",
       "      <td>3.527343</td>\n",
       "      <td>3.705111</td>\n",
       "      <td>0.302214</td>\n",
       "      <td>3.314013</td>\n",
       "      <td>3.918441</td>\n",
       "    </tr>\n",
       "    <tr>\n",
       "      <th>6</th>\n",
       "      <td>14</td>\n",
       "      <td>4.045735</td>\n",
       "      <td>4.201774</td>\n",
       "      <td>0.087174</td>\n",
       "      <td>4.114600</td>\n",
       "      <td>4.288948</td>\n",
       "      <td>0.301715</td>\n",
       "      <td>3.900059</td>\n",
       "      <td>4.503489</td>\n",
       "    </tr>\n",
       "    <tr>\n",
       "      <th>7</th>\n",
       "      <td>16</td>\n",
       "      <td>4.904917</td>\n",
       "      <td>4.787320</td>\n",
       "      <td>0.087680</td>\n",
       "      <td>4.699640</td>\n",
       "      <td>4.875001</td>\n",
       "      <td>0.301862</td>\n",
       "      <td>4.485459</td>\n",
       "      <td>5.089182</td>\n",
       "    </tr>\n",
       "    <tr>\n",
       "      <th>8</th>\n",
       "      <td>18</td>\n",
       "      <td>5.588038</td>\n",
       "      <td>5.372867</td>\n",
       "      <td>0.090367</td>\n",
       "      <td>5.282500</td>\n",
       "      <td>5.463234</td>\n",
       "      <td>0.302653</td>\n",
       "      <td>5.070214</td>\n",
       "      <td>5.675520</td>\n",
       "    </tr>\n",
       "    <tr>\n",
       "      <th>9</th>\n",
       "      <td>20</td>\n",
       "      <td>5.873677</td>\n",
       "      <td>5.958414</td>\n",
       "      <td>0.095048</td>\n",
       "      <td>5.863366</td>\n",
       "      <td>6.053462</td>\n",
       "      <td>0.304083</td>\n",
       "      <td>5.654330</td>\n",
       "      <td>6.262497</td>\n",
       "    </tr>\n",
       "    <tr>\n",
       "      <th>10</th>\n",
       "      <td>50</td>\n",
       "      <td>14.710000</td>\n",
       "      <td>14.741613</td>\n",
       "      <td>0.262333</td>\n",
       "      <td>14.479280</td>\n",
       "      <td>15.003946</td>\n",
       "      <td>0.390194</td>\n",
       "      <td>14.351419</td>\n",
       "      <td>15.131807</td>\n",
       "    </tr>\n",
       "  </tbody>\n",
       "</table>\n",
       "</div>"
      ],
      "text/plain": [
       "    Concentração      Sinal      ypred  Médios IC  Médios L. Inferior  \\\n",
       "0              2   0.593057   0.688494   0.123498            0.564996   \n",
       "1              4   1.203115   1.274041   0.114026            1.160014   \n",
       "2              6   1.964288   1.859587   0.105556            1.754031   \n",
       "3              8   2.540861   2.445134   0.098345            2.346788   \n",
       "4             10   3.071079   3.030680   0.092689            2.937991   \n",
       "5             12   3.481384   3.616227   0.088884            3.527343   \n",
       "6             14   4.045735   4.201774   0.087174            4.114600   \n",
       "7             16   4.904917   4.787320   0.087680            4.699640   \n",
       "8             18   5.588038   5.372867   0.090367            5.282500   \n",
       "9             20   5.873677   5.958414   0.095048            5.863366   \n",
       "10            50  14.710000  14.741613   0.262333           14.479280   \n",
       "\n",
       "    Médios L. Superior  Individuais IC  Individuais L. Inferior  \\\n",
       "0             0.811992        0.314141                 0.374353   \n",
       "1             1.388067        0.310539                 0.963501   \n",
       "2             1.965143        0.307530                 1.552057   \n",
       "3             2.543479        0.305130                 2.140004   \n",
       "4             3.123370        0.303354                 2.727326   \n",
       "5             3.705111        0.302214                 3.314013   \n",
       "6             4.288948        0.301715                 3.900059   \n",
       "7             4.875001        0.301862                 4.485459   \n",
       "8             5.463234        0.302653                 5.070214   \n",
       "9             6.053462        0.304083                 5.654330   \n",
       "10           15.003946        0.390194                14.351419   \n",
       "\n",
       "    Individuais L. Superior  \n",
       "0                  1.002635  \n",
       "1                  1.584580  \n",
       "2                  2.167117  \n",
       "3                  2.750264  \n",
       "4                  3.334035  \n",
       "5                  3.918441  \n",
       "6                  4.503489  \n",
       "7                  5.089182  \n",
       "8                  5.675520  \n",
       "9                  6.262497  \n",
       "10                15.131807  "
      ]
     },
     "execution_count": 85,
     "metadata": {},
     "output_type": "execute_result"
    }
   ],
   "source": [
    "df_pred[\"Individuais IC\"] = t_critico*np.sqrt(MSQE*(1 + 1/df.shape[0] + np.square(df_pred[nome_conc] - df[nome_conc].mean())/Sxx))\n",
    "df_pred[\"Individuais L. Inferior\"] = df_pred['ypred'] -  df_pred[\"Individuais IC\"]\n",
    "df_pred[\"Individuais L. Superior\"] = df_pred['ypred'] +  df_pred[\"Individuais IC\"]\n",
    "df_pred"
   ]
  },
  {
   "cell_type": "markdown",
   "id": "66e76edd-5908-41d8-b0cc-361a9952806f",
   "metadata": {},
   "source": [
    "#### Gráfico de calibração com as bandas pontuais"
   ]
  },
  {
   "cell_type": "code",
   "execution_count": 86,
   "id": "f57b5c29-b4ed-4e3d-b3f1-b74a5cda2716",
   "metadata": {},
   "outputs": [
    {
     "data": {
      "image/png": "[encoded data removed]",
      "text/plain": [
       "<Figure size 600x400 with 1 Axes>"
      ]
     },
     "metadata": {},
     "output_type": "display_data"
    }
   ],
   "source": [
    "# criando o canvas\n",
    "plt.figure(figsize=(6,4))\n",
    "# adicionando os valores experimentais (do df original)\n",
    "plt.scatter(df[nome_conc], df[nome_sinal], label=dataset_name, edgecolors='k', facecolor='None')\n",
    "# adicionando a linha de regressão (df pred)\n",
    "plt.plot(df_pred[nome_conc], df_pred['ypred'], label=\"Regressão\", c='k', ls='--')\n",
    "# adicionando banda de predição inferior\n",
    "plt.plot(df_pred[nome_conc], df_pred['Individuais L. Inferior'], c='r', ls='--', label=\"Banda de Predição\")\n",
    "# adicionando banda de predição superior\n",
    "plt.plot(df_pred[nome_conc], df_pred['Individuais L. Superior'], c='r', ls='--')\n",
    "plt.xlabel(nome_conc)\n",
    "plt.ylabel(nome_sinal)\n",
    "plt.legend()\n",
    "plt.show()"
   ]
  },
  {
   "cell_type": "markdown",
   "id": "365c9308-f8f4-411b-8f14-645fb3ad6fb3",
   "metadata": {},
   "source": [
    "### Gráfico da curva de calibração"
   ]
  },
  {
   "cell_type": "code",
   "execution_count": 87,
   "id": "c45a23e6-eaf2-4c08-adb0-c791857007c8",
   "metadata": {},
   "outputs": [
    {
     "data": {
      "image/png": "[encoded data removed]",
      "text/plain": [
       "<Figure size 600x400 with 1 Axes>"
      ]
     },
     "metadata": {},
     "output_type": "display_data"
    }
   ],
   "source": [
    "# criando o canvas\n",
    "plt.figure(figsize=(6,4))\n",
    "# adicionando os valores experimentais (do df original)\n",
    "plt.scatter(df[nome_conc], df[nome_sinal], label=dataset_name, edgecolors='k', facecolor='None')\n",
    "# adicionando a linha de regressão (df pred)\n",
    "plt.plot(df_pred[nome_conc], df_pred['ypred'], label=\"Regressão\", c='k', ls='--')\n",
    "# adicionando banda média inferior\n",
    "plt.plot(df_pred[nome_conc], df_pred['Médios L. Inferior'], c='gray', ls='--', label=\"Médias\")\n",
    "# adicionando banda média superior\n",
    "plt.plot(df_pred[nome_conc], df_pred['Médios L. Superior'], c='gray', ls='--')\n",
    "# adicionando banda predição inferior\n",
    "plt.plot(df_pred[nome_conc], df_pred['Individuais L. Inferior'], c='r', ls='--', label=\"Predição\")\n",
    "# adicionando banda predição superior\n",
    "plt.plot(df_pred[nome_conc], df_pred['Individuais L. Superior'], c='r', ls='--')\n",
    "plt.xlabel(nome_conc)\n",
    "plt.ylabel(nome_sinal)\n",
    "plt.legend()\n",
    "plt.show()"
   ]
  },
  {
   "cell_type": "markdown",
   "id": "b674d38d-4d95-4e6c-8528-f509fa3adf2d",
   "metadata": {},
   "source": [
    "## Predição de uma nova concentração\n",
    "\n",
    "Invertendo a equação:\n",
    "\n",
    "$$concentração = \\frac{sinal_{interesse} - b_{0}}{b_{1}} \\pm t_{gl_{erros}, \\; 1-\\alpha/2} \\times s_{c}$$\n",
    "\n",
    "onde:\n",
    "- $b_{0}$ é o coeficiente linear;\n",
    "- $b_{1}$ é o coeficiente angular;\n",
    "- $t_{gl_{erros}, \\; 1-\\alpha/2}$ é o valor crítico da distribuição t de Student bilateral;\n",
    "- $s_{c}$ é o desvio padrão da concentração, que é estimado da seguinte forma:\n",
    "- $sinal_{interesse}$ é o sinal para predizar a concentração;\n",
    "\n",
    "$$s_{c} = \\frac{\\sqrt{MSQE}}{|b_{1}|} \\sqrt{\\frac{1}{m} + \\frac{1}{n} + \\frac{\\left( sinal_{interesse} - \\overline{sinal} \\right)^{2}}{b_{1}^{2}S_{xx}} }$$\n",
    "\n",
    "onde:\n",
    "- $MSQE$ é a quantidade média de variância que o modelo não consegue explicar;\n",
    "- $S_{xx}$ é o somatório do erro quadrático da concentração do modelo;\n",
    "- $n$ é o número total de observações utilizada para obter os parâmetros do modelo;\n",
    "- $m$ é o número de repetições obtidos para $sinal_{interesse}$;\n",
    "- $\\overline{sinal}$ é a média dos sinais utilizado para obter os parâmetros do modelo;\n",
    "- $sinal_{interesse}$ é o sinal para predizar a concentração;\n",
    "- $b_{1}$ é o coeficiente angular;"
   ]
  },
  {
   "cell_type": "code",
   "execution_count": 88,
   "id": "97e4cb46-d8a4-426a-a0dd-1eae8f2b1918",
   "metadata": {},
   "outputs": [
    {
     "data": {
      "text/html": [
       "<div>\n",
       "<style scoped>\n",
       "    .dataframe tbody tr th:only-of-type {\n",
       "        vertical-align: middle;\n",
       "    }\n",
       "\n",
       "    .dataframe tbody tr th {\n",
       "        vertical-align: top;\n",
       "    }\n",
       "\n",
       "    .dataframe thead th {\n",
       "        text-align: right;\n",
       "    }\n",
       "</style>\n",
       "<table border=\"1\" class=\"dataframe\">\n",
       "  <thead>\n",
       "    <tr style=\"text-align: right;\">\n",
       "      <th></th>\n",
       "      <th>Concentração</th>\n",
       "      <th>Sinal</th>\n",
       "      <th>ypred</th>\n",
       "      <th>s_predicao</th>\n",
       "      <th>ic_predicao</th>\n",
       "      <th>ic_predicao inferior</th>\n",
       "      <th>ic_predicao superior</th>\n",
       "    </tr>\n",
       "  </thead>\n",
       "  <tbody>\n",
       "    <tr>\n",
       "      <th>0</th>\n",
       "      <td>2</td>\n",
       "      <td>0.593057</td>\n",
       "      <td>1.674024</td>\n",
       "      <td>0.475287</td>\n",
       "      <td>1.075174</td>\n",
       "      <td>0.598850</td>\n",
       "      <td>2.749199</td>\n",
       "    </tr>\n",
       "    <tr>\n",
       "      <th>1</th>\n",
       "      <td>4</td>\n",
       "      <td>1.203115</td>\n",
       "      <td>3.757746</td>\n",
       "      <td>0.469492</td>\n",
       "      <td>1.062065</td>\n",
       "      <td>2.695680</td>\n",
       "      <td>4.819811</td>\n",
       "    </tr>\n",
       "    <tr>\n",
       "      <th>2</th>\n",
       "      <td>6</td>\n",
       "      <td>1.964288</td>\n",
       "      <td>6.357617</td>\n",
       "      <td>0.463621</td>\n",
       "      <td>1.048783</td>\n",
       "      <td>5.308834</td>\n",
       "      <td>7.406401</td>\n",
       "    </tr>\n",
       "    <tr>\n",
       "      <th>3</th>\n",
       "      <td>8</td>\n",
       "      <td>2.540861</td>\n",
       "      <td>8.326967</td>\n",
       "      <td>0.460210</td>\n",
       "      <td>1.041068</td>\n",
       "      <td>7.285899</td>\n",
       "      <td>9.368035</td>\n",
       "    </tr>\n",
       "    <tr>\n",
       "      <th>4</th>\n",
       "      <td>10</td>\n",
       "      <td>3.071079</td>\n",
       "      <td>10.137986</td>\n",
       "      <td>0.457882</td>\n",
       "      <td>1.035802</td>\n",
       "      <td>9.102184</td>\n",
       "      <td>11.173789</td>\n",
       "    </tr>\n",
       "    <tr>\n",
       "      <th>5</th>\n",
       "      <td>12</td>\n",
       "      <td>3.481384</td>\n",
       "      <td>11.539428</td>\n",
       "      <td>0.456621</td>\n",
       "      <td>1.032948</td>\n",
       "      <td>10.506480</td>\n",
       "      <td>12.572376</td>\n",
       "    </tr>\n",
       "    <tr>\n",
       "      <th>6</th>\n",
       "      <td>14</td>\n",
       "      <td>4.045735</td>\n",
       "      <td>13.467032</td>\n",
       "      <td>0.455662</td>\n",
       "      <td>1.030780</td>\n",
       "      <td>12.436252</td>\n",
       "      <td>14.497812</td>\n",
       "    </tr>\n",
       "    <tr>\n",
       "      <th>7</th>\n",
       "      <td>16</td>\n",
       "      <td>4.904917</td>\n",
       "      <td>16.401665</td>\n",
       "      <td>0.455940</td>\n",
       "      <td>1.031409</td>\n",
       "      <td>15.370256</td>\n",
       "      <td>17.433074</td>\n",
       "    </tr>\n",
       "    <tr>\n",
       "      <th>8</th>\n",
       "      <td>18</td>\n",
       "      <td>5.588038</td>\n",
       "      <td>18.734941</td>\n",
       "      <td>0.457655</td>\n",
       "      <td>1.035288</td>\n",
       "      <td>17.699653</td>\n",
       "      <td>19.770228</td>\n",
       "    </tr>\n",
       "    <tr>\n",
       "      <th>9</th>\n",
       "      <td>20</td>\n",
       "      <td>5.873677</td>\n",
       "      <td>19.710572</td>\n",
       "      <td>0.458761</td>\n",
       "      <td>1.037790</td>\n",
       "      <td>18.672782</td>\n",
       "      <td>20.748362</td>\n",
       "    </tr>\n",
       "    <tr>\n",
       "      <th>10</th>\n",
       "      <td>50</td>\n",
       "      <td>14.710000</td>\n",
       "      <td>49.892021</td>\n",
       "      <td>0.588429</td>\n",
       "      <td>1.331120</td>\n",
       "      <td>48.560901</td>\n",
       "      <td>51.223141</td>\n",
       "    </tr>\n",
       "  </tbody>\n",
       "</table>\n",
       "</div>"
      ],
      "text/plain": [
       "    Concentração      Sinal      ypred  s_predicao  ic_predicao  \\\n",
       "0              2   0.593057   1.674024    0.475287     1.075174   \n",
       "1              4   1.203115   3.757746    0.469492     1.062065   \n",
       "2              6   1.964288   6.357617    0.463621     1.048783   \n",
       "3              8   2.540861   8.326967    0.460210     1.041068   \n",
       "4             10   3.071079  10.137986    0.457882     1.035802   \n",
       "5             12   3.481384  11.539428    0.456621     1.032948   \n",
       "6             14   4.045735  13.467032    0.455662     1.030780   \n",
       "7             16   4.904917  16.401665    0.455940     1.031409   \n",
       "8             18   5.588038  18.734941    0.457655     1.035288   \n",
       "9             20   5.873677  19.710572    0.458761     1.037790   \n",
       "10            50  14.710000  49.892021    0.588429     1.331120   \n",
       "\n",
       "    ic_predicao inferior  ic_predicao superior  \n",
       "0               0.598850              2.749199  \n",
       "1               2.695680              4.819811  \n",
       "2               5.308834              7.406401  \n",
       "3               7.285899              9.368035  \n",
       "4               9.102184             11.173789  \n",
       "5              10.506480             12.572376  \n",
       "6              12.436252             14.497812  \n",
       "7              15.370256             17.433074  \n",
       "8              17.699653             19.770228  \n",
       "9              18.672782             20.748362  \n",
       "10             48.560901             51.223141  "
      ]
     },
     "execution_count": 88,
     "metadata": {},
     "output_type": "execute_result"
    }
   ],
   "source": [
    "df_pred_inv = df[[nome_conc, nome_sinal]].copy()\n",
    "df_pred_inv['ypred'] = (df_pred_inv[nome_sinal] - b0)/b1\n",
    "df_pred_inv['s_predicao'] = (np.sqrt(MSQE)/np.abs(b1))*np.sqrt(1 + 1/df_pred_inv.shape[0] + np.square(df_pred_inv[nome_sinal] - df_pred_inv[nome_sinal].mean())/(np.square(b1)*Sxx))\n",
    "df_pred_inv['ic_predicao'] = df_pred_inv['s_predicao']*t_critico\n",
    "df_pred_inv['ic_predicao inferior'] = df_pred_inv['ypred'] - df_pred_inv['ic_predicao']\n",
    "df_pred_inv['ic_predicao superior'] = df_pred_inv['ypred'] + df_pred_inv['ic_predicao']\n",
    "df_pred_inv"
   ]
  },
  {
   "cell_type": "markdown",
   "id": "3de0a78d-d1c9-49b7-85c7-d085c327ebf9",
   "metadata": {},
   "source": [
    "### Gráfico de predição"
   ]
  },
  {
   "cell_type": "code",
   "execution_count": 89,
   "id": "11645e14-55ce-44bb-a7f1-0bdaa066d043",
   "metadata": {},
   "outputs": [
    {
     "data": {
      "image/png": "[encoded data removed]",
      "text/plain": [
       "<Figure size 600x400 with 1 Axes>"
      ]
     },
     "metadata": {},
     "output_type": "display_data"
    }
   ],
   "source": [
    "# criando o canvas\n",
    "plt.figure(figsize=(6,4))\n",
    "# adicionando os dados experimentais\n",
    "plt.scatter(df[nome_sinal], df[nome_conc], label=\"Dados experimentais\", edgecolors='k', facecolor='None')\n",
    "\n",
    "# adicionando a linha de regressão\n",
    "plt.plot(df_pred_inv[nome_sinal], df_pred_inv['ypred'], label=\"Regressão\", c='k', ls='--')\n",
    "\n",
    "# adicionando a banda de predição\n",
    "plt.plot(df_pred_inv[nome_sinal], df_pred_inv['ic_predicao inferior'], label='Predição', c='r', ls='--')\n",
    "plt.plot(df_pred_inv[nome_sinal], df_pred_inv['ic_predicao superior'], c='r', ls='--')\n",
    "\n",
    "plt.legend()\n",
    "plt.xlabel(nome_sinal)\n",
    "plt.ylabel(nome_conc)\n",
    "plt.show()"
   ]
  },
  {
   "cell_type": "code",
   "execution_count": null,
   "id": "86fcd333-b736-4ed3-b548-22b0b19bd45f",
   "metadata": {},
   "outputs": [],
   "source": []
  }
 ],
 "metadata": {
  "kernelspec": {
   "display_name": "Python 3 (ipykernel)",
   "language": "python",
   "name": "python3"
  },
  "language_info": {
   "codemirror_mode": {
    "name": "ipython",
    "version": 3
   },
   "file_extension": ".py",
   "mimetype": "text/x-python",
   "name": "python",
   "nbconvert_exporter": "python",
   "pygments_lexer": "ipython3",
   "version": "3.10.6"
  }
 },
 "nbformat": 4,
 "nbformat_minor": 5
}
