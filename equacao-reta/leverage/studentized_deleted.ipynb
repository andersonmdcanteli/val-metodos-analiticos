{
 "cells": [
  {
   "cell_type": "code",
   "execution_count": 1,
   "id": "b8e90df4-2d6c-4758-b81e-8b68d9e5eebb",
   "metadata": {},
   "outputs": [],
   "source": [
    "import sys\n",
    "sys.path.insert(0, 'C:/Users/ander/Repositorios/val-metodos-analiticos/funcs')\n",
    "import functions\n",
    "import numpy as np\n",
    "import matplotlib.pyplot as plt\n",
    "from scipy import stats\n",
    "import pandas as pd\n",
    "import seaborn as sns\n",
    "plt.rcParams[\"font.family\"] = \"Arial\"\n",
    "plt.rcParams[\"font.size\"] = 10"
   ]
  },
  {
   "cell_type": "code",
   "execution_count": 2,
   "id": "8ce82aad-0fc0-44d8-8c3f-7e4584354aaf",
   "metadata": {},
   "outputs": [],
   "source": [
    "a = np.array([1,2,3,4,5])\n"
   ]
  },
  {
   "cell_type": "code",
   "execution_count": 3,
   "id": "5ea7b1b0-c56a-4694-aba7-2e9fdc28a7d9",
   "metadata": {},
   "outputs": [
    {
     "data": {
      "text/plain": [
       "array([0.6, 0.3, 0.2, 0.3, 0.6])"
      ]
     },
     "execution_count": 3,
     "metadata": {},
     "output_type": "execute_result"
    }
   ],
   "source": [
    "functions.leverage(a)"
   ]
  },
  {
   "cell_type": "code",
   "execution_count": 4,
   "id": "5428524b-2876-4456-8746-9e1211b218a0",
   "metadata": {},
   "outputs": [],
   "source": [
    "def cook_distance(residuals, leverage, n_param=2):\n",
    "    \n",
    "    cook = (np.square(residuals)/(n_param))*(leverage/(1-leverage))\n",
    "    \n",
    "    return cook\n",
    "\n"
   ]
  },
  {
   "cell_type": "code",
   "execution_count": 5,
   "id": "3554fcda-ce9f-4fc2-80b6-4a51576407a4",
   "metadata": {},
   "outputs": [],
   "source": [
    "leverage = np.array([0.1573, 0.1116, 0.1419, 0.1019, 0.0418, 0.0749, 0.1181, 0.1561, 0.128, 0.0413, 0.0925, 0.0526, 0.082,\n",
    "                    0.1129, 0.0737, 0.0879, 0.2593, 0.2929, 0.0962, 0.1479, 0.1296, 0.1358, 0.1824, 0.1091, 0.0729])\n",
    "\n",
    "residuos = np.array([1.57, -1.15, -2.2, -1.6, -2.89, 1.11, 1.93, 1.2, -3.86, -0.48, -1.32, -0.46, 0.49, -0.6, 5.84, -0.36, 4.33,\n",
    "                     -2.04, -1.54, 0.03, -2.18, 1.56, 0.32, 2.15, 0.15])"
   ]
  },
  {
   "cell_type": "code",
   "execution_count": 6,
   "id": "8c54a47c-6ed8-487e-9dbe-fc5cd60ae084",
   "metadata": {},
   "outputs": [],
   "source": [
    "res_stu = functions.studentized_residuals(residuos, 5.2352, leverage)"
   ]
  },
  {
   "cell_type": "code",
   "execution_count": 7,
   "id": "9e3c991b-c713-41db-be3c-2da0012897fb",
   "metadata": {},
   "outputs": [
    {
     "data": {
      "text/plain": [
       "array([5.58718476e-01, 2.84350406e-01, 1.07739308e+00, 5.44480075e-01,\n",
       "       1.66496934e+00, 2.54404037e-01, 8.06792770e-01, 3.25940425e-01,\n",
       "       3.26380983e+00, 4.59056847e-02, 3.66748166e-01, 4.26627656e-02,\n",
       "       4.99592835e-02, 7.75169442e-02, 7.03300219e+00, 2.71412139e-02,\n",
       "       4.83504110e+00, 1.12420683e+00, 5.01228581e-01, 2.01752380e-04,\n",
       "       1.04294361e+00, 5.37900140e-01, 2.39235594e-02, 9.91093626e-01,\n",
       "       4.63577831e-03])"
      ]
     },
     "execution_count": 7,
     "metadata": {},
     "output_type": "execute_result"
    }
   ],
   "source": [
    "res_stu**2"
   ]
  },
  {
   "cell_type": "code",
   "execution_count": 8,
   "id": "d5335586-d20b-4478-9235-3fae7337236c",
   "metadata": {},
   "outputs": [
    {
     "ename": "SyntaxError",
     "evalue": "cannot assign to expression here. Maybe you meant '==' instead of '='? (4252164633.py, line 10)",
     "output_type": "error",
     "traceback": [
      "\u001b[1;36m  Cell \u001b[1;32mIn[8], line 10\u001b[1;36m\u001b[0m\n\u001b[1;33m    y2 * x1 = y1 * x2\u001b[0m\n\u001b[1;37m    ^\u001b[0m\n\u001b[1;31mSyntaxError\u001b[0m\u001b[1;31m:\u001b[0m cannot assign to expression here. Maybe you meant '==' instead of '='?\n"
     ]
    }
   ],
   "source": [
    "cook = cook_distance(res_stu, leverage, n_param=3)\n",
    "\n",
    "ensaio = [\"Ensaio 1\", \"Ensaio 2\", \"Ensaio 3\", \"Ensaio 4\", \"Ensaio 5\", \"Ensaio 6\", \"Ensaio 7\", \"Ensaio 8\", \"Ensaio 9\", \"Ensaio 10\", \n",
    "         \"Ensaio 11\", \"Ensaio 12\", \"Ensaio 13\", \"Ensaio 14\", \"Ensaio 15\", \"Ensaio 16\", \"Ensaio 17\", \"Ensaio 18\", \"Ensaio 19\", \"Ensaio 20\", \n",
    "         \"Ensaio 21\", \"Ensaio 22\", \"Ensaio 23\", \"Ensaio 24\", \"Ensaio 25\", ]\n",
    "\n",
    "x1 - y1\n",
    "x2 - y2\n",
    "\n",
    "y2 * x1 = y1 * x2\n",
    "y2 - + x2/y2 = y1/x1 \n"
   ]
  },
  {
   "cell_type": "code",
   "execution_count": null,
   "id": "98b661c3-27d8-41e4-adaf-ce5bec21e54e",
   "metadata": {},
   "outputs": [],
   "source": [
    "# conc = np.array([1,2,3,4,5,6,7,8,10])\n",
    "# sinal = np.array([1.1,2.2,3.1,4.05,5.3,6.4,7.1,8.2,10])\n",
    "conc = np.array([0.1, 0.45401, 1.09765, 1.27936, 2.20611, 2.50064, 3.0403, 3.23583, 4.1699, 4.45308,\n",
    "                     5.28474, 5.59238, 5.92091, 6.66066, 6.79953, 7.97943, 8.41536, 8.70156, 8.71607, \n",
    "                     9.16463, 13])\n",
    "sinal = np.array([-0.0716, 4.1673, 6.5703, 13.815, 11.4501, 12.9554, 20.1575, 17.5633, 26.0317, 22.7573,\n",
    "              26.303, 30.6885, 33.9402,  30.9228, 34.11, 44.4536, 46.5022, 50.0568, 46.5475, 45.7762, 15])\n",
    "\n",
    "\n",
    "\n",
    "    \n",
    "    \n",
    "make_slopes_versus_intercepts_plot(conc, sinal)"
   ]
  },
  {
   "cell_type": "code",
   "execution_count": null,
   "id": "16dc2f31-21bb-4b5a-bcb0-a3893c567f31",
   "metadata": {},
   "outputs": [],
   "source": [
    "x_min"
   ]
  },
  {
   "cell_type": "code",
   "execution_count": null,
   "id": "60570bb5-11b1-4696-af1c-03664b218cdd",
   "metadata": {},
   "outputs": [],
   "source": [
    "x_max"
   ]
  },
  {
   "cell_type": "code",
   "execution_count": null,
   "id": "78b8610d-a65b-43f1-b75e-b1a186a17027",
   "metadata": {},
   "outputs": [],
   "source": [
    "size"
   ]
  },
  {
   "cell_type": "code",
   "execution_count": null,
   "id": "889434b2-1795-4c26-8d8e-5b2dd7b687c7",
   "metadata": {},
   "outputs": [],
   "source": [
    "i = 4\n",
    "conc[i:size+i]"
   ]
  },
  {
   "cell_type": "code",
   "execution_count": null,
   "id": "9297835c-70c2-44dc-97a0-42acbe6cbbe5",
   "metadata": {},
   "outputs": [],
   "source": [
    "leverage/(1 - leverage)"
   ]
  },
  {
   "cell_type": "code",
   "execution_count": null,
   "id": "920eb7b7-363e-4baf-b08e-64107bd9f146",
   "metadata": {},
   "outputs": [],
   "source": [
    "\n",
    "\n",
    "\n",
    "\n"
   ]
  },
  {
   "cell_type": "code",
   "execution_count": null,
   "id": "abd5aa26-c150-4517-af0e-2c2a08e4654c",
   "metadata": {},
   "outputs": [],
   "source": []
  },
  {
   "cell_type": "code",
   "execution_count": null,
   "id": "94113dde-27ac-4300-89c2-a5094842cedf",
   "metadata": {},
   "outputs": [],
   "source": [
    "def anova(df_data):\n",
    "    \"\"\"calcula a ANOVA para regressão linear com intercepto.\n",
    "    Df com: \n",
    "    - x_exp na primeira coluna;\n",
    "    - y_exp_name na segunda coluna;\n",
    "    - y_pred_name na terceira coluna;\n",
    "    \"\"\"\n",
    "    \n",
    "    # check if it is a df\n",
    "    \n",
    "    # sorting by concentration (first column)\n",
    "    columns = df_data.columns\n",
    "    x_exp_name, y_exp_name, y_pred_name = columns[0], columns[1], columns[2], \n",
    "    df_anova = df_data.sort_values(by=[x_exp_name])\n",
    "    \n",
    "    # SQT\n",
    "    df_anova['sqt'] = np.square(df_data[y_exp_name] - df_data[y_exp_name].mean())\n",
    "    SQT = df_anova['sqt'].sum()\n",
    "    gl_total = df_data.shape[0] - 1\n",
    "    MSQT = SQT/gl_total\n",
    "    \n",
    "    # SQR\n",
    "    df_anova['sqr'] = np.square(df_data[y_pred_name] - df_data[y_exp_name].mean())\n",
    "    SQR = df['sqr'].sum()\n",
    "    gl_reg = 1\n",
    "    MSQR = SQR/gl_reg\n",
    "    \n",
    "    # SQE\n",
    "    df_data['sqe'] = np.square(df_data[y_exp_name] - df_data[y_pred_name])\n",
    "    SQE = df['sqe'].sum()\n",
    "    gl_erro = df_data.shape[0] - 2\n",
    "    MSQE = SQE/gl_erro\n",
    "    \n",
    "    # statistic\n",
    "    Fcalc = MSQR/MSQE\n",
    "    \n",
    "    # critical\n",
    "    Ftab = stats.f.ppf(1-alfa, gl_reg, gl_erro)\n",
    "\n",
    "    # p-value\n",
    "    p_valor = 1- stats.f.cdf(Fcalc, gl_reg, gl_erro)\n",
    "\n",
    "    # result\n",
    "    if p_valor < alfa:\n",
    "        anova_significativo = \"Sim\"\n",
    "        print(f\"A regressão é significativa.\")\n",
    "    else:\n",
    "        anova_significativo = \"Não\"\n",
    "        print(f\"A regressão não é significativa.\")\n",
    "\n",
    "    \n",
    "    df_anova = pd.DataFrame({\n",
    "        \"Fonte de Variação\": [\"Regressão\", \"Resíduos\", \"Total\"],\n",
    "        \"Somatório\": [SQR, SQE, SQT],\n",
    "        \"gl\": [gl_reg, gl_erro, gl_total],\n",
    "        \"Médias\": [MSQR, MSQE, MSQT],\n",
    "        \"F calculado\": [Fcalc, \"\", \"\"],\n",
    "        \"F tabelado\": [Ftab, \"\", \"\"],\n",
    "        \"p-valor\": [p_valor, \"\", \"\"],\n",
    "        \"Singnificativo?\": [anova_significativo, \"\", \"\"]\n",
    "    })\n",
    "    \n",
    "    return df_data, df_anova"
   ]
  },
  {
   "cell_type": "code",
   "execution_count": null,
   "id": "2a36169f-1e22-4ba3-bd38-a5ed8609748d",
   "metadata": {},
   "outputs": [],
   "source": [
    "df = pd.DataFrame({\n",
    "    \"Concentração\": [0.1, 0.45401, 1.09765, 1.27936, 2.20611, 2.50064, 3.0403, 3.23583, 4.1699, 4.45308,\n",
    "                     5.28474, 5.59238, 5.92091, 6.66066, 6.79953, 7.97943, 8.41536, 8.70156, 8.71607, \n",
    "                     9.16463, ],\n",
    "    \"Sinal\": [-0.0716, 4.1673, 6.5703, 13.815, 11.4501, 12.9554, 20.1575, 17.5633, 26.0317, 22.7573,\n",
    "              26.303, 30.6885, 33.9402,  30.9228, 34.11, 44.4536, 46.5022, 50.0568, 46.5475, 45.7762],\n",
    "    \"Ordem de coleta\": [1, 2, 3, 4, 5, 6, 7, 8, 9, 10, 11, 12, 13, 14, 15, 16, 17, 18, 19, 20,],    \n",
    "    \"Ensaio\": [\"Ensaio 1\", \"Ensaio 2\", \"Ensaio 3\", \"Ensaio 4\", \"Ensaio 5\", \"Ensaio 6\", \"Ensaio 7\",\n",
    "               \"Ensaio 8\", \"Ensaio 9\", \"Ensaio 10\", \"Ensaio 11\", \"Ensaio 12\", \"Ensaio 13\", \"Ensaio 14\",\n",
    "               \"Ensaio 15\",\"Ensaio 16\", \"Ensaio 17\", \"Ensaio 18\",\"Ensaio 19\", \"Ensaio 20\",\n",
    "    ],    \n",
    "})\n",
    "\n",
    "df_data, df_anova = anova(df_data)"
   ]
  },
  {
   "cell_type": "code",
   "execution_count": null,
   "id": "75cdd439-2791-4e43-a52d-2eb326655163",
   "metadata": {},
   "outputs": [],
   "source": [
    "\n",
    "    "
   ]
  },
  {
   "cell_type": "code",
   "execution_count": null,
   "id": "80e78973-084d-4759-84e0-47e3d03bf54f",
   "metadata": {},
   "outputs": [],
   "source": [
    "df = pd.DataFrame({\n",
    "    \"Concentração\": [1, 1, 1, 3, 3, 3, 5, 5, 5, 7, 7, 7, 9, 9, 9],\n",
    "    \"Sinal\": [0.098, 0.087, 0.109, 0.125, 0.135, 0.145, 0.249, 0.229, 0.209, 0.29, 0.285, 0.28, 0.35, 0.356, 0.362]\n",
    "})"
   ]
  },
  {
   "cell_type": "code",
   "execution_count": null,
   "id": "bce2fdda-3e1e-452b-a1ec-817eb13c4df3",
   "metadata": {},
   "outputs": [],
   "source": [
    "fit(df)"
   ]
  },
  {
   "cell_type": "code",
   "execution_count": null,
   "id": "82bca88d-7064-4fb8-b48e-ffc5739739dd",
   "metadata": {},
   "outputs": [],
   "source": [
    "b"
   ]
  },
  {
   "cell_type": "code",
   "execution_count": null,
   "id": "d49a75c6-3db0-4c7d-b7c0-1c4b3eeaa8ee",
   "metadata": {},
   "outputs": [],
   "source": []
  }
 ],
 "metadata": {
  "kernelspec": {
   "display_name": "Python 3 (ipykernel)",
   "language": "python",
   "name": "python3"
  },
  "language_info": {
   "codemirror_mode": {
    "name": "ipython",
    "version": 3
   },
   "file_extension": ".py",
   "mimetype": "text/x-python",
   "name": "python",
   "nbconvert_exporter": "python",
   "pygments_lexer": "ipython3",
   "version": "3.10.6"
  }
 },
 "nbformat": 4,
 "nbformat_minor": 5
}
