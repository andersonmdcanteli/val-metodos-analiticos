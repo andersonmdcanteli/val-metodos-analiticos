{
 "cells": [
  {
   "cell_type": "markdown",
   "id": "34256af3-24bc-4470-b7a4-2ce47abcbc8c",
   "metadata": {},
   "source": [
    "# Curva de calibração - Dados sem repetição\n",
    "\n",
    "Este notebook aplica a regressão linear, utilizando a equação da reta, em um conjunto de dados de calibração analítica.\n",
    "\n",
    "Você obtém:\n",
    "\n",
    "- Gráfico de dispersão de sinal emitido *versus* concentração do analito\n",
    "- Regressão linear;\n",
    "    - Parâmetro $b_1$ (coeficiente linear);\n",
    "    - Parâmetro $b_0$ (coeficiente angular);\n",
    "    - Equação da reta:\n",
    "    - Valores preditos para o sinal ($\\widehat{y})$;\n",
    "    - Gráfico de regressão de sinal emitido *versus* concentração do analito, com a equação da reta;\n",
    "- Análise de variância (ANOVA);\n",
    "    - Somatórios quadráticos;\n",
    "    - Graus de liberdade;\n",
    "    - Média quadrática;\n",
    "    - Estatística do teste;\n",
    "    - Valor crítico do teste;\n",
    "    - p-valor;\n",
    "    - Conclusão do teste;\n",
    "    - Verificações;\n",
    "    - Tabela de ANOVA;\n",
    "    - Gráfico da distribuição F;\n",
    "- Coeficiente de determinação;\n",
    "    - Coeficiente de determinação ajustado;\n",
    "- Diagnóstico do modelo;\n",
    "    - Resíduos;\n",
    "    - Média dos resíduos igual a zero (teste t de Student pareado);\n",
    "        - Gráfico da distribuição t de Student;\n",
    "    - Média dos resíduos com distribuição Normal (teste de Shapiro-Wilk);\n",
    "    - Independência dos resíduos em relação à ordem de coleta;\n",
    "        - Gráfico dos resíduos *versus* ordem de coleta;\n",
    "    - Independência dos resíduos em relação ao ajustamento;\n",
    "        - Gráfico dos resíduos *versus* sinal predito; \n",
    "    - Outliers (Resíduos padronizados)\n",
    "        - Gráfico dos resíduos padronizados *versus* sinal predito; \n",
    "    - Correlação dos resíduos;\n",
    "        - Gráfico do sinal predito *versus* sinal real;\n",
    "- Intervalo de confiança dos parâmetros;    \n",
    "    - Parâmetro $b_1$ (coeficiente linear);\n",
    "        - Desvio padrão;\n",
    "        - Intervalo de confiança;\n",
    "        - Valor verdadeiro;\n",
    "        - Teste de hipótese;\n",
    "            - Gráfico da distribuição t de Student;\n",
    "    - Parâmetro $b_0$ (coeficiente angular);\n",
    "        - Desvio padrão;\n",
    "        - Intervalo de confiança;\n",
    "        - Valor verdadeiro;\n",
    "        - Teste de hipótese;\n",
    "            - Gráfico da distribuição t de Student;   \n",
    "- Intervalo de confiança do sinal predito;\n",
    "    - Valores médios;\n",
    "        - Desvio padrão;\n",
    "        - Intervalo de confiança;\n",
    "        - Gráfico de calibração com as bandas médias;\n",
    "    - Valores pontuais;\n",
    "        - Desvio padrão;\n",
    "        - Intervalo de confiança;\n",
    "        - Gráfico de calibração com as bandas médias;\n",
    "    - Gráfico da curva de calibração;\n",
    "- Predição de uma nova concentração;    \n",
    "    - Gráfico de predição\n"
   ]
  },
  {
   "cell_type": "markdown",
   "id": "7c1c118f-777d-4e28-8101-d55a86629038",
   "metadata": {},
   "source": [
    "## Importações"
   ]
  },
  {
   "cell_type": "code",
   "execution_count": 1,
   "id": "ed4202d8-d2bc-439f-b3ae-d7a7339d6330",
   "metadata": {},
   "outputs": [],
   "source": [
    "import numpy as np\n",
    "import matplotlib.pyplot as plt\n",
    "from scipy import stats\n",
    "import pandas as pd\n",
    "import seaborn as sns\n",
    "plt.rcParams[\"font.family\"] = \"Arial\"\n",
    "plt.rcParams[\"font.size\"] = 10"
   ]
  },
  {
   "cell_type": "markdown",
   "id": "1e23e9ef-5674-4cb8-bc3a-1ae5b2f1bb0d",
   "metadata": {},
   "source": [
    "## Entrada de dados"
   ]
  },
  {
   "cell_type": "code",
   "execution_count": 2,
   "id": "baee4e1d-01d4-4f0e-9b29-d8c6ac825204",
   "metadata": {},
   "outputs": [],
   "source": [
    "df = pd.DataFrame({\n",
    "    \"Concentração\": [0.1, 0.45401, 1.09765, 1.27936, 2.20611, 2.50064, 3.0403, 3.23583, 4.1699, 4.45308,\n",
    "                     5.28474, 5.59238, 5.92091, 6.66066, 6.79953, 7.97943, 8.41536, 8.70156, 8.71607, \n",
    "                     9.16463, 13],\n",
    "    \"Sinal\": [-0.0716, 4.1673, 6.5703, 13.815, 11.4501, 12.9554, 20.1575, 17.5633, 26.0317, 22.7573,\n",
    "              26.303, 30.6885, 33.9402,  30.9228, 34.11, 44.4536, 46.5022, 50.0568, 46.5475, 45.7762, 15],\n",
    "    \"Ordem de coleta\": [1, 2, 3, 4, 5, 6, 7, 8, 9, 10, 11, 12, 13, 14, 15, 16, 17, 18, 19, 20, 21],    \n",
    "    \"Ensaio\": [\"Ensaio 1\", \"Ensaio 2\", \"Ensaio 3\", \"Ensaio 4\", \"Ensaio 5\", \"Ensaio 6\", \"Ensaio 7\",\n",
    "               \"Ensaio 8\", \"Ensaio 9\", \"Ensaio 10\", \"Ensaio 11\", \"Ensaio 12\", \"Ensaio 13\", \"Ensaio 14\",\n",
    "               \"Ensaio 15\",\"Ensaio 16\", \"Ensaio 17\", \"Ensaio 18\",\"Ensaio 19\", \"Ensaio 20\", \"Ensaio 21\"\n",
    "    ],    \n",
    "})\n",
    "dataset_name = \"Influente\"\n",
    "alfa = 0.05"
   ]
  },
  {
   "cell_type": "code",
   "execution_count": 3,
   "id": "285aa713-eefd-40e9-beb8-2ccd6676e4fb",
   "metadata": {},
   "outputs": [],
   "source": [
    "nome_conc, nome_sinal, nome_ordem, nome_ensaio  = df.columns"
   ]
  },
  {
   "cell_type": "markdown",
   "id": "f83b1973-f587-4945-a69e-639a4a5cec9c",
   "metadata": {},
   "source": [
    "### Plotando o gráfico com os dados"
   ]
  },
  {
   "cell_type": "code",
   "execution_count": 4,
   "id": "a94599c9-1960-43af-aece-8a59ca5504cf",
   "metadata": {},
   "outputs": [
    {
     "data": {
      "image/png": "[encoded data removed]",
      "text/plain": [
       "<Figure size 600x400 with 1 Axes>"
      ]
     },
     "metadata": {},
     "output_type": "display_data"
    }
   ],
   "source": [
    "plt.figure(figsize=(6,4))\n",
    "plt.scatter(df[nome_conc], df[nome_sinal], label=dataset_name, edgecolors='k', facecolor='None')\n",
    "plt.xlabel(nome_conc)\n",
    "plt.ylabel(nome_sinal)\n",
    "plt.legend()\n",
    "plt.show()"
   ]
  },
  {
   "cell_type": "markdown",
   "id": "6f787592-1909-4b9f-980c-8579a9c738ec",
   "metadata": {},
   "source": [
    "## Leverage\n",
    "\n",
    "$$ h_{ii} = \\frac{1}{n} + \\frac{\\left(x_{i} - \\overline{x} \\right)^{2}}{\\sum_{i=1}^{n} \\left(x_{i} - \\overline{x} \\right)^{2}}$$\n",
    "\n",
    "onde:\n",
    "- $n$ é o número total de amostras;\n",
    "- $x_{i}$ é a i-ésima observação da amostra;\n",
    "- $\\overline{x}$ é a média da amostra;\n",
    "\n",
    "$$critico = \\frac{fator\\times n_{p}}{n}$$\n",
    "\n",
    "onde:\n",
    "- $n$ é o número total de amostras;\n",
    "- $n_{p}$ é o número de parâmetros estimados pelo modelo, incluíndo o intercepto (e.g. $n_{p}=2$;\n",
    "- $fator$ é o fator de penalização ($2$ (moderado) ou  $3$ (extremo));"
   ]
  },
  {
   "cell_type": "code",
   "execution_count": 5,
   "id": "f9cacc72-0fdb-4c35-b689-d935b8f791a9",
   "metadata": {},
   "outputs": [],
   "source": [
    "df['xi-xmedio'] = np.square(df[nome_conc] - df[nome_conc].mean())"
   ]
  },
  {
   "cell_type": "code",
   "execution_count": 6,
   "id": "63b41dce-bf5d-4469-bc0c-98f17b2d3b22",
   "metadata": {},
   "outputs": [
    {
     "data": {
      "text/plain": [
       "231.73619358129523"
      ]
     },
     "execution_count": 6,
     "metadata": {},
     "output_type": "execute_result"
    }
   ],
   "source": [
    "Sxx = np.sum(df['xi-xmedio'])\n",
    "Sxx"
   ]
  },
  {
   "cell_type": "code",
   "execution_count": 7,
   "id": "8956214e-70d7-4d51-a3d1-c38b930e19f0",
   "metadata": {},
   "outputs": [],
   "source": [
    "df['Leverage'] = 1/df.shape[0] + df['xi-xmedio']/Sxx"
   ]
  },
  {
   "cell_type": "code",
   "execution_count": 8,
   "id": "579c0179-66c4-46c8-be8c-21d95779e9e4",
   "metadata": {},
   "outputs": [
    {
     "name": "stdout",
     "output_type": "stream",
     "text": [
      "       Ensaio  Concentração  Sinal  Leverage\n",
      "20  Ensaio 21          13.0   15.0  0.311532\n"
     ]
    }
   ],
   "source": [
    "colunas = [nome_ensaio, nome_conc, nome_sinal, 'Leverage']\n",
    "limite_mild = 2*2/df.shape[0]\n",
    "df_aux_leverage_mild = df[df['Leverage'].abs() > limite_mild][colunas].copy()\n",
    "if df_aux_leverage_mild.shape[0] > 0:\n",
    "    print(df_aux_leverage_mild)\n",
    "else:\n",
    "    print(f\"Nenhum ponto com leverage moderado ({limite_mild})\")"
   ]
  },
  {
   "cell_type": "code",
   "execution_count": 9,
   "id": "b2893154-c75b-4559-ae02-4029486ea63d",
   "metadata": {},
   "outputs": [
    {
     "name": "stdout",
     "output_type": "stream",
     "text": [
      "       Ensaio  Concentração  Sinal  Leverage\n",
      "20  Ensaio 21          13.0   15.0  0.311532\n"
     ]
    }
   ],
   "source": [
    "limite_extreme = 3*2/df.shape[0]\n",
    "df_aux_leverage_extreme = df[df['Leverage'].abs() > limite_extreme][colunas].copy()\n",
    "if df_aux_leverage_extreme.shape[0] > 0:\n",
    "    print(df_aux_leverage_extreme)\n",
    "else:\n",
    "    print(f\"Nenhum ponto com leverage extremo ({limite_extreme})\")"
   ]
  },
  {
   "cell_type": "code",
   "execution_count": 10,
   "id": "5cb48d8d-792b-4374-b786-e1f637468663",
   "metadata": {},
   "outputs": [
    {
     "data": {
      "image/png": "[encoded data removed]",
      "text/plain": [
       "<Figure size 600x300 with 1 Axes>"
      ]
     },
     "metadata": {},
     "output_type": "display_data"
    }
   ],
   "source": [
    "plt.figure(figsize=(6,3))\n",
    "x_aux = range(0,df.shape[0])\n",
    "plt.scatter(df[nome_conc], df['Leverage'], color='k', facecolor='none')\n",
    "\n",
    "\n",
    "plt.axhline(y=limite_extreme, color=\"r\", linestyle=\"--\", label=\"Limite extremo\")\n",
    "plt.axhline(y=limite_mild, color=\"y\", linestyle=\"--\", label=\"Limite moderado\")\n",
    "plt.ylim(bottom=0)\n",
    "\n",
    "plt.ylabel(\"Alavancagem\")\n",
    "plt.xlabel(\"Concentração\")\n",
    "plt.legend(bbox_to_anchor=(1.01,1))\n",
    "plt.show()"
   ]
  },
  {
   "cell_type": "code",
   "execution_count": null,
   "id": "51b5d1db-60df-41b9-b694-c420829c5337",
   "metadata": {},
   "outputs": [],
   "source": []
  },
  {
   "cell_type": "markdown",
   "id": "992c703a-ecad-4572-bdd4-7497bd2fa6f7",
   "metadata": {
    "tags": []
   },
   "source": [
    "## Regressão linear com SciPy"
   ]
  },
  {
   "cell_type": "code",
   "execution_count": 11,
   "id": "8e3e6cc9-0ca3-4d2e-8099-1c9eae23e8ef",
   "metadata": {},
   "outputs": [],
   "source": [
    "reg_linear = stats.linregress(df[nome_conc], df[nome_sinal])"
   ]
  },
  {
   "cell_type": "markdown",
   "id": "3be633b0-0b9c-482e-99ae-93f19f7d4898",
   "metadata": {},
   "source": [
    "### Coeficiente angular ( $b_{1}$ )\n",
    "\n",
    "$$b_{1} = \\frac{\\sum_{i=1}^{n}(x_{i} - \\overline{x})(y_{i} - \\overline{y})}{\\sum_{i=1}^{n}(x_{i} - \\overline{x})^{2}}$$\n",
    "\n",
    "onde:\n",
    "- $n$ é o número total de observações;\n",
    "- $y_{i}$ é o valor do sinal para a i-ésima observação;\n",
    "- $\\overline{y}$ é a média dos sinais;\n",
    "- $x_{i}$ é o valor da concentração para a i-ésima observação;\n",
    "- $\\overline{x}$ é a média das concentrações;\n",
    "\n",
    "> Tem unidade do sinal vezes o inverso da unidade da concentração"
   ]
  },
  {
   "cell_type": "code",
   "execution_count": 12,
   "id": "b66b16d0-e683-4d2b-833f-9918a798093f",
   "metadata": {},
   "outputs": [
    {
     "data": {
      "text/plain": [
       "3.315576794625358"
      ]
     },
     "execution_count": 12,
     "metadata": {},
     "output_type": "execute_result"
    }
   ],
   "source": [
    "b1 = reg_linear[0]\n",
    "b1"
   ]
  },
  {
   "cell_type": "markdown",
   "id": "2f4cdcb4-7ea7-4045-8931-4fecf416490c",
   "metadata": {},
   "source": [
    "### Coeficiente linear ( $b_{0}$ )\n",
    "\n",
    "$$b_{0} = \\frac{\\sum_{i=1}^{n} (y_{i}) - b_{1} \\times \\sum_{i=1}^{n} (x_{i}) }{n}$$\n",
    "\n",
    "onde:\n",
    "- $n$ é o número total de observações;\n",
    "- $b_{1}$ é o coeficiente angular;\n",
    "- $y_{i}$ é o valor do sinal para a i-ésima observação;\n",
    "- $x_{i}$ é o valor da concentração para a i-ésima observação;\n",
    "\n",
    "> Tem unidade do sinal"
   ]
  },
  {
   "cell_type": "code",
   "execution_count": 13,
   "id": "df7ff1e7-1900-4fbd-9cb0-dd85c653cbfd",
   "metadata": {},
   "outputs": [
    {
     "data": {
      "text/plain": [
       "8.526413502785303"
      ]
     },
     "execution_count": 13,
     "metadata": {},
     "output_type": "execute_result"
    }
   ],
   "source": [
    "b0 = reg_linear[1]\n",
    "b0"
   ]
  },
  {
   "cell_type": "markdown",
   "id": "6f67e5d5-5635-4af1-b05c-9d16d84010e0",
   "metadata": {},
   "source": [
    "### Equação da reta \n",
    "\n",
    "$$sinal = b_{0} + concentração \\times b_{1}$$\n",
    "\n",
    "onde:\n",
    "- $b_{0}$ é o coeficiente linear;\n",
    "- $b_{1}$ é o coeficiente angular;"
   ]
  },
  {
   "cell_type": "code",
   "execution_count": 14,
   "id": "f2e4aeab-f17b-411a-989f-3cc3453f46d0",
   "metadata": {},
   "outputs": [
    {
     "data": {
      "text/plain": [
       "'sinal = 8.526413502785303 + concentração x 3.315576794625358'"
      ]
     },
     "execution_count": 14,
     "metadata": {},
     "output_type": "execute_result"
    }
   ],
   "source": [
    "f\"sinal = {b0} + concentração x {b1}\""
   ]
  },
  {
   "cell_type": "markdown",
   "id": "c9c25f15-47c7-4b68-b2df-32d80ab57062",
   "metadata": {},
   "source": [
    "### Predição valores pontuais"
   ]
  },
  {
   "cell_type": "code",
   "execution_count": 15,
   "id": "70e41c9f-98f2-4bc9-ad85-b9a6f388ca13",
   "metadata": {},
   "outputs": [
    {
     "data": {
      "text/html": [
       "<div>\n",
       "<style scoped>\n",
       "    .dataframe tbody tr th:only-of-type {\n",
       "        vertical-align: middle;\n",
       "    }\n",
       "\n",
       "    .dataframe tbody tr th {\n",
       "        vertical-align: top;\n",
       "    }\n",
       "\n",
       "    .dataframe thead th {\n",
       "        text-align: right;\n",
       "    }\n",
       "</style>\n",
       "<table border=\"1\" class=\"dataframe\">\n",
       "  <thead>\n",
       "    <tr style=\"text-align: right;\">\n",
       "      <th></th>\n",
       "      <th>Concentração</th>\n",
       "      <th>Sinal</th>\n",
       "      <th>Ordem de coleta</th>\n",
       "      <th>Ensaio</th>\n",
       "      <th>xi-xmedio</th>\n",
       "      <th>Leverage</th>\n",
       "      <th>ypred</th>\n",
       "    </tr>\n",
       "  </thead>\n",
       "  <tbody>\n",
       "    <tr>\n",
       "      <th>0</th>\n",
       "      <td>0.10000</td>\n",
       "      <td>-0.0716</td>\n",
       "      <td>1</td>\n",
       "      <td>Ensaio 1</td>\n",
       "      <td>25.802602</td>\n",
       "      <td>0.158964</td>\n",
       "      <td>8.857971</td>\n",
       "    </tr>\n",
       "    <tr>\n",
       "      <th>1</th>\n",
       "      <td>0.45401</td>\n",
       "      <td>4.1673</td>\n",
       "      <td>2</td>\n",
       "      <td>Ensaio 2</td>\n",
       "      <td>22.331448</td>\n",
       "      <td>0.143985</td>\n",
       "      <td>10.031719</td>\n",
       "    </tr>\n",
       "    <tr>\n",
       "      <th>2</th>\n",
       "      <td>1.09765</td>\n",
       "      <td>6.5703</td>\n",
       "      <td>3</td>\n",
       "      <td>Ensaio 3</td>\n",
       "      <td>16.662530</td>\n",
       "      <td>0.119522</td>\n",
       "      <td>12.165756</td>\n",
       "    </tr>\n",
       "    <tr>\n",
       "      <th>3</th>\n",
       "      <td>1.27936</td>\n",
       "      <td>13.8150</td>\n",
       "      <td>4</td>\n",
       "      <td>Ensaio 4</td>\n",
       "      <td>15.212076</td>\n",
       "      <td>0.113263</td>\n",
       "      <td>12.768230</td>\n",
       "    </tr>\n",
       "    <tr>\n",
       "      <th>4</th>\n",
       "      <td>2.20611</td>\n",
       "      <td>11.4501</td>\n",
       "      <td>5</td>\n",
       "      <td>Ensaio 5</td>\n",
       "      <td>8.841799</td>\n",
       "      <td>0.085774</td>\n",
       "      <td>15.840941</td>\n",
       "    </tr>\n",
       "    <tr>\n",
       "      <th>5</th>\n",
       "      <td>2.50064</td>\n",
       "      <td>12.9554</td>\n",
       "      <td>6</td>\n",
       "      <td>Ensaio 6</td>\n",
       "      <td>7.176967</td>\n",
       "      <td>0.078589</td>\n",
       "      <td>16.817477</td>\n",
       "    </tr>\n",
       "    <tr>\n",
       "      <th>6</th>\n",
       "      <td>3.04030</td>\n",
       "      <td>20.1575</td>\n",
       "      <td>7</td>\n",
       "      <td>Ensaio 7</td>\n",
       "      <td>4.576717</td>\n",
       "      <td>0.067369</td>\n",
       "      <td>18.606762</td>\n",
       "    </tr>\n",
       "    <tr>\n",
       "      <th>7</th>\n",
       "      <td>3.23583</td>\n",
       "      <td>17.5633</td>\n",
       "      <td>8</td>\n",
       "      <td>Ensaio 8</td>\n",
       "      <td>3.778344</td>\n",
       "      <td>0.063924</td>\n",
       "      <td>19.255056</td>\n",
       "    </tr>\n",
       "    <tr>\n",
       "      <th>8</th>\n",
       "      <td>4.16990</td>\n",
       "      <td>26.0317</td>\n",
       "      <td>9</td>\n",
       "      <td>Ensaio 9</td>\n",
       "      <td>1.019547</td>\n",
       "      <td>0.052019</td>\n",
       "      <td>22.352037</td>\n",
       "    </tr>\n",
       "    <tr>\n",
       "      <th>9</th>\n",
       "      <td>4.45308</td>\n",
       "      <td>22.7573</td>\n",
       "      <td>10</td>\n",
       "      <td>Ensaio 10</td>\n",
       "      <td>0.527869</td>\n",
       "      <td>0.049897</td>\n",
       "      <td>23.290942</td>\n",
       "    </tr>\n",
       "    <tr>\n",
       "      <th>10</th>\n",
       "      <td>5.28474</td>\n",
       "      <td>26.3030</td>\n",
       "      <td>11</td>\n",
       "      <td>Ensaio 11</td>\n",
       "      <td>0.011049</td>\n",
       "      <td>0.047667</td>\n",
       "      <td>26.048375</td>\n",
       "    </tr>\n",
       "    <tr>\n",
       "      <th>11</th>\n",
       "      <td>5.59238</td>\n",
       "      <td>30.6885</td>\n",
       "      <td>12</td>\n",
       "      <td>Ensaio 12</td>\n",
       "      <td>0.170366</td>\n",
       "      <td>0.048354</td>\n",
       "      <td>27.068379</td>\n",
       "    </tr>\n",
       "    <tr>\n",
       "      <th>12</th>\n",
       "      <td>5.92091</td>\n",
       "      <td>33.9402</td>\n",
       "      <td>13</td>\n",
       "      <td>Ensaio 13</td>\n",
       "      <td>0.549502</td>\n",
       "      <td>0.049990</td>\n",
       "      <td>28.157645</td>\n",
       "    </tr>\n",
       "    <tr>\n",
       "      <th>13</th>\n",
       "      <td>6.66066</td>\n",
       "      <td>30.9228</td>\n",
       "      <td>14</td>\n",
       "      <td>Ensaio 14</td>\n",
       "      <td>2.193461</td>\n",
       "      <td>0.057084</td>\n",
       "      <td>30.610343</td>\n",
       "    </tr>\n",
       "    <tr>\n",
       "      <th>14</th>\n",
       "      <td>6.79953</td>\n",
       "      <td>34.1100</td>\n",
       "      <td>15</td>\n",
       "      <td>Ensaio 15</td>\n",
       "      <td>2.624088</td>\n",
       "      <td>0.058943</td>\n",
       "      <td>31.070777</td>\n",
       "    </tr>\n",
       "    <tr>\n",
       "      <th>15</th>\n",
       "      <td>7.97943</td>\n",
       "      <td>44.4536</td>\n",
       "      <td>16</td>\n",
       "      <td>Ensaio 16</td>\n",
       "      <td>7.838901</td>\n",
       "      <td>0.081446</td>\n",
       "      <td>34.982826</td>\n",
       "    </tr>\n",
       "    <tr>\n",
       "      <th>16</th>\n",
       "      <td>8.41536</td>\n",
       "      <td>46.5022</td>\n",
       "      <td>17</td>\n",
       "      <td>Ensaio 17</td>\n",
       "      <td>10.469973</td>\n",
       "      <td>0.092800</td>\n",
       "      <td>36.428186</td>\n",
       "    </tr>\n",
       "    <tr>\n",
       "      <th>17</th>\n",
       "      <td>8.70156</td>\n",
       "      <td>50.0568</td>\n",
       "      <td>18</td>\n",
       "      <td>Ensaio 18</td>\n",
       "      <td>12.404018</td>\n",
       "      <td>0.101146</td>\n",
       "      <td>37.377104</td>\n",
       "    </tr>\n",
       "    <tr>\n",
       "      <th>18</th>\n",
       "      <td>8.71607</td>\n",
       "      <td>46.5475</td>\n",
       "      <td>19</td>\n",
       "      <td>Ensaio 19</td>\n",
       "      <td>12.506435</td>\n",
       "      <td>0.101587</td>\n",
       "      <td>37.425213</td>\n",
       "    </tr>\n",
       "    <tr>\n",
       "      <th>19</th>\n",
       "      <td>9.16463</td>\n",
       "      <td>45.7762</td>\n",
       "      <td>20</td>\n",
       "      <td>Ensaio 20</td>\n",
       "      <td>15.880255</td>\n",
       "      <td>0.116146</td>\n",
       "      <td>38.912448</td>\n",
       "    </tr>\n",
       "    <tr>\n",
       "      <th>20</th>\n",
       "      <td>13.00000</td>\n",
       "      <td>15.0000</td>\n",
       "      <td>21</td>\n",
       "      <td>Ensaio 21</td>\n",
       "      <td>61.158247</td>\n",
       "      <td>0.311532</td>\n",
       "      <td>51.628912</td>\n",
       "    </tr>\n",
       "  </tbody>\n",
       "</table>\n",
       "</div>"
      ],
      "text/plain": [
       "    Concentração    Sinal  Ordem de coleta     Ensaio  xi-xmedio  Leverage  \\\n",
       "0        0.10000  -0.0716                1   Ensaio 1  25.802602  0.158964   \n",
       "1        0.45401   4.1673                2   Ensaio 2  22.331448  0.143985   \n",
       "2        1.09765   6.5703                3   Ensaio 3  16.662530  0.119522   \n",
       "3        1.27936  13.8150                4   Ensaio 4  15.212076  0.113263   \n",
       "4        2.20611  11.4501                5   Ensaio 5   8.841799  0.085774   \n",
       "5        2.50064  12.9554                6   Ensaio 6   7.176967  0.078589   \n",
       "6        3.04030  20.1575                7   Ensaio 7   4.576717  0.067369   \n",
       "7        3.23583  17.5633                8   Ensaio 8   3.778344  0.063924   \n",
       "8        4.16990  26.0317                9   Ensaio 9   1.019547  0.052019   \n",
       "9        4.45308  22.7573               10  Ensaio 10   0.527869  0.049897   \n",
       "10       5.28474  26.3030               11  Ensaio 11   0.011049  0.047667   \n",
       "11       5.59238  30.6885               12  Ensaio 12   0.170366  0.048354   \n",
       "12       5.92091  33.9402               13  Ensaio 13   0.549502  0.049990   \n",
       "13       6.66066  30.9228               14  Ensaio 14   2.193461  0.057084   \n",
       "14       6.79953  34.1100               15  Ensaio 15   2.624088  0.058943   \n",
       "15       7.97943  44.4536               16  Ensaio 16   7.838901  0.081446   \n",
       "16       8.41536  46.5022               17  Ensaio 17  10.469973  0.092800   \n",
       "17       8.70156  50.0568               18  Ensaio 18  12.404018  0.101146   \n",
       "18       8.71607  46.5475               19  Ensaio 19  12.506435  0.101587   \n",
       "19       9.16463  45.7762               20  Ensaio 20  15.880255  0.116146   \n",
       "20      13.00000  15.0000               21  Ensaio 21  61.158247  0.311532   \n",
       "\n",
       "        ypred  \n",
       "0    8.857971  \n",
       "1   10.031719  \n",
       "2   12.165756  \n",
       "3   12.768230  \n",
       "4   15.840941  \n",
       "5   16.817477  \n",
       "6   18.606762  \n",
       "7   19.255056  \n",
       "8   22.352037  \n",
       "9   23.290942  \n",
       "10  26.048375  \n",
       "11  27.068379  \n",
       "12  28.157645  \n",
       "13  30.610343  \n",
       "14  31.070777  \n",
       "15  34.982826  \n",
       "16  36.428186  \n",
       "17  37.377104  \n",
       "18  37.425213  \n",
       "19  38.912448  \n",
       "20  51.628912  "
      ]
     },
     "execution_count": 15,
     "metadata": {},
     "output_type": "execute_result"
    }
   ],
   "source": [
    "df[\"ypred\"] = b1*df[nome_conc] + b0\n",
    "df"
   ]
  },
  {
   "cell_type": "markdown",
   "id": "07f7656b-c273-468c-9d04-bfa876c3f67a",
   "metadata": {},
   "source": [
    "### Plotando o gráfico de regressão"
   ]
  },
  {
   "cell_type": "code",
   "execution_count": 16,
   "id": "082806d4-1e7c-46f7-8aa6-d03077da52f6",
   "metadata": {},
   "outputs": [
    {
     "data": {
      "image/png": "[encoded data removed]",
      "text/plain": [
       "<Figure size 600x400 with 1 Axes>"
      ]
     },
     "metadata": {},
     "output_type": "display_data"
    }
   ],
   "source": [
    "plt.figure(figsize=(6,4))\n",
    "plt.scatter(df[nome_conc], df[nome_sinal], label=dataset_name, edgecolors='k', facecolor='None')\n",
    "plt.plot(df[nome_conc], df['ypred'], label=\"Regressão\", c='k', ls='--')\n",
    "plt.xlabel(nome_conc)\n",
    "plt.ylabel(nome_sinal)\n",
    "plt.legend()\n",
    "plt.show()"
   ]
  },
  {
   "cell_type": "markdown",
   "id": "98cdf0f7-210f-4e66-8228-f6d2d1a327de",
   "metadata": {
    "tags": []
   },
   "source": [
    "## ANOVA"
   ]
  },
  {
   "cell_type": "code",
   "execution_count": 17,
   "id": "ccde8956-4935-47ce-8ad9-afa3ba41ddc0",
   "metadata": {},
   "outputs": [],
   "source": [
    "# ordenando os dados em relação a coluna concentração para organizar melhor os calculos\n",
    "df = df.sort_values(by=[nome_conc])"
   ]
  },
  {
   "cell_type": "markdown",
   "id": "b786e932-59d7-4097-9ffd-58834383c0fe",
   "metadata": {},
   "source": [
    "### Somatório dos quadrados TOTAIS ( $SQT$ )\n",
    "\n",
    "$$ SQT = \\sum_{i=1}^{n} (y_{i} - \\overline{y})^{2}$$\n",
    "\n",
    "onde:\n",
    "- $n$ é o número total de observações;\n",
    "- $y_{i}$ é o valor do sinal para a i-ésima observação;\n",
    "- $\\overline{y}$ é a média dos sinais;\n",
    "\n",
    "> Tem a unidade do sinal ao quadrado"
   ]
  },
  {
   "cell_type": "code",
   "execution_count": 18,
   "id": "f23f5b3a-4dac-47a7-98d6-955c6ec28146",
   "metadata": {},
   "outputs": [],
   "source": [
    "df['sqt'] = np.square(df[nome_sinal] - df[nome_sinal].mean())"
   ]
  },
  {
   "cell_type": "code",
   "execution_count": 19,
   "id": "863d9613-3b6e-4da5-ac6b-4cb9a32b6b7f",
   "metadata": {},
   "outputs": [
    {
     "data": {
      "text/plain": [
       "4627.210546889524"
      ]
     },
     "execution_count": 19,
     "metadata": {},
     "output_type": "execute_result"
    }
   ],
   "source": [
    "SQT = df['sqt'].sum()\n",
    "SQT"
   ]
  },
  {
   "cell_type": "markdown",
   "id": "ded8f03f-aece-457c-b4c8-e93941bdb6c1",
   "metadata": {},
   "source": [
    "### Grau de liberdade dos quadrados totais ( $gl_{totais}$ )\n",
    "\n",
    "$$gl_{totais} = n - 1$$\n",
    "\n",
    "onde:\n",
    "- $n$ é o número total de observações;"
   ]
  },
  {
   "cell_type": "code",
   "execution_count": 20,
   "id": "2c02db7a-d1c7-478a-99ec-478c0df3fc1b",
   "metadata": {},
   "outputs": [
    {
     "data": {
      "text/plain": [
       "20"
      ]
     },
     "execution_count": 20,
     "metadata": {},
     "output_type": "execute_result"
    }
   ],
   "source": [
    "gl_total = df.shape[0] - 1\n",
    "gl_total"
   ]
  },
  {
   "cell_type": "markdown",
   "id": "1fdb8d60-33d0-4696-af25-055f8c46c0e1",
   "metadata": {},
   "source": [
    "### Média dos quadrados totais ( $MSQT$ )\n",
    "\n",
    "$$ MSQT = \\frac{SQT}{gl_{totais}}$$\n",
    "\n",
    "onde:\n",
    "- $SQT$ é o somatório quadrático da diferença entre cada sinal e a média dos sinais;\n",
    "- $gl_{totais}$ é o grau de liberdade associado aos $SQT$;\n",
    "\n",
    "> Tem a unidade do sinal ao quadrado"
   ]
  },
  {
   "cell_type": "code",
   "execution_count": 21,
   "id": "7a93b0c4-55f5-4683-ab2b-f7d362f6714c",
   "metadata": {},
   "outputs": [
    {
     "data": {
      "text/plain": [
       "231.36052734447622"
      ]
     },
     "execution_count": 21,
     "metadata": {},
     "output_type": "execute_result"
    }
   ],
   "source": [
    "MSQT = SQT/gl_total\n",
    "MSQT"
   ]
  },
  {
   "cell_type": "markdown",
   "id": "2283f810-ade8-4e5a-bad8-77562ce1ff0d",
   "metadata": {},
   "source": [
    "### Somatório dos quadrados da REGRESSÃO ( $SQR$ )\n",
    "\n",
    "$$ SQR = \\sum_{i=1}^{n} (\\widehat{y_{i}} - \\overline{y})^{2}$$\n",
    "\n",
    "\n",
    "onde:\n",
    "- $n$ é o número total de observações;\n",
    "- $\\widehat{y_{i}}$ é o valor do sinal predito para a i-ésima observação;\n",
    "- $\\overline{y}$ é a média dos sinais;\n",
    "\n",
    "> Tem a unidade do sinal ao quadrado"
   ]
  },
  {
   "cell_type": "code",
   "execution_count": 22,
   "id": "f57f2287-d2e6-48db-aeda-bb1dd18d2d22",
   "metadata": {},
   "outputs": [],
   "source": [
    "df['sqr'] = np.square(df[\"ypred\"] - df[nome_sinal].mean())"
   ]
  },
  {
   "cell_type": "code",
   "execution_count": 23,
   "id": "e6ca2f7d-d7ab-43f2-b620-fb000fc5960b",
   "metadata": {},
   "outputs": [
    {
     "data": {
      "text/plain": [
       "2547.487442591252"
      ]
     },
     "execution_count": 23,
     "metadata": {},
     "output_type": "execute_result"
    }
   ],
   "source": [
    "SQR = df['sqr'].sum()\n",
    "SQR"
   ]
  },
  {
   "cell_type": "markdown",
   "id": "1e1ef453-d6c5-4f17-b0fc-8fb9e1ef3ffb",
   "metadata": {},
   "source": [
    "### Grau de liberdade da regressão ( $gl_{regressão}$ )\n",
    "\n",
    "$$gl_{regressão} = 1 $$"
   ]
  },
  {
   "cell_type": "code",
   "execution_count": 24,
   "id": "0207ae97-24f3-452b-8adb-9c56f9f326f8",
   "metadata": {},
   "outputs": [
    {
     "data": {
      "text/plain": [
       "1"
      ]
     },
     "execution_count": 24,
     "metadata": {},
     "output_type": "execute_result"
    }
   ],
   "source": [
    "gl_reg = 1\n",
    "gl_reg"
   ]
  },
  {
   "cell_type": "markdown",
   "id": "60c0daa1-6edd-48fb-82c3-30afedb4e046",
   "metadata": {},
   "source": [
    "### Média da soma dos quadrados da regressão ( $MSQR$ )\n",
    "\n",
    "$$MSQR = \\frac{SQR}{gl_{regressão}}$$\n",
    "\n",
    "onde:\n",
    "- $SQR$ é o somatório quadrático da diferença entre cada sinal predito e a média dos sinais;\n",
    "- $gl_{regressão}$ é o grau de liberdade assiciado a regressão;"
   ]
  },
  {
   "cell_type": "code",
   "execution_count": 25,
   "id": "6cb54d1b-2c7b-411e-a011-202f45b768fd",
   "metadata": {},
   "outputs": [
    {
     "data": {
      "text/plain": [
       "2547.487442591252"
      ]
     },
     "execution_count": 25,
     "metadata": {},
     "output_type": "execute_result"
    }
   ],
   "source": [
    "MSQR = SQR/gl_reg\n",
    "MSQR"
   ]
  },
  {
   "cell_type": "markdown",
   "id": "9752364d-bc24-48c8-bb0d-744feb1959c7",
   "metadata": {},
   "source": [
    "### Somatório dos quadrados dos ERROS ( $SQE$ )\n",
    "\n",
    "$$SQE = \\sum_{i=1}^{n} (\\widehat{y_{i}} - y_{i})^{2}$$\n",
    "\n",
    "onde:\n",
    "- $n$ é o número total de observações;\n",
    "- $\\widehat{y_{i}}$ é o valor do sinal predito para a i-ésima observação;\n",
    "- $y_{i}$ é o valor do sinal para a i-ésima observação;\n",
    "\n",
    "> Tem a unidade do sinal ao quadrado"
   ]
  },
  {
   "cell_type": "code",
   "execution_count": 26,
   "id": "ee7ed6f1-1934-449d-a726-56ca72092307",
   "metadata": {},
   "outputs": [],
   "source": [
    "df['sqe'] = np.square(df[\"ypred\"] - df[nome_sinal])"
   ]
  },
  {
   "cell_type": "code",
   "execution_count": 27,
   "id": "e3ae0a8c-6b9f-4613-b8b6-bc90f8664add",
   "metadata": {},
   "outputs": [
    {
     "data": {
      "text/plain": [
       "2079.723104298271"
      ]
     },
     "execution_count": 27,
     "metadata": {},
     "output_type": "execute_result"
    }
   ],
   "source": [
    "SQE = df['sqe'].sum()\n",
    "SQE"
   ]
  },
  {
   "cell_type": "markdown",
   "id": "0a4fbb99-9a6c-47ed-90f8-04d1d1c08a6a",
   "metadata": {},
   "source": [
    "### Grau de liberdade dos erros ( $gl_{erros}$ )\n",
    "\n",
    "$$gl_{erros} = n - 2$$\n",
    "\n",
    "onde:\n",
    "- $n$ é o número total de observações;"
   ]
  },
  {
   "cell_type": "code",
   "execution_count": 28,
   "id": "70dfacb6-242d-4edc-ad76-8c3cee8b4140",
   "metadata": {},
   "outputs": [
    {
     "data": {
      "text/plain": [
       "19"
      ]
     },
     "execution_count": 28,
     "metadata": {},
     "output_type": "execute_result"
    }
   ],
   "source": [
    "gl_erro = df.shape[0] - 2\n",
    "gl_erro"
   ]
  },
  {
   "cell_type": "markdown",
   "id": "1ca5db77-0448-44e0-85e7-fe9d02e884c5",
   "metadata": {},
   "source": [
    "### Média da soma dos quadrados dos erros ( $MSQE$ )\n",
    "\n",
    "$$MSQE = \\frac{SQE}{gl_{erros}}$$\n",
    "\n",
    "onde:\n",
    "- $SQE$ é o somatório quadrático da diferença entre cada sinal e respectivo sinal predito;\n",
    "- $gl_{erros}$ é o grau de liberdade assiciado aos erros;\n",
    "\n",
    "> Tem a unidade do sinal ao quadrado"
   ]
  },
  {
   "cell_type": "code",
   "execution_count": 29,
   "id": "3b10ac60-71ab-452f-b855-59abb38effa6",
   "metadata": {},
   "outputs": [
    {
     "data": {
      "text/plain": [
       "109.4591107525406"
      ]
     },
     "execution_count": 29,
     "metadata": {},
     "output_type": "execute_result"
    }
   ],
   "source": [
    "MSQE = SQE/gl_erro\n",
    "MSQE"
   ]
  },
  {
   "cell_type": "markdown",
   "id": "acef2034-c6b2-4193-b8fc-623abcafb960",
   "metadata": {},
   "source": [
    "### Estatística do teste ( $F_{calculado}$ )\n",
    "\n",
    "$$ F_{calculado} = \\frac{MSQR}{MSQE}$$\n",
    "\n",
    "onde:\n",
    "- $MSQR$ é a quantidade média de variância que o modelo consegue explicar;\n",
    "- $MSQE$ é a quantidade média de variância que o modelo não consegue explicar;\n",
    "\n"
   ]
  },
  {
   "cell_type": "code",
   "execution_count": 30,
   "id": "b066337b-5421-43a4-b51d-d73fdf75940f",
   "metadata": {},
   "outputs": [
    {
     "data": {
      "text/plain": [
       "23.273416210647625"
      ]
     },
     "execution_count": 30,
     "metadata": {},
     "output_type": "execute_result"
    }
   ],
   "source": [
    "Fcalc = MSQR/MSQE\n",
    "Fcalc"
   ]
  },
  {
   "cell_type": "markdown",
   "id": "6e2ea66c-efcb-49b4-9fee-7668004e0647",
   "metadata": {},
   "source": [
    "### Valor crítico ( $F_{critico}$ )\n",
    "\n",
    "$$F_{crítico} = F_{1-\\alpha, gl_{regressão}, gl{erros}}$$\n",
    "\n",
    "onde:\n",
    "- $\\alpha$ é o nível de significância adotado;\n",
    "- $gl_{regressão}$ é o grau de liberdade assiciado a regressão;\n",
    "- $gl_{erros}$ é o grau de liberdade assiciado aos erros;\n",
    "\n",
    "> Utiliza-se a distribuição F unilateral"
   ]
  },
  {
   "cell_type": "code",
   "execution_count": 31,
   "id": "c1ac15f7-8990-4e12-ac34-68fdc5aa647a",
   "metadata": {},
   "outputs": [
    {
     "data": {
      "text/plain": [
       "4.380749692331796"
      ]
     },
     "execution_count": 31,
     "metadata": {},
     "output_type": "execute_result"
    }
   ],
   "source": [
    "Ftab = stats.f.ppf(1-alfa, gl_reg, gl_erro)\n",
    "Ftab"
   ]
  },
  {
   "cell_type": "markdown",
   "id": "953c2926-12d0-452f-af67-d82e87e56454",
   "metadata": {},
   "source": [
    "### p-valor ( $p-valor$ ) "
   ]
  },
  {
   "cell_type": "code",
   "execution_count": 32,
   "id": "2b881d96-10b4-4f8f-9bd6-ba11b5c99910",
   "metadata": {},
   "outputs": [
    {
     "data": {
      "text/plain": [
       "0.00011786048721962317"
      ]
     },
     "execution_count": 32,
     "metadata": {},
     "output_type": "execute_result"
    }
   ],
   "source": [
    "p_valor = 1- stats.f.cdf(Fcalc, gl_reg, gl_erro)\n",
    "p_valor"
   ]
  },
  {
   "cell_type": "markdown",
   "id": "4f5370e3-d5ed-4179-b6f5-7f39bd8ad474",
   "metadata": {},
   "source": [
    "### Conclusão do teste\n",
    "\n",
    "Hipóteses do teste:\n",
    "\n",
    "$$H_{0}: \\beta_{1} = 0$$\n",
    "\n",
    "$$H_{1}: \\beta_{1} \\neq 0$$\n",
    "\n",
    "#### Utilizando o p-valor\n",
    "\n",
    "- Se $p-valor \\geq \\alpha$, falha em rejeitar a hipótese nula com o nível de singificância adotado $\\alpha$ nível de singnificância (a regressão ***não é significativa***);\n",
    "- Se $p-valor < \\alpha$, rejeita a hipótese nula com o nível de singificância adotado $\\alpha$ nível de singnificância (a regressão ***é significativa***);\n",
    "\n",
    "\n",
    "#### Utilizando o valor crítico\n",
    "\n",
    "- Se $F_{crítico} \\geq F_{calculado}$, falha em rejeitar a hipótese nula com o nível de singificância adotado $\\alpha$ nível de singnificância (a regressão ***não é significativa***);\n",
    "- Se $F_{crítico} < F_{calculado}$, rejeita a hipótese nula com o nível de singificância adotado $\\alpha$ nível de singnificância (a regressão ***é significativa***);"
   ]
  },
  {
   "cell_type": "code",
   "execution_count": 33,
   "id": "2ee623bd-ca40-40b4-8467-844dd10ae960",
   "metadata": {},
   "outputs": [
    {
     "data": {
      "text/plain": [
       "'A regressão é significativa? Sim'"
      ]
     },
     "execution_count": 33,
     "metadata": {},
     "output_type": "execute_result"
    }
   ],
   "source": [
    "if p_valor < alfa:\n",
    "    anova_significativo = \"Sim\"\n",
    "else:\n",
    "    anova_significativo = \"Não\"\n",
    "    \n",
    "f\"A regressão é significativa? {anova_significativo}\""
   ]
  },
  {
   "cell_type": "markdown",
   "id": "6864dbf1-dcd0-430e-81df-7ddb2f2cb721",
   "metadata": {},
   "source": [
    "### Verificações\n",
    "\n",
    "#### Somatório dos quadrados\n",
    "\n",
    "$$ SQT = SQR + SQE$$"
   ]
  },
  {
   "cell_type": "code",
   "execution_count": 34,
   "id": "b12bb19d-8656-4e64-b7d1-012b1d9a4921",
   "metadata": {},
   "outputs": [
    {
     "data": {
      "text/plain": [
       "False"
      ]
     },
     "execution_count": 34,
     "metadata": {},
     "output_type": "execute_result"
    }
   ],
   "source": [
    "SQT == SQR + SQE"
   ]
  },
  {
   "cell_type": "markdown",
   "id": "ec4e32dd-ddee-47ea-bbc9-dc9f53fa7e94",
   "metadata": {},
   "source": [
    "#### Graus de liberdade\n",
    "\n",
    "$$ gl_{total} = gl_{regressão} + gl_{erros}$$"
   ]
  },
  {
   "cell_type": "code",
   "execution_count": 35,
   "id": "9c13fca9-b071-474f-b9db-8f23e026bf01",
   "metadata": {},
   "outputs": [
    {
     "data": {
      "text/plain": [
       "True"
      ]
     },
     "execution_count": 35,
     "metadata": {},
     "output_type": "execute_result"
    }
   ],
   "source": [
    "gl_total == gl_reg + gl_erro"
   ]
  },
  {
   "cell_type": "markdown",
   "id": "8fb1ce30-ce0f-4dc5-8fba-a7128d580320",
   "metadata": {},
   "source": [
    "### Tabela de ANOVA"
   ]
  },
  {
   "cell_type": "code",
   "execution_count": 36,
   "id": "c8139b47-42ac-4db9-ad7c-af0c1e48d16f",
   "metadata": {},
   "outputs": [
    {
     "data": {
      "text/html": [
       "<div>\n",
       "<style scoped>\n",
       "    .dataframe tbody tr th:only-of-type {\n",
       "        vertical-align: middle;\n",
       "    }\n",
       "\n",
       "    .dataframe tbody tr th {\n",
       "        vertical-align: top;\n",
       "    }\n",
       "\n",
       "    .dataframe thead th {\n",
       "        text-align: right;\n",
       "    }\n",
       "</style>\n",
       "<table border=\"1\" class=\"dataframe\">\n",
       "  <thead>\n",
       "    <tr style=\"text-align: right;\">\n",
       "      <th></th>\n",
       "      <th>Fonte de Variação</th>\n",
       "      <th>Somatório</th>\n",
       "      <th>gl</th>\n",
       "      <th>Médias</th>\n",
       "      <th>F calculado</th>\n",
       "      <th>F tabelado</th>\n",
       "      <th>p-valor</th>\n",
       "      <th>Singnificativo?</th>\n",
       "    </tr>\n",
       "  </thead>\n",
       "  <tbody>\n",
       "    <tr>\n",
       "      <th>0</th>\n",
       "      <td>Regressão</td>\n",
       "      <td>2547.487443</td>\n",
       "      <td>1</td>\n",
       "      <td>2547.487443</td>\n",
       "      <td>23.273416</td>\n",
       "      <td>4.38075</td>\n",
       "      <td>0.000118</td>\n",
       "      <td>Sim</td>\n",
       "    </tr>\n",
       "    <tr>\n",
       "      <th>1</th>\n",
       "      <td>Resíduos</td>\n",
       "      <td>2079.723104</td>\n",
       "      <td>19</td>\n",
       "      <td>109.459111</td>\n",
       "      <td></td>\n",
       "      <td></td>\n",
       "      <td></td>\n",
       "      <td></td>\n",
       "    </tr>\n",
       "    <tr>\n",
       "      <th>2</th>\n",
       "      <td>Total</td>\n",
       "      <td>4627.210547</td>\n",
       "      <td>20</td>\n",
       "      <td>231.360527</td>\n",
       "      <td></td>\n",
       "      <td></td>\n",
       "      <td></td>\n",
       "      <td></td>\n",
       "    </tr>\n",
       "  </tbody>\n",
       "</table>\n",
       "</div>"
      ],
      "text/plain": [
       "  Fonte de Variação    Somatório  gl       Médias F calculado F tabelado  \\\n",
       "0         Regressão  2547.487443   1  2547.487443   23.273416    4.38075   \n",
       "1          Resíduos  2079.723104  19   109.459111                          \n",
       "2             Total  4627.210547  20   231.360527                          \n",
       "\n",
       "    p-valor Singnificativo?  \n",
       "0  0.000118             Sim  \n",
       "1                            \n",
       "2                            "
      ]
     },
     "execution_count": 36,
     "metadata": {},
     "output_type": "execute_result"
    }
   ],
   "source": [
    "df_anova = pd.DataFrame({\n",
    "    \"Fonte de Variação\": [\"Regressão\", \"Resíduos\", \"Total\"],\n",
    "    \"Somatório\": [SQR, SQE, SQT],\n",
    "    \"gl\": [gl_reg, gl_erro, gl_total],\n",
    "    \"Médias\": [MSQR, MSQE, MSQT],\n",
    "    \"F calculado\": [Fcalc, \"\", \"\"],\n",
    "    \"F tabelado\": [Ftab, \"\", \"\"],\n",
    "    \"p-valor\": [p_valor, \"\", \"\"],\n",
    "    \"Singnificativo?\": [anova_significativo, \"\", \"\"]\n",
    "})\n",
    "df_anova"
   ]
  },
  {
   "cell_type": "markdown",
   "id": "f4467fb0-8ddc-484e-824c-64b6161c4054",
   "metadata": {},
   "source": [
    "### Gráfico da distribuição F"
   ]
  },
  {
   "cell_type": "code",
   "execution_count": 37,
   "id": "f2c5131a-84bc-4a04-bb20-faba95ce1de5",
   "metadata": {},
   "outputs": [
    {
     "data": {
      "image/png": "[encoded data removed]",
      "text/plain": [
       "<Figure size 600x300 with 1 Axes>"
      ]
     },
     "metadata": {},
     "output_type": "display_data"
    }
   ],
   "source": [
    "# Verificando qual é o maior valor para adaptar o intervalo do eixo x\n",
    "if Fcalc > Ftab:\n",
    "    x_max = Fcalc*1.05\n",
    "else:\n",
    "    x_max = Ftab*1.05 + 5\n",
    "    \n",
    "# obtendo valores de x para o gráfico\n",
    "x = np.linspace(0, int(x_max), 1000)\n",
    "  \n",
    "# criando uma instância para a distribuição F com grau de liberdade do teste\n",
    "f1 = stats.f(gl_reg, gl_erro, 0)\n",
    "\n",
    "# plotando o gráfico\n",
    "# criando o canvas\n",
    "plt.figure(figsize=(6, 3))\n",
    "# adicionando a linha com valores teórios\n",
    "legend = '$gl_{1}$ = ' + str(gl_reg) + ' $gl_{2}$ = ' + str(gl_erro)\n",
    "plt.plot(x, f1.pdf(x), label = legend, color = 'black')\n",
    "\n",
    "# adicionando a linha com o valor crítico\n",
    "legend = '$F_{crítico} = $' + str(round(Ftab, 2))\n",
    "plt.axvline(Ftab, 0, 1, label=legend, color='blue')\n",
    "\n",
    "# adicionando o ponto com o valor da estatística do teste\n",
    "legend = '$F_{calc} = $' + str(round(Fcalc, 2))\n",
    "plt.scatter(Fcalc, 0, color='red', label=legend)\n",
    "\n",
    "# preenchendo a área do p-valor\n",
    "x = np.linspace(Fcalc, int(x_max), 1000)\n",
    "plt.fill_between(x, f1.pdf(x), label = '$probabilidade$', color = 'salmon')\n",
    "\n",
    "# ajustando o gráfico\n",
    "plt.xlim(-.1, x_max + 0.1)\n",
    "plt.ylim(bottom=0.0)\n",
    "plt.xlabel('F')\n",
    "plt.ylabel('Densidade')\n",
    "plt.legend()\n",
    "plt.show()"
   ]
  },
  {
   "cell_type": "markdown",
   "id": "bc491d5b-2d54-48b7-8d4c-1586abf6b261",
   "metadata": {
    "tags": []
   },
   "source": [
    "## Coeficiente de determinação ( $R^{2}$ )\n",
    "\n",
    "$$R^{2} = \\frac{SQR}{SQT}$$\n",
    "\n",
    "onde:\n",
    "- $SQR$ é o somatório quadrático da diferença entre cada sinal predito e a média dos sinais;\n",
    "- $SQT$ é o somatório quadrático da diferença entre cada sinal e a média dos sinais;\n",
    "\n",
    "\n",
    "$$R^{2} = \\frac{\\sum_{i=1}^{n} (\\widehat{y_{i}} - \\overline{y})^{2}}{\\sum_{i=1}^{n} (y_{i} - \\overline{y})^{2}}$$\n",
    "\n",
    "onde:\n",
    "- $n$ é o número total de observações;\n",
    "- $\\widehat{y_{i}}$ é o valor do sinal predito para a i-ésima observação;\n",
    "- $\\overline{y}$ é a média dos sinais;\n",
    "- $y_{i}$ é o valor do sinal para a i-ésima observação;\n"
   ]
  },
  {
   "cell_type": "code",
   "execution_count": 38,
   "id": "8c126658-ab73-4eae-8497-11c0e56843ad",
   "metadata": {},
   "outputs": [
    {
     "data": {
      "text/plain": [
       "0.5505449593824315"
      ]
     },
     "execution_count": 38,
     "metadata": {},
     "output_type": "execute_result"
    }
   ],
   "source": [
    "R2 = SQR/SQT\n",
    "R2"
   ]
  },
  {
   "cell_type": "markdown",
   "id": "918a8e0f-7166-4060-afe5-6b2ba4977729",
   "metadata": {},
   "source": [
    "### Coeficiente de determinação ajustado ( $R_{ajustado}^{2}$ )\n",
    "\n",
    "$$R_{ajustado}^{2} = 1 - \\frac{MSQE}{MSQT}$$\n",
    "\n",
    "onde:\n",
    "- $MSQE$ é a quantidade média de variância que o modelo não consegue explicar;\n",
    "- $MSQT$ é a média de toda a variância;"
   ]
  },
  {
   "cell_type": "code",
   "execution_count": 39,
   "id": "5f14a2bd-769e-4570-b29e-eeab43853ce7",
   "metadata": {},
   "outputs": [
    {
     "data": {
      "text/plain": [
       "0.5268894309288755"
      ]
     },
     "execution_count": 39,
     "metadata": {},
     "output_type": "execute_result"
    }
   ],
   "source": [
    "R2ajustado = 1 - MSQE/MSQT\n",
    "R2ajustado"
   ]
  },
  {
   "cell_type": "markdown",
   "id": "1ea3beac-4928-4a7f-a891-45d083fe34f8",
   "metadata": {},
   "source": [
    "## Diagnóstico do modelo"
   ]
  },
  {
   "cell_type": "markdown",
   "id": "e4622009-0608-4c5d-9bb1-be936f6ba901",
   "metadata": {},
   "source": [
    "### Resíduos ( $resíduos$ )\n",
    "\n",
    "$$ resíduos = y_{i} - \\widehat{y_{i}}$$\n",
    "\n",
    "onde:\n",
    "- $\\widehat{y_{i}}$ é o valor do sinal predito para a i-ésima observação;\n",
    "- $\\overline{y}$ é a média dos sinais;\n"
   ]
  },
  {
   "cell_type": "code",
   "execution_count": 40,
   "id": "7caa1d2b-19c4-4ad5-a708-fb497b633d86",
   "metadata": {},
   "outputs": [],
   "source": [
    "df['Resíduos'] = df[nome_sinal] - df['ypred']"
   ]
  },
  {
   "cell_type": "markdown",
   "id": "42cc7c76-8dbb-48d9-9b0d-dfa7c34b5925",
   "metadata": {},
   "source": [
    "### Média dos resíduos igual a zero (teste t de Student pareado)\n",
    "\n",
    "$$t_{calc} = \\frac{(\\overline{resíduos} - \\mu_{0}) \\times \\sqrt{n}}{s_{resíduos}}$$\n",
    "\n",
    "\n",
    "onde:\n",
    "- $n$ é o número total de observações;\n",
    "- $\\overline{resíduos}$ é a média dos resíduos;\n",
    "- $\\mu_{0}$ é o valor esperado para os resíduos, ( e.g., $\\mu_{0}=0$ );\n",
    "- $s_{resíduos}$ é o desvio padrão dos resíduos ( $\\sqrt{MSQE}$ );\n",
    "\n",
    "#### Conclusão do teste\n",
    "\n",
    "Hipóteses do teste:\n",
    "\n",
    "$$H_{0}: \\overline{resíduos} = \\mu_{0} = 0$$\n",
    "\n",
    "$$H_{1}: \\overline{resíduos} \\neq \\mu_{0} \\neq 0$$\n",
    "\n",
    "\n",
    "##### Utilizando o p-valor\n",
    "\n",
    "- Se $p-valor \\geq \\alpha$, falha em rejeitar a hipótese nula com o nível de singificância adotado $\\alpha$ nível de singnificância (a média dos resíduos é ***diferente de zero***);\n",
    "- Se $p-valor < \\alpha$, rejeita a hipótese nula com o nível de singificância adotado $\\alpha$ nível de singnificância (a regressão média dos resíduos é ***igual a zero***);\n",
    "\n",
    "\n",
    "##### Utilizando o valor crítico\n",
    "\n",
    "- Se $t_{crítico} \\geq t_{calculado}$, falha em rejeitar a hipótese nula com o nível de singificância adotado $\\alpha$ nível de singnificância (a média dos resíduos é ***diferente de zero***);\n",
    "- Se $t_{crítico} < t_{calculado}$, rejeita a hipótese nula com o nível de singificância adotado $\\alpha$ nível de singnificância (a regressão média dos resíduos é ***igual a zero***);\n",
    "\n",
    "O valor crítico do teste é obtido da distribuição t de Student bilateral com $gl_{erros}$."
   ]
  },
  {
   "cell_type": "code",
   "execution_count": 41,
   "id": "6ca246c1-f1c9-4a99-89ab-ef022367b89a",
   "metadata": {},
   "outputs": [
    {
     "name": "stdout",
     "output_type": "stream",
     "text": [
      "Os resídos tem média = -1.0150610510858574e-15 e desvio padrão = 10.462270821984136\n"
     ]
    }
   ],
   "source": [
    "print(f\"Os resídos tem média = {df['Resíduos'].mean()} e desvio padrão = {np.sqrt(MSQE)}\")"
   ]
  },
  {
   "cell_type": "code",
   "execution_count": 42,
   "id": "d1796453-38e3-4e0a-b300-4d9c008e8f16",
   "metadata": {},
   "outputs": [
    {
     "data": {
      "text/plain": [
       "-4.4460654677645e-16"
      ]
     },
     "execution_count": 42,
     "metadata": {},
     "output_type": "execute_result"
    }
   ],
   "source": [
    "paired_t_test_mean = df['Resíduos'].mean()/(np.sqrt(MSQE)/np.sqrt(df.shape[0]))\n",
    "paired_t_test_mean"
   ]
  },
  {
   "cell_type": "code",
   "execution_count": 43,
   "id": "5ab806b1-dfee-4763-898b-e9f019a784f0",
   "metadata": {},
   "outputs": [
    {
     "data": {
      "text/plain": [
       "0.9999999999999996"
      ]
     },
     "execution_count": 43,
     "metadata": {},
     "output_type": "execute_result"
    }
   ],
   "source": [
    "paired_t_test_mean_p = (1 - stats.t.cdf(np.abs(paired_t_test_mean), gl_erro))*2\n",
    "paired_t_test_mean_p"
   ]
  },
  {
   "cell_type": "code",
   "execution_count": 44,
   "id": "cf378040-39df-4aa8-8e0e-8c17e4828a03",
   "metadata": {},
   "outputs": [
    {
     "name": "stdout",
     "output_type": "stream",
     "text": [
      "A média dos resíduos é igual a 0 (p-valor = 1.0)\n"
     ]
    }
   ],
   "source": [
    "if paired_t_test_mean_p < alfa:\n",
    "    print(f\"A média dos resíduos é diferente de 0 (p-valor = {round(paired_t_test_mean_p, 2)})\")\n",
    "else:\n",
    "    print(f\"A média dos resíduos é igual a 0 (p-valor = {round(paired_t_test_mean_p, 2)})\")"
   ]
  },
  {
   "cell_type": "code",
   "execution_count": 45,
   "id": "e4b171d8-4abb-4450-b789-a1551124eb9b",
   "metadata": {},
   "outputs": [
    {
     "data": {
      "text/plain": [
       "2.093024054408263"
      ]
     },
     "execution_count": 45,
     "metadata": {},
     "output_type": "execute_result"
    }
   ],
   "source": [
    "t_critico = stats.t.ppf(1-alfa/2, gl_erro)\n",
    "t_critico"
   ]
  },
  {
   "cell_type": "markdown",
   "id": "6941c754-83b4-4ef1-bd14-3d39820397f2",
   "metadata": {},
   "source": [
    "#### Gráfico da distribuição t de Student para a média dos resíduos"
   ]
  },
  {
   "cell_type": "code",
   "execution_count": 46,
   "id": "9f48ae5a-1506-487b-9f5e-e7530be1e075",
   "metadata": {},
   "outputs": [
    {
     "data": {
      "image/png": "[encoded data removed]",
      "text/plain": [
       "<Figure size 800x400 with 1 Axes>"
      ]
     },
     "metadata": {},
     "output_type": "display_data"
    }
   ],
   "source": [
    "# setando os limites do gráfico\n",
    "x_min = -5\n",
    "x_max = 5\n",
    "\n",
    "# criando o canvas\n",
    "fig, ax1 = plt.subplots(figsize=(8,4))\n",
    "\n",
    "# criando valores para a distribuição t de Student com gl_erros\n",
    "x = np.linspace(x_min, x_max, 1000)\n",
    "y = stats.t.pdf(x, gl_erro)\n",
    "label = \"Dist. t-Student ($gl=$\" + str(gl_erro) + \")\"\n",
    "ax1.plot(x, y, c=\"k\", label=label)\n",
    "\n",
    "# adicionando linhas com o valor crítico do teste\n",
    "label= '$t_{crítico} = |$' + str(round(t_critico, 3)) + '$|$'\n",
    "ax1.axvline(stats.t.ppf(1-alfa/2, gl_erro), 0, 1, label=label, color='blue', ls='--')\n",
    "ax1.axvline(stats.t.ppf(alfa/2, gl_erro), 0, 1, color='blue', ls='--')\n",
    "\n",
    "# adicionando o valor da estatística do teste\n",
    "label = \"$t_{calc} = $\" + str(round(paired_t_test_mean, 3))\n",
    "ax1.vlines(paired_t_test_mean, 0, stats.t.pdf(paired_t_test_mean, gl_erro, loc=0, scale=1), label=label, color='red')\n",
    "\n",
    "# preenchendo o lado esquero\n",
    "x = np.linspace(x_min, -1*abs(paired_t_test_mean), 1000)\n",
    "ax1.fill_between(x, stats.t.pdf(x, gl_erro), label = '$probabilidade$', color = 'salmon')\n",
    "\n",
    "# preenchendo o lado direito\n",
    "x = np.linspace(abs(paired_t_test_mean), x_max, 1000)\n",
    "ax1.fill_between(x,stats.t.pdf(x, gl_erro, loc=0, scale=1), color = 'salmon')\n",
    "\n",
    "plt.xlim(x_min - .1, x_max + .1)\n",
    "plt.ylim(bottom=0.0)\n",
    "plt.legend(bbox_to_anchor=(1.35,1))\n",
    "plt.show()"
   ]
  },
  {
   "cell_type": "markdown",
   "id": "81ec4a08-809c-4ac7-9a5b-95325c9a6298",
   "metadata": {},
   "source": [
    "\n"
   ]
  },
  {
   "cell_type": "markdown",
   "id": "3dd6b742-3c97-4cf3-acb9-1adabfd23b4e",
   "metadata": {},
   "source": [
    "### Resíduos apresentam distribuição Normal ( Shapiro-Wilk )\n",
    "\n",
    "\n",
    "#### Conclusão do teste\n",
    "\n",
    "Hipóteses do teste:\n",
    "\n",
    "$$H_{0}: Os \\; resíduos \\; apresentam \\; distribuição \\; Normal$$\n",
    "\n",
    "$$H_{1}: Os \\; resíduos \\; não \\; apresentam \\; distribuição \\; Normal$$\n",
    "\n",
    "\n",
    "##### Utilizando o p-valor\n",
    "\n",
    "- Se $p-valor \\geq \\alpha$, falha em rejeitar a hipótese nula com o nível de singificância adotado $\\alpha$ nível de singnificância (os resíduos ***não apresentam distribuição Normal***);\n",
    "- Se $p-valor < \\alpha$, rejeita a hipótese nula com o nível de singificância adotado $\\alpha$ nível de singnificância (os resíduos ***apresentam distribuição Normal***);\n"
   ]
  },
  {
   "cell_type": "code",
   "execution_count": 47,
   "id": "fd3bb84e-2000-4855-9012-44f50254be60",
   "metadata": {},
   "outputs": [],
   "source": [
    "norm_test_stats, norm_test_p_value = stats.shapiro(df['Resíduos'])"
   ]
  },
  {
   "cell_type": "code",
   "execution_count": 48,
   "id": "5e7ee8ff-4024-41b3-8eb2-af0cfd27f87d",
   "metadata": {},
   "outputs": [
    {
     "name": "stdout",
     "output_type": "stream",
     "text": [
      "Os resíduos não apresentam distribuição Normal (p_valor = 0.0)\n"
     ]
    }
   ],
   "source": [
    "if norm_test_p_value < alfa:\n",
    "    print(f\"Os resíduos não apresentam distribuição Normal (p_valor = {round(norm_test_p_value, 3)})\")\n",
    "else:\n",
    "    print(f\"Os resíduos apresentam distribuição Normal (p_valor = {round(norm_test_p_value, 3)})\")"
   ]
  },
  {
   "cell_type": "markdown",
   "id": "48a9816c-f71e-4e05-b1dd-d96f2e05c413",
   "metadata": {},
   "source": [
    "### Independência dos resíduos em relação à ordem de coleta\n",
    "\n",
    "\n",
    "#### Gráfico dos resíduos *versus* ordem de coleta"
   ]
  },
  {
   "cell_type": "code",
   "execution_count": 49,
   "id": "47dfb40f-a3a5-4ce7-9a05-4dc598f2755b",
   "metadata": {},
   "outputs": [
    {
     "data": {
      "image/png": "[encoded data removed]",
      "text/plain": [
       "<Figure size 600x400 with 1 Axes>"
      ]
     },
     "metadata": {},
     "output_type": "display_data"
    }
   ],
   "source": [
    "# criando uma cópia do df frame com os resíduos e a ordem de coleta apenas\n",
    "df_aux = df[[nome_ordem, \"Resíduos\",]].copy()\n",
    "colunas = df_aux.columns\n",
    "# ordenando os dados em relação a ordem de coleta\n",
    "df_aux = df_aux.sort_values(by=[colunas[0]])\n",
    "# obtendo maior resíduo (absoluto) para utilizar como y_min\n",
    "y_min = np.max([np.abs(df_aux[colunas[1]].min()), np.abs(df_aux[colunas[1]].max())])\n",
    "\n",
    "# criando o canvas\n",
    "plt.figure(figsize=(6,4))\n",
    "# adicionando os resíduos\n",
    "plt.scatter(df_aux[colunas[0]], df_aux[colunas[1]], edgecolors='k', facecolor='None', label=\"Resíduos\")\n",
    "plt.plot(df_aux[colunas[0]], df_aux[colunas[1]], c='k')\n",
    "plt.xlabel(nome_ordem)\n",
    "plt.ylabel(\"Resíduos\")\n",
    "plt.axhline(y=0, color=\"black\", linestyle=\"--\")\n",
    "plt.ylim(bottom= -1.1*y_min, top = 1.1*y_min )    \n",
    "plt.xticks(df_aux[colunas[0]])\n",
    "plt.show()"
   ]
  },
  {
   "cell_type": "markdown",
   "id": "efaa1278-51ea-46d8-9dd8-258bef8b21d8",
   "metadata": {},
   "source": [
    "### Independência dos resíduos em relação ao ajustamento\n",
    "\n",
    "#### Gráfico dos resíduos *versus* sinal predito"
   ]
  },
  {
   "cell_type": "code",
   "execution_count": 50,
   "id": "06b2063c-c161-4d8e-b476-fd8a31536a4e",
   "metadata": {},
   "outputs": [
    {
     "data": {
      "image/png": "[encoded data removed]",
      "text/plain": [
       "<Figure size 600x400 with 1 Axes>"
      ]
     },
     "metadata": {},
     "output_type": "display_data"
    }
   ],
   "source": [
    "# criando uma cópia do df frame com os resíduos e o sinal predito\n",
    "df_aux = df[[\"ypred\", \"Resíduos\",]].copy()\n",
    "colunas = df_aux.columns\n",
    "# obtendo maior resíduo (absoluto) para utilizar como y_min\n",
    "y_min = np.max([np.abs(df_aux[colunas[1]].min()), np.abs(df_aux[colunas[1]].max())])\n",
    "\n",
    "plt.figure(figsize=(6,4))\n",
    "plt.scatter(df_aux[colunas[0]], df_aux[colunas[1]], edgecolors='k', facecolor='None')\n",
    "plt.xlabel(\"Sinal predito\")\n",
    "plt.ylabel(\"Resíduos\")\n",
    "plt.axhline(y=0, color=\"black\", linestyle=\"--\")\n",
    "plt.ylim(bottom= -1.1*y_min, top = 1.1*y_min )    \n",
    "\n",
    "plt.show()"
   ]
  },
  {
   "cell_type": "markdown",
   "id": "1a83485c-7eb8-48fa-a94b-172708adcafb",
   "metadata": {},
   "source": [
    "### Outliers (Resíduos padronizados)\n",
    "\n",
    "$$resíduo \\; padronizado_{i} = \\frac{resíduo_{i}}{\\sqrt{MSQE}}$$\n",
    "\n",
    "onde:\n",
    "- $resíduo_{i}$ é o resíduo da i-ésima observação;\n",
    "- $MSQE$ é a quantidade média de variância que o modelo não consegue explicar;\n",
    "\n",
    "\n",
    "#### Conclusão\n",
    "\n",
    "> Se $|resíduo \\; padronizado_{i}| > 3 $, a i-ésima observação é um possível outlier"
   ]
  },
  {
   "cell_type": "code",
   "execution_count": 51,
   "id": "f1539c74-8aa2-4acc-a31e-d7bff110b9f7",
   "metadata": {},
   "outputs": [
    {
     "name": "stdout",
     "output_type": "stream",
     "text": [
      "       Ensaio  Concentração  Sinal      ypred  Resíduos Padronizados\n",
      "20  Ensaio 21          13.0   15.0  51.628912              -3.501048\n"
     ]
    }
   ],
   "source": [
    "df['Resíduos Padronizados'] = df[\"Resíduos\"]/np.sqrt(MSQE)\n",
    "colunas = [nome_ensaio, nome_conc, nome_sinal, 'ypred', 'Resíduos Padronizados']\n",
    "limite_padronizado = 3\n",
    "df_aux_padronizado = df[df['Resíduos Padronizados'].abs() > limite_padronizado][colunas].copy()\n",
    "if df_aux_padronizado.shape[0] > 0:\n",
    "    print(df_aux_padronizado)\n",
    "else:\n",
    "    print(f\"Nenhum resíduo padronizado é maior do que {limite_padronizado}\")\n",
    "\n"
   ]
  },
  {
   "cell_type": "markdown",
   "id": "1d6e2809-b22c-4ae8-b33c-4f1884e9a946",
   "metadata": {},
   "source": [
    "#### Gráfico dos resíduos padronizados *versus* sinal predito"
   ]
  },
  {
   "cell_type": "code",
   "execution_count": 52,
   "id": "c087a99d-770f-4c51-a15a-2f03de2042f9",
   "metadata": {},
   "outputs": [
    {
     "data": {
      "image/png": "[encoded data removed]",
      "text/plain": [
       "<Figure size 800x600 with 1 Axes>"
      ]
     },
     "metadata": {},
     "output_type": "display_data"
    }
   ],
   "source": [
    "# criando uma cópia do df frame com os resíduos e o sinal predito\n",
    "df_aux = df[[\"ypred\", \"Resíduos Padronizados\",]].copy()\n",
    "colunas = df_aux.columns\n",
    "# obtendo maior resíduo (absoluto) para utilizar como y_min\n",
    "y_min = np.max([np.abs(df_aux[colunas[1]].min()), np.abs(df_aux[colunas[1]].max())])\n",
    "if y_min < limite_padronizado:\n",
    "    y_min = limite_padronizado\n",
    "\n",
    "    \n",
    "# criando o canvas\n",
    "plt.figure(figsize=(8,6))\n",
    "# adicionando os resíduos\n",
    "plt.scatter(df_aux[colunas[0]], df_aux[colunas[1]], edgecolors='k', facecolor='None', label=\"Resíduos padronizados\")\n",
    "\n",
    "# adicionado possíveis outliers, apenas se eles existirem\n",
    "if df_aux_padronizado.shape[0] > 0:\n",
    "    plt.scatter(df_aux_padronizado[colunas[0]], df_aux_padronizado[colunas[1]], \n",
    "                edgecolors='none', facecolor='r',  label=\"Possíveis outliers\")\n",
    "\n",
    "    \n",
    "    plt.legend()\n",
    "\n",
    "df_aux_padronizado\n",
    "plt.xlabel(\"Sinal predito\")\n",
    "plt.ylabel(\"Resíduos Padronizados\")\n",
    "plt.axhline(y=0, color=\"gray\", linestyle=\"--\")\n",
    "plt.axhline(y=limite_padronizado, color=\"k\", linestyle=\"--\")\n",
    "plt.axhline(y=-1*limite_padronizado, color=\"k\", linestyle=\"--\")\n",
    "\n",
    "plt.ylim(bottom= -1.1*y_min, top = 1.1*y_min )  \n",
    "plt.show()"
   ]
  },
  {
   "cell_type": "markdown",
   "id": "0ee0b737-410b-4604-8d42-d513689cb43a",
   "metadata": {},
   "source": [
    "### Correlação dos resíduos ( $r_{pearson}$ )\n",
    "\n",
    "\n",
    "\n",
    "$$r_{pearson} = \\frac{\\sum_{i=1}^n (y_i - \\overline{y}) (\\widehat{y_{i}} - \\overline{\\widehat{y}})}{\\sqrt{\\sum_{i=1}^n ((y_i - \\overline{y})^2 \\sum_{i=1}^n ((\\widehat{y_{i}} - \\overline{\\widehat{y}})^2}}$$\n",
    "\n",
    "onde\n",
    "- $n$ é o número total de observações;\n",
    "- $y_i$ é a i-ésima observação do sinal;\n",
    "- $\\overline{y}$ é a média do sinal;\n",
    "- $\\widehat{y_{i}}$ é a i-ésima observação do sinal predito;\n",
    "- $\\overline{\\widehat{y}}$ é a média do sinal predito;\n"
   ]
  },
  {
   "cell_type": "code",
   "execution_count": 53,
   "id": "cb140a36-dc0e-486a-96d1-98668ab49ae4",
   "metadata": {},
   "outputs": [],
   "source": [
    "residual_r_pearson, _ = stats.pearsonr(df[nome_sinal], df['ypred'])"
   ]
  },
  {
   "cell_type": "code",
   "execution_count": 54,
   "id": "89b9d79b-2fb9-4c82-9651-b6e991b4feb9",
   "metadata": {},
   "outputs": [
    {
     "name": "stdout",
     "output_type": "stream",
     "text": [
      "A correlação entre o sinal experimentais e o sinal predito NÃO é forte (r_pearson = 0.74)\n"
     ]
    }
   ],
   "source": [
    "if residual_r_pearson > 0.90:\n",
    "    print(f\"A correlação entre o sinal experimental e o sinal predito é forte (r_pearson = {round(residual_r_pearson, 2)})\")\n",
    "else:\n",
    "    print(f\"A correlação entre o sinal experimentais e o sinal predito NÃO é forte (r_pearson = {round(residual_r_pearson, 2)})\")"
   ]
  },
  {
   "cell_type": "markdown",
   "id": "54c769a2-7485-47e9-be1e-df9fdef5abf4",
   "metadata": {},
   "source": [
    "#### Gráfico do sinal predito *versus* sinal real"
   ]
  },
  {
   "cell_type": "code",
   "execution_count": 55,
   "id": "f387c2af-f765-4ef1-8790-1fbf4b8e7b43",
   "metadata": {},
   "outputs": [
    {
     "data": {
      "image/png": "[encoded data removed]",
      "text/plain": [
       "<Figure size 640x480 with 1 Axes>"
      ]
     },
     "metadata": {},
     "output_type": "display_data"
    }
   ],
   "source": [
    "# obtendo o limite inferior para o eixo x\n",
    "if df[nome_sinal].min() > df['ypred'].min():\n",
    "    x_min = df['ypred'].min()\n",
    "else:\n",
    "    x_min = df[nome_sinal].min()\n",
    "\n",
    "# obtendo o limite inferior para o eixo y    \n",
    "if df[nome_sinal].max() > df['ypred'].max():\n",
    "    x_max = df[nome_sinal].max()\n",
    "else:\n",
    "    x_max = df['ypred'].max()  \n",
    "    \n",
    "x_max = x_max + 0.2*x_min\n",
    "x_min = x_min - 0.2*x_min\n",
    "\n",
    "# criando o canvas\n",
    "plt.figure()\n",
    "# adicionando os resíduos\n",
    "text = \"$r_{pearson}$\" + f\" = {round(residual_r_pearson, 2)}\"\n",
    "plt.scatter(df[nome_sinal], df['ypred'], edgecolors='k', facecolor='None', label=text)\n",
    "# adicionando reta com slope = 1\n",
    "plt.axline(xy1=(df[nome_sinal].mean(), df[nome_sinal].mean()), slope=1, color=\"black\", linestyle=\"--\", label=\"reta com slope=1\")\n",
    "plt.xlim(x_min, x_max)\n",
    "plt.ylim(x_min, x_max)\n",
    "plt.xlabel(\"Sinal observado\")\n",
    "plt.ylabel(\"Sinal predito\")\n",
    "plt.legend(loc=4)\n",
    "plt.axis('equal')\n",
    "plt.show()"
   ]
  },
  {
   "cell_type": "markdown",
   "id": "892dbd16-0887-4ca9-ac97-cd18e4c8ed1e",
   "metadata": {},
   "source": [
    "## Intervalo de confiança dos parâmetros"
   ]
  },
  {
   "cell_type": "markdown",
   "id": "462d4406-064e-4f9f-9eaf-0e45282e728f",
   "metadata": {},
   "source": [
    "### Coeficiente angular ( $b_{1}$ )\n",
    "\n",
    "\n",
    "#### Desvio padrão\n",
    "\n",
    "$$s_{b_{1}} = \\sqrt{\\frac{MSQE}{S_{xx}}}$$\n",
    "\n",
    "onde:\n",
    "- $MSQE$ é a quantidade média de variância que o modelo não consegue explicar;\n",
    "- $S_{xx}$ é o somatório do erro quadrático da concentração, que é estimado por:\n",
    "\n",
    "$$S_{xx} = \\sum_{i=1}^{n} (x_{i} - \\overline{x})^2$$\n",
    "\n",
    "onde:\n",
    "- $n$ é o número total de observações;\n",
    "- $x_i$ é a i-ésima observação da concentração;\n",
    "- $\\overline{x}$ é a média da concentração;\n",
    "\n",
    "> O $S_{xx}$ tem unidade da concentração ao quadrado\n",
    "\n",
    "> O $s_{b_{1}}$ tem unidade do sinal divido pelo sinal da concentração"
   ]
  },
  {
   "cell_type": "code",
   "execution_count": 56,
   "id": "25e4564e-b26d-46c5-b792-e654cc6e1fcb",
   "metadata": {},
   "outputs": [],
   "source": [
    "# df['sxx'] = np.square(df[nome_conc] - df[nome_conc].mean())\n",
    "# Sxx = np.sum(df['sxx'])\n",
    "# Sxx"
   ]
  },
  {
   "cell_type": "code",
   "execution_count": 57,
   "id": "9b06af6d-f439-4da6-82a1-59f5d95891cf",
   "metadata": {},
   "outputs": [
    {
     "data": {
      "text/plain": [
       "0.6872725894396905"
      ]
     },
     "execution_count": 57,
     "metadata": {},
     "output_type": "execute_result"
    }
   ],
   "source": [
    "b1_std = np.sqrt(MSQE/Sxx)\n",
    "b1_std"
   ]
  },
  {
   "cell_type": "markdown",
   "id": "fb3abb7b-9e10-4690-b45d-19323c0ef358",
   "metadata": {},
   "source": [
    "#### Intervalo de confiança ( $IC_{b_{1}}$ )\n",
    "\n",
    "$$ IC_{b_{1}} = t_{gl_{erros}, 1-\\alpha/2} \\times s_{b_{1}}$$\n",
    "\n",
    "onde:\n",
    "- $t_{gl_{erros}, 1-\\alpha/2}$ é o valor crítico da distribuição t de Student bilateral;\n",
    "- $s_{b_{1}}$ é o desvio padrão do coeficiente angular\n",
    "\n",
    "> Tem unidade do sinal divido pelo sinal da concentração"
   ]
  },
  {
   "cell_type": "code",
   "execution_count": 58,
   "id": "8932d74a-6d5b-451d-a359-7b3465dd0a41",
   "metadata": {},
   "outputs": [
    {
     "data": {
      "text/plain": [
       "1.4384780616327266"
      ]
     },
     "execution_count": 58,
     "metadata": {},
     "output_type": "execute_result"
    }
   ],
   "source": [
    "ic_b1 = t_critico*b1_std\n",
    "ic_b1"
   ]
  },
  {
   "cell_type": "markdown",
   "id": "b5ebf091-38c2-480b-a1ab-c952973d966f",
   "metadata": {},
   "source": [
    "#### Valor verdadeiro\n",
    "\n",
    "O valor verdadeiro de $b_{1}$ esta dentro do intervalo:\n",
    "\n",
    "$$b_{1} - IC_{b_{1}} \\leq b_{1} \\leq b_{1} + IC_{b_{1}}$$\n"
   ]
  },
  {
   "cell_type": "code",
   "execution_count": 59,
   "id": "315555d3-d2ca-44c9-bc04-4cf2fc15c63c",
   "metadata": {},
   "outputs": [
    {
     "data": {
      "text/plain": [
       "'1.8771 ≤ b1 ≤  4.7541'"
      ]
     },
     "execution_count": 59,
     "metadata": {},
     "output_type": "execute_result"
    }
   ],
   "source": [
    "f\"{round(b1 - ic_b1, 4)} ≤ b1 ≤  {round(b1 + ic_b1, 4)}\" "
   ]
  },
  {
   "cell_type": "markdown",
   "id": "2c972f05-94e3-4382-8ed0-50f23a8f9e3b",
   "metadata": {},
   "source": [
    "#### Teste de hipótese\n",
    "\n",
    "A estatística do teste é:\n",
    "\n",
    "$$t_{b_{1}} = \\frac{b_{1}}{s_{b_{1}}}$$\n",
    "\n",
    "onde:\n",
    "- $b_{1}$ é o coeficiente angular;\n",
    "- $s_{b_{1}}$ é o desvio padrão do coeficiente angular;\n",
    "\n",
    "\n",
    "Hipótese:\n",
    "\n",
    "$$H_{0}: \\beta_{1} = 0$$\n",
    "$$H_{1}: \\beta_{1} \\neq 0$$\n",
    "\n",
    "\n",
    "##### Conclusão Utilizando o p-valor\n",
    "\n",
    "- Se $p-valor \\geq \\alpha$, falha em rejeitar a hipótese nula com o nível de singificância adotado $\\alpha$ nível de singnificância (o coeficiente angular é ***diferente de zero***);\n",
    "- Se $p-valor < \\alpha$, rejeita a hipótese nula com o nível de singificância adotado $\\alpha$ nível de singnificância (o coeficiente angular é ***igual a zero***);\n",
    "\n",
    "\n",
    "##### Utilizando o valor crítico\n",
    "\n",
    "- Se $t_{crítico} \\geq t_{b_{1}}$, falha em rejeitar a hipótese nula com o nível de singificância adotado $\\alpha$ nível de singnificância (o coeficiente angular é ***diferente de zero***);\n",
    "- Se $t_{crítico} < t_{b_{1}}$, rejeita a hipótese nula com o nível de singificância adotado $\\alpha$ nível de singnificância (o coeficiente angular é ***igual a zero***);\n",
    "\n",
    "O valor crítico do teste é obtido da distribuição t de Student bilateral com $gl_{erros}$."
   ]
  },
  {
   "cell_type": "code",
   "execution_count": 60,
   "id": "83b6956f-ff9e-4610-8109-d1795ffa8db7",
   "metadata": {},
   "outputs": [
    {
     "data": {
      "text/plain": [
       "4.8242529173590825"
      ]
     },
     "execution_count": 60,
     "metadata": {},
     "output_type": "execute_result"
    }
   ],
   "source": [
    "t_b1 = b1/b1_std\n",
    "t_b1"
   ]
  },
  {
   "cell_type": "code",
   "execution_count": 61,
   "id": "c215c7cd-8e92-474e-8d4c-cfcd450fcb1c",
   "metadata": {},
   "outputs": [
    {
     "data": {
      "text/plain": [
       "0.00011786048721962317"
      ]
     },
     "execution_count": 61,
     "metadata": {},
     "output_type": "execute_result"
    }
   ],
   "source": [
    "p_valor_b1 = (1 - stats.t.cdf(t_b1, gl_erro))*2\n",
    "p_valor_b1"
   ]
  },
  {
   "cell_type": "code",
   "execution_count": 62,
   "id": "f5a68fd3-0752-48f1-b610-4128b691bcb4",
   "metadata": {},
   "outputs": [
    {
     "name": "stdout",
     "output_type": "stream",
     "text": [
      "O coeficiente angular (3.316) é diferente de zero (p-valor = 0.0)\n"
     ]
    }
   ],
   "source": [
    "if p_valor_b1 < alfa:\n",
    "    b1_significante = \"Sim\"\n",
    "    print(f\"O coeficiente angular ({round(b1, 3)}) é diferente de zero (p-valor = {round(p_valor_b1, 3)})\")\n",
    "else:\n",
    "    b1_significante = \"Não\"\n",
    "    print(f\"O coeficiente angular ({round(b1, 3)}) é igual a zero (p-valor = {round(p_valor_b1, 3)})\")\n"
   ]
  },
  {
   "cell_type": "markdown",
   "id": "e37d7621-d941-4a1f-a3a9-e9da8b720244",
   "metadata": {},
   "source": [
    "##### Gráfico da distribuição t de Student para o $b_{1}$"
   ]
  },
  {
   "cell_type": "code",
   "execution_count": 63,
   "id": "300f8606-4c94-450a-91b1-c3de9f4aac63",
   "metadata": {},
   "outputs": [
    {
     "data": {
      "image/png": "[encoded data removed]",
      "text/plain": [
       "<Figure size 800x400 with 1 Axes>"
      ]
     },
     "metadata": {},
     "output_type": "display_data"
    }
   ],
   "source": [
    "# obtendo intervalo de x para plotar o gráfico\n",
    "if t_critico > np.abs(t_b1):\n",
    "    x_aux = 5\n",
    "else:\n",
    "    x_aux = np.abs(t_b1) + 0.2*np.abs(t_b1)\n",
    "\n",
    "\n",
    "# criando o canvas\n",
    "fig, ax1 = plt.subplots(figsize=(8,4))\n",
    "\n",
    "# adicionando a distribuição t de Student\n",
    "x = np.linspace(-1*x_aux, x_aux, 1000)\n",
    "y = stats.t.pdf(x, gl_erro, loc=0, scale=1)\n",
    "label = \"Dist. t-Student ($gl$=\" + str(gl_erro) + \")\"\n",
    "ax1.plot(x, y, c=\"k\", label=label)\n",
    "\n",
    "label = '$t_{crítico} = $' + str(round(t_critico, 3))\n",
    "ax1.axvline(t_critico, 0, 1, label=label, color='blue', ls='--')\n",
    "ax1.axvline(-t_critico, 0, 1, color='blue', ls='--')\n",
    "\n",
    "label = '$t_{calc} = $' + str(round(t_b1, 2))\n",
    "ax1.scatter(t_b1, 0, color='red', label=label)\n",
    "\n",
    "x = np.linspace(-1*x_aux, -1*np.abs(t_b1), 1000)\n",
    "ax1.fill_between(x,stats.t.pdf(x, gl_erro, loc=0, scale=1), label = '$probabilidade$', color = 'salmon')\n",
    "\n",
    "x = np.linspace(np.abs(t_b1), x_aux, 1000)\n",
    "ax1.fill_between(x,stats.t.pdf(x, gl_erro, loc=0, scale=1), color = 'salmon')\n",
    "\n",
    "plt.xlim(-1*x_aux - 0.1, x_aux + 0.1)\n",
    "plt.ylim(bottom=0.0)\n",
    "plt.legend(bbox_to_anchor=(1.35,1))\n",
    "plt.show()"
   ]
  },
  {
   "cell_type": "markdown",
   "id": "a0715c34-dae2-490f-85ff-145bffa0bea1",
   "metadata": {},
   "source": [
    "### Coeficiente linear ( $b_{0}$ )\n",
    "\n",
    "\n",
    "#### Desvio padrão\n",
    "\n",
    "$$s_{b_{0}} = \\sqrt{MSQE \\left( \\frac{1}{n} + \\frac{\\overline{x}^{2}}{S_{xx}} \\right)}$$\n",
    "\n",
    "onde:\n",
    "- $MSQE$ é a quantidade média de variância que o modelo não consegue explicar;\n",
    "- $S_{xx}$ é o somatório do erro quadrático da concentração\n",
    "- $n$ é o número total de observações;\n",
    "- $\\overline{x}$ é a média da concentração;\n",
    "\n",
    "\n",
    "\n",
    "> O $s_{b_{0}}$ tem unidade do sinal"
   ]
  },
  {
   "cell_type": "code",
   "execution_count": 64,
   "id": "ddb2062d-7f38-44c4-b188-84957e63807c",
   "metadata": {},
   "outputs": [
    {
     "data": {
      "text/plain": [
       "4.229021421531077"
      ]
     },
     "execution_count": 64,
     "metadata": {},
     "output_type": "execute_result"
    }
   ],
   "source": [
    "b0_std = np.sqrt(MSQE*(1/df.shape[0] + df[nome_conc].mean()**2/Sxx))\n",
    "b0_std"
   ]
  },
  {
   "cell_type": "markdown",
   "id": "b4d2ad30-2ad3-4d7d-8b82-58645eaff91f",
   "metadata": {},
   "source": [
    "#### Intervalo de confiança ( $IC_{b_{0}}$ )\n",
    "\n",
    "$$ IC_{b_{0}} = t_{gl_{erros}, 1-\\alpha/2} \\times s_{b_{0}}$$\n",
    "\n",
    "onde:\n",
    "- $t_{gl_{erros}, 1-\\alpha/2}$ é o valor crítico da distribuição t de Student bilateral;\n",
    "- $s_{b_{0}}$ é o desvio padrão do coeficiente angular\n",
    "\n",
    "> Tem unidade do sinal"
   ]
  },
  {
   "cell_type": "code",
   "execution_count": 65,
   "id": "933b0237-8465-482f-8087-b395855f7512",
   "metadata": {},
   "outputs": [
    {
     "data": {
      "text/plain": [
       "8.85144356187237"
      ]
     },
     "execution_count": 65,
     "metadata": {},
     "output_type": "execute_result"
    }
   ],
   "source": [
    "ic_b0 = b0_std*t_critico\n",
    "ic_b0"
   ]
  },
  {
   "cell_type": "markdown",
   "id": "7898af20-fea0-4d43-81e6-5200aaf1fc5b",
   "metadata": {},
   "source": [
    "#### Valor verdadeiro\n",
    "\n",
    "O valor verdadeiro de $b_{0}$ esta dentro do intervalo:\n",
    "\n",
    "$$b_{0} - IC_{b_{0}} \\leq b_{0} \\leq b_{0} + IC_{b_{0}}$$"
   ]
  },
  {
   "cell_type": "code",
   "execution_count": 66,
   "id": "f11c5e57-fb69-4b97-a22c-3f3c155e494d",
   "metadata": {},
   "outputs": [
    {
     "data": {
      "text/plain": [
       "'-0.325 ≤ b0 ≤  17.3779'"
      ]
     },
     "execution_count": 66,
     "metadata": {},
     "output_type": "execute_result"
    }
   ],
   "source": [
    "f\"{round(b0 - ic_b0, 4)} ≤ b0 ≤  {round(b0 + ic_b0, 4)}\" "
   ]
  },
  {
   "cell_type": "markdown",
   "id": "795675af-d0cd-4638-a7b4-6dd2ad2974c0",
   "metadata": {},
   "source": [
    "#### Teste de hipótese\n",
    "\n",
    "A estatística do teste é:\n",
    "\n",
    "$$t_{b_{0}} = \\frac{b_{0}}{s_{b_{0}}}$$\n",
    "\n",
    "onde:\n",
    "- $b_{0}$ é o coeficiente linear;\n",
    "- $s_{b_{0}}$ é o desvio padrão do coeficiente linear;\n",
    "\n",
    "\n",
    "Hipótese:\n",
    "\n",
    "$$H_{0}: \\beta_{0} = 0$$\n",
    "$$H_{1}: \\beta_{0} \\neq 0$$\n",
    "\n",
    "\n",
    "##### Conclusão Utilizando o p-valor\n",
    "\n",
    "- Se $p-valor \\geq \\alpha$, falha em rejeitar a hipótese nula com o nível de singificância adotado $\\alpha$ nível de singnificância (o coeficiente linear é ***diferente de zero***);\n",
    "- Se $p-valor < \\alpha$, rejeita a hipótese nula com o nível de singificância adotado $\\alpha$ nível de singnificância (o coeficiente linear é ***igual a zero***);\n",
    "\n",
    "\n",
    "##### Utilizando o valor crítico\n",
    "\n",
    "- Se $t_{crítico} \\geq t_{b_{1}}$, falha em rejeitar a hipótese nula com o nível de singificância adotado $\\alpha$ nível de singnificância (o coeficiente linear é ***diferente de zero***);\n",
    "- Se $t_{crítico} < t_{b_{1}}$, rejeita a hipótese nula com o nível de singificância adotado $\\alpha$ nível de singnificância (o coeficiente linear é ***igual a zero***);\n",
    "\n",
    "O valor crítico do teste é obtido da distribuição t de Student bilateral com $gl_{erros}$."
   ]
  },
  {
   "cell_type": "code",
   "execution_count": 67,
   "id": "19e26427-7022-4d0e-a2c7-3d72ec4fb22d",
   "metadata": {},
   "outputs": [
    {
     "data": {
      "text/plain": [
       "2.016167016647174"
      ]
     },
     "execution_count": 67,
     "metadata": {},
     "output_type": "execute_result"
    }
   ],
   "source": [
    "t_b0 = b0/b0_std\n",
    "t_b0"
   ]
  },
  {
   "cell_type": "code",
   "execution_count": 68,
   "id": "f5430e91-7aa2-44df-85ee-aa2fe1109206",
   "metadata": {},
   "outputs": [
    {
     "data": {
      "text/plain": [
       "0.05814417173569009"
      ]
     },
     "execution_count": 68,
     "metadata": {},
     "output_type": "execute_result"
    }
   ],
   "source": [
    "p_valor_b0 = (1 - stats.t.cdf(t_b0, gl_erro))*2\n",
    "p_valor_b0"
   ]
  },
  {
   "cell_type": "code",
   "execution_count": 69,
   "id": "20d3cfae-1fa8-4075-9661-b99d3f14a6ff",
   "metadata": {},
   "outputs": [
    {
     "name": "stdout",
     "output_type": "stream",
     "text": [
      "O coeficiente linear (8.526) é igual a zero (p-valor = 0.0)\n"
     ]
    }
   ],
   "source": [
    "if p_valor_b0 < alfa:\n",
    "    b0_significante = \"Sim\"\n",
    "    print(f\"O coeficiente linear ({round(b0, 3)}) é diferente de zero (p-valor = {round(p_valor_b0, 3)})\")\n",
    "else:\n",
    "    b0_significante = \"Não\"\n",
    "    print(f\"O coeficiente linear ({round(b0, 3)}) é igual a zero (p-valor = {round(p_valor_b1, 0)})\")\n"
   ]
  },
  {
   "cell_type": "markdown",
   "id": "81f7240e-e5ee-436e-ad88-081b6e84a466",
   "metadata": {},
   "source": [
    "##### Gráfico da distribuição t de Student para o $b_{0}$"
   ]
  },
  {
   "cell_type": "code",
   "execution_count": 70,
   "id": "56287f86-77f9-48f2-8753-be7228f2e1b6",
   "metadata": {},
   "outputs": [
    {
     "data": {
      "image/png": "[encoded data removed]",
      "text/plain": [
       "<Figure size 800x400 with 1 Axes>"
      ]
     },
     "metadata": {},
     "output_type": "display_data"
    }
   ],
   "source": [
    "# obtendo intervalo de x para plotar o gráfico\n",
    "if t_critico > np.abs(t_b0):\n",
    "    x_aux = 5\n",
    "else:\n",
    "    x_aux = np.abs(t_b0) + 0.2*np.abs(t_b0)\n",
    "\n",
    "\n",
    "# criando o canvas\n",
    "fig, ax1 = plt.subplots(figsize=(8,4))\n",
    "\n",
    "# adicionando a distribuição t de Student\n",
    "x = np.linspace(-1*x_aux, x_aux, 1000)\n",
    "y = stats.t.pdf(x, gl_erro, loc=0, scale=1)\n",
    "label = \"Dist. t-Student ($gl$=\" + str(gl_erro) + \")\"\n",
    "ax1.plot(x, y, c=\"k\", label=label)\n",
    "\n",
    "label = '$t_{crítico} = $' + str(round(t_critico, 3))\n",
    "ax1.axvline(t_critico, 0, 1, label=label, color='blue', ls='--')\n",
    "ax1.axvline(-t_critico, 0, 1, color='blue', ls='--')\n",
    "\n",
    "label = '$t_{calc} = $' + str(round(t_b0, 2))\n",
    "ax1.scatter(t_b0, 0, color='red', label=label)\n",
    "\n",
    "x = np.linspace(-1*x_aux, -1*np.abs(t_b0), 1000)\n",
    "ax1.fill_between(x,stats.t.pdf(x, gl_erro, loc=0, scale=1), label = '$probabilidade$', color = 'salmon')\n",
    "\n",
    "x = np.linspace(np.abs(t_b0), x_aux, 1000)\n",
    "ax1.fill_between(x,stats.t.pdf(x, gl_erro, loc=0, scale=1), color = 'salmon')\n",
    "\n",
    "plt.xlim(-1*x_aux - 0.1, x_aux + 0.1)\n",
    "plt.ylim(bottom=0.0)\n",
    "plt.legend(bbox_to_anchor=(1.35,1))\n",
    "plt.show()"
   ]
  },
  {
   "cell_type": "markdown",
   "id": "a894d083-f714-49ee-8107-0a90bd3310db",
   "metadata": {},
   "source": [
    "## Intervalo de confiança do sinal predito\n",
    "\n",
    "### Valores médios\n",
    "\n",
    "Valores preditos pelo modelo podem ser obtidos através da relação:\n",
    "\n",
    "$$\\widehat{y_{interesse}} = b_{0} + b_{1} \\times x_{interesse}$$\n",
    "\n",
    "onde:\n",
    "- $\\widehat{y_{imteresse}}$ é o sinal predito;\n",
    "- $b_{0}$ é o coeficiente linear;\n",
    "- $b_{1}$ é o coeficiente angular;\n",
    "- $x_{interesse}$ é uma concentração utilizada para confeccionar o modelo;\n",
    "\n",
    "\n",
    "#### Desvio padrão\n",
    "\n",
    "$$s_{x_{interesse}} = \\sqrt{MSQE \\left(\\frac{1}{n} + \\frac{\\left( x_{interesse} - \\overline{x} \\right)^{2} }{S_{xx}} \\right) }$$\n",
    "\n",
    "onde:\n",
    "- $MSQE$ é a quantidade média de variância que o modelo não consegue explicar;\n",
    "- $S_{xx}$ é o somatório do erro quadrático da concentração\n",
    "- $n$ é o número total de observações;\n",
    "- $\\overline{x}$ é a média da concentração;\n",
    "- $x_{interesse}$ é uma concentração utilizada para confeccionar o modelo;\n",
    "\n",
    "#### Intervalo de confiança\n",
    "\n",
    "$$IC \\left( \\widehat{y_{interesse}} \\right) = t_{gl_{erros}, \\; 1-\\alpha/2} \\times s_{x_{interesse}} $$\n",
    "\n",
    "onde:\n",
    "- $s_{x_{interesse}}$ é o desvio padrão de $\\widehat{y_{interesse}}$;\n",
    "- $t_{gl_{erros}, \\; 1-\\alpha/2}$ é o valor crítico da distribuição t de Student bilateral;"
   ]
  },
  {
   "cell_type": "code",
   "execution_count": 71,
   "id": "ff347a82-2076-4160-938a-58d616a84319",
   "metadata": {},
   "outputs": [],
   "source": [
    "# criando um novo dataframe com apenas informações relevantes para a predição\n",
    "df_pred = df[[nome_conc, nome_sinal, 'ypred']].copy()"
   ]
  },
  {
   "cell_type": "code",
   "execution_count": 72,
   "id": "99b525f2-a1be-4dc4-b5ea-89ba158397fa",
   "metadata": {},
   "outputs": [
    {
     "data": {
      "text/html": [
       "<div>\n",
       "<style scoped>\n",
       "    .dataframe tbody tr th:only-of-type {\n",
       "        vertical-align: middle;\n",
       "    }\n",
       "\n",
       "    .dataframe tbody tr th {\n",
       "        vertical-align: top;\n",
       "    }\n",
       "\n",
       "    .dataframe thead th {\n",
       "        text-align: right;\n",
       "    }\n",
       "</style>\n",
       "<table border=\"1\" class=\"dataframe\">\n",
       "  <thead>\n",
       "    <tr style=\"text-align: right;\">\n",
       "      <th></th>\n",
       "      <th>Concentração</th>\n",
       "      <th>Sinal</th>\n",
       "      <th>ypred</th>\n",
       "      <th>Médios IC</th>\n",
       "      <th>Médios L. Inferior</th>\n",
       "      <th>Médios L. Superior</th>\n",
       "    </tr>\n",
       "  </thead>\n",
       "  <tbody>\n",
       "    <tr>\n",
       "      <th>0</th>\n",
       "      <td>0.10000</td>\n",
       "      <td>-0.0716</td>\n",
       "      <td>8.857971</td>\n",
       "      <td>8.730704</td>\n",
       "      <td>0.127267</td>\n",
       "      <td>17.588675</td>\n",
       "    </tr>\n",
       "    <tr>\n",
       "      <th>1</th>\n",
       "      <td>0.45401</td>\n",
       "      <td>4.1673</td>\n",
       "      <td>10.031719</td>\n",
       "      <td>8.309188</td>\n",
       "      <td>1.722530</td>\n",
       "      <td>18.340907</td>\n",
       "    </tr>\n",
       "    <tr>\n",
       "      <th>2</th>\n",
       "      <td>1.09765</td>\n",
       "      <td>6.5703</td>\n",
       "      <td>12.165756</td>\n",
       "      <td>7.570494</td>\n",
       "      <td>4.595263</td>\n",
       "      <td>19.736250</td>\n",
       "    </tr>\n",
       "    <tr>\n",
       "      <th>3</th>\n",
       "      <td>1.27936</td>\n",
       "      <td>13.8150</td>\n",
       "      <td>12.768230</td>\n",
       "      <td>7.369604</td>\n",
       "      <td>5.398625</td>\n",
       "      <td>20.137834</td>\n",
       "    </tr>\n",
       "    <tr>\n",
       "      <th>4</th>\n",
       "      <td>2.20611</td>\n",
       "      <td>11.4501</td>\n",
       "      <td>15.840941</td>\n",
       "      <td>6.413234</td>\n",
       "      <td>9.427707</td>\n",
       "      <td>22.254175</td>\n",
       "    </tr>\n",
       "    <tr>\n",
       "      <th>5</th>\n",
       "      <td>2.50064</td>\n",
       "      <td>12.9554</td>\n",
       "      <td>16.817477</td>\n",
       "      <td>6.138784</td>\n",
       "      <td>10.678694</td>\n",
       "      <td>22.956261</td>\n",
       "    </tr>\n",
       "    <tr>\n",
       "      <th>6</th>\n",
       "      <td>3.04030</td>\n",
       "      <td>20.1575</td>\n",
       "      <td>18.606762</td>\n",
       "      <td>5.683677</td>\n",
       "      <td>12.923085</td>\n",
       "      <td>24.290438</td>\n",
       "    </tr>\n",
       "    <tr>\n",
       "      <th>7</th>\n",
       "      <td>3.23583</td>\n",
       "      <td>17.5633</td>\n",
       "      <td>19.255056</td>\n",
       "      <td>5.536440</td>\n",
       "      <td>13.718616</td>\n",
       "      <td>24.791497</td>\n",
       "    </tr>\n",
       "    <tr>\n",
       "      <th>8</th>\n",
       "      <td>4.16990</td>\n",
       "      <td>26.0317</td>\n",
       "      <td>22.352037</td>\n",
       "      <td>4.994359</td>\n",
       "      <td>17.357679</td>\n",
       "      <td>27.346396</td>\n",
       "    </tr>\n",
       "    <tr>\n",
       "      <th>9</th>\n",
       "      <td>4.45308</td>\n",
       "      <td>22.7573</td>\n",
       "      <td>23.290942</td>\n",
       "      <td>4.891444</td>\n",
       "      <td>18.399498</td>\n",
       "      <td>28.182387</td>\n",
       "    </tr>\n",
       "    <tr>\n",
       "      <th>10</th>\n",
       "      <td>5.28474</td>\n",
       "      <td>26.3030</td>\n",
       "      <td>26.048375</td>\n",
       "      <td>4.780880</td>\n",
       "      <td>21.267495</td>\n",
       "      <td>30.829255</td>\n",
       "    </tr>\n",
       "    <tr>\n",
       "      <th>11</th>\n",
       "      <td>5.59238</td>\n",
       "      <td>30.6885</td>\n",
       "      <td>27.068379</td>\n",
       "      <td>4.815234</td>\n",
       "      <td>22.253145</td>\n",
       "      <td>31.883612</td>\n",
       "    </tr>\n",
       "    <tr>\n",
       "      <th>12</th>\n",
       "      <td>5.92091</td>\n",
       "      <td>33.9402</td>\n",
       "      <td>28.157645</td>\n",
       "      <td>4.896018</td>\n",
       "      <td>23.261628</td>\n",
       "      <td>33.053663</td>\n",
       "    </tr>\n",
       "    <tr>\n",
       "      <th>13</th>\n",
       "      <td>6.66066</td>\n",
       "      <td>30.9228</td>\n",
       "      <td>30.610343</td>\n",
       "      <td>5.231893</td>\n",
       "      <td>25.378450</td>\n",
       "      <td>35.842236</td>\n",
       "    </tr>\n",
       "    <tr>\n",
       "      <th>14</th>\n",
       "      <td>6.79953</td>\n",
       "      <td>34.1100</td>\n",
       "      <td>31.070777</td>\n",
       "      <td>5.316368</td>\n",
       "      <td>25.754410</td>\n",
       "      <td>36.387145</td>\n",
       "    </tr>\n",
       "    <tr>\n",
       "      <th>15</th>\n",
       "      <td>7.97943</td>\n",
       "      <td>44.4536</td>\n",
       "      <td>34.982826</td>\n",
       "      <td>6.249348</td>\n",
       "      <td>28.733478</td>\n",
       "      <td>41.232175</td>\n",
       "    </tr>\n",
       "    <tr>\n",
       "      <th>16</th>\n",
       "      <td>8.41536</td>\n",
       "      <td>46.5022</td>\n",
       "      <td>36.428186</td>\n",
       "      <td>6.670729</td>\n",
       "      <td>29.757457</td>\n",
       "      <td>43.098914</td>\n",
       "    </tr>\n",
       "    <tr>\n",
       "      <th>17</th>\n",
       "      <td>8.70156</td>\n",
       "      <td>50.0568</td>\n",
       "      <td>37.377104</td>\n",
       "      <td>6.964236</td>\n",
       "      <td>30.412868</td>\n",
       "      <td>44.341340</td>\n",
       "    </tr>\n",
       "    <tr>\n",
       "      <th>18</th>\n",
       "      <td>8.71607</td>\n",
       "      <td>46.5475</td>\n",
       "      <td>37.425213</td>\n",
       "      <td>6.979434</td>\n",
       "      <td>30.445779</td>\n",
       "      <td>44.404647</td>\n",
       "    </tr>\n",
       "    <tr>\n",
       "      <th>19</th>\n",
       "      <td>9.16463</td>\n",
       "      <td>45.7762</td>\n",
       "      <td>38.912448</td>\n",
       "      <td>7.462820</td>\n",
       "      <td>31.449628</td>\n",
       "      <td>46.375268</td>\n",
       "    </tr>\n",
       "    <tr>\n",
       "      <th>20</th>\n",
       "      <td>13.00000</td>\n",
       "      <td>15.0000</td>\n",
       "      <td>51.628912</td>\n",
       "      <td>12.222265</td>\n",
       "      <td>39.406647</td>\n",
       "      <td>63.851177</td>\n",
       "    </tr>\n",
       "  </tbody>\n",
       "</table>\n",
       "</div>"
      ],
      "text/plain": [
       "    Concentração    Sinal      ypred  Médios IC  Médios L. Inferior  \\\n",
       "0        0.10000  -0.0716   8.857971   8.730704            0.127267   \n",
       "1        0.45401   4.1673  10.031719   8.309188            1.722530   \n",
       "2        1.09765   6.5703  12.165756   7.570494            4.595263   \n",
       "3        1.27936  13.8150  12.768230   7.369604            5.398625   \n",
       "4        2.20611  11.4501  15.840941   6.413234            9.427707   \n",
       "5        2.50064  12.9554  16.817477   6.138784           10.678694   \n",
       "6        3.04030  20.1575  18.606762   5.683677           12.923085   \n",
       "7        3.23583  17.5633  19.255056   5.536440           13.718616   \n",
       "8        4.16990  26.0317  22.352037   4.994359           17.357679   \n",
       "9        4.45308  22.7573  23.290942   4.891444           18.399498   \n",
       "10       5.28474  26.3030  26.048375   4.780880           21.267495   \n",
       "11       5.59238  30.6885  27.068379   4.815234           22.253145   \n",
       "12       5.92091  33.9402  28.157645   4.896018           23.261628   \n",
       "13       6.66066  30.9228  30.610343   5.231893           25.378450   \n",
       "14       6.79953  34.1100  31.070777   5.316368           25.754410   \n",
       "15       7.97943  44.4536  34.982826   6.249348           28.733478   \n",
       "16       8.41536  46.5022  36.428186   6.670729           29.757457   \n",
       "17       8.70156  50.0568  37.377104   6.964236           30.412868   \n",
       "18       8.71607  46.5475  37.425213   6.979434           30.445779   \n",
       "19       9.16463  45.7762  38.912448   7.462820           31.449628   \n",
       "20      13.00000  15.0000  51.628912  12.222265           39.406647   \n",
       "\n",
       "    Médios L. Superior  \n",
       "0            17.588675  \n",
       "1            18.340907  \n",
       "2            19.736250  \n",
       "3            20.137834  \n",
       "4            22.254175  \n",
       "5            22.956261  \n",
       "6            24.290438  \n",
       "7            24.791497  \n",
       "8            27.346396  \n",
       "9            28.182387  \n",
       "10           30.829255  \n",
       "11           31.883612  \n",
       "12           33.053663  \n",
       "13           35.842236  \n",
       "14           36.387145  \n",
       "15           41.232175  \n",
       "16           43.098914  \n",
       "17           44.341340  \n",
       "18           44.404647  \n",
       "19           46.375268  \n",
       "20           63.851177  "
      ]
     },
     "execution_count": 72,
     "metadata": {},
     "output_type": "execute_result"
    }
   ],
   "source": [
    "df_pred[\"Médios IC\"] = t_critico*np.sqrt(MSQE*(1/df.shape[0] + np.square(df_pred[nome_conc] - df[nome_conc].mean())/Sxx))\n",
    "df_pred[\"Médios L. Inferior\"] = df_pred['ypred'] -  df_pred[\"Médios IC\"]\n",
    "df_pred[\"Médios L. Superior\"] = df_pred['ypred'] +  df_pred[\"Médios IC\"]\n",
    "df_pred"
   ]
  },
  {
   "cell_type": "markdown",
   "id": "577da631-c73c-4b7b-90a3-7df1b9fc969f",
   "metadata": {},
   "source": [
    "#### Gráfico de calibração com as bandas médias"
   ]
  },
  {
   "cell_type": "code",
   "execution_count": 73,
   "id": "6ad62724-b07e-40d0-bd3b-170cc6991fe9",
   "metadata": {},
   "outputs": [
    {
     "data": {
      "image/png": "[encoded data removed]",
      "text/plain": [
       "<Figure size 600x400 with 1 Axes>"
      ]
     },
     "metadata": {},
     "output_type": "display_data"
    }
   ],
   "source": [
    "# criando o canvas\n",
    "plt.figure(figsize=(6,4))\n",
    "# adicionando os valores experimentais (do df original)\n",
    "plt.scatter(df[nome_conc], df[nome_sinal], label=dataset_name, edgecolors='k', facecolor='None')\n",
    "# adicionando a linha de regressão (df pred)\n",
    "plt.plot(df_pred[nome_conc], df_pred['ypred'], label=\"Regressão\", c='k', ls='--')\n",
    "# adicionando banda média inferior\n",
    "plt.plot(df_pred[nome_conc], df_pred['Médios L. Inferior'], c='r', ls='--', label=\"Bandas Médias\")\n",
    "# adicionando banda média superior\n",
    "plt.plot(df_pred[nome_conc], df_pred['Médios L. Superior'], c='r', ls='--')\n",
    "plt.xlabel(nome_conc)\n",
    "plt.ylabel(nome_sinal)\n",
    "plt.legend()\n",
    "plt.show()"
   ]
  },
  {
   "cell_type": "markdown",
   "id": "0156e3b9-5c20-45b9-85be-b404009bef21",
   "metadata": {},
   "source": [
    "### Valores pontuais\n",
    "\n",
    "Valores preditos pelo modelo podem ser obtidos através da relação:\n",
    "\n",
    "$$\\widehat{y_{interesse}} = b_{0} + b_{1} \\times x_{interesse}$$\n",
    "\n",
    "onde:\n",
    "- $\\widehat{y_{imteresse}}$ é o sinal predito;\n",
    "- $b_{0}$ é o coeficiente linear;\n",
    "- $b_{1}$ é o coeficiente angular;\n",
    "- $x_{interesse}$ é uma concentração qualquer, dentro do intervalo de concentração utilizado para confeccionar o modelo;\n",
    "\n",
    "\n",
    "#### Desvio padrão\n",
    "\n",
    "$$s_{x_{interesse}} = \\sqrt{MSQE \\left(\\frac{1}{m} + \\frac{1}{n} + \\frac{\\left( x_{interesse} - \\overline{x} \\right)^{2} }{S_{xx}} \\right) }$$\n",
    "\n",
    "onde:\n",
    "- $MSQE$ é a quantidade média de variância que o modelo não consegue explicar;\n",
    "- $S_{xx}$ é o somatório do erro quadrático da concentração\n",
    "- $n$ é o número total de observações;\n",
    "- $m$ é o número de repetições obtidos para $x_{interesse}$;\n",
    "- $\\overline{x}$ é a média da concentração;\n",
    "- $x_{interesse}$ é uma concentração qualquer, dentro do intervalo de concentração utilizado para confeccionar o modelo;\n",
    "\n",
    "#### Intervalo de confiança\n",
    "\n",
    "$$IC \\left( \\widehat{y_{interesse}} \\right) = t_{gl_{erros}, \\; 1-\\alpha/2} \\times s_{x_{interesse}} $$\n",
    "\n",
    "onde:\n",
    "- $s_{x_{interesse}}$ é o desvio padrão de $\\widehat{y_{interesse}}$;\n",
    "- $t_{gl_{erros}, \\; 1-\\alpha/2}$ é o valor crítico da distribuição t de Student bilateral;"
   ]
  },
  {
   "cell_type": "code",
   "execution_count": 74,
   "id": "085330bc-8cc2-4fed-8d6d-0c1bcce5a763",
   "metadata": {},
   "outputs": [
    {
     "data": {
      "text/html": [
       "<div>\n",
       "<style scoped>\n",
       "    .dataframe tbody tr th:only-of-type {\n",
       "        vertical-align: middle;\n",
       "    }\n",
       "\n",
       "    .dataframe tbody tr th {\n",
       "        vertical-align: top;\n",
       "    }\n",
       "\n",
       "    .dataframe thead th {\n",
       "        text-align: right;\n",
       "    }\n",
       "</style>\n",
       "<table border=\"1\" class=\"dataframe\">\n",
       "  <thead>\n",
       "    <tr style=\"text-align: right;\">\n",
       "      <th></th>\n",
       "      <th>Concentração</th>\n",
       "      <th>Sinal</th>\n",
       "      <th>ypred</th>\n",
       "      <th>Médios IC</th>\n",
       "      <th>Médios L. Inferior</th>\n",
       "      <th>Médios L. Superior</th>\n",
       "      <th>Individuais IC</th>\n",
       "      <th>Individuais L. Inferior</th>\n",
       "      <th>Individuais L. Superior</th>\n",
       "    </tr>\n",
       "  </thead>\n",
       "  <tbody>\n",
       "    <tr>\n",
       "      <th>0</th>\n",
       "      <td>0.10000</td>\n",
       "      <td>-0.0716</td>\n",
       "      <td>8.857971</td>\n",
       "      <td>8.730704</td>\n",
       "      <td>0.127267</td>\n",
       "      <td>17.588675</td>\n",
       "      <td>23.574099</td>\n",
       "      <td>-14.716128</td>\n",
       "      <td>32.432070</td>\n",
       "    </tr>\n",
       "    <tr>\n",
       "      <th>1</th>\n",
       "      <td>0.45401</td>\n",
       "      <td>4.1673</td>\n",
       "      <td>10.031719</td>\n",
       "      <td>8.309188</td>\n",
       "      <td>1.722530</td>\n",
       "      <td>18.340907</td>\n",
       "      <td>23.421263</td>\n",
       "      <td>-13.389545</td>\n",
       "      <td>33.452982</td>\n",
       "    </tr>\n",
       "    <tr>\n",
       "      <th>2</th>\n",
       "      <td>1.09765</td>\n",
       "      <td>6.5703</td>\n",
       "      <td>12.165756</td>\n",
       "      <td>7.570494</td>\n",
       "      <td>4.595263</td>\n",
       "      <td>19.736250</td>\n",
       "      <td>23.169492</td>\n",
       "      <td>-11.003735</td>\n",
       "      <td>35.335248</td>\n",
       "    </tr>\n",
       "    <tr>\n",
       "      <th>3</th>\n",
       "      <td>1.27936</td>\n",
       "      <td>13.8150</td>\n",
       "      <td>12.768230</td>\n",
       "      <td>7.369604</td>\n",
       "      <td>5.398625</td>\n",
       "      <td>20.137834</td>\n",
       "      <td>23.104632</td>\n",
       "      <td>-10.336403</td>\n",
       "      <td>35.872862</td>\n",
       "    </tr>\n",
       "    <tr>\n",
       "      <th>4</th>\n",
       "      <td>2.20611</td>\n",
       "      <td>11.4501</td>\n",
       "      <td>15.840941</td>\n",
       "      <td>6.413234</td>\n",
       "      <td>9.427707</td>\n",
       "      <td>22.254175</td>\n",
       "      <td>22.817593</td>\n",
       "      <td>-6.976652</td>\n",
       "      <td>38.658533</td>\n",
       "    </tr>\n",
       "    <tr>\n",
       "      <th>5</th>\n",
       "      <td>2.50064</td>\n",
       "      <td>12.9554</td>\n",
       "      <td>16.817477</td>\n",
       "      <td>6.138784</td>\n",
       "      <td>10.678694</td>\n",
       "      <td>22.956261</td>\n",
       "      <td>22.741980</td>\n",
       "      <td>-5.924502</td>\n",
       "      <td>39.559457</td>\n",
       "    </tr>\n",
       "    <tr>\n",
       "      <th>6</th>\n",
       "      <td>3.04030</td>\n",
       "      <td>20.1575</td>\n",
       "      <td>18.606762</td>\n",
       "      <td>5.683677</td>\n",
       "      <td>12.923085</td>\n",
       "      <td>24.290438</td>\n",
       "      <td>22.623376</td>\n",
       "      <td>-4.016614</td>\n",
       "      <td>41.230138</td>\n",
       "    </tr>\n",
       "    <tr>\n",
       "      <th>7</th>\n",
       "      <td>3.23583</td>\n",
       "      <td>17.5633</td>\n",
       "      <td>19.255056</td>\n",
       "      <td>5.536440</td>\n",
       "      <td>13.718616</td>\n",
       "      <td>24.791497</td>\n",
       "      <td>22.586835</td>\n",
       "      <td>-3.331779</td>\n",
       "      <td>41.841892</td>\n",
       "    </tr>\n",
       "    <tr>\n",
       "      <th>8</th>\n",
       "      <td>4.16990</td>\n",
       "      <td>26.0317</td>\n",
       "      <td>22.352037</td>\n",
       "      <td>4.994359</td>\n",
       "      <td>17.357679</td>\n",
       "      <td>27.346396</td>\n",
       "      <td>22.460111</td>\n",
       "      <td>-0.108074</td>\n",
       "      <td>44.812148</td>\n",
       "    </tr>\n",
       "    <tr>\n",
       "      <th>9</th>\n",
       "      <td>4.45308</td>\n",
       "      <td>22.7573</td>\n",
       "      <td>23.290942</td>\n",
       "      <td>4.891444</td>\n",
       "      <td>18.399498</td>\n",
       "      <td>28.182387</td>\n",
       "      <td>22.437451</td>\n",
       "      <td>0.853492</td>\n",
       "      <td>45.728393</td>\n",
       "    </tr>\n",
       "    <tr>\n",
       "      <th>10</th>\n",
       "      <td>5.28474</td>\n",
       "      <td>26.3030</td>\n",
       "      <td>26.048375</td>\n",
       "      <td>4.780880</td>\n",
       "      <td>21.267495</td>\n",
       "      <td>30.829255</td>\n",
       "      <td>22.413607</td>\n",
       "      <td>3.634768</td>\n",
       "      <td>48.461982</td>\n",
       "    </tr>\n",
       "    <tr>\n",
       "      <th>11</th>\n",
       "      <td>5.59238</td>\n",
       "      <td>30.6885</td>\n",
       "      <td>27.068379</td>\n",
       "      <td>4.815234</td>\n",
       "      <td>22.253145</td>\n",
       "      <td>31.883612</td>\n",
       "      <td>22.420960</td>\n",
       "      <td>4.647419</td>\n",
       "      <td>49.489339</td>\n",
       "    </tr>\n",
       "    <tr>\n",
       "      <th>12</th>\n",
       "      <td>5.92091</td>\n",
       "      <td>33.9402</td>\n",
       "      <td>28.157645</td>\n",
       "      <td>4.896018</td>\n",
       "      <td>23.261628</td>\n",
       "      <td>33.053663</td>\n",
       "      <td>22.438448</td>\n",
       "      <td>5.719197</td>\n",
       "      <td>50.596093</td>\n",
       "    </tr>\n",
       "    <tr>\n",
       "      <th>13</th>\n",
       "      <td>6.66066</td>\n",
       "      <td>30.9228</td>\n",
       "      <td>30.610343</td>\n",
       "      <td>5.231893</td>\n",
       "      <td>25.378450</td>\n",
       "      <td>35.842236</td>\n",
       "      <td>22.514122</td>\n",
       "      <td>8.096222</td>\n",
       "      <td>53.124465</td>\n",
       "    </tr>\n",
       "    <tr>\n",
       "      <th>14</th>\n",
       "      <td>6.79953</td>\n",
       "      <td>34.1100</td>\n",
       "      <td>31.070777</td>\n",
       "      <td>5.316368</td>\n",
       "      <td>25.754410</td>\n",
       "      <td>36.387145</td>\n",
       "      <td>22.533902</td>\n",
       "      <td>8.536876</td>\n",
       "      <td>53.604679</td>\n",
       "    </tr>\n",
       "    <tr>\n",
       "      <th>15</th>\n",
       "      <td>7.97943</td>\n",
       "      <td>44.4536</td>\n",
       "      <td>34.982826</td>\n",
       "      <td>6.249348</td>\n",
       "      <td>28.733478</td>\n",
       "      <td>41.232175</td>\n",
       "      <td>22.772073</td>\n",
       "      <td>12.210753</td>\n",
       "      <td>57.754900</td>\n",
       "    </tr>\n",
       "    <tr>\n",
       "      <th>16</th>\n",
       "      <td>8.41536</td>\n",
       "      <td>46.5022</td>\n",
       "      <td>36.428186</td>\n",
       "      <td>6.670729</td>\n",
       "      <td>29.757457</td>\n",
       "      <td>43.098914</td>\n",
       "      <td>22.891299</td>\n",
       "      <td>13.536886</td>\n",
       "      <td>59.319485</td>\n",
       "    </tr>\n",
       "    <tr>\n",
       "      <th>17</th>\n",
       "      <td>8.70156</td>\n",
       "      <td>50.0568</td>\n",
       "      <td>37.377104</td>\n",
       "      <td>6.964236</td>\n",
       "      <td>30.412868</td>\n",
       "      <td>44.341340</td>\n",
       "      <td>22.978545</td>\n",
       "      <td>14.398559</td>\n",
       "      <td>60.355649</td>\n",
       "    </tr>\n",
       "    <tr>\n",
       "      <th>18</th>\n",
       "      <td>8.71607</td>\n",
       "      <td>46.5475</td>\n",
       "      <td>37.425213</td>\n",
       "      <td>6.979434</td>\n",
       "      <td>30.445779</td>\n",
       "      <td>44.404647</td>\n",
       "      <td>22.983156</td>\n",
       "      <td>14.442057</td>\n",
       "      <td>60.408369</td>\n",
       "    </tr>\n",
       "    <tr>\n",
       "      <th>19</th>\n",
       "      <td>9.16463</td>\n",
       "      <td>45.7762</td>\n",
       "      <td>38.912448</td>\n",
       "      <td>7.462820</td>\n",
       "      <td>31.449628</td>\n",
       "      <td>46.375268</td>\n",
       "      <td>23.134534</td>\n",
       "      <td>15.777914</td>\n",
       "      <td>62.046982</td>\n",
       "    </tr>\n",
       "    <tr>\n",
       "      <th>20</th>\n",
       "      <td>13.00000</td>\n",
       "      <td>15.0000</td>\n",
       "      <td>51.628912</td>\n",
       "      <td>12.222265</td>\n",
       "      <td>39.406647</td>\n",
       "      <td>63.851177</td>\n",
       "      <td>25.077814</td>\n",
       "      <td>26.551098</td>\n",
       "      <td>76.706725</td>\n",
       "    </tr>\n",
       "  </tbody>\n",
       "</table>\n",
       "</div>"
      ],
      "text/plain": [
       "    Concentração    Sinal      ypred  Médios IC  Médios L. Inferior  \\\n",
       "0        0.10000  -0.0716   8.857971   8.730704            0.127267   \n",
       "1        0.45401   4.1673  10.031719   8.309188            1.722530   \n",
       "2        1.09765   6.5703  12.165756   7.570494            4.595263   \n",
       "3        1.27936  13.8150  12.768230   7.369604            5.398625   \n",
       "4        2.20611  11.4501  15.840941   6.413234            9.427707   \n",
       "5        2.50064  12.9554  16.817477   6.138784           10.678694   \n",
       "6        3.04030  20.1575  18.606762   5.683677           12.923085   \n",
       "7        3.23583  17.5633  19.255056   5.536440           13.718616   \n",
       "8        4.16990  26.0317  22.352037   4.994359           17.357679   \n",
       "9        4.45308  22.7573  23.290942   4.891444           18.399498   \n",
       "10       5.28474  26.3030  26.048375   4.780880           21.267495   \n",
       "11       5.59238  30.6885  27.068379   4.815234           22.253145   \n",
       "12       5.92091  33.9402  28.157645   4.896018           23.261628   \n",
       "13       6.66066  30.9228  30.610343   5.231893           25.378450   \n",
       "14       6.79953  34.1100  31.070777   5.316368           25.754410   \n",
       "15       7.97943  44.4536  34.982826   6.249348           28.733478   \n",
       "16       8.41536  46.5022  36.428186   6.670729           29.757457   \n",
       "17       8.70156  50.0568  37.377104   6.964236           30.412868   \n",
       "18       8.71607  46.5475  37.425213   6.979434           30.445779   \n",
       "19       9.16463  45.7762  38.912448   7.462820           31.449628   \n",
       "20      13.00000  15.0000  51.628912  12.222265           39.406647   \n",
       "\n",
       "    Médios L. Superior  Individuais IC  Individuais L. Inferior  \\\n",
       "0            17.588675       23.574099               -14.716128   \n",
       "1            18.340907       23.421263               -13.389545   \n",
       "2            19.736250       23.169492               -11.003735   \n",
       "3            20.137834       23.104632               -10.336403   \n",
       "4            22.254175       22.817593                -6.976652   \n",
       "5            22.956261       22.741980                -5.924502   \n",
       "6            24.290438       22.623376                -4.016614   \n",
       "7            24.791497       22.586835                -3.331779   \n",
       "8            27.346396       22.460111                -0.108074   \n",
       "9            28.182387       22.437451                 0.853492   \n",
       "10           30.829255       22.413607                 3.634768   \n",
       "11           31.883612       22.420960                 4.647419   \n",
       "12           33.053663       22.438448                 5.719197   \n",
       "13           35.842236       22.514122                 8.096222   \n",
       "14           36.387145       22.533902                 8.536876   \n",
       "15           41.232175       22.772073                12.210753   \n",
       "16           43.098914       22.891299                13.536886   \n",
       "17           44.341340       22.978545                14.398559   \n",
       "18           44.404647       22.983156                14.442057   \n",
       "19           46.375268       23.134534                15.777914   \n",
       "20           63.851177       25.077814                26.551098   \n",
       "\n",
       "    Individuais L. Superior  \n",
       "0                 32.432070  \n",
       "1                 33.452982  \n",
       "2                 35.335248  \n",
       "3                 35.872862  \n",
       "4                 38.658533  \n",
       "5                 39.559457  \n",
       "6                 41.230138  \n",
       "7                 41.841892  \n",
       "8                 44.812148  \n",
       "9                 45.728393  \n",
       "10                48.461982  \n",
       "11                49.489339  \n",
       "12                50.596093  \n",
       "13                53.124465  \n",
       "14                53.604679  \n",
       "15                57.754900  \n",
       "16                59.319485  \n",
       "17                60.355649  \n",
       "18                60.408369  \n",
       "19                62.046982  \n",
       "20                76.706725  "
      ]
     },
     "execution_count": 74,
     "metadata": {},
     "output_type": "execute_result"
    }
   ],
   "source": [
    "df_pred[\"Individuais IC\"] = t_critico*np.sqrt(MSQE*(1 + 1/df.shape[0] + np.square(df_pred[nome_conc] - df[nome_conc].mean())/Sxx))\n",
    "df_pred[\"Individuais L. Inferior\"] = df_pred['ypred'] -  df_pred[\"Individuais IC\"]\n",
    "df_pred[\"Individuais L. Superior\"] = df_pred['ypred'] +  df_pred[\"Individuais IC\"]\n",
    "df_pred"
   ]
  },
  {
   "cell_type": "markdown",
   "id": "66e76edd-5908-41d8-b0cc-361a9952806f",
   "metadata": {},
   "source": [
    "#### Gráfico de calibração com as bandas pontuais"
   ]
  },
  {
   "cell_type": "code",
   "execution_count": 75,
   "id": "f57b5c29-b4ed-4e3d-b3f1-b74a5cda2716",
   "metadata": {},
   "outputs": [
    {
     "data": {
      "image/png": "[encoded data removed]",
      "text/plain": [
       "<Figure size 600x400 with 1 Axes>"
      ]
     },
     "metadata": {},
     "output_type": "display_data"
    }
   ],
   "source": [
    "# criando o canvas\n",
    "plt.figure(figsize=(6,4))\n",
    "# adicionando os valores experimentais (do df original)\n",
    "plt.scatter(df[nome_conc], df[nome_sinal], label=dataset_name, edgecolors='k', facecolor='None')\n",
    "# adicionando a linha de regressão (df pred)\n",
    "plt.plot(df_pred[nome_conc], df_pred['ypred'], label=\"Regressão\", c='k', ls='--')\n",
    "# adicionando banda de predição inferior\n",
    "plt.plot(df_pred[nome_conc], df_pred['Individuais L. Inferior'], c='r', ls='--', label=\"Banda de Predição\")\n",
    "# adicionando banda de predição superior\n",
    "plt.plot(df_pred[nome_conc], df_pred['Individuais L. Superior'], c='r', ls='--')\n",
    "plt.xlabel(nome_conc)\n",
    "plt.ylabel(nome_sinal)\n",
    "plt.legend()\n",
    "plt.show()"
   ]
  },
  {
   "cell_type": "markdown",
   "id": "365c9308-f8f4-411b-8f14-645fb3ad6fb3",
   "metadata": {},
   "source": [
    "### Gráfico da curva de calibração"
   ]
  },
  {
   "cell_type": "code",
   "execution_count": 76,
   "id": "c45a23e6-eaf2-4c08-adb0-c791857007c8",
   "metadata": {},
   "outputs": [
    {
     "data": {
      "image/png": "[encoded data removed]",
      "text/plain": [
       "<Figure size 600x400 with 1 Axes>"
      ]
     },
     "metadata": {},
     "output_type": "display_data"
    }
   ],
   "source": [
    "# criando o canvas\n",
    "plt.figure(figsize=(6,4))\n",
    "# adicionando os valores experimentais (do df original)\n",
    "plt.scatter(df[nome_conc], df[nome_sinal], label=dataset_name, edgecolors='k', facecolor='None')\n",
    "# adicionando a linha de regressão (df pred)\n",
    "plt.plot(df_pred[nome_conc], df_pred['ypred'], label=\"Regressão\", c='k', ls='--')\n",
    "# adicionando banda média inferior\n",
    "plt.plot(df_pred[nome_conc], df_pred['Médios L. Inferior'], c='gray', ls='--', label=\"Médias\")\n",
    "# adicionando banda média superior\n",
    "plt.plot(df_pred[nome_conc], df_pred['Médios L. Superior'], c='gray', ls='--')\n",
    "# adicionando banda predição inferior\n",
    "plt.plot(df_pred[nome_conc], df_pred['Individuais L. Inferior'], c='r', ls='--', label=\"Predição\")\n",
    "# adicionando banda predição superior\n",
    "plt.plot(df_pred[nome_conc], df_pred['Individuais L. Superior'], c='r', ls='--')\n",
    "plt.xlabel(nome_conc)\n",
    "plt.ylabel(nome_sinal)\n",
    "plt.legend()\n",
    "plt.show()"
   ]
  },
  {
   "cell_type": "markdown",
   "id": "b674d38d-4d95-4e6c-8528-f509fa3adf2d",
   "metadata": {},
   "source": [
    "## Predição de uma nova concentração\n",
    "\n",
    "Invertendo a equação:\n",
    "\n",
    "$$concentração = \\frac{sinal_{interesse} - b_{0}}{b_{1}} \\pm t_{gl_{erros}, \\; 1-\\alpha/2} \\times s_{c}$$\n",
    "\n",
    "onde:\n",
    "- $b_{0}$ é o coeficiente linear;\n",
    "- $b_{1}$ é o coeficiente angular;\n",
    "- $t_{gl_{erros}, \\; 1-\\alpha/2}$ é o valor crítico da distribuição t de Student bilateral;\n",
    "- $s_{c}$ é o desvio padrão da concentração, que é estimado da seguinte forma:\n",
    "- $sinal_{interesse}$ é o sinal para predizar a concentração;\n",
    "\n",
    "$$s_{c} = \\frac{\\sqrt{MSQE}}{|b_{1}|} \\sqrt{\\frac{1}{m} + \\frac{1}{n} + \\frac{\\left( sinal_{interesse} - \\overline{sinal} \\right)^{2}}{b_{1}^{2}S_{xx}} }$$\n",
    "\n",
    "onde:\n",
    "- $MSQE$ é a quantidade média de variância que o modelo não consegue explicar;\n",
    "- $S_{xx}$ é o somatório do erro quadrático da concentração do modelo;\n",
    "- $n$ é o número total de observações utilizada para obter os parâmetros do modelo;\n",
    "- $m$ é o número de repetições obtidos para $sinal_{interesse}$;\n",
    "- $\\overline{sinal}$ é a média dos sinais utilizado para obter os parâmetros do modelo;\n",
    "- $sinal_{interesse}$ é o sinal para predizar a concentração;\n",
    "- $b_{1}$ é o coeficiente angular;"
   ]
  },
  {
   "cell_type": "code",
   "execution_count": 77,
   "id": "97e4cb46-d8a4-426a-a0dd-1eae8f2b1918",
   "metadata": {},
   "outputs": [
    {
     "data": {
      "text/html": [
       "<div>\n",
       "<style scoped>\n",
       "    .dataframe tbody tr th:only-of-type {\n",
       "        vertical-align: middle;\n",
       "    }\n",
       "\n",
       "    .dataframe tbody tr th {\n",
       "        vertical-align: top;\n",
       "    }\n",
       "\n",
       "    .dataframe thead th {\n",
       "        text-align: right;\n",
       "    }\n",
       "</style>\n",
       "<table border=\"1\" class=\"dataframe\">\n",
       "  <thead>\n",
       "    <tr style=\"text-align: right;\">\n",
       "      <th></th>\n",
       "      <th>Concentração</th>\n",
       "      <th>Sinal</th>\n",
       "      <th>ypred</th>\n",
       "      <th>s_predicao</th>\n",
       "      <th>ic_predicao</th>\n",
       "      <th>ic_predicao inferior</th>\n",
       "      <th>ic_predicao superior</th>\n",
       "    </tr>\n",
       "  </thead>\n",
       "  <tbody>\n",
       "    <tr>\n",
       "      <th>0</th>\n",
       "      <td>0.10000</td>\n",
       "      <td>-0.0716</td>\n",
       "      <td>-2.593218</td>\n",
       "      <td>3.609327</td>\n",
       "      <td>7.554408</td>\n",
       "      <td>-10.147626</td>\n",
       "      <td>4.961190</td>\n",
       "    </tr>\n",
       "    <tr>\n",
       "      <th>1</th>\n",
       "      <td>0.45401</td>\n",
       "      <td>4.1673</td>\n",
       "      <td>-1.314738</td>\n",
       "      <td>3.499071</td>\n",
       "      <td>7.323640</td>\n",
       "      <td>-8.638377</td>\n",
       "      <td>6.008902</td>\n",
       "    </tr>\n",
       "    <tr>\n",
       "      <th>2</th>\n",
       "      <td>1.09765</td>\n",
       "      <td>6.5703</td>\n",
       "      <td>-0.589977</td>\n",
       "      <td>3.444065</td>\n",
       "      <td>7.208511</td>\n",
       "      <td>-7.798488</td>\n",
       "      <td>6.618534</td>\n",
       "    </tr>\n",
       "    <tr>\n",
       "      <th>3</th>\n",
       "      <td>1.27936</td>\n",
       "      <td>13.8150</td>\n",
       "      <td>1.595073</td>\n",
       "      <td>3.314115</td>\n",
       "      <td>6.936522</td>\n",
       "      <td>-5.341450</td>\n",
       "      <td>8.531595</td>\n",
       "    </tr>\n",
       "    <tr>\n",
       "      <th>4</th>\n",
       "      <td>2.20611</td>\n",
       "      <td>11.4501</td>\n",
       "      <td>0.881803</td>\n",
       "      <td>3.350363</td>\n",
       "      <td>7.012391</td>\n",
       "      <td>-6.130587</td>\n",
       "      <td>7.894194</td>\n",
       "    </tr>\n",
       "    <tr>\n",
       "      <th>5</th>\n",
       "      <td>2.50064</td>\n",
       "      <td>12.9554</td>\n",
       "      <td>1.335812</td>\n",
       "      <td>3.326576</td>\n",
       "      <td>6.962604</td>\n",
       "      <td>-5.626792</td>\n",
       "      <td>8.298416</td>\n",
       "    </tr>\n",
       "    <tr>\n",
       "      <th>6</th>\n",
       "      <td>3.04030</td>\n",
       "      <td>20.1575</td>\n",
       "      <td>3.508013</td>\n",
       "      <td>3.248281</td>\n",
       "      <td>6.798731</td>\n",
       "      <td>-3.290718</td>\n",
       "      <td>10.306744</td>\n",
       "    </tr>\n",
       "    <tr>\n",
       "      <th>7</th>\n",
       "      <td>3.23583</td>\n",
       "      <td>17.5633</td>\n",
       "      <td>2.725585</td>\n",
       "      <td>3.269561</td>\n",
       "      <td>6.843271</td>\n",
       "      <td>-4.117686</td>\n",
       "      <td>9.568856</td>\n",
       "    </tr>\n",
       "    <tr>\n",
       "      <th>8</th>\n",
       "      <td>4.16990</td>\n",
       "      <td>26.0317</td>\n",
       "      <td>5.279711</td>\n",
       "      <td>3.229814</td>\n",
       "      <td>6.760078</td>\n",
       "      <td>-1.480368</td>\n",
       "      <td>12.039789</td>\n",
       "    </tr>\n",
       "    <tr>\n",
       "      <th>9</th>\n",
       "      <td>4.45308</td>\n",
       "      <td>22.7573</td>\n",
       "      <td>4.292130</td>\n",
       "      <td>3.234982</td>\n",
       "      <td>6.770896</td>\n",
       "      <td>-2.478766</td>\n",
       "      <td>11.063026</td>\n",
       "    </tr>\n",
       "    <tr>\n",
       "      <th>10</th>\n",
       "      <td>5.28474</td>\n",
       "      <td>26.3030</td>\n",
       "      <td>5.361537</td>\n",
       "      <td>3.229968</td>\n",
       "      <td>6.760400</td>\n",
       "      <td>-1.398863</td>\n",
       "      <td>12.121936</td>\n",
       "    </tr>\n",
       "    <tr>\n",
       "      <th>11</th>\n",
       "      <td>5.59238</td>\n",
       "      <td>30.6885</td>\n",
       "      <td>6.684233</td>\n",
       "      <td>3.244771</td>\n",
       "      <td>6.791384</td>\n",
       "      <td>-0.107151</td>\n",
       "      <td>13.475617</td>\n",
       "    </tr>\n",
       "    <tr>\n",
       "      <th>12</th>\n",
       "      <td>5.92091</td>\n",
       "      <td>33.9402</td>\n",
       "      <td>7.664967</td>\n",
       "      <td>3.270577</td>\n",
       "      <td>6.845397</td>\n",
       "      <td>0.819570</td>\n",
       "      <td>14.510364</td>\n",
       "    </tr>\n",
       "    <tr>\n",
       "      <th>13</th>\n",
       "      <td>6.66066</td>\n",
       "      <td>30.9228</td>\n",
       "      <td>6.754899</td>\n",
       "      <td>3.246212</td>\n",
       "      <td>6.794400</td>\n",
       "      <td>-0.039500</td>\n",
       "      <td>13.549299</td>\n",
       "    </tr>\n",
       "    <tr>\n",
       "      <th>14</th>\n",
       "      <td>6.79953</td>\n",
       "      <td>34.1100</td>\n",
       "      <td>7.716180</td>\n",
       "      <td>3.272266</td>\n",
       "      <td>6.848932</td>\n",
       "      <td>0.867248</td>\n",
       "      <td>14.565111</td>\n",
       "    </tr>\n",
       "    <tr>\n",
       "      <th>15</th>\n",
       "      <td>7.97943</td>\n",
       "      <td>44.4536</td>\n",
       "      <td>10.835878</td>\n",
       "      <td>3.435977</td>\n",
       "      <td>7.191582</td>\n",
       "      <td>3.644297</td>\n",
       "      <td>18.027460</td>\n",
       "    </tr>\n",
       "    <tr>\n",
       "      <th>16</th>\n",
       "      <td>8.41536</td>\n",
       "      <td>46.5022</td>\n",
       "      <td>11.453750</td>\n",
       "      <td>3.481762</td>\n",
       "      <td>7.287412</td>\n",
       "      <td>4.166338</td>\n",
       "      <td>18.741161</td>\n",
       "    </tr>\n",
       "    <tr>\n",
       "      <th>17</th>\n",
       "      <td>8.70156</td>\n",
       "      <td>50.0568</td>\n",
       "      <td>12.525841</td>\n",
       "      <td>3.570727</td>\n",
       "      <td>7.473617</td>\n",
       "      <td>5.052224</td>\n",
       "      <td>19.999457</td>\n",
       "    </tr>\n",
       "    <tr>\n",
       "      <th>18</th>\n",
       "      <td>8.71607</td>\n",
       "      <td>46.5475</td>\n",
       "      <td>11.467412</td>\n",
       "      <td>3.482821</td>\n",
       "      <td>7.289628</td>\n",
       "      <td>4.177784</td>\n",
       "      <td>18.757040</td>\n",
       "    </tr>\n",
       "    <tr>\n",
       "      <th>19</th>\n",
       "      <td>9.16463</td>\n",
       "      <td>45.7762</td>\n",
       "      <td>11.234783</td>\n",
       "      <td>3.465064</td>\n",
       "      <td>7.252462</td>\n",
       "      <td>3.982321</td>\n",
       "      <td>18.487245</td>\n",
       "    </tr>\n",
       "    <tr>\n",
       "      <th>20</th>\n",
       "      <td>13.00000</td>\n",
       "      <td>15.0000</td>\n",
       "      <td>1.952477</td>\n",
       "      <td>3.298295</td>\n",
       "      <td>6.903412</td>\n",
       "      <td>-4.950935</td>\n",
       "      <td>8.855888</td>\n",
       "    </tr>\n",
       "  </tbody>\n",
       "</table>\n",
       "</div>"
      ],
      "text/plain": [
       "    Concentração    Sinal      ypred  s_predicao  ic_predicao  \\\n",
       "0        0.10000  -0.0716  -2.593218    3.609327     7.554408   \n",
       "1        0.45401   4.1673  -1.314738    3.499071     7.323640   \n",
       "2        1.09765   6.5703  -0.589977    3.444065     7.208511   \n",
       "3        1.27936  13.8150   1.595073    3.314115     6.936522   \n",
       "4        2.20611  11.4501   0.881803    3.350363     7.012391   \n",
       "5        2.50064  12.9554   1.335812    3.326576     6.962604   \n",
       "6        3.04030  20.1575   3.508013    3.248281     6.798731   \n",
       "7        3.23583  17.5633   2.725585    3.269561     6.843271   \n",
       "8        4.16990  26.0317   5.279711    3.229814     6.760078   \n",
       "9        4.45308  22.7573   4.292130    3.234982     6.770896   \n",
       "10       5.28474  26.3030   5.361537    3.229968     6.760400   \n",
       "11       5.59238  30.6885   6.684233    3.244771     6.791384   \n",
       "12       5.92091  33.9402   7.664967    3.270577     6.845397   \n",
       "13       6.66066  30.9228   6.754899    3.246212     6.794400   \n",
       "14       6.79953  34.1100   7.716180    3.272266     6.848932   \n",
       "15       7.97943  44.4536  10.835878    3.435977     7.191582   \n",
       "16       8.41536  46.5022  11.453750    3.481762     7.287412   \n",
       "17       8.70156  50.0568  12.525841    3.570727     7.473617   \n",
       "18       8.71607  46.5475  11.467412    3.482821     7.289628   \n",
       "19       9.16463  45.7762  11.234783    3.465064     7.252462   \n",
       "20      13.00000  15.0000   1.952477    3.298295     6.903412   \n",
       "\n",
       "    ic_predicao inferior  ic_predicao superior  \n",
       "0             -10.147626              4.961190  \n",
       "1              -8.638377              6.008902  \n",
       "2              -7.798488              6.618534  \n",
       "3              -5.341450              8.531595  \n",
       "4              -6.130587              7.894194  \n",
       "5              -5.626792              8.298416  \n",
       "6              -3.290718             10.306744  \n",
       "7              -4.117686              9.568856  \n",
       "8              -1.480368             12.039789  \n",
       "9              -2.478766             11.063026  \n",
       "10             -1.398863             12.121936  \n",
       "11             -0.107151             13.475617  \n",
       "12              0.819570             14.510364  \n",
       "13             -0.039500             13.549299  \n",
       "14              0.867248             14.565111  \n",
       "15              3.644297             18.027460  \n",
       "16              4.166338             18.741161  \n",
       "17              5.052224             19.999457  \n",
       "18              4.177784             18.757040  \n",
       "19              3.982321             18.487245  \n",
       "20             -4.950935              8.855888  "
      ]
     },
     "execution_count": 77,
     "metadata": {},
     "output_type": "execute_result"
    }
   ],
   "source": [
    "df_pred_inv = df[[nome_conc, nome_sinal]].copy()\n",
    "df_pred_inv['ypred'] = (df_pred_inv[nome_sinal] - b0)/b1\n",
    "df_pred_inv['s_predicao'] = (np.sqrt(MSQE)/np.abs(b1))*np.sqrt(1 + 1/df_pred_inv.shape[0] + np.square(df_pred_inv[nome_sinal] - df_pred_inv[nome_sinal].mean())/(np.square(b1)*Sxx))\n",
    "df_pred_inv['ic_predicao'] = df_pred_inv['s_predicao']*t_critico\n",
    "df_pred_inv['ic_predicao inferior'] = df_pred_inv['ypred'] - df_pred_inv['ic_predicao']\n",
    "df_pred_inv['ic_predicao superior'] = df_pred_inv['ypred'] + df_pred_inv['ic_predicao']\n",
    "df_pred_inv"
   ]
  },
  {
   "cell_type": "markdown",
   "id": "3de0a78d-d1c9-49b7-85c7-d085c327ebf9",
   "metadata": {},
   "source": [
    "### Gráfico de predição"
   ]
  },
  {
   "cell_type": "code",
   "execution_count": 78,
   "id": "11645e14-55ce-44bb-a7f1-0bdaa066d043",
   "metadata": {},
   "outputs": [
    {
     "data": {
      "image/png": "[encoded data removed]",
      "text/plain": [
       "<Figure size 600x400 with 1 Axes>"
      ]
     },
     "metadata": {},
     "output_type": "display_data"
    }
   ],
   "source": [
    "# criando o canvas\n",
    "plt.figure(figsize=(6,4))\n",
    "# adicionando os dados experimentais\n",
    "plt.scatter(df[nome_sinal], df[nome_conc], label=\"Dados experimentais\", edgecolors='k', facecolor='None')\n",
    "\n",
    "# adicionando a linha de regressão\n",
    "plt.plot(df_pred_inv[nome_sinal], df_pred_inv['ypred'], label=\"Regressão\", c='k', ls='--')\n",
    "\n",
    "# adicionando a banda de predição\n",
    "plt.plot(df_pred_inv[nome_sinal], df_pred_inv['ic_predicao inferior'], label='Predição', c='r', ls='--')\n",
    "plt.plot(df_pred_inv[nome_sinal], df_pred_inv['ic_predicao superior'], c='r', ls='--')\n",
    "\n",
    "plt.legend()\n",
    "plt.xlabel(nome_sinal)\n",
    "plt.ylabel(nome_conc)\n",
    "plt.show()"
   ]
  },
  {
   "cell_type": "code",
   "execution_count": null,
   "id": "86fcd333-b736-4ed3-b548-22b0b19bd45f",
   "metadata": {},
   "outputs": [],
   "source": []
  }
 ],
 "metadata": {
  "kernelspec": {
   "display_name": "Python 3 (ipykernel)",
   "language": "python",
   "name": "python3"
  },
  "language_info": {
   "codemirror_mode": {
    "name": "ipython",
    "version": 3
   },
   "file_extension": ".py",
   "mimetype": "text/x-python",
   "name": "python",
   "nbconvert_exporter": "python",
   "pygments_lexer": "ipython3",
   "version": "3.10.6"
  }
 },
 "nbformat": 4,
 "nbformat_minor": 5
}
